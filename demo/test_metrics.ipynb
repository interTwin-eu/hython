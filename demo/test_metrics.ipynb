{
 "cells": [
  {
   "cell_type": "code",
   "execution_count": null,
   "id": "aaa3b293-b667-4bfa-897f-8add5d34d7ef",
   "metadata": {},
   "outputs": [],
   "source": [
    "import xarray as xr\n",
    "import numpy as np \n",
    "import pandas as pd\n",
    "from hython.metrics import compute_fdc_fms, compute_fdc_fhv, compute_fdc_flv, compute_hr, compute_far, compute_csi\n",
    "\n",
    "from hython.utils import write_to_zarr, read_from_zarr, set_seed\n",
    "\n"
   ]
  },
  {
   "cell_type": "markdown",
   "id": "c150ae69-ca7c-48a4-8682-f143f6bb82aa",
   "metadata": {},
   "source": [
    "#### Read Data and some pre-processing"
   ]
  },
  {
   "cell_type": "code",
   "execution_count": null,
   "id": "03a0ef4d-86fd-4749-ac9b-be59dcf5cea9",
   "metadata": {},
   "outputs": [],
   "source": [
    "SURROGATE_INPUT = \"https://eurac-eo.s3.amazonaws.com/INTERTWIN/SURROGATE_INPUT/adg1km_eobs_original.zarr/\"\n",
    "train_temporal_range = slice(\"2012-01-01\",\"2022-12-31\")\n",
    "\n",
    "target_names = [\"q_river\", \"vwc\"]\n",
    "\n",
    "Y = (\n",
    "    read_from_zarr(url=SURROGATE_INPUT , group=\"y\")\n",
    "    .sel(time=train_temporal_range)[target_names]\n",
    ")\n",
    "\n",
    "simulated = Y.q_river.sel(lat=45.4, lon=11, method=\"nearest\")\n",
    "simulated"
   ]
  },
  {
   "cell_type": "code",
   "execution_count": null,
   "id": "b9e78453-7480-43e0-add3-8bf14a7d15c0",
   "metadata": {},
   "outputs": [],
   "source": [
    "# Load the CSV file using numpy\n",
    "data = np.genfromtxt(\"/mnt/CEPH_PROJECTS/InterTwin/hydrologic_data/ADO/ADO_discharge.csv\", delimiter=',', names=True, dtype=None, encoding=None)\n",
    "\n",
    "# Extract columns\n",
    "time = np.array([np.datetime64(row['date']) for row in data if row['id_station'] == 'ADO_DSC_ITH3_0002'])\n",
    "discharge = np.array([row['discharge_m3_s'] for row in data if row['id_station'] == 'ADO_DSC_ITH3_0002'])\n",
    "\n",
    "# Filter based on the desired time range\n",
    "start_date = np.datetime64('2012-01-01')\n",
    "end_date = np.datetime64('2022-12-31')\n",
    "mask = (time >= start_date) & (time <= end_date)\n",
    "\n",
    "# Create xarray DataArray\n",
    "observed = xr.DataArray(\n",
    "    discharge[mask],\n",
    "    dims=\"time\",\n",
    "    coords={\"time\": time[mask]},\n",
    "    name=\"discharge_m3_s\"\n",
    ")\n",
    "\n",
    "# Display the xarray object\n",
    "observed"
   ]
  },
  {
   "cell_type": "markdown",
   "id": "c14f1008-3dec-4f0e-b25f-c566e1bad027",
   "metadata": {},
   "source": [
    "#### Check FDC biases"
   ]
  },
  {
   "cell_type": "code",
   "execution_count": null,
   "id": "561b5902-8d07-4755-87a6-bfc5a8a0a866",
   "metadata": {},
   "outputs": [],
   "source": [
    "biasFMS = compute_fdc_fms(observed, simulated)\n",
    "biasFHV = compute_fdc_fhv(observed, simulated)\n",
    "biasFLV = compute_fdc_flv(observed, simulated)"
   ]
  },
  {
   "cell_type": "markdown",
   "id": "2cf6a64b-0206-40cc-9037-22b839bbc971",
   "metadata": {},
   "source": [
    "#### Now for the soil moisture metrics"
   ]
  },
  {
   "cell_type": "code",
   "execution_count": null,
   "id": "425eccf3-345e-4fdb-afe6-c856387347ac",
   "metadata": {},
   "outputs": [],
   "source": [
    "import xarray as xr\n",
    "import numpy as np\n",
    "\n",
    "def create_random_dataset(original_ds: xr.Dataset) -> xr.Dataset:\n",
    "    \"\"\"\n",
    "    Create a random xarray.Dataset based on the structure of an existing xarray.Dataset.\n",
    "    \n",
    "    Parameters:\n",
    "    original_ds (xr.Dataset): The original dataset to copy structure from.\n",
    "    \n",
    "    Returns:\n",
    "    xr.Dataset: A new dataset with the same dimensions and coordinates but with random data.\n",
    "    \"\"\"\n",
    "    random_data_vars = {}\n",
    "    \n",
    "    # Loop through each variable in the original dataset\n",
    "    for var_name, var_data in original_ds.data_vars.items():\n",
    "        # Generate random data of the same shape as the original variable\n",
    "        random_data = np.random.random(var_data.shape)\n",
    "        \n",
    "        # Create a new DataArray with the same coordinates and assign the random data\n",
    "        random_data_vars[var_name] = xr.DataArray(\n",
    "            data=random_data,\n",
    "            dims=var_data.dims,\n",
    "            coords=var_data.coords\n",
    "        )\n",
    "    \n",
    "    # Create a new dataset with the same coordinates and dimensions\n",
    "    random_ds = xr.Dataset(data_vars=random_data_vars, coords=original_ds.coords)\n",
    "    \n",
    "    return random_ds\n",
    "\n",
    "\n",
    "randomised_data_array = create_random_dataset(Y).vwc\n",
    "Y_data_array = Y.vwc"
   ]
  },
  {
   "cell_type": "code",
   "execution_count": null,
   "id": "ae2e250c-c7a7-4105-baa8-c8d16466ab00",
   "metadata": {},
   "outputs": [],
   "source": [
    "hit_rate = compute_hr(Y_data_array, randomised_data_array)\n",
    "far = compute_far(Y_data_array, randomised_data_array)\n",
    "csi = compute_csi(Y_data_array, randomised_data_array)"
   ]
  },
  {
   "cell_type": "code",
   "execution_count": null,
   "id": "cef25103-af7b-40dd-a287-3a4cb4c04ca9",
   "metadata": {},
   "outputs": [],
   "source": [
    "import numpy as np\n",
    "import xarray as xr\n",
    "\n",
    "# Load the CSV file using numpy\n",
    "data = np.genfromtxt(\"/mnt/CEPH_PROJECTS/InterTwin/hydrologic_data/ADO/ADO_discharge.csv\", delimiter=',', names=True, dtype=None, encoding=None)\n",
    "\n",
    "# Extract columns\n",
    "time = np.array([np.datetime64(row['date']) for row in data if row['id_station'] == 'ADO_DSC_ITH3_0002'])\n",
    "discharge = np.array([row['discharge_m3_s'] for row in data if row['id_station'] == 'ADO_DSC_ITH3_0002'])\n",
    "\n",
    "# Filter based on the desired time range\n",
    "start_date = np.datetime64('2012-01-01')\n",
    "end_date = np.datetime64('2022-12-31')\n",
    "mask = (time >= start_date) & (time <= end_date)\n",
    "\n",
    "# Create xarray DataArray\n",
    "observed_xr = xr.DataArray(\n",
    "    discharge[mask],\n",
    "    dims=\"time\",\n",
    "    coords={\"time\": time[mask]},\n",
    "    name=\"discharge_m3_s\"\n",
    ")\n",
    "\n",
    "# Display the xarray object\n",
    "observed_xr\n"
   ]
  },
  {
   "cell_type": "code",
   "execution_count": null,
   "id": "dd236224-62f3-49f3-a0c0-e85766680477",
   "metadata": {},
   "outputs": [],
   "source": [
    "simulated_data = Y.q_river.sel(lat=45.4, lon=11, method=\"nearest\")\n",
    "simulated_data.values"
   ]
  },
  {
   "cell_type": "code",
   "execution_count": null,
   "id": "89cd769a-990c-48d0-a3d8-a6b336de3d46",
   "metadata": {},
   "outputs": [],
   "source": [
    "observed_xr.values"
   ]
  },
  {
   "cell_type": "code",
   "execution_count": null,
   "id": "f35b6401-b481-4c01-ae5e-5e50d3af399f",
   "metadata": {},
   "outputs": [],
   "source": []
  }
 ],
 "metadata": {
  "kernelspec": {
   "display_name": "hython",
   "language": "python",
   "name": "hython"
  },
  "language_info": {
   "codemirror_mode": {
    "name": "ipython",
    "version": 3
   },
   "file_extension": ".py",
   "mimetype": "text/x-python",
   "name": "python",
   "nbconvert_exporter": "python",
   "pygments_lexer": "ipython3",
   "version": "3.12.6"
  }
 },
 "nbformat": 4,
 "nbformat_minor": 5
}
