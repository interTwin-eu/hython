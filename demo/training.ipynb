{
 "cells": [
  {
   "cell_type": "markdown",
   "id": "913afcd2-a55e-4804-adf4-699a3f3a660a",
   "metadata": {
    "tags": []
   },
   "source": [
    "# Train and run wflow_sbm surrogate model"
   ]
  },
  {
   "cell_type": "markdown",
   "id": "ec467c1e-c48f-4879-8307-283737d9560a",
   "metadata": {
    "tags": []
   },
   "source": [
    "The surrogate emulates Actual Evapotranspiration and Volumetric Water Content (top 10 cm) produced from Wflow_sbm over the Alpine region at 1 km spatial resolution and daily time steps. \n",
    "\n",
    "The repository offers a very small dataset in the demodata folder. Uncomment the jupyter notebook cell \"DEMO\" and comment the cell \"ALPS\" in order to train the model.\n",
    "\n",
    "The figures at the end of the notebook show the surrogate outputs on the Alps, however the training data are not yet available to reproduce the results."
   ]
  },
  {
   "cell_type": "code",
   "execution_count": 1,
   "id": "ed6a0ce1-163e-40ac-9e7e-e6d5f364bd84",
   "metadata": {
    "tags": []
   },
   "outputs": [],
   "source": [
    "%load_ext autoreload\n",
    "%autoreload "
   ]
  },
  {
   "cell_type": "code",
   "execution_count": 2,
   "id": "28047b41-d328-4911-b525-366a787cb584",
   "metadata": {
    "tags": []
   },
   "outputs": [
    {
     "name": "stderr",
     "output_type": "stream",
     "text": [
      "/home/iferrario/.local/miniforge/envs/emulator/lib/python3.11/site-packages/pandas/core/computation/expressions.py:21: UserWarning: Pandas requires version '2.8.4' or newer of 'numexpr' (version '2.8.3' currently installed).\n",
      "  from pandas.core.computation.check import NUMEXPR_INSTALLED\n"
     ]
    }
   ],
   "source": [
    "import torch\n",
    "import numpy as np\n",
    "import xarray as xr\n",
    "from pathlib import Path\n",
    "import os\n",
    "import random\n",
    "\n",
    "import dask\n",
    "from torch import nn\n",
    "\n",
    "from hython.preprocess import apply_normalization\n",
    "from hython.datasets.datasets import LSTMDataset\n",
    "from hython.train_val import train_val\n",
    "from hython.sampler import RegularIntervalSampler, DataLoaderSpatialSampler\n",
    "from hython.metrics import mse_metric\n",
    "from hython.losses import RMSELoss\n",
    "from hython.utils import read_from_zarr, missing_location_idx\n",
    "from hython.models.lstm import CustomLSTM\n",
    "\n",
    "import torch.optim as optim\n",
    "from torch.optim.lr_scheduler import ReduceLROnPlateau\n",
    "from torch.utils.data import DataLoader, Dataset\n",
    "\n",
    "# viz\n",
    "import matplotlib.pyplot as plt\n",
    "from hython.viz import plot_sampler\n",
    "\n",
    "\n",
    "def set_seed(seed):\n",
    "    random.seed(seed)\n",
    "    os.environ[\"PYTHONHASHSEED\"] = str(seed)\n",
    "    np.random.seed(seed)\n",
    "    torch.manual_seed(seed)\n",
    "    if torch.cuda.is_available():\n",
    "        torch.cuda.manual_seed_all(seed)\n",
    "        torch.backends.cudnn.deterministic = True\n",
    "\n",
    "set_seed(43)"
   ]
  },
  {
   "cell_type": "markdown",
   "id": "22a78cf5-bd72-4a3d-bd18-ce49d0e8fdee",
   "metadata": {
    "tags": []
   },
   "source": [
    "# Settings"
   ]
  },
  {
   "cell_type": "code",
   "execution_count": 9,
   "id": "2cc51bdd-1831-43a2-9cc4-da9e0d82b0c2",
   "metadata": {
    "tags": []
   },
   "outputs": [],
   "source": [
    "wflow_model =  \"alps1km_eobs\" #\n",
    "\n",
    "surrogate_experiment_name = \"s0010\" \n",
    "\n",
    "wd = Path(\"/mnt/CEPH_PROJECTS/InterTwin/hydrologic_data/surrogate_training\")\n",
    "\n",
    "surrogate_data = wd / f\"{wflow_model}.zarr\"\n",
    "\n",
    "# path to directory to save model weights after training\n",
    "dp_surrogate_model = Path(\"/mnt/CEPH_PROJECTS/InterTwin/hydrologic_data/surrogate_model\")\n",
    "\n",
    "dynamic_names = [\"precip\", \"pet\", \"temp\"] #  WFLOW forcings, input features of the surrogate\n",
    "static_names = [ 'thetaS', 'thetaR', 'RootingDepth', 'Swood','KsatVer', \"Sl\"] # WFLOW static parameters, input features of the surrogate\n",
    "target_names = [ \"vwc\",\"actevap\" ] # WFLOW outputs, targets of the surrogate\n",
    "\n",
    "\n",
    "remove_lakes = True\n",
    "\n",
    "# sampler for spatial training/validation\n",
    "spatial_sampling = True\n",
    "intervals = (4, 4) # every n km\n",
    "train_origin = (0, 0)\n",
    "val_origin = (2, 2)\n",
    "\n",
    "\n",
    "# training/validation  period \n",
    "train_start = \"2016-01-01\"\n",
    "train_end = \"2018-12-31\"\n",
    "\n",
    "train_range = slice(train_start,train_end)"
   ]
  },
  {
   "cell_type": "code",
   "execution_count": 10,
   "id": "16a69cb7-c5cb-4298-8dd5-38ef6ce107cd",
   "metadata": {
    "tags": []
   },
   "outputs": [],
   "source": [
    "# Read from preprocessed data, select train range\n",
    "\n",
    "# train\n",
    "Xd = read_from_zarr(url=surrogate_data, group=\"xd\", multi_index=\"gridcell\").sel(time = train_range).xd\n",
    "Xs = read_from_zarr(url=surrogate_data, group=\"xs\", multi_index=\"gridcell\").xs\n",
    "Y = read_from_zarr(url=surrogate_data, group=\"y\", multi_index=\"gridcell\").sel(time = train_range).y\n",
    "\n",
    "# other \n",
    "wflow_lakes = Xs.sel(feat=\"wflow_lakeareas\").unstack()\n",
    "wflow_dem = Xs.sel(feat=\"wflow_dem\").unstack()\n",
    "\n",
    "# select features and targets \n",
    "Xd = Xd.sel(feat=dynamic_names)\n",
    "Xs = Xs.sel(feat=static_names)\n",
    "Y = Y.sel(feat=target_names)"
   ]
  },
  {
   "cell_type": "code",
   "execution_count": 11,
   "id": "2302c55c-e251-4fff-923c-d3cd659f3076",
   "metadata": {
    "tags": []
   },
   "outputs": [],
   "source": [
    "# read masks\n",
    "mask_missing = read_from_zarr(url=surrogate_data, group=\"mask\" ).mask\n",
    "mask_lake = read_from_zarr(url=surrogate_data, group=\"mask_lake\" ).mask_lake"
   ]
  },
  {
   "cell_type": "code",
   "execution_count": 12,
   "id": "30c773ed-0ec8-4037-9bbf-cc8e1c7b63fc",
   "metadata": {
    "tags": []
   },
   "outputs": [],
   "source": [
    "spatial_batch_size = 256\n",
    "temporal_sampling_size = 150 \n",
    "seq_length = 360 \n",
    "hidden_size = 24\n",
    "\n",
    "model_params={\n",
    "    \"input_size\": len(dynamic_names), \n",
    "    \"hidden_size\": hidden_size, \n",
    "    \"output_size\": len(target_names),\n",
    "    \"number_static_predictors\": len(static_names), \n",
    "\n",
    "}\n",
    "\n",
    "device = torch.device(\"cuda:0\" if torch.cuda.is_available() else \"cpu\")"
   ]
  },
  {
   "cell_type": "code",
   "execution_count": 13,
   "id": "9e457ac4-2554-4eb8-bdb5-a65a85cf4556",
   "metadata": {
    "tags": []
   },
   "outputs": [
    {
     "name": "stdout",
     "output_type": "stream",
     "text": [
      "SamplerResult(\n",
      " - id_grid_2d: (689, 1177) \n",
      " - idx_sampled_1d: (51035,) \n",
      " - idx_sampled_1d_nomissing: (23740,)) \n",
      " - idx_missing_1d: (431441,) \n",
      " - sampled_grid_dims: (173, 295) \n",
      " - xr_coords: None\n"
     ]
    }
   ],
   "source": [
    "# Define the spatial samplers for both training and validation sets. Remeber the subsets should not overlap, so choose different origins.\n",
    "\n",
    "if spatial_sampling:\n",
    "\n",
    "    # training set\n",
    "    spatial_train_sampler = RegularIntervalSampler(intervals = intervals, origin = train_origin)\n",
    "\n",
    "    # validation set\n",
    "    spatial_val_sampler = RegularIntervalSampler(intervals = intervals, origin = val_origin) \n",
    "\n",
    "    # Apply the samplers: return the cell indices that can be used later in training and validation to sample the whole spatial domain.\n",
    "    data2d  = wflow_dem.values\n",
    "\n",
    "    idx = missing_location_idx(Xs.values)\n",
    "    \n",
    "    sampler_train_meta = spatial_train_sampler.sampling_idx(data2d, mask_missing)\n",
    "    sampler_val_meta = spatial_val_sampler.sampling_idx(data2d, mask_missing)\n",
    "\n",
    "    # some useful metadata\n",
    "    print(sampler_train_meta)\n",
    "\n",
    "    # check location of training and validation sets\n",
    "    #_ = plot_sampler(wflow_dem, sampler_train_meta, sampler_val_meta, figsize= (8, 8 ), markersize = 2)\n",
    "else:\n",
    "    idx = missing_location_idx(Xs)\n",
    "\n",
    "    Xd_nomissing = Xd[~idx]\n",
    "    Xs_nomissing = Xs[~idx]\n",
    "    Y_nomissing = Y[~idx]"
   ]
  },
  {
   "cell_type": "code",
   "execution_count": 14,
   "id": "28e88b5b-4249-42ad-9dd6-5820c7dd4247",
   "metadata": {
    "tags": []
   },
   "outputs": [
    {
     "name": "stdout",
     "output_type": "stream",
     "text": [
      "Percentage of sampled data:  1.0425669456213946 %\n"
     ]
    }
   ],
   "source": [
    "print(\"Percentage of sampled data: \",(len(sampler_train_meta.idx_sampled_1d_nomissing)/ len(Xs[~idx].values.flatten()))*100, \"%\")"
   ]
  },
  {
   "cell_type": "code",
   "execution_count": null,
   "id": "279ff65a-09d6-49ad-9e71-f23d06ecef02",
   "metadata": {
    "tags": []
   },
   "outputs": [],
   "source": [
    "# # Normalizing\n",
    "\n",
    "if spatial_sampling:\n",
    "\n",
    "    # statistics from training set\n",
    "    _, d_m, d_std = apply_normalization(Xd[sampler_train_meta.idx_sampled_1d_nomissing], type = \"spacetime\", how ='standard')\n",
    "    _, s_m, s_std = apply_normalization(Xs[sampler_train_meta.idx_sampled_1d_nomissing], type = \"space\", how ='standard')\n",
    "    _, y_m, y_std = apply_normalization(Y[sampler_train_meta.idx_sampled_1d_nomissing], type = \"spacetime\", how ='standard')\n",
    "\n",
    "    # normalize training set and validation set\n",
    "    Xd = apply_normalization(Xd, type=\"spacetime\", how=\"standard\", m1 = d_m, m2 = d_std).compute()\n",
    "    Xs = apply_normalization(Xs, type=\"space\", how=\"standard\",  m1 = s_m, m2 = s_std).compute()\n",
    "    Y = apply_normalization(Y, type=\"spacetime\",how=\"standard\", m1 = y_m, m2 = y_std).compute()\n",
    "\n",
    "\n",
    "else:\n",
    "    _, d_m, d_std = apply_normalization(Xd_nomissing, type = \"spacetime\", how ='standard')\n",
    "    _, s_m, s_std = apply_normalization(Xs_nomissing, type = \"space\", how ='standard')\n",
    "    _, y_m, y_std = apply_normalization(Y_nomissing, type = \"spacetime\", how ='standard')\n",
    "\n",
    "    Xd_nomissing = apply_normalization(Xd_nomissing, type=\"spacetime\", how=\"standard\", m1 = d_m, m2 = d_std).compute()\n",
    "    Xs_nomissing = apply_normalization(Xs_nomissing, type=\"space\", how=\"standard\",  m1 = s_m, m2 = s_std).compute()\n",
    "    Y_nomissing = apply_normalization(Y_nomissing, type=\"spacetime\",how=\"standard\", m1 = y_m, m2 = y_std).compute()\n",
    "\n",
    "    Xd_test = apply_normalization(Xd_test, type=\"spacetime\", how=\"standard\", m1 = d_m, m2 = d_std).compute()\n",
    "    Xs_test = apply_normalization(Xs_test, type=\"space\", how=\"standard\",  m1 = s_m, m2 = s_std).compute()\n",
    "    Y_test = apply_normalization(Y_test, type=\"spacetime\",how=\"standard\", m1 = y_m, m2 = y_std).compute()"
   ]
  },
  {
   "cell_type": "markdown",
   "id": "a747bc5a-fe58-4c63-8945-55e660dd9208",
   "metadata": {
    "tags": []
   },
   "source": [
    "# Prepare Model inputs"
   ]
  },
  {
   "cell_type": "code",
   "execution_count": 10,
   "id": "6fecaecc-4aa4-409a-9031-800d694f92c3",
   "metadata": {
    "tags": []
   },
   "outputs": [],
   "source": [
    "if spatial_sampling:\n",
    "    Xs = torch.Tensor(Xs.values)\n",
    "    Xd = torch.Tensor(Xd.values)\n",
    "    Y = torch.Tensor(Y.values)\n",
    "    \n",
    "    Xs.shape, Xd.shape, Y.shape\n",
    "\n",
    "    # init datasets\n",
    "    dataset = LSTMDataset(Xd, Y, Xs)\n",
    "    \n",
    "    train_sampler = DataLoaderSpatialSampler(dataset, num_samples=100, sampling_indices = sampler_train_meta.idx_sampled_1d_nomissing.tolist())\n",
    "    valid_sampler = DataLoaderSpatialSampler(dataset, num_samples=100, sampling_indices = sampler_val_meta.idx_sampled_1d_nomissing.tolist())\n",
    "    \n",
    "    train_loader = DataLoader(dataset, batch_size=spatial_batch_size, shuffle=False, sampler = train_sampler) # implement shuffling in the sampler!\n",
    "    val_loader = DataLoader(dataset, batch_size=spatial_batch_size, shuffle=False, sampler = valid_sampler)\n",
    "else:\n",
    "    Xs_nms = torch.Tensor(Xs_nomissing)\n",
    "    Xd_nms = torch.Tensor(Xd_nomissing)\n",
    "    Y_nms = torch.Tensor(Y_nomissing)\n",
    "\n",
    "    # init datasets\n",
    "    dataset = LSTMDataset(Xd_nms, Y_nms, Xs_nms)\n",
    "    \n",
    "    train_loader = DataLoader(dataset, batch_size=spatial_batch_size, shuffle=True)\n",
    "    "
   ]
  },
  {
   "cell_type": "markdown",
   "id": "feaedbed-af8b-44da-a677-a56bed8b8706",
   "metadata": {
    "tags": []
   },
   "source": [
    "# Initialize Model"
   ]
  },
  {
   "cell_type": "code",
   "execution_count": 11,
   "id": "b046cecf-ee3c-4b85-b68b-bfd62089e87d",
   "metadata": {
    "tags": []
   },
   "outputs": [
    {
     "data": {
      "text/plain": [
       "CustomLSTM(\n",
       "  (fc0): Linear(in_features=9, out_features=24, bias=True)\n",
       "  (lstm): LSTM(24, 24, batch_first=True)\n",
       "  (fc1): Linear(in_features=24, out_features=2, bias=True)\n",
       ")"
      ]
     },
     "execution_count": 11,
     "metadata": {},
     "output_type": "execute_result"
    }
   ],
   "source": [
    "model = CustomLSTM(model_params)\n",
    "model = model.to(device)\n",
    "model"
   ]
  },
  {
   "cell_type": "markdown",
   "id": "0751f35d-23e0-4dcf-b67b-b034964f2a87",
   "metadata": {
    "tags": []
   },
   "source": [
    "# Train/valid settings"
   ]
  },
  {
   "cell_type": "code",
   "execution_count": 12,
   "id": "968ad206-3e94-4624-8924-fee31dbed23a",
   "metadata": {
    "tags": []
   },
   "outputs": [],
   "source": [
    "path2models= \"./checkpoints\" \n",
    "if not os.path.exists(path2models):\n",
    "    os.mkdir(path2models)\n",
    "    \n",
    "    \n",
    "opt = optim.Adam(model.parameters(), lr=1e-3)\n",
    "\n",
    "\n",
    "loss_fn = RMSELoss(target_weight={\"actevap\":0.5, \"vwc\":0.5})\n",
    "\n",
    "metric_fn = mse_metric\n",
    "\n",
    "lr_scheduler = ReduceLROnPlateau(opt, mode='min',factor=0.5, patience=10)\n",
    "\n",
    "epochs = 90"
   ]
  },
  {
   "cell_type": "code",
   "execution_count": 13,
   "id": "769f0048-e9d9-4819-848f-d4c96e487810",
   "metadata": {
    "tags": []
   },
   "outputs": [],
   "source": [
    "params_train={\n",
    "    \"num_epochs\": epochs,\n",
    "    \"temporal_sampling_idx_change_with_epoch\": True,\n",
    "    \"temporal_sampling_size\": temporal_sampling_size,\n",
    "    \"seq_length\": seq_length,\n",
    "    \"ts_range\": Y.shape[1],\n",
    "    \"optimizer\": opt,\n",
    "    \"loss_func\": loss_fn,\n",
    "    \"metric_func\": metric_fn,\n",
    "    \"train_dl\": train_loader, \n",
    "    \"val_dl\": val_loader,\n",
    "    \"lr_scheduler\": lr_scheduler,\n",
    "    \"path2weights\": f\"{path2models}/weights.pt\",\n",
    "    \"device\":device,\n",
    "    \"target_names\": target_names\n",
    "\n",
    "}"
   ]
  },
  {
   "cell_type": "markdown",
   "id": "15aae90c-39ff-42ef-bbaa-77e04da01f40",
   "metadata": {
    "tags": []
   },
   "source": [
    "# Run Train/valid"
   ]
  },
  {
   "cell_type": "code",
   "execution_count": 14,
   "id": "ca36e585-beff-41d4-96b6-e02027b74348",
   "metadata": {
    "tags": []
   },
   "outputs": [
    {
     "name": "stdout",
     "output_type": "stream",
     "text": [
      "Epoch 0/89, current lr=0.001\n",
      "Copied best model weights!\n",
      "train loss: 0.2780933380126953, train metric: {'vwc': 0.35171896, 'actevap': 0.26471767}\n",
      "val loss: 0.2482599914073944, val metric: {'vwc': 0.30041435, 'actevap': 0.18144472}\n",
      "----------\n",
      "Epoch 1/89, current lr=0.001\n",
      "Copied best model weights!\n",
      "train loss: 0.2249985933303833, train metric: {'vwc': 0.23402806, 'actevap': 0.15164687}\n",
      "val loss: 0.23778560757637024, val metric: {'vwc': 0.26476702, 'actevap': 0.15935016}\n",
      "----------\n",
      "Epoch 2/89, current lr=0.001\n",
      "train loss: 0.2279016226530075, train metric: {'vwc': 0.21803096, 'actevap': 0.17277324}\n",
      "val loss: 0.24749356508255005, val metric: {'vwc': 0.2571887, 'actevap': 0.19891822}\n",
      "----------\n",
      "Epoch 3/89, current lr=0.001\n",
      "Copied best model weights!\n",
      "train loss: 0.20539984107017517, train metric: {'vwc': 0.2177966, 'actevap': 0.11192251}\n",
      "val loss: 0.22192984819412231, val metric: {'vwc': 0.24678573, 'actevap': 0.13336411}\n",
      "----------\n",
      "Epoch 4/89, current lr=0.001\n",
      "train loss: 0.2016674429178238, train metric: {'vwc': 0.22000967, 'actevap': 0.09653647}\n",
      "val loss: 0.2229410856962204, val metric: {'vwc': 0.24811307, 'actevap': 0.12881023}\n",
      "----------\n",
      "Epoch 5/89, current lr=0.001\n",
      "train loss: 0.20682218670845032, train metric: {'vwc': 0.20150176, 'actevap': 0.13064647}\n",
      "val loss: 0.22695976495742798, val metric: {'vwc': 0.2271984, 'actevap': 0.16774942}\n",
      "----------\n",
      "Epoch 6/89, current lr=0.001\n",
      "train loss: 0.2014092355966568, train metric: {'vwc': 0.2196431, 'actevap': 0.09531667}\n",
      "val loss: 0.22701768577098846, val metric: {'vwc': 0.27233037, 'actevap': 0.11704771}\n",
      "----------\n",
      "Epoch 7/89, current lr=0.001\n",
      "Copied best model weights!\n",
      "train loss: 0.20270024240016937, train metric: {'vwc': 0.20666227, 'actevap': 0.111086704}\n",
      "val loss: 0.21939723193645477, val metric: {'vwc': 0.23437269, 'actevap': 0.13734303}\n",
      "----------\n",
      "Epoch 8/89, current lr=0.001\n",
      "train loss: 0.19633568823337555, train metric: {'vwc': 0.19034189, 'actevap': 0.10813041}\n",
      "val loss: 0.22259581089019775, val metric: {'vwc': 0.22346458, 'actevap': 0.15115194}\n",
      "----------\n",
      "Epoch 9/89, current lr=0.001\n",
      "Copied best model weights!\n",
      "train loss: 0.19634152948856354, train metric: {'vwc': 0.19255584, 'actevap': 0.1041713}\n",
      "val loss: 0.21860039234161377, val metric: {'vwc': 0.21818283, 'actevap': 0.1540723}\n",
      "----------\n",
      "Epoch 10/89, current lr=0.001\n",
      "train loss: 0.19878284633159637, train metric: {'vwc': 0.18585095, 'actevap': 0.1253987}\n",
      "val loss: 0.21912920475006104, val metric: {'vwc': 0.21306112, 'actevap': 0.16080645}\n",
      "----------\n",
      "Epoch 11/89, current lr=0.001\n",
      "Copied best model weights!\n",
      "train loss: 0.19076353311538696, train metric: {'vwc': 0.19684222, 'actevap': 0.08933212}\n",
      "val loss: 0.21028390526771545, val metric: {'vwc': 0.23097682, 'actevap': 0.113369144}\n",
      "----------\n",
      "Epoch 12/89, current lr=0.001\n",
      "train loss: 0.19892562925815582, train metric: {'vwc': 0.19240557, 'actevap': 0.107697204}\n",
      "val loss: 0.22335486114025116, val metric: {'vwc': 0.22425447, 'actevap': 0.14347556}\n",
      "----------\n",
      "Epoch 13/89, current lr=0.001\n",
      "train loss: 0.1918763667345047, train metric: {'vwc': 0.1847227, 'actevap': 0.10317837}\n",
      "val loss: 0.21783268451690674, val metric: {'vwc': 0.21936439, 'actevap': 0.14486763}\n",
      "----------\n",
      "Epoch 14/89, current lr=0.001\n",
      "train loss: 0.20031853020191193, train metric: {'vwc': 0.19273478, 'actevap': 0.11050287}\n",
      "val loss: 0.22238664329051971, val metric: {'vwc': 0.22232544, 'actevap': 0.15022072}\n",
      "----------\n",
      "Epoch 15/89, current lr=0.001\n",
      "train loss: 0.2008555382490158, train metric: {'vwc': 0.18983883, 'actevap': 0.12023429}\n",
      "val loss: 0.22260746359825134, val metric: {'vwc': 0.22038108, 'actevap': 0.15577321}\n",
      "----------\n",
      "Epoch 16/89, current lr=0.001\n",
      "train loss: 0.1902000457048416, train metric: {'vwc': 0.18841149, 'actevap': 0.09424723}\n",
      "val loss: 0.21584567427635193, val metric: {'vwc': 0.22262001, 'actevap': 0.1350279}\n",
      "----------\n",
      "Epoch 17/89, current lr=0.001\n",
      "train loss: 0.19538748264312744, train metric: {'vwc': 0.19163679, 'actevap': 0.10042696}\n",
      "val loss: 0.2309138923883438, val metric: {'vwc': 0.24481052, 'actevap': 0.15916063}\n",
      "----------\n",
      "Epoch 18/89, current lr=0.001\n",
      "train loss: 0.19038701057434082, train metric: {'vwc': 0.19768512, 'actevap': 0.086750895}\n",
      "val loss: 0.22457881271839142, val metric: {'vwc': 0.25237614, 'actevap': 0.13545361}\n",
      "----------\n",
      "Epoch 19/89, current lr=0.001\n",
      "train loss: 0.19035500288009644, train metric: {'vwc': 0.18930215, 'actevap': 0.09509537}\n",
      "val loss: 0.2151268720626831, val metric: {'vwc': 0.23109375, 'actevap': 0.12581049}\n",
      "----------\n",
      "Epoch 20/89, current lr=0.001\n",
      "train loss: 0.19600364565849304, train metric: {'vwc': 0.18714754, 'actevap': 0.11133906}\n",
      "val loss: 0.21689525246620178, val metric: {'vwc': 0.21486178, 'actevap': 0.15230204}\n",
      "----------\n",
      "Epoch 21/89, current lr=0.001\n",
      "train loss: 0.19001297652721405, train metric: {'vwc': 0.18746261, 'actevap': 0.09139673}\n",
      "val loss: 0.21625272929668427, val metric: {'vwc': 0.22409809, 'actevap': 0.13427562}\n",
      "----------\n",
      "Epoch 22/89, current lr=0.001\n",
      "train loss: 0.20047281682491302, train metric: {'vwc': 0.1835329, 'actevap': 0.12121429}\n",
      "val loss: 0.2279961109161377, val metric: {'vwc': 0.21886715, 'actevap': 0.1705571}\n",
      "----------\n",
      "Epoch 23/89, current lr=0.0005\n",
      "train loss: 0.18363822996616364, train metric: {'vwc': 0.18469024, 'actevap': 0.08099597}\n",
      "val loss: 0.21600128710269928, val metric: {'vwc': 0.24059089, 'actevap': 0.12277541}\n",
      "----------\n",
      "Epoch 24/89, current lr=0.0005\n",
      "Copied best model weights!\n",
      "train loss: 0.18372835218906403, train metric: {'vwc': 0.18862168, 'actevap': 0.07390368}\n",
      "val loss: 0.20997971296310425, val metric: {'vwc': 0.23287278, 'actevap': 0.10785135}\n",
      "----------\n",
      "Epoch 25/89, current lr=0.0005\n",
      "train loss: 0.18520934879779816, train metric: {'vwc': 0.16944887, 'actevap': 0.10194994}\n",
      "val loss: 0.21341565251350403, val metric: {'vwc': 0.21345481, 'actevap': 0.13990377}\n",
      "----------\n",
      "Epoch 26/89, current lr=0.0005\n",
      "train loss: 0.1902485191822052, train metric: {'vwc': 0.17382717, 'actevap': 0.11077873}\n",
      "val loss: 0.21565896272659302, val metric: {'vwc': 0.21015455, 'actevap': 0.14973064}\n",
      "----------\n",
      "Epoch 27/89, current lr=0.0005\n",
      "train loss: 0.18818829953670502, train metric: {'vwc': 0.18223259, 'actevap': 0.09252118}\n",
      "val loss: 0.21345703303813934, val metric: {'vwc': 0.22894785, 'actevap': 0.12072398}\n",
      "----------\n",
      "Epoch 28/89, current lr=0.0005\n",
      "train loss: 0.18134717643260956, train metric: {'vwc': 0.17241883, 'actevap': 0.083819635}\n",
      "val loss: 0.2138327956199646, val metric: {'vwc': 0.23801246, 'actevap': 0.1139781}\n",
      "----------\n",
      "Epoch 29/89, current lr=0.0005\n",
      "Copied best model weights!\n",
      "train loss: 0.1805824488401413, train metric: {'vwc': 0.16527538, 'actevap': 0.09036107}\n",
      "val loss: 0.20907630026340485, val metric: {'vwc': 0.20571236, 'actevap': 0.13504523}\n",
      "----------\n",
      "Epoch 30/89, current lr=0.0005\n",
      "train loss: 0.1860456019639969, train metric: {'vwc': 0.18413642, 'actevap': 0.08186784}\n",
      "val loss: 0.21144162118434906, val metric: {'vwc': 0.22544107, 'actevap': 0.11478732}\n",
      "----------\n",
      "Epoch 31/89, current lr=0.0005\n",
      "train loss: 0.18842217326164246, train metric: {'vwc': 0.17455103, 'actevap': 0.099460125}\n",
      "val loss: 0.21817797422409058, val metric: {'vwc': 0.22580464, 'actevap': 0.13465804}\n",
      "----------\n",
      "Epoch 32/89, current lr=0.0005\n",
      "train loss: 0.18459290266036987, train metric: {'vwc': 0.17786953, 'actevap': 0.08746946}\n",
      "val loss: 0.2136603146791458, val metric: {'vwc': 0.22897619, 'actevap': 0.12101062}\n",
      "----------\n",
      "Epoch 33/89, current lr=0.0005\n",
      "train loss: 0.18172729015350342, train metric: {'vwc': 0.16990265, 'actevap': 0.091962025}\n",
      "val loss: 0.21075914800167084, val metric: {'vwc': 0.21734756, 'actevap': 0.12588504}\n",
      "----------\n",
      "Epoch 34/89, current lr=0.0005\n",
      "train loss: 0.17781499028205872, train metric: {'vwc': 0.17948933, 'actevap': 0.07027021}\n",
      "val loss: 0.211068794131279, val metric: {'vwc': 0.24212551, 'actevap': 0.10460096}\n",
      "----------\n",
      "Epoch 35/89, current lr=0.0005\n",
      "train loss: 0.18518729507923126, train metric: {'vwc': 0.1707946, 'actevap': 0.09819183}\n",
      "val loss: 0.21585088968276978, val metric: {'vwc': 0.21954066, 'actevap': 0.13955075}\n",
      "----------\n",
      "Epoch 36/89, current lr=0.0005\n",
      "train loss: 0.18728362023830414, train metric: {'vwc': 0.17712344, 'actevap': 0.09755801}\n",
      "val loss: 0.2215144783258438, val metric: {'vwc': 0.23027505, 'actevap': 0.15156384}\n",
      "----------\n",
      "Epoch 37/89, current lr=0.0005\n",
      "train loss: 0.18445570766925812, train metric: {'vwc': 0.1715626, 'actevap': 0.09523405}\n",
      "val loss: 0.21362920105457306, val metric: {'vwc': 0.22105286, 'actevap': 0.1357617}\n",
      "----------\n",
      "Epoch 38/89, current lr=0.0005\n",
      "train loss: 0.1871267408132553, train metric: {'vwc': 0.18352257, 'actevap': 0.09126089}\n",
      "val loss: 0.21400263905525208, val metric: {'vwc': 0.23280185, 'actevap': 0.1236977}\n",
      "----------\n",
      "Epoch 39/89, current lr=0.0005\n",
      "train loss: 0.1889529526233673, train metric: {'vwc': 0.18630406, 'actevap': 0.09555169}\n",
      "val loss: 0.21187183260917664, val metric: {'vwc': 0.22501393, 'actevap': 0.12507904}\n",
      "----------\n",
      "Epoch 40/89, current lr=0.0005\n",
      "train loss: 0.1846616268157959, train metric: {'vwc': 0.17392233, 'actevap': 0.09067696}\n",
      "val loss: 0.2133154571056366, val metric: {'vwc': 0.21327032, 'actevap': 0.1378512}\n",
      "----------\n",
      "Epoch 41/89, current lr=0.00025\n",
      "Copied best model weights!\n",
      "train loss: 0.175945445895195, train metric: {'vwc': 0.16960885, 'actevap': 0.076601826}\n",
      "val loss: 0.20439369976520538, val metric: {'vwc': 0.21429347, 'actevap': 0.11066915}\n",
      "----------\n",
      "Epoch 42/89, current lr=0.00025\n",
      "train loss: 0.1839810609817505, train metric: {'vwc': 0.17154853, 'actevap': 0.09203062}\n",
      "val loss: 0.22095492482185364, val metric: {'vwc': 0.2337473, 'actevap': 0.13757247}\n",
      "----------\n",
      "Epoch 43/89, current lr=0.00025\n",
      "train loss: 0.17963318526744843, train metric: {'vwc': 0.17865632, 'actevap': 0.076458305}\n",
      "val loss: 0.21166835725307465, val metric: {'vwc': 0.24122673, 'actevap': 0.108076386}\n",
      "----------\n",
      "Epoch 44/89, current lr=0.00025\n",
      "train loss: 0.183676615357399, train metric: {'vwc': 0.16601796, 'actevap': 0.09669328}\n",
      "val loss: 0.22165891528129578, val metric: {'vwc': 0.23106697, 'actevap': 0.14749229}\n",
      "----------\n",
      "Epoch 45/89, current lr=0.00025\n",
      "train loss: 0.1780339479446411, train metric: {'vwc': 0.17476584, 'actevap': 0.073097475}\n",
      "val loss: 0.20894500613212585, val metric: {'vwc': 0.23489216, 'actevap': 0.102559075}\n",
      "----------\n",
      "Epoch 46/89, current lr=0.00025\n",
      "train loss: 0.17954246699810028, train metric: {'vwc': 0.16876325, 'actevap': 0.083665244}\n",
      "val loss: 0.21298344433307648, val metric: {'vwc': 0.23174073, 'actevap': 0.11983257}\n",
      "----------\n",
      "Epoch 47/89, current lr=0.00025\n",
      "train loss: 0.17872340977191925, train metric: {'vwc': 0.16124898, 'actevap': 0.08880063}\n",
      "val loss: 0.20793713629245758, val metric: {'vwc': 0.21088348, 'actevap': 0.12237764}\n",
      "----------\n",
      "Epoch 48/89, current lr=0.00025\n",
      "Copied best model weights!\n",
      "train loss: 0.1741461157798767, train metric: {'vwc': 0.17009975, 'actevap': 0.07272345}\n",
      "val loss: 0.20420143008232117, val metric: {'vwc': 0.2271355, 'actevap': 0.10193608}\n",
      "----------\n",
      "Epoch 49/89, current lr=0.00025\n",
      "train loss: 0.1787024885416031, train metric: {'vwc': 0.17333952, 'actevap': 0.079932995}\n",
      "val loss: 0.2131664901971817, val metric: {'vwc': 0.23934978, 'actevap': 0.114939645}\n",
      "----------\n",
      "Epoch 50/89, current lr=0.00025\n",
      "train loss: 0.17690786719322205, train metric: {'vwc': 0.1626882, 'actevap': 0.08141392}\n",
      "val loss: 0.21458475291728973, val metric: {'vwc': 0.23517689, 'actevap': 0.11805052}\n",
      "----------\n",
      "Epoch 51/89, current lr=0.00025\n",
      "train loss: 0.1776898056268692, train metric: {'vwc': 0.169764, 'actevap': 0.080736674}\n",
      "val loss: 0.21316368877887726, val metric: {'vwc': 0.23823024, 'actevap': 0.11564975}\n",
      "----------\n",
      "Epoch 52/89, current lr=0.00025\n",
      "train loss: 0.1813555657863617, train metric: {'vwc': 0.17049412, 'actevap': 0.09215386}\n",
      "val loss: 0.21746790409088135, val metric: {'vwc': 0.23978849, 'actevap': 0.13237488}\n",
      "----------\n",
      "Epoch 53/89, current lr=0.00025\n",
      "train loss: 0.18247772753238678, train metric: {'vwc': 0.17651963, 'actevap': 0.08814258}\n",
      "val loss: 0.21631188690662384, val metric: {'vwc': 0.2374199, 'actevap': 0.12935576}\n",
      "----------\n",
      "Epoch 54/89, current lr=0.00025\n",
      "train loss: 0.1884387582540512, train metric: {'vwc': 0.18349636, 'actevap': 0.0903569}\n",
      "val loss: 0.2096642106771469, val metric: {'vwc': 0.22150607, 'actevap': 0.11754632}\n",
      "----------\n",
      "Epoch 55/89, current lr=0.00025\n",
      "Copied best model weights!\n",
      "train loss: 0.1845625638961792, train metric: {'vwc': 0.18951528, 'actevap': 0.08032213}\n",
      "val loss: 0.20368073880672455, val metric: {'vwc': 0.224003, 'actevap': 0.10497641}\n",
      "----------\n",
      "Epoch 56/89, current lr=0.00025\n",
      "train loss: 0.17967447638511658, train metric: {'vwc': 0.17750454, 'actevap': 0.0879671}\n",
      "val loss: 0.20977996289730072, val metric: {'vwc': 0.23510672, 'actevap': 0.12312235}\n",
      "----------\n",
      "Epoch 57/89, current lr=0.00025\n",
      "train loss: 0.18076130747795105, train metric: {'vwc': 0.17496936, 'actevap': 0.08074199}\n",
      "val loss: 0.2081078588962555, val metric: {'vwc': 0.22770518, 'actevap': 0.1087336}\n",
      "----------\n",
      "Epoch 58/89, current lr=0.00025\n",
      "train loss: 0.1777646839618683, train metric: {'vwc': 0.16231139, 'actevap': 0.08515123}\n",
      "val loss: 0.2089376300573349, val metric: {'vwc': 0.21638955, 'actevap': 0.12304839}\n",
      "----------\n",
      "Epoch 59/89, current lr=0.00025\n",
      "train loss: 0.17924953997135162, train metric: {'vwc': 0.17903265, 'actevap': 0.07464879}\n",
      "val loss: 0.2075977623462677, val metric: {'vwc': 0.2277389, 'actevap': 0.10616031}\n",
      "----------\n",
      "Epoch 60/89, current lr=0.00025\n",
      "train loss: 0.17297552525997162, train metric: {'vwc': 0.16631363, 'actevap': 0.07272834}\n",
      "val loss: 0.2060338705778122, val metric: {'vwc': 0.22719896, 'actevap': 0.10706497}\n",
      "----------\n",
      "Epoch 61/89, current lr=0.00025\n",
      "train loss: 0.17748114466667175, train metric: {'vwc': 0.15514256, 'actevap': 0.094301224}\n",
      "val loss: 0.2132658064365387, val metric: {'vwc': 0.21180521, 'actevap': 0.14876229}\n",
      "----------\n",
      "Epoch 62/89, current lr=0.00025\n",
      "train loss: 0.18214498460292816, train metric: {'vwc': 0.18735693, 'actevap': 0.08143527}\n",
      "val loss: 0.20628462731838226, val metric: {'vwc': 0.22801355, 'actevap': 0.11256}\n",
      "----------\n",
      "Epoch 63/89, current lr=0.00025\n",
      "train loss: 0.18533079326152802, train metric: {'vwc': 0.1838821, 'actevap': 0.08439811}\n",
      "val loss: 0.20898818969726562, val metric: {'vwc': 0.21971336, 'actevap': 0.11683551}\n",
      "----------\n",
      "Epoch 64/89, current lr=0.00025\n",
      "train loss: 0.18534621596336365, train metric: {'vwc': 0.17674452, 'actevap': 0.09056214}\n",
      "val loss: 0.2156267762184143, val metric: {'vwc': 0.22638732, 'actevap': 0.12863943}\n",
      "----------\n",
      "Epoch 65/89, current lr=0.00025\n",
      "train loss: 0.18416285514831543, train metric: {'vwc': 0.17847411, 'actevap': 0.08496243}\n",
      "val loss: 0.2146998941898346, val metric: {'vwc': 0.22867556, 'actevap': 0.123098835}\n",
      "----------\n",
      "Epoch 66/89, current lr=0.00025\n",
      "train loss: 0.17766979336738586, train metric: {'vwc': 0.15788314, 'actevap': 0.09186196}\n",
      "val loss: 0.21012349426746368, val metric: {'vwc': 0.21076936, 'actevap': 0.13382645}\n",
      "----------\n",
      "Epoch 67/89, current lr=0.000125\n",
      "train loss: 0.17759308218955994, train metric: {'vwc': 0.17878947, 'actevap': 0.071809396}\n",
      "val loss: 0.20825307071208954, val metric: {'vwc': 0.24018735, 'actevap': 0.09937593}\n",
      "----------\n",
      "Epoch 68/89, current lr=0.000125\n",
      "train loss: 0.17987948656082153, train metric: {'vwc': 0.1754181, 'actevap': 0.07798263}\n",
      "val loss: 0.2109510451555252, val metric: {'vwc': 0.23351176, 'actevap': 0.11054631}\n",
      "----------\n",
      "Epoch 69/89, current lr=0.000125\n",
      "train loss: 0.18007807433605194, train metric: {'vwc': 0.15840688, 'actevap': 0.094477005}\n",
      "val loss: 0.21079625189304352, val metric: {'vwc': 0.21091534, 'actevap': 0.13115036}\n",
      "----------\n",
      "Epoch 70/89, current lr=0.000125\n",
      "train loss: 0.180273175239563, train metric: {'vwc': 0.18157129, 'actevap': 0.08037207}\n",
      "val loss: 0.20925258100032806, val metric: {'vwc': 0.23924081, 'actevap': 0.1079912}\n",
      "----------\n",
      "Epoch 71/89, current lr=0.000125\n",
      "train loss: 0.18263907730579376, train metric: {'vwc': 0.17711711, 'actevap': 0.086827695}\n",
      "val loss: 0.21286530792713165, val metric: {'vwc': 0.23416804, 'actevap': 0.12020929}\n",
      "----------\n",
      "Epoch 72/89, current lr=0.000125\n",
      "train loss: 0.18032170832157135, train metric: {'vwc': 0.16722417, 'actevap': 0.08979137}\n",
      "val loss: 0.21024532616138458, val metric: {'vwc': 0.22410606, 'actevap': 0.121207796}\n",
      "----------\n",
      "Epoch 73/89, current lr=0.000125\n",
      "train loss: 0.1844545304775238, train metric: {'vwc': 0.16641259, 'actevap': 0.1034514}\n",
      "val loss: 0.20929835736751556, val metric: {'vwc': 0.21352002, 'actevap': 0.13070656}\n",
      "----------\n",
      "Epoch 74/89, current lr=0.000125\n",
      "train loss: 0.18297727406024933, train metric: {'vwc': 0.17763098, 'actevap': 0.089231305}\n",
      "val loss: 0.20666563510894775, val metric: {'vwc': 0.21817549, 'actevap': 0.11729005}\n",
      "----------\n",
      "Epoch 75/89, current lr=0.000125\n",
      "train loss: 0.17766304314136505, train metric: {'vwc': 0.17021812, 'actevap': 0.08555376}\n",
      "val loss: 0.20418104529380798, val metric: {'vwc': 0.21671523, 'actevap': 0.11767148}\n",
      "----------\n",
      "Epoch 76/89, current lr=0.000125\n",
      "train loss: 0.1793973445892334, train metric: {'vwc': 0.16173655, 'actevap': 0.090007894}\n",
      "val loss: 0.21075494587421417, val metric: {'vwc': 0.21924493, 'actevap': 0.123308}\n",
      "----------\n",
      "Epoch 77/89, current lr=0.000125\n",
      "train loss: 0.18390147387981415, train metric: {'vwc': 0.18014276, 'actevap': 0.09207174}\n",
      "val loss: 0.20801831781864166, val metric: {'vwc': 0.22682112, 'actevap': 0.11897189}\n",
      "----------\n",
      "Epoch 78/89, current lr=6.25e-05\n",
      "train loss: 0.18459227681159973, train metric: {'vwc': 0.1760206, 'actevap': 0.08951574}\n",
      "val loss: 0.21236418187618256, val metric: {'vwc': 0.22782582, 'actevap': 0.11977254}\n",
      "----------\n",
      "Epoch 79/89, current lr=6.25e-05\n",
      "train loss: 0.18690232932567596, train metric: {'vwc': 0.17036013, 'actevap': 0.09948796}\n",
      "val loss: 0.2172185778617859, val metric: {'vwc': 0.22547348, 'actevap': 0.13441022}\n",
      "----------\n",
      "Epoch 80/89, current lr=6.25e-05\n",
      "train loss: 0.1823422908782959, train metric: {'vwc': 0.1831822, 'actevap': 0.07771828}\n",
      "val loss: 0.2109420746564865, val metric: {'vwc': 0.23872873, 'actevap': 0.106127486}\n",
      "----------\n",
      "Epoch 81/89, current lr=6.25e-05\n",
      "train loss: 0.1760505586862564, train metric: {'vwc': 0.17157349, 'actevap': 0.07712888}\n",
      "val loss: 0.2068943828344345, val metric: {'vwc': 0.22934784, 'actevap': 0.11003962}\n",
      "----------\n",
      "Epoch 82/89, current lr=6.25e-05\n",
      "train loss: 0.1768156886100769, train metric: {'vwc': 0.15569046, 'actevap': 0.08710838}\n",
      "val loss: 0.20973408222198486, val metric: {'vwc': 0.21609572, 'actevap': 0.12186997}\n",
      "----------\n",
      "Epoch 83/89, current lr=6.25e-05\n",
      "train loss: 0.1783553659915924, train metric: {'vwc': 0.17471153, 'actevap': 0.08189835}\n",
      "val loss: 0.2094806432723999, val metric: {'vwc': 0.23561506, 'actevap': 0.11387435}\n",
      "----------\n",
      "Epoch 84/89, current lr=6.25e-05\n",
      "train loss: 0.172199547290802, train metric: {'vwc': 0.16080168, 'actevap': 0.07651327}\n",
      "val loss: 0.2038344293832779, val metric: {'vwc': 0.22079806, 'actevap': 0.10644095}\n",
      "----------\n",
      "Epoch 85/89, current lr=6.25e-05\n",
      "train loss: 0.17913302779197693, train metric: {'vwc': 0.15726607, 'actevap': 0.09281844}\n",
      "val loss: 0.21133628487586975, val metric: {'vwc': 0.21413349, 'actevap': 0.12715583}\n",
      "----------\n",
      "Epoch 86/89, current lr=6.25e-05\n",
      "train loss: 0.17420251667499542, train metric: {'vwc': 0.15300453, 'actevap': 0.08255191}\n",
      "val loss: 0.2076638638973236, val metric: {'vwc': 0.2142369, 'actevap': 0.11513952}\n",
      "----------\n",
      "Epoch 87/89, current lr=6.25e-05\n",
      "train loss: 0.17522509396076202, train metric: {'vwc': 0.16465342, 'actevap': 0.07808478}\n",
      "val loss: 0.20906583964824677, val metric: {'vwc': 0.22887401, 'actevap': 0.11033896}\n",
      "----------\n",
      "Epoch 88/89, current lr=6.25e-05\n",
      "Copied best model weights!\n",
      "train loss: 0.17379070818424225, train metric: {'vwc': 0.15452701, 'actevap': 0.085012875}\n",
      "val loss: 0.20282578468322754, val metric: {'vwc': 0.20754401, 'actevap': 0.112642474}\n",
      "----------\n",
      "Epoch 89/89, current lr=6.25e-05\n",
      "Copied best model weights!\n",
      "train loss: 0.17444339394569397, train metric: {'vwc': 0.17813465, 'actevap': 0.06972475}\n",
      "val loss: 0.20171846449375153, val metric: {'vwc': 0.22998656, 'actevap': 0.094728425}\n",
      "----------\n"
     ]
    }
   ],
   "source": [
    "model, sm_loss_history, sm_metric_history = train_val(model, params_train)"
   ]
  },
  {
   "cell_type": "code",
   "execution_count": 17,
   "id": "9185ef42-f8b0-4841-ad50-6bdbb25b27ac",
   "metadata": {
    "tags": []
   },
   "outputs": [
    {
     "data": {
      "image/png": "[encoded data removed]",
      "text/plain": [
       "<Figure size 1200x600 with 3 Axes>"
      ]
     },
     "metadata": {},
     "output_type": "display_data"
    }
   ],
   "source": [
    "lepochs = list(range(1,params_train[\"num_epochs\"] + 1))\n",
    "\n",
    "fig, axs = plt.subplots(3, 1, figsize= (12,6), sharex=True)\n",
    "\n",
    "axs[0].plot(lepochs, sm_metric_history['train_vwc'], marker='.', linestyle='-', color='b', label='Training')\n",
    "axs[0].plot(lepochs, sm_metric_history['val_vwc'], marker='.', linestyle='-', color='r', label='Validation')\n",
    "#axs[0].title('Validation Loss - SM')\n",
    "axs[0].set_ylabel(metric_fn.__name__)\n",
    "axs[0].grid(True)\n",
    "axs[0].legend(bbox_to_anchor=(1,1))\n",
    "\n",
    "axs[1].plot(lepochs, sm_metric_history['train_actevap'], marker='.', linestyle='-', color='b', label='Training')\n",
    "axs[1].plot(lepochs, sm_metric_history['val_actevap'], marker='.', linestyle='-', color='r', label='Validation')\n",
    "#axs[0].title('Validation Loss - SM')\n",
    "axs[1].set_ylabel(metric_fn.__name__)\n",
    "axs[1].grid(True)\n",
    "\n",
    "axs[2].plot(lepochs, [i.detach().cpu().numpy() for i in sm_loss_history['train']], marker='.', linestyle='-', color='b', label='Training')\n",
    "axs[2].plot(lepochs, [i.detach().cpu().numpy() for i in sm_loss_history['val']], marker='.', linestyle='-', color='r', label='Validation')\n",
    "#axs[0].title('Validation Loss - SM')\n",
    "axs[2].set_xlabel('Epochs')\n",
    "axs[2].set_ylabel(loss_fn.__name__)\n",
    "axs[2].grid(True)"
   ]
  },
  {
   "cell_type": "code",
   "execution_count": 19,
   "id": "3d71c778-9b42-4cda-98c7-5dd075bb3b02",
   "metadata": {
    "tags": []
   },
   "outputs": [],
   "source": [
    "# save model\n",
    "fp = dp_surrogate_model / f\"{wflow_model}_{surrogate_experiment_name}.pt\"\n",
    "\n",
    "torch.save(model.state_dict(), fp)"
   ]
  },
  {
   "cell_type": "code",
   "execution_count": null,
   "id": "bbb1fa04-ab35-4c5c-aeb9-53be71b4be1d",
   "metadata": {},
   "outputs": [],
   "source": []
  }
 ],
 "metadata": {
  "kernelspec": {
   "display_name": "emulator",
   "language": "python",
   "name": "emulator"
  },
  "language_info": {
   "codemirror_mode": {
    "name": "ipython",
    "version": 3
   },
   "file_extension": ".py",
   "mimetype": "text/x-python",
   "name": "python",
   "nbconvert_exporter": "python",
   "pygments_lexer": "ipython3",
   "version": "3.11.6"
  }
 },
 "nbformat": 4,
 "nbformat_minor": 5
}
