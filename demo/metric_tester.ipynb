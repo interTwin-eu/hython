{
 "cells": [
  {
   "cell_type": "code",
   "execution_count": 1,
   "id": "aaa3b293-b667-4bfa-897f-8add5d34d7ef",
   "metadata": {},
   "outputs": [],
   "source": [
    "import xarray as xr\n",
    "import numpy as np \n",
    "import pandas as pd\n",
    "from hython.metrics import compute_fdc_fms, compute_fdc_fhv, compute_fdc_flv, compute_hr, compute_far, compute_csi\n",
    "\n",
    "from hython.utils import write_to_zarr, read_from_zarr, set_seed\n",
    "\n"
   ]
  },
  {
   "cell_type": "markdown",
   "id": "c150ae69-ca7c-48a4-8682-f143f6bb82aa",
   "metadata": {},
   "source": [
    "#### Read Data and some pre-processing"
   ]
  },
  {
   "cell_type": "code",
   "execution_count": 2,
   "id": "03a0ef4d-86fd-4749-ac9b-be59dcf5cea9",
   "metadata": {},
   "outputs": [
    {
     "data": {
      "text/html": [
       "<div>\n",
       "<style scoped>\n",
       "    .dataframe tbody tr th:only-of-type {\n",
       "        vertical-align: middle;\n",
       "    }\n",
       "\n",
       "    .dataframe tbody tr th {\n",
       "        vertical-align: top;\n",
       "    }\n",
       "\n",
       "    .dataframe thead th {\n",
       "        text-align: right;\n",
       "    }\n",
       "</style>\n",
       "<table border=\"1\" class=\"dataframe\">\n",
       "  <thead>\n",
       "    <tr style=\"text-align: right;\">\n",
       "      <th></th>\n",
       "      <th>discharge_m3_s</th>\n",
       "      <th>time</th>\n",
       "    </tr>\n",
       "  </thead>\n",
       "  <tbody>\n",
       "    <tr>\n",
       "      <th>0</th>\n",
       "      <td>72.01</td>\n",
       "      <td>2012-01-01</td>\n",
       "    </tr>\n",
       "    <tr>\n",
       "      <th>1</th>\n",
       "      <td>74.25</td>\n",
       "      <td>2012-01-02</td>\n",
       "    </tr>\n",
       "    <tr>\n",
       "      <th>2</th>\n",
       "      <td>71.90</td>\n",
       "      <td>2012-01-03</td>\n",
       "    </tr>\n",
       "    <tr>\n",
       "      <th>3</th>\n",
       "      <td>72.97</td>\n",
       "      <td>2012-01-04</td>\n",
       "    </tr>\n",
       "    <tr>\n",
       "      <th>4</th>\n",
       "      <td>72.80</td>\n",
       "      <td>2012-01-05</td>\n",
       "    </tr>\n",
       "    <tr>\n",
       "      <th>...</th>\n",
       "      <td>...</td>\n",
       "      <td>...</td>\n",
       "    </tr>\n",
       "    <tr>\n",
       "      <th>4013</th>\n",
       "      <td>72.19</td>\n",
       "      <td>2022-12-27</td>\n",
       "    </tr>\n",
       "    <tr>\n",
       "      <th>4014</th>\n",
       "      <td>72.45</td>\n",
       "      <td>2022-12-28</td>\n",
       "    </tr>\n",
       "    <tr>\n",
       "      <th>4015</th>\n",
       "      <td>73.40</td>\n",
       "      <td>2022-12-29</td>\n",
       "    </tr>\n",
       "    <tr>\n",
       "      <th>4016</th>\n",
       "      <td>73.88</td>\n",
       "      <td>2022-12-30</td>\n",
       "    </tr>\n",
       "    <tr>\n",
       "      <th>4017</th>\n",
       "      <td>73.24</td>\n",
       "      <td>2022-12-31</td>\n",
       "    </tr>\n",
       "  </tbody>\n",
       "</table>\n",
       "<p>4018 rows × 2 columns</p>\n",
       "</div>"
      ],
      "text/plain": [
       "      discharge_m3_s       time\n",
       "0              72.01 2012-01-01\n",
       "1              74.25 2012-01-02\n",
       "2              71.90 2012-01-03\n",
       "3              72.97 2012-01-04\n",
       "4              72.80 2012-01-05\n",
       "...              ...        ...\n",
       "4013           72.19 2022-12-27\n",
       "4014           72.45 2022-12-28\n",
       "4015           73.40 2022-12-29\n",
       "4016           73.88 2022-12-30\n",
       "4017           73.24 2022-12-31\n",
       "\n",
       "[4018 rows x 2 columns]"
      ]
     },
     "execution_count": 2,
     "metadata": {},
     "output_type": "execute_result"
    }
   ],
   "source": [
    "SURROGATE_INPUT = \"https://eurac-eo.s3.amazonaws.com/INTERTWIN/SURROGATE_INPUT/adg1km_eobs_original.zarr/\"\n",
    "train_temporal_range = slice(\"2012-01-01\",\"2022-12-31\")\n",
    "\n",
    "target_names = [\"q_river\", \"vwc\"]\n",
    "\n",
    "Y = (\n",
    "    read_from_zarr(url=SURROGATE_INPUT , group=\"y\")\n",
    "    .sel(time=train_temporal_range)[target_names]\n",
    ")\n",
    "\n",
    "simulated_data = Y.q_river.sel(lat=45.4, lon=11, method=\"nearest\")\n",
    "simulated = simulated_data.to_dataframe().reset_index()\n",
    "simulated = simulated.drop(columns=['lat', 'lon', 'layer'])\n",
    "simulated['time'] = pd.to_datetime(simulated['time'])\n",
    "simulated\n",
    "\n",
    "start_date = '2012-01-01'\n",
    "end_date = '2022-12-31'\n",
    "data = pd.read_csv(\"/mnt/CEPH_PROJECTS/InterTwin/hydrologic_data/ADO/ADO_discharge.csv\", parse_dates=['date'])\n",
    "data = data.loc[data['id_station'] == \"ADO_DSC_ITH3_0002\"]\n",
    "data['time'] = pd.to_datetime(data['date'])\n",
    "data = data.drop(columns=['date', 'quality', 'id_station'])\n",
    "observed = data[(data['time'] >= start_date) & (data['time'] <= end_date)].reset_index(drop=True)\n",
    "observed"
   ]
  },
  {
   "cell_type": "markdown",
   "id": "c14f1008-3dec-4f0e-b25f-c566e1bad027",
   "metadata": {},
   "source": [
    "#### Check FDC biases"
   ]
  },
  {
   "cell_type": "code",
   "execution_count": 6,
   "id": "561b5902-8d07-4755-87a6-bfc5a8a0a866",
   "metadata": {},
   "outputs": [
    {
     "name": "stdout",
     "output_type": "stream",
     "text": [
      "BiasFMS : 11.29575404991648\n",
      "BiasFHV : 101.067346123209\n",
      "BiasFLV : -198.83580291790952\n"
     ]
    }
   ],
   "source": [
    "biasFMS = compute_fdc_fms(observed, \"discharge_m3_s\", simulated, \"q_river\")\n",
    "biasFHV = compute_fdc_fhv(observed, \"discharge_m3_s\", simulated, \"q_river\")\n",
    "biasFLV = compute_fdc_flv(observed, \"discharge_m3_s\", simulated, \"q_river\")"
   ]
  },
  {
   "cell_type": "markdown",
   "id": "2cf6a64b-0206-40cc-9037-22b839bbc971",
   "metadata": {},
   "source": [
    "#### Now for the soil moisture metrics"
   ]
  },
  {
   "cell_type": "code",
   "execution_count": 13,
   "id": "425eccf3-345e-4fdb-afe6-c856387347ac",
   "metadata": {},
   "outputs": [],
   "source": [
    "import xarray as xr\n",
    "import numpy as np\n",
    "\n",
    "def create_random_dataset(original_ds: xr.Dataset) -> xr.Dataset:\n",
    "    \"\"\"\n",
    "    Create a random xarray.Dataset based on the structure of an existing xarray.Dataset.\n",
    "    \n",
    "    Parameters:\n",
    "    original_ds (xr.Dataset): The original dataset to copy structure from.\n",
    "    \n",
    "    Returns:\n",
    "    xr.Dataset: A new dataset with the same dimensions and coordinates but with random data.\n",
    "    \"\"\"\n",
    "    random_data_vars = {}\n",
    "    \n",
    "    # Loop through each variable in the original dataset\n",
    "    for var_name, var_data in original_ds.data_vars.items():\n",
    "        # Generate random data of the same shape as the original variable\n",
    "        random_data = np.random.random(var_data.shape)\n",
    "        \n",
    "        # Create a new DataArray with the same coordinates and assign the random data\n",
    "        random_data_vars[var_name] = xr.DataArray(\n",
    "            data=random_data,\n",
    "            dims=var_data.dims,\n",
    "            coords=var_data.coords\n",
    "        )\n",
    "    \n",
    "    # Create a new dataset with the same coordinates and dimensions\n",
    "    random_ds = xr.Dataset(data_vars=random_data_vars, coords=original_ds.coords)\n",
    "    \n",
    "    return random_ds\n",
    "\n",
    "\n",
    "randomised_data_array = create_random_dataset(Y).vwc\n",
    "Y_data_array = Y.vwc"
   ]
  },
  {
   "cell_type": "code",
   "execution_count": 14,
   "id": "ae2e250c-c7a7-4105-baa8-c8d16466ab00",
   "metadata": {},
   "outputs": [
    {
     "name": "stderr",
     "output_type": "stream",
     "text": [
      "/home/sdhinakaran/micromamba/envs/hython/lib/python3.12/site-packages/numpy/lib/_nanfunctions_impl.py:1650: RuntimeWarning: All-NaN slice encountered\n",
      "  return fnb._ureduce(a,\n"
     ]
    },
    {
     "name": "stdout",
     "output_type": "stream",
     "text": [
      "{'wet_threshold_0.8_hit_rate': 20.00161241595442, 'dry_threshold_0.2_hit_rate': 20.00515342555146}\n"
     ]
    },
    {
     "name": "stderr",
     "output_type": "stream",
     "text": [
      "/home/sdhinakaran/micromamba/envs/hython/lib/python3.12/site-packages/numpy/lib/_nanfunctions_impl.py:1650: RuntimeWarning: All-NaN slice encountered\n",
      "  return fnb._ureduce(a,\n"
     ]
    },
    {
     "name": "stdout",
     "output_type": "stream",
     "text": [
      "{'wet_threshold_0.8_far': 92.24332374004418, 'dry_threshold_0.2_far': 92.27527968032285}\n"
     ]
    },
    {
     "name": "stderr",
     "output_type": "stream",
     "text": [
      "/home/sdhinakaran/micromamba/envs/hython/lib/python3.12/site-packages/numpy/lib/_nanfunctions_impl.py:1650: RuntimeWarning: All-NaN slice encountered\n",
      "  return fnb._ureduce(a,\n"
     ]
    },
    {
     "name": "stdout",
     "output_type": "stream",
     "text": [
      "{'wet_threshold_0.8_csi': 5.920061370714957, 'dry_threshold_0.2_csi': 5.901736856063945}\n"
     ]
    }
   ],
   "source": [
    "hit_rate = compute_hr(Y_data_array, randomised_data_array)\n",
    "far = compute_far(Y_data_array, randomised_data_array)\n",
    "csi = compute_csi(Y_data_array, randomised_data_array)"
   ]
  },
  {
   "cell_type": "code",
   "execution_count": null,
   "id": "cef25103-af7b-40dd-a287-3a4cb4c04ca9",
   "metadata": {},
   "outputs": [],
   "source": []
  }
 ],
 "metadata": {
  "kernelspec": {
   "display_name": "hython",
   "language": "python",
   "name": "hython"
  },
  "language_info": {
   "codemirror_mode": {
    "name": "ipython",
    "version": 3
   },
   "file_extension": ".py",
   "mimetype": "text/x-python",
   "name": "python",
   "nbconvert_exporter": "python",
   "pygments_lexer": "ipython3",
   "version": "3.12.6"
  }
 },
 "nbformat": 4,
 "nbformat_minor": 5
}
