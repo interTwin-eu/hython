{
 "cells": [
  {
   "cell_type": "markdown",
   "id": "913afcd2-a55e-4804-adf4-699a3f3a660a",
   "metadata": {
    "tags": []
   },
   "source": [
    "# Preprocessing"
   ]
  },
  {
   "cell_type": "markdown",
   "id": "ec467c1e-c48f-4879-8307-283737d9560a",
   "metadata": {
    "tags": []
   },
   "source": [
    "The preprocessing step is required to \"reshape\" the raw output of Wflow_sbm into a configuration that can be readily used  by the LSTM model for training and inference. \n",
    "\n",
    "$ WFLOW\\_SBM: (lat, lon, time, feature) \\rightarrow LSTM: (gridcell, time, feature)$\n",
    "\n",
    "Depending on the number of features, the time range, time step and spatial resolution, the Wflow_sbm output may well reach several tens of GB, therefore the preprocessing step converts the original data format to .zarr."
   ]
  },
  {
   "cell_type": "code",
   "execution_count": 42,
   "id": "28047b41-d328-4911-b525-366a787cb584",
   "metadata": {
    "tags": []
   },
   "outputs": [],
   "source": [
    "import numpy as np\n",
    "import xarray as xr\n",
    "from pathlib import Path\n",
    "\n",
    "from hython.preprocessor import reshape\n",
    "from hython.utils import write_to_zarr, build_mask_dataarray\n",
    "\n",
    "from numcodecs import Blosc\n"
   ]
  },
  {
   "cell_type": "markdown",
   "id": "6a8f2766-876a-4eff-8c3b-0c9095a8d7cd",
   "metadata": {
    "tags": []
   },
   "source": [
    "# Settings"
   ]
  },
  {
   "cell_type": "code",
   "execution_count": 56,
   "id": "55665221-934a-4408-8614-13ac4b9afd66",
   "metadata": {
    "tags": []
   },
   "outputs": [],
   "source": [
    "wflow_model = \"adg1km_eobs\" \n",
    "\n",
    "\n",
    "# masking\n",
    "mask_from_static = [\"wflow_lakeareas\"]\n",
    "rename_mask = [\"mask_lake\"]\n",
    "\n",
    "# inputs \n",
    "dir_input =  \"/mnt/CEPH_PROJECTS/InterTwin/Wflow/models\"\n",
    "\n",
    "file_dynamic =  \"forcings.nc\" \n",
    "file_static = \"staticmaps.nc\"\n",
    "file_target = \"output.nc\"\n",
    "\n",
    "# outputs\n",
    "file_preprocessed_output = \"adg1km_eobs\"\n",
    "dir_output = \"/mnt/CEPH_PROJECTS/InterTwin/hydrologic_data/surrogate_training\"\n",
    "\n",
    "#  temporal range\n",
    "temporal_range = [\"2016-01-01\",\"2018-12-31\"]\n",
    "\n",
    "# select variable names\n",
    "dynamic_names: [\"precip\", \"pet\", \"temp\"]\n",
    "static_names: [ 'thetaS', 'thetaR', 'RootingDepth', 'Swood','KsatVer', \"Sl\"]\n",
    "target_names: [ \"vwc\",\"actevap\"]\n",
    "\n",
    "# select soil layer\n",
    "soil_layers = [1]"
   ]
  },
  {
   "cell_type": "code",
   "execution_count": 57,
   "id": "d9e46c79-af81-41ab-9235-e10401909c14",
   "metadata": {
    "tags": []
   },
   "outputs": [],
   "source": [
    "# read data \n",
    "dynamics = xr.open_dataset(f\"{dir_input}/{wflow_model}/{file_dynamic}\")\n",
    "statics = xr.open_dataset(f\"{dir_input}/{wflow_model}/{file_static}\")\n",
    "targets = xr.open_dataset(f\"{dir_input}/{wflow_model}/run_default/{file_target}\")"
   ]
  },
  {
   "cell_type": "code",
   "execution_count": 58,
   "id": "c1a41a97-37a6-43ac-8163-ea0f247b563d",
   "metadata": {
    "tags": []
   },
   "outputs": [],
   "source": [
    "try:\n",
    "    dynamics = dynamics.rename({\"latitude\":\"lat\", \"longitude\":\"lon\"})\n",
    "    statics = statics.rename({\"latitude\":\"lat\", \"longitude\":\"lon\"})\n",
    "except:\n",
    "    pass\n",
    "\n",
    "targets = targets.isel(lat=slice(None, None, -1))\n",
    "\n",
    "temporal_range = slice(*temporal_range)"
   ]
  },
  {
   "cell_type": "code",
   "execution_count": 59,
   "id": "6ba558f1-7c97-43cc-a032-15badc130bb9",
   "metadata": {
    "tags": []
   },
   "outputs": [],
   "source": [
    "# MASKING & FILTERING\n",
    "\n",
    "# filter soil layers \n",
    "if len(soil_layers) > 0:\n",
    "    if len(soil_layers) == 1:\n",
    "        statics = statics.sel(layer=soil_layers).squeeze(\"layer\")\n",
    "        targets = targets.sel(layer=soil_layers).squeeze(\"layer\")\n",
    "    else:\n",
    "        raise NotImplementedError(\"Preprocessing multiple soil layers not yet implemented\")\n",
    "    \n",
    "# masking, TODO: works only for lake layer. Improve the logic.\n",
    "mask_missing = np.isnan(statics[static_names[0]]).rename(\"mask_missing\")\n",
    "\n",
    "masks = []\n",
    "masks.append(mask_missing)\n",
    "\n",
    "for i, mask in enumerate(mask_from_static):\n",
    "    masks.append((statics[mask] > 0).astype(np.bool_).rename(rename_mask[i]))\n",
    "\n",
    "masks = build_mask_dataarray(masks, names = [\"mask_missing\"]+ rename_mask)\n",
    "\n",
    "# select variables\n",
    "statics = statics[static_names]\n",
    "dynamics = dynamics[dynamic_names]\n",
    "targets = targets[target_names]"
   ]
  },
  {
   "cell_type": "code",
   "execution_count": 60,
   "id": "f26f7403-5cbe-47ac-8190-f3ab8a584076",
   "metadata": {
    "tags": []
   },
   "outputs": [
    {
     "name": "stdout",
     "output_type": "stream",
     "text": [
      "dynamic:  (40140, 2192, 3)  => (GRIDCELL, TIME, FEATURE)\n",
      "static:  (40140, 6)  => (GRIDCELL, FEATURE)\n",
      "target:  (40140, 2191, 2)  => (GRIDCELL, TIME, TARGET)\n"
     ]
    }
   ],
   "source": [
    "# RESHAPING\n",
    "\n",
    "Xd, Xs, Y  = reshape(\n",
    "                dynamics, \n",
    "                statics, \n",
    "                targets,\n",
    "                return_type=\"xarray\"\n",
    "                )"
   ]
  },
  {
   "cell_type": "code",
   "execution_count": 62,
   "id": "9a2dc01e-b29b-4237-ab05-2a6259722b69",
   "metadata": {
    "tags": []
   },
   "outputs": [],
   "source": [
    "# attrs to pass to output\n",
    "ATTRS = {\n",
    "        \"shape_label\":mask_missing.dims,\n",
    "        \"shape\":mask_missing.shape\n",
    "        }\n",
    "\n",
    "# remove as it cause serialization issues\n",
    "Xd.attrs.pop(\"_FillValue\", None)"
   ]
  },
  {
   "cell_type": "code",
   "execution_count": 63,
   "id": "dc2ff7ef-2c38-427d-b5dc-689a3713bee1",
   "metadata": {
    "scrolled": true,
    "tags": []
   },
   "outputs": [
    {
     "name": "stdout",
     "output_type": "stream",
     "text": [
      "{}\n",
      "{'standard_name': 'thickness_of_rainfall_amount', 'long_name': 'rainfall', 'units': 'mm', 'cell_methods': 'time: mean', 'unit': 'mm', 'precip_fn': 'eobs', 'shape_label': ('lat', 'lon'), 'shape': (180, 223)}\n",
      "{}\n",
      "{'shape_label': ('lat', 'lon'), 'shape': (180, 223)}\n"
     ]
    }
   ],
   "source": [
    "# WRITE \n",
    "\n",
    "compressor = Blosc(cname='zl4', clevel=4, shuffle=Blosc.BITSHUFFLE)\n",
    "\n",
    "file_output = f\"{dir_output}/{file_preprocessed_output}.zarr\"\n",
    "write_to_zarr(Xd ,\n",
    "            url= file_output, \n",
    "            group=\"xd\", \n",
    "            storage_options={\"compressor\":compressor}, \n",
    "            chunks=\"auto\", \n",
    "            append_on_time=True, \n",
    "            multi_index=\"gridcell\", \n",
    "            append_attrs = ATTRS, \n",
    "            overwrite=True)\n",
    "\n",
    "write_to_zarr(Y ,url= file_output,  group=\"y\", storage_options={\"compressor\":compressor}, chunks=\"auto\", append_on_time=True, multi_index=\"gridcell\",append_attrs = ATTRS)\n",
    "\n",
    "write_to_zarr(Xs ,url= file_output, group=\"xs\", storage_options={\"compressor\":compressor}, chunks=\"auto\", multi_index=\"gridcell\",append_attrs = ATTRS)\n",
    "\n",
    "write_to_zarr(masks,url= file_output, group=\"mask\", storage_options={\"compressor\":compressor}, overwrite=True)"
   ]
  }
 ],
 "metadata": {
  "kernelspec": {
   "display_name": "emulator",
   "language": "python",
   "name": "emulator"
  },
  "language_info": {
   "codemirror_mode": {
    "name": "ipython",
    "version": 3
   },
   "file_extension": ".py",
   "mimetype": "text/x-python",
   "name": "python",
   "nbconvert_exporter": "python",
   "pygments_lexer": "ipython3",
   "version": "3.11.6"
  }
 },
 "nbformat": 4,
 "nbformat_minor": 5
}
