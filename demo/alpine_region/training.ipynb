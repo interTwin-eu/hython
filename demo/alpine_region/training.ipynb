{
 "cells": [
  {
   "cell_type": "markdown",
   "id": "913afcd2-a55e-4804-adf4-699a3f3a660a",
   "metadata": {
    "tags": []
   },
   "source": [
    "# Train"
   ]
  },
  {
   "cell_type": "code",
<<<<<<< HEAD
   "execution_count": 71,
=======
   "execution_count": 1,
>>>>>>> convlstm
   "id": "ed6a0ce1-163e-40ac-9e7e-e6d5f364bd84",
   "metadata": {
    "tags": []
   },
   "outputs": [
    {
     "name": "stdout",
     "output_type": "stream",
     "text": [
      "The autoreload extension is already loaded. To reload it, use:\n",
      "  %reload_ext autoreload\n"
     ]
    }
   ],
   "source": [
    "%load_ext autoreload\n",
    "%autoreload "
   ]
  },
  {
   "cell_type": "code",
<<<<<<< HEAD
   "execution_count": 72,
=======
   "execution_count": 2,
>>>>>>> convlstm
   "id": "905ded3e-309a-4267-9a07-937d72429971",
   "metadata": {
    "tags": []
   },
   "outputs": [
    {
     "name": "stderr",
     "output_type": "stream",
     "text": [
      "/home/iferrario/.local/miniforge/envs/emulator/lib/python3.11/site-packages/tqdm/auto.py:21: TqdmWarning: IProgress not found. Please update jupyter and ipywidgets. See https://ipywidgets.readthedocs.io/en/stable/user_install.html\n",
      "  from .autonotebook import tqdm as notebook_tqdm\n"
     ]
    }
   ],
   "source": [
    "import torch\n",
    "import numpy as np\n",
    "import xarray as xr\n",
    "from pathlib import Path\n",
    "import os\n",
    "import random\n",
    "\n",
    "import dask\n",
    "from torch import nn\n",
    "\n",
    "from hython.datasets.datasets import LSTMDataset, get_dataset\n",
    "from hython.trainer import train_val\n",
    "from hython.sampler import SamplerBuilder\n",
    "from hython.metrics import MSEMetric\n",
    "from hython.losses import RMSELoss\n",
    "from hython.utils import read_from_zarr, set_seed\n",
    "from hython.models.cudnnLSTM import CuDNNLSTM\n",
    "from hython.trainer import RNNTrainer, RNNTrainParams\n",
    "from hython.normalizer import Normalizer\n",
    "\n",
    "\n",
    "import torch.optim as optim\n",
    "from torch.optim.lr_scheduler import ReduceLROnPlateau\n",
    "from torch.utils.data import DataLoader, Dataset\n",
    "\n",
    "# viz\n",
    "import matplotlib.pyplot as plt\n",
    "from hython.viz import plot_sampler"
   ]
  },
  {
   "cell_type": "markdown",
   "id": "22a78cf5-bd72-4a3d-bd18-ce49d0e8fdee",
   "metadata": {
    "tags": []
   },
   "source": [
    "# Settings"
   ]
  },
  {
   "cell_type": "code",
<<<<<<< HEAD
   "execution_count": 73,
=======
   "execution_count": 3,
>>>>>>> convlstm
   "id": "f3186025-caa2-429f-88da-8c9c6b23c292",
   "metadata": {
    "tags": []
   },
   "outputs": [],
   "source": [
    "surr_input =  \"adg1km_eobs.zarr\"\n",
    "dir_surr_input = \"/mnt/CEPH_PROJECTS/InterTwin/hydrologic_data/surrogate_input\"\n",
    "\n",
    "surr_model_output = \"adg_demo.pt\"\n",
    "experiment = \"exp1\" # experiment name\n",
    "\n",
    "dir_surr_output = \"/mnt/CEPH_PROJECTS/InterTwin/hydrologic_data/surrogate_model\"\n",
    "dir_stats_output =  \"/mnt/CEPH_PROJECTS/InterTwin/hydrologic_data/surrogate_stats\"\n",
    "\n",
    "\n",
    "# === FILTER ==============================================================\n",
    "\n",
    "# train/test temporal range\n",
    "train_temporal_range = slice(\"2016-01-01\",\"2018-12-31\")\n",
    "test_temporal_range = slice(\"2019-01-01\", \"2020-12-31\")\n",
    "\n",
    "dynamic_names = [\"precip\", \"pet\", \"temp\"] \n",
    "static_names = [ 'thetaS', 'thetaR', 'RootingDepth', 'Swood','KsatVer', \"Sl\"] \n",
    "target_names = [ \"vwc\",\"actevap\"]\n",
    "\n",
    " \n",
    "\n",
    "# === MASK ========================================================================================\n",
    "\n",
    "mask_names = [\"mask_missing\", \"mask_lake\"] # names depends on preprocessing application\n",
    "\n",
    "# === DATASET ========================================================================================\n",
    "\n",
    "dataset = \"LSTMDataset\"\n",
    "\n",
    "# == MODEL  ========================================================================================\n",
    "\n",
    "# DL model hyper parameters\n",
    "HIDDEN_SIZE = 24\n",
    "DYNAMIC_INPUT_SIZE = len(dynamic_names)\n",
    "STATIC_INPUT_SIZE = len(static_names)\n",
    "OUTPUT_SIZE = len(target_names)\n",
    "TARGET_WEIGHTS = {t:0.5 for t in target_names}\n",
    "\n",
    "# === SAMPLER/TRAINER ===================================================================================\n",
    "\n",
    "SEED = 1696\n",
    "EPOCHS = 20\n",
    "BATCH = 256\n",
    "TEMPORAL_SUBSAMPLING = True\n",
    "TEMPORAL_SUBSET = [150, 150] \n",
    "SEQ_LENGTH = 60\n",
    "\n",
    "assert sum(v for v in TARGET_WEIGHTS.values()) == 1, \"check target weights\"\n",
    "TARGET_INITIALS = \"\".join([i[0].capitalize() for i in target_names])\n",
    "\n",
    "# paths\n",
    "file_surr_input = f\"{dir_surr_input}/{surr_input}\""
   ]
  },
  {
   "cell_type": "code",
<<<<<<< HEAD
   "execution_count": 74,
=======
   "execution_count": 4,
>>>>>>> convlstm
   "id": "7c67bf4f-55e3-46fc-927b-72711d831f0f",
   "metadata": {
    "tags": []
   },
   "outputs": [],
   "source": [
    "set_seed(SEED)\n",
    "device = torch.device(\"cuda:0\" if torch.cuda.is_available() else \"cpu\")"
   ]
  },
  {
   "cell_type": "code",
<<<<<<< HEAD
   "execution_count": 75,
=======
   "execution_count": 5,
>>>>>>> convlstm
   "id": "9e6e528c-6196-423e-8c21-bc914cfd3dec",
   "metadata": {
    "tags": []
   },
   "outputs": [],
   "source": [
    "Xd = (\n",
    "    read_from_zarr(url=file_surr_input, group=\"xd\", multi_index=\"gridcell\")\n",
    "    .sel(time=train_temporal_range)\n",
    "    .xd.sel(feat=dynamic_names)\n",
    ")\n",
    "Xs = read_from_zarr(url=file_surr_input, group=\"xs\", multi_index=\"gridcell\").xs.sel(\n",
    "    feat=static_names\n",
    ")\n",
    "Y = (\n",
    "    read_from_zarr(url=file_surr_input, group=\"y\", multi_index=\"gridcell\")\n",
    "    .sel(time=train_temporal_range)\n",
    "    .y.sel(feat=target_names)\n",
    ")\n",
    "\n",
    "SHAPE = Xd.attrs[\"shape\"]\n",
    "# TIME_RANGE = Xd.shape[1]\n",
    "# print(TIME_RANGE)\n",
    "\n",
    "# === READ TEST ===================================================================\n",
    "\n",
    "Y_test = (\n",
    "    read_from_zarr(url=file_surr_input, group=\"y\", multi_index=\"gridcell\")\n",
    "    .sel(time=test_temporal_range)\n",
    "    .y.sel(feat=target_names)\n",
    ")\n",
    "Xd_test = (\n",
    "    read_from_zarr(url=file_surr_input, group=\"xd\", multi_index=\"gridcell\")\n",
    "    .sel(time=test_temporal_range)\n",
    "    .xd.sel(feat=dynamic_names)\n",
    ")"
   ]
  },
  {
   "cell_type": "code",
<<<<<<< HEAD
   "execution_count": 76,
=======
   "execution_count": 6,
>>>>>>> convlstm
   "id": "e7fa8da5-3e7c-43e3-87fd-ae6de26c1e13",
   "metadata": {
    "tags": []
   },
   "outputs": [
    {
     "data": {
      "text/plain": [
       "(40140, 731, 2)"
      ]
     },
<<<<<<< HEAD
     "execution_count": 76,
=======
     "execution_count": 6,
>>>>>>> convlstm
     "metadata": {},
     "output_type": "execute_result"
    }
   ],
   "source": [
    "Y_test.shape"
   ]
  },
  {
   "cell_type": "code",
<<<<<<< HEAD
   "execution_count": 77,
=======
   "execution_count": 7,
>>>>>>> convlstm
   "id": "c6ed190a-3743-45d0-a941-3975b13910ce",
   "metadata": {
    "tags": []
   },
   "outputs": [],
   "source": [
    "masks = (\n",
    "    read_from_zarr(url=file_surr_input, group=\"mask\")\n",
    "    .mask.sel(mask_layer=mask_names)\n",
    "    .any(dim=\"mask_layer\")\n",
    ")"
   ]
  },
  {
   "cell_type": "code",
<<<<<<< HEAD
   "execution_count": 78,
   "id": "4edc1ebd-220b-46eb-b88b-b451d34ed330",
=======
   "execution_count": 8,
   "id": "c74d5cc6-55b8-44de-9396-70e32d5f712d",
>>>>>>> convlstm
   "metadata": {
    "tags": []
   },
   "outputs": [
    {
     "name": "stdout",
     "output_type": "stream",
     "text": [
      "compute stats\n",
      "compute stats\n",
      "compute stats\n"
     ]
    }
   ],
   "source": [
    "train_sampler_builder = SamplerBuilder(sampling_method= \"downsampling_regular\", \n",
    "                                       sampling_method_kwargs = {\"intervals\": [4,4], \"origin\": [0, 0]},\n",
    "                                       minibatch_sampling=\"random\", \n",
    "                                       processing=\"single-gpu\")\n",
    "\n",
    "test_sampler_builder = SamplerBuilder(sampling_method= \"downsampling_regular\", \n",
    "                                      sampling_method_kwargs = {\"intervals\": [4,4], \"origin\": [2, 2]}, \n",
    "                                      minibatch_sampling=\"sequential\", \n",
    "                                      processing=\"single-gpu\")"
   ]
  },
  {
   "cell_type": "code",
   "execution_count": 79,
   "id": "7b8b1023-e04f-4ccd-b5ac-ef680bb7a141",
   "metadata": {
    "tags": []
   },
   "outputs": [
    {
     "name": "stdout",
     "output_type": "stream",
     "text": [
      "[    0     1     2 ... 40137 40138 40139]\n",
      "found missing\n",
      "[    0     1     2 ... 40137 40138 40139]\n",
      "found missing\n"
     ]
    }
   ],
   "source": [
    "train_sampler_builder.initialize(\n",
    "    shape=SHAPE, mask_missing=masks.values, \n",
    ")\n",
    "test_sampler_builder.initialize(\n",
    "    shape=SHAPE, mask_missing=masks.values, \n",
    ")\n",
    "\n",
    "train_sampler = train_sampler_builder.get_sampler()\n",
    "test_sampler = test_sampler_builder.get_sampler()"
   ]
  },
  {
   "cell_type": "code",
   "execution_count": 80,
   "id": "63e18fb2-5f2d-49a6-b45d-ebc1c5ec0b01",
   "metadata": {
    "tags": []
   },
   "outputs": [
    {
     "name": "stdout",
     "output_type": "stream",
     "text": [
      "compute stats\n",
      "compute stats\n",
      "compute stats\n",
      "save stats\n",
      "save stats\n",
      "save stats\n"
     ]
    }
   ],
   "source": [
    "normalizer_dynamic = Normalizer(method=\"standardize\", type=\"spacetime\")\n",
    "\n",
    "normalizer_static = Normalizer(method=\"standardize\", type=\"space\")\n",
    "\n",
    "normalizer_target = Normalizer(method=\"standardize\", type=\"spacetime\")\n",
    "\n",
    "normalizer_dynamic.compute_stats(Xd[train_sampler_builder.indices])\n",
    "normalizer_static.compute_stats(Xs[train_sampler_builder.indices])\n",
    "normalizer_target.compute_stats(Y[train_sampler_builder.indices])\n",
    "\n",
    "Xd = normalizer_dynamic.normalize(Xd, write_to = f\"{dir_stats_output}/{experiment}_xd.npy\")\n",
    "Xs = normalizer_static.normalize(Xs, write_to = f\"{dir_stats_output}/{experiment}_xs.npy\")\n",
    "Y = normalizer_target.normalize(Y, write_to = f\"{dir_stats_output}/{experiment}_y.npy\")\n",
    "\n",
    "Xd_test = normalizer_dynamic.normalize(Xd_test)\n",
    "Y_test = normalizer_target.normalize(Y_test)"
   ]
  },
  {
   "cell_type": "code",
<<<<<<< HEAD
   "execution_count": 81,
=======
   "execution_count": 9,
>>>>>>> convlstm
   "id": "f40a8446-9572-45f5-8c70-7b194755772b",
   "metadata": {
    "tags": []
   },
   "outputs": [],
   "source": [
    "train_dataset = get_dataset(dataset)(\n",
    "    torch.Tensor(Xd.values), torch.Tensor(Y.values), torch.Tensor(Xs.values)\n",
    ")\n",
    "test_dataset = get_dataset(dataset)(\n",
    "    torch.Tensor(Xd_test.values),\n",
    "    torch.Tensor(Y_test.values),\n",
    "    torch.Tensor(Xs.values),\n",
    ")"
   ]
  },
  {
   "cell_type": "code",
<<<<<<< HEAD
   "execution_count": 82,
=======
   "execution_count": 10,
   "id": "90fd4fcc-c39d-4339-983e-60d57aa56384",
   "metadata": {
    "tags": []
   },
   "outputs": [],
   "source": [
    "train_sampler_builder = SamplerBuilder(sampling_method= \"regular\", sampling_method_kwargs = {\"intervals\": [4,4], \"origin\": [0, 0]}, \n",
    "                                       minibatch_sampling=\"random\", processing=\"single-gpu\")\n",
    "\n",
    "test_sampler_builder = SamplerBuilder(sampling_method= \"regular\", sampling_method_kwargs = {\"intervals\": [4,4], \"origin\": [2, 2]}, \n",
    "                                      minibatch_sampling=\"sequential\", processing=\"single-gpu\")"
   ]
  },
  {
   "cell_type": "code",
   "execution_count": 10,
   "id": "b0f87bdf-5a0b-4e69-ab2d-37b5bc849f42",
   "metadata": {
    "tags": []
   },
   "outputs": [
    {
     "name": "stdout",
     "output_type": "stream",
     "text": [
      "[    0     1     2 ... 40137 40138 40139]\n",
      "found missing\n",
      "[    0     1     2 ... 40137 40138 40139]\n",
      "found missing\n"
     ]
    }
   ],
   "source": [
    "train_sampler_builder.initialize(\n",
    "    shape=SHAPE, mask_missing=masks.values, torch_dataset=train_dataset\n",
    ")\n",
    "test_sampler_builder.initialize(\n",
    "    shape=SHAPE, mask_missing=masks.values, torch_dataset=test_dataset\n",
    ")\n",
    "\n",
    "train_sampler = train_sampler_builder.get_sampler()\n",
    "test_sampler = test_sampler_builder.get_sampler()"
   ]
  },
  {
   "cell_type": "code",
   "execution_count": 11,
>>>>>>> convlstm
   "id": "8140b8fd-61bf-4e18-87d1-da61fff2ed70",
   "metadata": {
    "tags": []
   },
   "outputs": [
    {
     "data": {
      "text/plain": [
       "963"
      ]
     },
     "execution_count": 82,
     "metadata": {},
     "output_type": "execute_result"
    }
   ],
   "source": [
    "len(train_sampler)"
   ]
  },
  {
   "cell_type": "code",
   "execution_count": 83,
   "id": "8cbcec87-3c6d-44aa-bf67-caa5533bab78",
   "metadata": {
    "tags": []
   },
   "outputs": [],
   "source": [
    "train_loader = DataLoader(train_dataset, batch_size=BATCH , sampler=train_sampler)\n",
    "test_loader = DataLoader(test_dataset, batch_size=BATCH , sampler=test_sampler)"
   ]
  },
  {
   "cell_type": "code",
   "execution_count": 84,
   "id": "4d994869-0f00-412e-8f3f-6a3c96df12ff",
   "metadata": {
    "tags": []
   },
   "outputs": [],
   "source": [
    "model = CuDNNLSTM(\n",
    "                  hidden_size=HIDDEN_SIZE, \n",
    "                  dynamic_input_size=DYNAMIC_INPUT_SIZE,\n",
    "                  static_input_size=STATIC_INPUT_SIZE, \n",
    "                  output_size=OUTPUT_SIZE\n",
    ")"
   ]
  },
  {
   "cell_type": "code",
<<<<<<< HEAD
   "execution_count": 85,
   "id": "532a7e5a-7e32-4f36-844a-15c7189cfd8c",
=======
   "execution_count": null,
   "id": "025ae5cd-2860-4752-baff-9f9fec8dc795",
>>>>>>> convlstm
   "metadata": {
    "tags": []
   },
   "outputs": [],
   "source": [
    "model.to(device)\n",
    "opt = optim.Adam(model.parameters(), lr=1e-3)\n",
<<<<<<< HEAD
    "lr_scheduler = ReduceLROnPlateau(opt, mode=\"min\", factor=0.5, patience=10)"
   ]
  },
  {
   "cell_type": "code",
   "execution_count": 86,
   "id": "d93d5c06-721f-4c86-b32a-c50d7e371418",
   "metadata": {
    "tags": []
   },
   "outputs": [],
   "source": [
=======
    "lr_scheduler = ReduceLROnPlateau(opt, mode=\"min\", factor=0.5, patience=10)\n",
    "\n",
>>>>>>> convlstm
    "loss_fn = RMSELoss(target_weight=TARGET_WEIGHTS)\n",
    "metric_fn = MSEMetric(target_names=target_names)"
   ]
  },
  {
   "cell_type": "code",
   "execution_count": 87,
   "id": "9b345f49-99a2-48ef-967c-f897678c7bbf",
   "metadata": {
    "tags": []
   },
   "outputs": [
    {
     "name": "stdout",
     "output_type": "stream",
     "text": [
      "<hython.trainer.RNNTrainParams object at 0x71092e535990>\n"
     ]
    }
   ],
   "source": [
    "trainer = RNNTrainer(\n",
    "    RNNTrainParams(\n",
    "               experiment=experiment, \n",
    "               temporal_subsampling=TEMPORAL_SUBSAMPLING, \n",
    "               temporal_subset=TEMPORAL_SUBSET, \n",
    "               seq_length=SEQ_LENGTH, \n",
    "               target_names=target_names,\n",
    "               metric_func=metric_fn,\n",
    "               loss_func=loss_fn)\n",
    ")"
   ]
  },
  {
   "cell_type": "code",
   "execution_count": 88,
   "id": "013bfb1c-4b3f-4ad5-8d4d-11413bcdc96a",
   "metadata": {
    "tags": []
   },
   "outputs": [],
   "source": [
    "file_surr_output = f\"{dir_surr_output}/{experiment}_{surr_model_output}\""
   ]
  },
  {
   "cell_type": "code",
   "execution_count": 89,
   "id": "bcbf45a6-b7fb-4979-a4b5-e7a9348ccd29",
   "metadata": {
    "tags": []
   },
   "outputs": [
    {
     "name": "stderr",
     "output_type": "stream",
     "text": [
      "  5%|████▊                                                                                            | 1/20 [00:02<00:49,  2.58s/it]"
     ]
    },
    {
     "name": "stdout",
     "output_type": "stream",
     "text": [
      "save weights to: /mnt/CEPH_PROJECTS/InterTwin/hydrologic_data/surrogate_model/exp1_adg_demo.pt\n",
      "Copied best model weights!\n",
      "train loss: 0.30649620294570923\n",
      "val loss: 0.2382700890302658\n"
     ]
    },
    {
     "name": "stderr",
     "output_type": "stream",
     "text": [
      " 10%|█████████▋                                                                                       | 2/20 [00:05<00:45,  2.51s/it]"
     ]
    },
    {
     "name": "stdout",
     "output_type": "stream",
     "text": [
      "save weights to: /mnt/CEPH_PROJECTS/InterTwin/hydrologic_data/surrogate_model/exp1_adg_demo.pt\n",
      "Copied best model weights!\n",
      "train loss: 0.19261634349822998\n",
      "val loss: 0.18367724120616913\n"
     ]
    },
    {
     "name": "stderr",
     "output_type": "stream",
     "text": [
      " 15%|██████████████▌                                                                                  | 3/20 [00:07<00:42,  2.48s/it]"
     ]
    },
    {
     "name": "stdout",
     "output_type": "stream",
     "text": [
      "save weights to: /mnt/CEPH_PROJECTS/InterTwin/hydrologic_data/surrogate_model/exp1_adg_demo.pt\n",
      "Copied best model weights!\n",
      "train loss: 0.1660732477903366\n",
      "val loss: 0.18324929475784302\n"
     ]
    },
    {
     "name": "stderr",
     "output_type": "stream",
     "text": [
      " 20%|███████████████████▍                                                                             | 4/20 [00:09<00:39,  2.48s/it]"
     ]
    },
    {
     "name": "stdout",
     "output_type": "stream",
     "text": [
      "save weights to: /mnt/CEPH_PROJECTS/InterTwin/hydrologic_data/surrogate_model/exp1_adg_demo.pt\n",
      "Copied best model weights!\n",
      "train loss: 0.1552845686674118\n",
      "val loss: 0.16372846066951752\n"
     ]
    },
    {
     "name": "stderr",
     "output_type": "stream",
     "text": [
      " 25%|████████████████████████▎                                                                        | 5/20 [00:12<00:37,  2.47s/it]"
     ]
    },
    {
     "name": "stdout",
     "output_type": "stream",
     "text": [
      "save weights to: /mnt/CEPH_PROJECTS/InterTwin/hydrologic_data/surrogate_model/exp1_adg_demo.pt\n",
      "Copied best model weights!\n",
      "train loss: 0.1464637964963913\n",
      "val loss: 0.15887731313705444\n"
     ]
    },
    {
     "name": "stderr",
     "output_type": "stream",
     "text": [
      " 30%|█████████████████████████████                                                                    | 6/20 [00:14<00:34,  2.47s/it]"
     ]
    },
    {
     "name": "stdout",
     "output_type": "stream",
     "text": [
      "save weights to: /mnt/CEPH_PROJECTS/InterTwin/hydrologic_data/surrogate_model/exp1_adg_demo.pt\n",
      "Copied best model weights!\n",
      "train loss: 0.1452806293964386\n",
      "val loss: 0.14242933690547943\n"
     ]
    },
    {
     "name": "stderr",
     "output_type": "stream",
     "text": [
      " 35%|█████████████████████████████████▉                                                               | 7/20 [00:17<00:32,  2.53s/it]"
     ]
    },
    {
     "name": "stdout",
     "output_type": "stream",
     "text": [
      "train loss: 0.13763116300106049\n",
      "val loss: 0.15199659764766693\n"
     ]
    },
    {
     "name": "stderr",
     "output_type": "stream",
     "text": [
      " 40%|██████████████████████████████████████▊                                                          | 8/20 [00:20<00:31,  2.59s/it]"
     ]
    },
    {
     "name": "stdout",
     "output_type": "stream",
     "text": [
      "train loss: 0.13393795490264893\n",
      "val loss: 0.16392433643341064\n"
     ]
    },
    {
     "name": "stderr",
     "output_type": "stream",
     "text": [
      " 45%|███████████████████████████████████████████▋                                                     | 9/20 [00:22<00:28,  2.62s/it]"
     ]
    },
    {
     "name": "stdout",
     "output_type": "stream",
     "text": [
      "train loss: 0.13665077090263367\n",
      "val loss: 0.16053743660449982\n"
     ]
    },
    {
     "name": "stderr",
     "output_type": "stream",
     "text": [
      " 50%|████████████████████████████████████████████████                                                | 10/20 [00:25<00:26,  2.65s/it]"
     ]
    },
    {
     "name": "stdout",
     "output_type": "stream",
     "text": [
      "train loss: 0.13186326622962952\n",
      "val loss: 0.14848951995372772\n"
     ]
    },
    {
     "name": "stderr",
     "output_type": "stream",
     "text": [
      " 55%|████████████████████████████████████████████████████▊                                           | 11/20 [00:28<00:24,  2.68s/it]"
     ]
    },
    {
     "name": "stdout",
     "output_type": "stream",
     "text": [
      "train loss: 0.1293201744556427\n",
      "val loss: 0.14912310242652893\n"
     ]
    },
    {
     "name": "stderr",
     "output_type": "stream",
     "text": [
      " 60%|█████████████████████████████████████████████████████████▌                                      | 12/20 [00:31<00:21,  2.69s/it]"
     ]
    },
    {
     "name": "stdout",
     "output_type": "stream",
     "text": [
      "train loss: 0.12818092107772827\n",
      "val loss: 0.1485907882452011\n"
     ]
    },
    {
     "name": "stderr",
     "output_type": "stream",
     "text": [
      " 65%|██████████████████████████████████████████████████████████████▍                                 | 13/20 [00:33<00:18,  2.69s/it]"
     ]
    },
    {
     "name": "stdout",
     "output_type": "stream",
     "text": [
      "train loss: 0.12224806845188141\n",
      "val loss: 0.1545615792274475\n"
     ]
    },
    {
     "name": "stderr",
     "output_type": "stream",
     "text": [
      " 70%|███████████████████████████████████████████████████████████████████▏                            | 14/20 [00:36<00:16,  2.69s/it]"
     ]
    },
    {
     "name": "stdout",
     "output_type": "stream",
     "text": [
      "train loss: 0.12414924800395966\n",
      "val loss: 0.14269056916236877\n"
     ]
    },
    {
     "name": "stderr",
     "output_type": "stream",
     "text": [
      " 75%|████████████████████████████████████████████████████████████████████████                        | 15/20 [00:39<00:13,  2.71s/it]"
     ]
    },
    {
     "name": "stdout",
     "output_type": "stream",
     "text": [
      "save weights to: /mnt/CEPH_PROJECTS/InterTwin/hydrologic_data/surrogate_model/exp1_adg_demo.pt\n",
      "Copied best model weights!\n",
      "train loss: 0.12001225352287292\n",
      "val loss: 0.1355476677417755\n"
     ]
    },
    {
     "name": "stderr",
     "output_type": "stream",
     "text": [
      " 80%|████████████████████████████████████████████████████████████████████████████▊                   | 16/20 [00:41<00:10,  2.70s/it]"
     ]
    },
    {
     "name": "stdout",
     "output_type": "stream",
     "text": [
      "train loss: 0.11245621740818024\n",
      "val loss: 0.1376316249370575\n"
     ]
    },
    {
     "name": "stderr",
     "output_type": "stream",
     "text": [
      " 85%|█████████████████████████████████████████████████████████████████████████████████▌              | 17/20 [00:44<00:07,  2.65s/it]"
     ]
    },
    {
     "name": "stdout",
     "output_type": "stream",
     "text": [
      "train loss: 0.12209900468587875\n",
      "val loss: 0.14644910395145416\n"
     ]
    },
    {
     "name": "stderr",
     "output_type": "stream",
     "text": [
      " 90%|██████████████████████████████████████████████████████████████████████████████████████▍         | 18/20 [00:46<00:05,  2.59s/it]"
     ]
    },
    {
     "name": "stdout",
     "output_type": "stream",
     "text": [
      "train loss: 0.1203160509467125\n",
      "val loss: 0.14754809439182281\n"
     ]
    },
    {
     "name": "stderr",
     "output_type": "stream",
     "text": [
      " 95%|███████████████████████████████████████████████████████████████████████████████████████████▏    | 19/20 [00:49<00:02,  2.55s/it]"
     ]
    },
    {
     "name": "stdout",
     "output_type": "stream",
     "text": [
      "train loss: 0.11562618613243103\n",
      "val loss: 0.138505756855011\n"
     ]
    },
    {
     "name": "stderr",
     "output_type": "stream",
     "text": [
      "100%|████████████████████████████████████████████████████████████████████████████████████████████████| 20/20 [00:51<00:00,  2.59s/it]"
     ]
    },
    {
     "name": "stdout",
     "output_type": "stream",
     "text": [
      "train loss: 0.12078165262937546\n",
      "val loss: 0.14023859798908234\n"
     ]
    },
    {
     "name": "stderr",
     "output_type": "stream",
     "text": [
      "\n"
     ]
    }
   ],
   "source": [
    "# train\n",
    "model, loss_history, metric_history = train_val(\n",
    "    trainer,\n",
    "    model,\n",
    "    train_loader,\n",
    "    test_loader,\n",
    "    EPOCHS,\n",
    "    opt,\n",
    "    lr_scheduler,\n",
    "    file_surr_output,\n",
    "    device\n",
    ")"
   ]
  },
  {
   "cell_type": "code",
   "execution_count": 90,
   "id": "9185ef42-f8b0-4841-ad50-6bdbb25b27ac",
   "metadata": {
    "tags": []
   },
   "outputs": [
    {
     "data": {
      "image/png": "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",
      "text/plain": [
       "<Figure size 1200x600 with 3 Axes>"
      ]
     },
     "metadata": {},
     "output_type": "display_data"
    }
   ],
   "source": [
    "lepochs = list(range(1, EPOCHS + 1))\n",
    "\n",
    "fig, axs = plt.subplots(3, 1, figsize= (12,6), sharex=True)\n",
    "\n",
    "axs[0].plot(lepochs, metric_history['train_vwc'], marker='.', linestyle='-', color='b', label='Training')\n",
    "axs[0].plot(lepochs, metric_history['val_vwc'], marker='.', linestyle='-', color='r', label='Validation')\n",
    "axs[0].set_title('SM')\n",
    "axs[0].set_ylabel(metric_fn.__class__.__name__)\n",
    "axs[0].grid(True)\n",
    "axs[0].legend(bbox_to_anchor=(1,1))\n",
    "\n",
    "axs[1].plot(lepochs, metric_history['train_actevap'], marker='.', linestyle='-', color='b', label='Training')\n",
    "axs[1].plot(lepochs, metric_history['val_actevap'], marker='.', linestyle='-', color='r', label='Validation')\n",
    "axs[1].set_title('ET')\n",
    "axs[1].set_ylabel(metric_fn.__class__.__name__)\n",
    "axs[1].grid(True)\n",
    "\n",
    "axs[2].plot(lepochs, [i.detach().cpu().numpy() for i in loss_history['train']], marker='.', linestyle='-', color='b', label='Training')\n",
    "axs[2].plot(lepochs, [i.detach().cpu().numpy() for i in loss_history['val']], marker='.', linestyle='-', color='r', label='Validation')\n",
    "axs[2].set_title('Loss')\n",
    "axs[2].set_xlabel('Epochs')\n",
    "axs[2].set_ylabel(loss_fn.__name__)\n",
    "axs[2].grid(True)"
   ]
  }
 ],
 "metadata": {
  "kernelspec": {
   "display_name": "emulator",
   "language": "python",
   "name": "emulator"
  },
  "language_info": {
   "codemirror_mode": {
    "name": "ipython",
    "version": 3
   },
   "file_extension": ".py",
   "mimetype": "text/x-python",
   "name": "python",
   "nbconvert_exporter": "python",
   "pygments_lexer": "ipython3",
   "version": "3.11.6"
  }
 },
 "nbformat": 4,
 "nbformat_minor": 5
}
