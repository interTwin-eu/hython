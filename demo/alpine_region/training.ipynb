{
 "cells": [
  {
   "cell_type": "markdown",
   "id": "913afcd2-a55e-4804-adf4-699a3f3a660a",
   "metadata": {
    "tags": []
   },
   "source": [
    "# Train"
   ]
  },
  {
   "cell_type": "code",
   "execution_count": null,
   "id": "ed6a0ce1-163e-40ac-9e7e-e6d5f364bd84",
   "metadata": {
    "tags": []
   },
   "outputs": [],
   "source": [
    "%load_ext autoreload\n",
    "%autoreload "
   ]
  },
  {
   "cell_type": "code",
   "execution_count": null,
   "id": "905ded3e-309a-4267-9a07-937d72429971",
   "metadata": {
    "tags": []
   },
   "outputs": [],
   "source": [
    "import torch\n",
    "import numpy as np\n",
    "import xarray as xr\n",
    "from pathlib import Path\n",
    "import os\n",
    "import random\n",
    "\n",
    "import dask\n",
    "from torch import nn\n",
    "\n",
    "from hython.datasets.datasets import LSTMDataset, get_dataset\n",
    "from hython.trainer import train_val\n",
    "from hython.sampler import SamplerBuilder, RegularIntervalDownsampler\n",
    "from hython.metrics import MSEMetric\n",
    "from hython.losses import RMSELoss\n",
    "from hython.utils import read_from_zarr, set_seed\n",
    "from hython.models.cudnnLSTM import CuDNNLSTM\n",
    "from hython.trainer import RNNTrainer, RNNTrainParams\n",
    "from hython.normalizer import Normalizer\n",
    "\n",
    "\n",
    "import torch.optim as optim\n",
    "from torch.optim.lr_scheduler import ReduceLROnPlateau\n",
    "from torch.utils.data import DataLoader, Dataset\n",
    "\n",
    "# viz\n",
    "import matplotlib.pyplot as plt\n",
    "from hython.viz import plot_sampler"
   ]
  },
  {
   "cell_type": "markdown",
   "id": "22a78cf5-bd72-4a3d-bd18-ce49d0e8fdee",
   "metadata": {
    "tags": []
   },
   "source": [
    "# Settings"
   ]
  },
  {
   "cell_type": "code",
   "execution_count": null,
   "id": "f3186025-caa2-429f-88da-8c9c6b23c292",
   "metadata": {
    "tags": []
   },
   "outputs": [],
   "source": [
    "# PARAMETERS \n",
    "\n",
    "EXPERIMENT  = \"test\"\n",
    "\n",
    "SURROGATE_INPUT = \"https://eurac-eo.s3.amazonaws.com/INTERTWIN/SURROGATE_INPUT/adg1km_eobs_preprocessed.zarr/\"\n",
    "\n",
    "SURROGATE_MODEL_OUTPUT = f\"/mnt/CEPH_PROJECTS/InterTwin/hydrologic_data/surrogate_model/{EXPERIMENT}.pt\"\n",
    "TMP_STATS = \"/mnt/CEPH_PROJECTS/InterTwin/hydrologic_data/surrogate_stats\"\n",
    "\n",
    "# === FILTER ==============================================================\n",
    "\n",
    "# train/test temporal range\n",
    "train_temporal_range = slice(\"2016-01-01\",\"2018-12-31\")\n",
    "test_temporal_range = slice(\"2019-01-01\", \"2020-12-31\")\n",
    "\n",
    "# variables\n",
    "dynamic_names = [\"precip\", \"pet\", \"temp\"] \n",
    "static_names = [ 'thetaS', 'thetaR', 'RootingDepth', 'Swood','KsatVer', \"Sl\"] \n",
    "target_names = [ \"vwc\", \"actevap\"]\n",
    "\n",
    "# === MASK ========================================================================================\n",
    "\n",
    "mask_names = [\"mask_missing\", \"mask_lake\"] # names depends on preprocessing application\n",
    "\n",
    "# === DATASET ========================================================================================\n",
    "\n",
    "DATASET = \"LSTMDataset\" # \"XBatchDataset\"\n",
    "\n",
    "# == MODEL  ========================================================================================\n",
    "\n",
    "HIDDEN_SIZE = 24\n",
    "DYNAMIC_INPUT_SIZE = len(dynamic_names)\n",
    "STATIC_INPUT_SIZE = len(static_names)\n",
    "OUTPUT_SIZE = len(target_names)\n",
    "TARGET_WEIGHTS = {t:1/len(target_names) for t in target_names}\n",
    "\n",
    "\n",
    "# === SAMPLER/TRAINER ===================================================================================\n",
    "\n",
    "# downsampling\n",
    "DONWSAMPLING = True\n",
    "\n",
    "\n",
    "SEED = 42\n",
    "EPOCHS = 50\n",
    "BATCH = 256\n",
    "\n",
    "TEMPORAL_SUBSAMPLING = True\n",
    "TEMPORAL_SUBSET = [150, 150] \n",
    "SEQ_LENGTH = 360\n",
    "\n",
    "\n",
    "assert sum(v for v in TARGET_WEIGHTS.values()) == 1, \"check target weights\"\n",
    "\n"
   ]
  },
  {
   "cell_type": "code",
   "execution_count": null,
   "id": "7c67bf4f-55e3-46fc-927b-72711d831f0f",
   "metadata": {
    "tags": []
   },
   "outputs": [],
   "source": [
    "set_seed(SEED)\n",
    "device = torch.device(\"cuda:0\" if torch.cuda.is_available() else \"cpu\")"
   ]
  },
  {
   "cell_type": "code",
   "execution_count": null,
   "id": "9e6e528c-6196-423e-8c21-bc914cfd3dec",
   "metadata": {
    "tags": []
   },
   "outputs": [],
   "source": [
    "# === READ TRAIN ===================================================================\n",
    "Xd = (\n",
    "    read_from_zarr(url=SURROGATE_INPUT , group=\"xd\", multi_index=\"gridcell\")\n",
    "    .sel(time=train_temporal_range)\n",
    "    .xd.sel(feat=dynamic_names)\n",
    ")\n",
    "Xs = read_from_zarr(url=SURROGATE_INPUT , group=\"xs\", multi_index=\"gridcell\").xs.sel(\n",
    "    feat=static_names\n",
    ")\n",
    "Y = (\n",
    "    read_from_zarr(url=SURROGATE_INPUT , group=\"y\", multi_index=\"gridcell\")\n",
    "    .sel(time=train_temporal_range)\n",
    "    .y.sel(feat=target_names)\n",
    ")\n",
    "\n",
    "SHAPE = Xd.attrs[\"shape\"]\n",
    "\n",
    "# === READ TEST ===================================================================\n",
    "\n",
    "Y_test = (\n",
    "    read_from_zarr(url=SURROGATE_INPUT , group=\"y\", multi_index=\"gridcell\")\n",
    "    .sel(time=test_temporal_range)\n",
    "    .y.sel(feat=target_names)\n",
    ")\n",
    "Xd_test = (\n",
    "    read_from_zarr(url=SURROGATE_INPUT , group=\"xd\", multi_index=\"gridcell\")\n",
    "    .sel(time=test_temporal_range)\n",
    "    .xd.sel(feat=dynamic_names)\n",
    ")"
   ]
  },
  {
   "cell_type": "code",
   "execution_count": null,
   "id": "4453e35b-5947-4457-936e-a81149a38723",
   "metadata": {
    "tags": []
   },
   "outputs": [],
   "source": [
    "masks = (\n",
    "    read_from_zarr(url=SURROGATE_INPUT, group=\"mask\")\n",
    "    .mask.sel(mask_layer=mask_names)\n",
    "    .any(dim=\"mask_layer\")\n",
    ")"
   ]
  },
  {
   "cell_type": "code",
   "execution_count": null,
   "id": "de565f9d-5de1-4af3-9245-656b40bece40",
   "metadata": {
    "tags": []
   },
   "outputs": [],
   "source": [
    "# viz input\n",
    "Xd.unstack().isel(time=199).sel(feat=\"temp\").plot()"
   ]
  },
  {
   "cell_type": "code",
   "execution_count": null,
   "id": "4edc1ebd-220b-46eb-b88b-b451d34ed330",
   "metadata": {
    "tags": []
   },
   "outputs": [],
   "source": [
    "if DONWSAMPLING:\n",
    "   train_downsampler = RegularIntervalDownsampler(\n",
    "        intervals=[4,4], origin=[0,0]\n",
    "    )       \n",
    "   test_downsampler = RegularIntervalDownsampler(\n",
    "        intervals=[4,4], origin=[2,2]\n",
    "    )\n",
    "else:\n",
    "    train_downsampler,test_downsampler = None,None"
   ]
  },
  {
   "cell_type": "code",
   "execution_count": null,
   "id": "9bcd13bd-697a-4302-b496-5de9d50670c2",
   "metadata": {
    "tags": []
   },
   "outputs": [],
   "source": [
    "# === NORMALIZE ======================================================================\n",
    "\n",
    "normalizer_dynamic = Normalizer(method=\"standardize\", type=\"spacetime\", axis_order = \"NTC\", save_stats= f\"{TMP_STATS}/{EXPERIMENT}_xd.npy\")\n",
    "normalizer_static = Normalizer(method=\"standardize\", type=\"space\", axis_order = \"NTC\", save_stats= f\"{TMP_STATS}/{EXPERIMENT}_xs.npy\")\n",
    "normalizer_target = Normalizer(method=\"standardize\", type=\"spacetime\", axis_order = \"NTC\", save_stats= f\"{TMP_STATS}/{EXPERIMENT}_y.npy\")\n"
   ]
  },
  {
   "cell_type": "code",
   "execution_count": null,
   "id": "e79d4548-7bde-4629-abef-adc7aeefb742",
   "metadata": {
    "tags": []
   },
   "outputs": [],
   "source": [
    "# === DATSET =======================================================================\n",
    "\n",
    "train_dataset = get_dataset(DATASET)(\n",
    "        Xd,\n",
    "        Y,\n",
    "        Xs,\n",
    "        original_domain_shape=SHAPE,\n",
    "        mask = masks,\n",
    "        downsampler = train_downsampler,\n",
    "        normalizer_dynamic = normalizer_dynamic,\n",
    "        normalizer_static = normalizer_static,\n",
    "        normalizer_target = normalizer_target\n",
    ")\n",
    "test_dataset = get_dataset(DATASET)(\n",
    "        Xd_test,\n",
    "        Y_test,\n",
    "        Xs,\n",
    "        original_domain_shape=SHAPE,\n",
    "        mask = masks,\n",
    "        downsampler = test_downsampler,\n",
    "        normalizer_dynamic = normalizer_dynamic,\n",
    "        normalizer_static = normalizer_static,\n",
    "        normalizer_target = normalizer_target\n",
    ")"
   ]
  },
  {
   "cell_type": "code",
   "execution_count": null,
   "id": "42062b92-8acf-4287-baff-c3b905adaef3",
   "metadata": {
    "tags": []
   },
   "outputs": [],
   "source": [
    "# viz torch datasets\n",
    "from hython.utils import reshape_to_2Dspatial, to_xr\n",
    "coords = read_from_zarr(\"https://eurac-eo.s3.amazonaws.com/INTERTWIN/SURROGATE_INPUT/adg1km_eobs_original.zarr/\", group=\"xd\").sel(time=train_temporal_range).coords\n",
    "to_xr(reshape_to_2Dspatial(np.array(train_dataset.xd), *SHAPE, Xd.shape[1], Xd.shape[-1])[...,0], coords=coords).isel(time=399).plot()"
   ]
  },
  {
   "cell_type": "code",
   "execution_count": null,
   "id": "757e6422-728f-4a54-800d-785632dce5c1",
   "metadata": {
    "tags": []
   },
   "outputs": [],
   "source": [
    "# === SAMPLER ===================================================================\n",
    "\n",
    "\n",
    "train_sampler_builder = SamplerBuilder(\n",
    "    train_dataset,\n",
    "    sampling=\"random\", \n",
    "    processing=\"single-gpu\")\n",
    "\n",
    "test_sampler_builder = SamplerBuilder(\n",
    "    test_dataset,\n",
    "    sampling=\"sequential\", \n",
    "    processing=\"single-gpu\")\n",
    "\n",
    "\n",
    "train_sampler = train_sampler_builder.get_sampler()\n",
    "test_sampler = test_sampler_builder.get_sampler()"
   ]
  },
  {
   "cell_type": "code",
   "execution_count": null,
   "id": "58417cdf-d43d-43eb-bb0a-be6442f2f66c",
   "metadata": {
    "tags": []
   },
   "outputs": [],
   "source": [
    "# === DATA LOADER ================================================================\n",
    "\n",
    "train_loader = DataLoader(train_dataset, batch_size=BATCH , sampler=train_sampler)\n",
    "test_loader = DataLoader(test_dataset, batch_size=BATCH , sampler=test_sampler)"
   ]
  },
  {
   "cell_type": "code",
   "execution_count": null,
   "id": "8cbcec87-3c6d-44aa-bf67-caa5533bab78",
   "metadata": {
    "tags": []
   },
   "outputs": [],
   "source": [
    "# === MODEL ===================================================================\n",
    "\n",
    "model = CuDNNLSTM(\n",
    "                hidden_size=HIDDEN_SIZE, \n",
    "                dynamic_input_size=DYNAMIC_INPUT_SIZE,\n",
    "                static_input_size=STATIC_INPUT_SIZE, \n",
    "                output_size=OUTPUT_SIZE\n",
    ")\n",
    "\n",
    "model.to(device)\n"
   ]
  },
  {
   "cell_type": "code",
   "execution_count": null,
   "id": "4d994869-0f00-412e-8f3f-6a3c96df12ff",
   "metadata": {
    "tags": []
   },
   "outputs": [],
   "source": [
    "# === TRAIN ===================================================================\n",
    "    \n",
    "opt = optim.Adam(model.parameters(), lr=1e-3)\n",
    "lr_scheduler = ReduceLROnPlateau(opt, mode=\"min\", factor=0.5, patience=10)\n",
    "\n",
    "loss_fn = RMSELoss(target_weight=TARGET_WEIGHTS)\n",
    "metric_fn = MSEMetric(target_names=target_names)\n",
    "\n",
    "trainer = RNNTrainer(\n",
    "    RNNTrainParams(\n",
    "            experiment=EXPERIMENT,\n",
    "            temporal_subsampling=TEMPORAL_SUBSAMPLING, \n",
    "            temporal_subset=TEMPORAL_SUBSET, \n",
    "            seq_length=SEQ_LENGTH, \n",
    "            target_names=target_names,\n",
    "            metric_func=metric_fn,\n",
    "            loss_func=loss_fn)\n",
    ")"
   ]
  },
  {
   "cell_type": "code",
   "execution_count": null,
   "id": "532a7e5a-7e32-4f36-844a-15c7189cfd8c",
   "metadata": {
    "tags": []
   },
   "outputs": [],
   "source": [
    "model, loss_history, metric_history = train_val(\n",
    "    trainer,\n",
    "    model,\n",
    "    train_loader,\n",
    "    test_loader,\n",
    "    EPOCHS,\n",
    "    opt,\n",
    "    lr_scheduler,\n",
    "    SURROGATE_MODEL_OUTPUT,\n",
    "    device\n",
    ")\n"
   ]
  },
  {
   "cell_type": "code",
   "execution_count": null,
   "id": "4dd69379-43c0-4e1e-b8f1-b1b28e673c2f",
   "metadata": {
    "tags": []
   },
   "outputs": [],
   "source": [
    "lepochs = list(range(1, EPOCHS + 1))\n",
    "\n",
    "fig, axs = plt.subplots(len(target_names) +1, 1, figsize= (12,10), sharex=True)\n",
    "\n",
    "axs[0].plot(lepochs, [i.detach().cpu().numpy() for i in loss_history['train']], marker='.', linestyle='-', color='b', label='Training')\n",
    "axs[0].plot(lepochs, [i.detach().cpu().numpy() for i in loss_history['val']], marker='.', linestyle='-', color='r', label='Validation')\n",
    "axs[0].set_title('Loss')\n",
    "axs[0].set_ylabel(loss_fn.__name__)\n",
    "axs[0].grid(True)\n",
    "axs[0].legend(bbox_to_anchor=(1,1))\n",
    "\n",
    "for i, variable in enumerate(target_names):\n",
    "    axs[i+1].plot(lepochs, metric_history[f'train_{variable}'], marker='.', linestyle='-', color='b', label='Training')\n",
    "    axs[i+1].plot(lepochs, metric_history[f'val_{variable}'], marker='.', linestyle='-', color='r', label='Validation')\n",
    "    axs[i+1].set_title(variable)\n",
    "    axs[i+1].set_ylabel(metric_fn.__class__.__name__)\n",
    "    axs[i+1].grid(True)\n",
    "    axs[i+1].legend(bbox_to_anchor=(1,1))"
   ]
  },
  {
   "cell_type": "code",
   "execution_count": null,
   "id": "810d74bf-9a23-45dc-83d2-b26398a0676c",
   "metadata": {},
   "outputs": [],
   "source": []
  }
 ],
 "metadata": {
  "kernelspec": {
   "display_name": "emulator",
   "language": "python",
   "name": "emulator"
  },
  "language_info": {
   "codemirror_mode": {
    "name": "ipython",
    "version": 3
   },
   "file_extension": ".py",
   "mimetype": "text/x-python",
   "name": "python",
   "nbconvert_exporter": "python",
   "pygments_lexer": "ipython3",
   "version": "3.11.6"
  }
 },
 "nbformat": 4,
 "nbformat_minor": 5
}
