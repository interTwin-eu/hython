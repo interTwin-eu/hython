{
 "cells": [
  {
   "cell_type": "markdown",
   "id": "913afcd2-a55e-4804-adf4-699a3f3a660a",
   "metadata": {
    "tags": []
   },
   "source": [
    "# Train"
   ]
  },
  {
   "cell_type": "code",
   "execution_count": 1,
   "id": "ed6a0ce1-163e-40ac-9e7e-e6d5f364bd84",
   "metadata": {
    "tags": []
   },
   "outputs": [],
   "source": [
    "%load_ext autoreload\n",
    "%autoreload "
   ]
  },
  {
   "cell_type": "code",
   "execution_count": 2,
   "id": "905ded3e-309a-4267-9a07-937d72429971",
   "metadata": {
    "tags": []
   },
   "outputs": [
    {
     "name": "stderr",
     "output_type": "stream",
     "text": [
      "/home/iferrario/.local/miniforge/envs/emulator/lib/python3.11/site-packages/tqdm/auto.py:21: TqdmWarning: IProgress not found. Please update jupyter and ipywidgets. See https://ipywidgets.readthedocs.io/en/stable/user_install.html\n",
      "  from .autonotebook import tqdm as notebook_tqdm\n"
     ]
    }
   ],
   "source": [
    "import torch\n",
    "import numpy as np\n",
    "import xarray as xr\n",
    "from pathlib import Path\n",
    "import os\n",
    "import random\n",
    "\n",
    "import dask\n",
    "from torch import nn\n",
    "\n",
    "from hython.datasets.datasets import LSTMDataset, get_dataset\n",
    "from hython.trainer import train_val\n",
    "from hython.sampler import SamplerBuilder\n",
    "from hython.metrics import MSEMetric\n",
    "from hython.losses import RMSELoss\n",
    "from hython.utils import read_from_zarr, set_seed\n",
    "from hython.models.cudnnLSTM import CuDNNLSTM\n",
    "from hython.trainer import RNNTrainer, RNNTrainParams\n",
    "from hython.normalizer import Normalizer\n",
    "\n",
    "\n",
    "import torch.optim as optim\n",
    "from torch.optim.lr_scheduler import ReduceLROnPlateau\n",
    "from torch.utils.data import DataLoader, Dataset\n",
    "\n",
    "# viz\n",
    "import matplotlib.pyplot as plt\n",
    "from hython.viz import plot_sampler"
   ]
  },
  {
   "cell_type": "markdown",
   "id": "22a78cf5-bd72-4a3d-bd18-ce49d0e8fdee",
   "metadata": {
    "tags": []
   },
   "source": [
    "# Settings"
   ]
  },
  {
   "cell_type": "code",
   "execution_count": 3,
   "id": "f3186025-caa2-429f-88da-8c9c6b23c292",
   "metadata": {
    "tags": []
   },
   "outputs": [],
   "source": [
    "surr_input =  \"adg1km_eobs.zarr\"\n",
    "dir_surr_input = \"/mnt/CEPH_PROJECTS/InterTwin/hydrologic_data/surrogate_input\"\n",
    "\n",
    "surr_model_output = \"demo.pt\"\n",
    "experiment = \"exp1\" # experiment name\n",
    "\n",
    "dir_surr_output = \"/mnt/CEPH_PROJECTS/InterTwin/hydrologic_data/surrogate_model\"\n",
    "\n",
    "\n",
    "SEED = 1696\n",
    "\n",
    "dynamic_names = [\"precip\", \"pet\", \"temp\"] \n",
    "static_names = [ 'thetaS', 'thetaR', 'RootingDepth', 'Swood','KsatVer', \"Sl\"] \n",
    "target_names = [ \"vwc\",\"actevap\"] \n",
    "\n",
    "mask_names = [\"mask_missing\"]\n",
    "\n",
    "\n",
    "dataset = \"LSTMDataset\"\n",
    "# DL model hyper parameters\n",
    "HIDDEN_SIZE = 24\n",
    "DYNAMIC_INPUT_SIZE = len(dynamic_names)\n",
    "STATIC_INPUT_SIZE = len(static_names)\n",
    "OUTPUT_SIZE = len(target_names)\n",
    "TARGET_WEIGHTS = {t:0.5 for t in target_names}\n",
    "\n",
    "# train/test parameters\n",
    "train_temporal_range = slice(\"2016-01-01\",\"2018-12-31\")\n",
    "test_temporal_range = slice(\"2016-01-01\", \"2018-12-31\")\n",
    "\n",
    "EPOCHS = 20\n",
    "BATCH = 256\n",
    "TEMPORAL_SUBSAMPLING = True\n",
    "TEMPORAL_SUBSET = 150 \n",
    "SEQ_LENGTH = 360\n",
    "\n",
    "mask_names = [\"mask_missing\"]\n",
    "\n",
    "assert sum(v for v in TARGET_WEIGHTS.values()) == 1, \"check target weights\"\n",
    "TARGET_INITIALS = \"\".join([i[0].capitalize() for i in target_names])\n",
    "\n",
    "# paths\n",
    "file_surr_input = f\"{dir_surr_input}/{surr_input}\""
   ]
  },
  {
   "cell_type": "code",
   "execution_count": 4,
   "id": "7c67bf4f-55e3-46fc-927b-72711d831f0f",
   "metadata": {
    "tags": []
   },
   "outputs": [],
   "source": [
    "set_seed(SEED)\n",
    "device = torch.device(\"cuda:0\" if torch.cuda.is_available() else \"cpu\")"
   ]
  },
  {
   "cell_type": "code",
   "execution_count": 5,
   "id": "9e6e528c-6196-423e-8c21-bc914cfd3dec",
   "metadata": {
    "tags": []
   },
   "outputs": [
    {
     "name": "stdout",
     "output_type": "stream",
     "text": [
      "1096\n"
     ]
    }
   ],
   "source": [
    "Xd = (\n",
    "    read_from_zarr(url=file_surr_input, group=\"xd\", multi_index=\"gridcell\")\n",
    "    .sel(time=train_temporal_range)\n",
    "    .xd.sel(feat=dynamic_names)\n",
    ")\n",
    "Xs = read_from_zarr(url=file_surr_input, group=\"xs\", multi_index=\"gridcell\").xs.sel(\n",
    "    feat=static_names\n",
    ")\n",
    "Y = (\n",
    "    read_from_zarr(url=file_surr_input, group=\"y\", multi_index=\"gridcell\")\n",
    "    .sel(time=train_temporal_range)\n",
    "    .y.sel(feat=target_names)\n",
    ")\n",
    "\n",
    "SHAPE = Xd.attrs[\"shape\"]\n",
    "TIME_RANGE = Xd.shape[1]\n",
    "print(TIME_RANGE)\n",
    "\n",
    "# === READ TEST ===================================================================\n",
    "\n",
    "Y_test = (\n",
    "    read_from_zarr(url=file_surr_input, group=\"y\", multi_index=\"gridcell\")\n",
    "    .sel(time=test_temporal_range)\n",
    "    .y.sel(feat=target_names)\n",
    ")\n",
    "Xd_test = (\n",
    "    read_from_zarr(url=file_surr_input, group=\"xd\", multi_index=\"gridcell\")\n",
    "    .sel(time=test_temporal_range)\n",
    "    .xd.sel(feat=dynamic_names)\n",
    ")"
   ]
  },
  {
   "cell_type": "code",
   "execution_count": 6,
   "id": "e7fa8da5-3e7c-43e3-87fd-ae6de26c1e13",
   "metadata": {
    "tags": []
   },
   "outputs": [
    {
     "data": {
      "text/plain": [
       "(40140, 1096, 2)"
      ]
     },
     "execution_count": 6,
     "metadata": {},
     "output_type": "execute_result"
    }
   ],
   "source": [
    "Y_test.shape"
   ]
  },
  {
   "cell_type": "code",
   "execution_count": 7,
   "id": "c6ed190a-3743-45d0-a941-3975b13910ce",
   "metadata": {
    "tags": []
   },
   "outputs": [],
   "source": [
    "masks = (\n",
    "    read_from_zarr(url=file_surr_input, group=\"mask\")\n",
    "    .mask.sel(mask_layer=mask_names)\n",
    "    .any(dim=\"mask_layer\")\n",
    ")"
   ]
  },
  {
   "cell_type": "code",
   "execution_count": 8,
   "id": "c74d5cc6-55b8-44de-9396-70e32d5f712d",
   "metadata": {
    "tags": []
   },
   "outputs": [
    {
     "name": "stdout",
     "output_type": "stream",
     "text": [
      "compute stats\n",
      "compute stats\n",
      "compute stats\n"
     ]
    }
   ],
   "source": [
    "normalizer_dynamic = Normalizer(method=\"standardize\", type=\"spacetime\")\n",
    "\n",
    "normalizer_static = Normalizer(method=\"standardize\", type=\"space\")\n",
    "\n",
    "normalizer_target = Normalizer(method=\"standardize\", type=\"spacetime\")\n",
    "\n",
    "normalizer_dynamic.compute_stats(Xd)\n",
    "normalizer_static.compute_stats(Xs)\n",
    "normalizer_target.compute_stats(Y)\n",
    "\n",
    "# TODO: save stats, implement caching of stats to save computation\n",
    "\n",
    "Xd = normalizer_dynamic.normalize(Xd)\n",
    "Xs = normalizer_static.normalize(Xs)\n",
    "Y = normalizer_target.normalize(Y)\n",
    "\n",
    "Xd_test = normalizer_dynamic.normalize(Xd_test)\n",
    "Y_test = normalizer_target.normalize(Y_test)"
   ]
  },
  {
   "cell_type": "code",
   "execution_count": 9,
   "id": "f40a8446-9572-45f5-8c70-7b194755772b",
   "metadata": {
    "tags": []
   },
   "outputs": [],
   "source": [
    "train_dataset = get_dataset(dataset)(\n",
    "    torch.Tensor(Xd.values), torch.Tensor(Y.values), torch.Tensor(Xs.values)\n",
    ")\n",
    "test_dataset = get_dataset(dataset)(\n",
    "    torch.Tensor(Xd_test.values),\n",
    "    torch.Tensor(Y_test.values),\n",
    "    torch.Tensor(Xs.values),\n",
    ")"
   ]
  },
  {
   "cell_type": "code",
   "execution_count": 10,
   "id": "90fd4fcc-c39d-4339-983e-60d57aa56384",
   "metadata": {
    "tags": []
   },
   "outputs": [],
   "source": [
    "train_sampler_builder = SamplerBuilder(sampling_method= \"regular\", sampling_method_kwargs = {\"intervals\": [4,4], \"origin\": [0, 0]}, \n",
    "                                       minibatch_sampling=\"random\", processing=\"single-gpu\")\n",
    "\n",
    "test_sampler_builder = SamplerBuilder(sampling_method= \"regular\", sampling_method_kwargs = {\"intervals\": [4,4], \"origin\": [2, 2]}, \n",
    "                                      minibatch_sampling=\"sequential\", processing=\"single-gpu\")"
   ]
  },
  {
   "cell_type": "code",
   "execution_count": 10,
   "id": "b0f87bdf-5a0b-4e69-ab2d-37b5bc849f42",
   "metadata": {
    "tags": []
   },
   "outputs": [
    {
     "name": "stdout",
     "output_type": "stream",
     "text": [
      "[    0     1     2 ... 40137 40138 40139]\n",
      "found missing\n",
      "[    0     1     2 ... 40137 40138 40139]\n",
      "found missing\n"
     ]
    }
   ],
   "source": [
    "train_sampler_builder.initialize(\n",
    "    shape=SHAPE, mask_missing=masks.values, torch_dataset=train_dataset\n",
    ")\n",
    "test_sampler_builder.initialize(\n",
    "    shape=SHAPE, mask_missing=masks.values, torch_dataset=test_dataset\n",
    ")\n",
    "\n",
    "train_sampler = train_sampler_builder.get_sampler()\n",
    "test_sampler = test_sampler_builder.get_sampler()"
   ]
  },
  {
   "cell_type": "code",
   "execution_count": 11,
   "id": "8140b8fd-61bf-4e18-87d1-da61fff2ed70",
   "metadata": {
    "tags": []
   },
   "outputs": [
    {
     "data": {
      "text/plain": [
       "966"
      ]
     },
     "execution_count": 11,
     "metadata": {},
     "output_type": "execute_result"
    }
   ],
   "source": [
    "len(train_sampler)"
   ]
  },
  {
   "cell_type": "code",
   "execution_count": 12,
   "id": "8cbcec87-3c6d-44aa-bf67-caa5533bab78",
   "metadata": {
    "tags": []
   },
   "outputs": [],
   "source": [
    "train_loader = DataLoader(train_dataset, batch_size=BATCH , sampler=train_sampler)\n",
    "test_loader = DataLoader(test_dataset, batch_size=BATCH , sampler=test_sampler)"
   ]
  },
  {
   "cell_type": "code",
   "execution_count": 13,
   "id": "909de5f6-3dec-44e4-be10-9a15fa926ed5",
   "metadata": {
    "tags": []
   },
   "outputs": [
    {
     "name": "stdout",
     "output_type": "stream",
     "text": [
      "torch.Size([256, 1096, 3]) torch.Size([256, 6]) torch.Size([256, 1096, 2])\n",
      "torch.Size([256, 1096, 3]) torch.Size([256, 6]) torch.Size([256, 1096, 2])\n",
      "torch.Size([256, 1096, 3]) torch.Size([256, 6]) torch.Size([256, 1096, 2])\n",
      "torch.Size([198, 1096, 3]) torch.Size([198, 6]) torch.Size([198, 1096, 2])\n"
     ]
    }
   ],
   "source": [
    "for d,y,s in test_loader:\n",
    "    print(d.shape, y.shape, s.shape)"
   ]
  },
  {
   "cell_type": "code",
   "execution_count": 14,
   "id": "4d994869-0f00-412e-8f3f-6a3c96df12ff",
   "metadata": {
    "tags": []
   },
   "outputs": [],
   "source": [
    "model = CuDNNLSTM(\n",
    "                  hidden_size=HIDDEN_SIZE, \n",
    "                  dynamic_input_size=DYNAMIC_INPUT_SIZE,\n",
    "                  static_input_size=STATIC_INPUT_SIZE, \n",
    "                  output_size=OUTPUT_SIZE\n",
    ")"
   ]
  },
  {
   "cell_type": "code",
   "execution_count": null,
   "id": "025ae5cd-2860-4752-baff-9f9fec8dc795",
   "metadata": {
    "tags": []
   },
   "outputs": [],
   "source": [
    "model.to(device)\n",
    "opt = optim.Adam(model.parameters(), lr=1e-3)\n",
    "lr_scheduler = ReduceLROnPlateau(opt, mode=\"min\", factor=0.5, patience=10)\n",
    "\n",
    "loss_fn = RMSELoss(target_weight=TARGET_WEIGHTS)\n",
    "metric_fn = MSEMetric(target_names=target_names)"
   ]
  },
  {
   "cell_type": "code",
   "execution_count": 17,
   "id": "9b345f49-99a2-48ef-967c-f897678c7bbf",
   "metadata": {
    "tags": []
   },
   "outputs": [
    {
     "name": "stdout",
     "output_type": "stream",
     "text": [
      "<hython.trainer.RNNTrainParams object at 0x75c5eddb73d0>\n"
     ]
    }
   ],
   "source": [
    "trainer = RNNTrainer(\n",
    "    RNNTrainParams(\n",
    "               experiment=experiment, \n",
    "               temporal_subsampling=TEMPORAL_SUBSAMPLING, \n",
    "               temporal_subset=TEMPORAL_SUBSET, \n",
    "               seq_length=SEQ_LENGTH, \n",
    "               target_names=target_names,\n",
    "               metric_func=metric_fn,\n",
    "               loss_func=loss_fn)\n",
    ")"
   ]
  },
  {
   "cell_type": "code",
   "execution_count": 18,
   "id": "013bfb1c-4b3f-4ad5-8d4d-11413bcdc96a",
   "metadata": {
    "tags": []
   },
   "outputs": [],
   "source": [
    "file_surr_output = f\"{dir_surr_output}/{experiment}_{surr_model_output}\""
   ]
  },
  {
   "cell_type": "code",
   "execution_count": 19,
   "id": "bcbf45a6-b7fb-4979-a4b5-e7a9348ccd29",
   "metadata": {
    "tags": []
   },
   "outputs": [
    {
     "name": "stderr",
     "output_type": "stream",
     "text": [
      "  5%|████▊                                                                                            | 1/20 [00:03<01:06,  3.48s/it]"
     ]
    },
    {
     "name": "stdout",
     "output_type": "stream",
     "text": [
      "Copied best model weights!\n",
      "train loss: 0.334943026304245\n",
      "val loss: 0.23262612521648407\n"
     ]
    },
    {
     "name": "stderr",
     "output_type": "stream",
     "text": [
      " 10%|█████████▋                                                                                       | 2/20 [00:06<01:00,  3.36s/it]"
     ]
    },
    {
     "name": "stdout",
     "output_type": "stream",
     "text": [
      "Copied best model weights!\n",
      "train loss: 0.2291126549243927\n",
      "val loss: 0.19504931569099426\n"
     ]
    },
    {
     "name": "stderr",
     "output_type": "stream",
     "text": [
      " 15%|██████████████▌                                                                                  | 3/20 [00:10<00:56,  3.33s/it]"
     ]
    },
    {
     "name": "stdout",
     "output_type": "stream",
     "text": [
      "Copied best model weights!\n",
      "train loss: 0.2037280797958374\n",
      "val loss: 0.18034091591835022\n"
     ]
    },
    {
     "name": "stderr",
     "output_type": "stream",
     "text": [
      " 20%|███████████████████▍                                                                             | 4/20 [00:13<00:53,  3.32s/it]"
     ]
    },
    {
     "name": "stdout",
     "output_type": "stream",
     "text": [
      "Copied best model weights!\n",
      "train loss: 0.19209489226341248\n",
      "val loss: 0.17188407480716705\n"
     ]
    },
    {
     "name": "stderr",
     "output_type": "stream",
     "text": [
      " 25%|████████████████████████▎                                                                        | 5/20 [00:16<00:49,  3.31s/it]"
     ]
    },
    {
     "name": "stdout",
     "output_type": "stream",
     "text": [
      "Copied best model weights!\n",
      "train loss: 0.17233218252658844\n",
      "val loss: 0.15777923166751862\n"
     ]
    },
    {
     "name": "stderr",
     "output_type": "stream",
     "text": [
      " 30%|█████████████████████████████                                                                    | 6/20 [00:19<00:46,  3.32s/it]"
     ]
    },
    {
     "name": "stdout",
     "output_type": "stream",
     "text": [
      "train loss: 0.17111092805862427\n",
      "val loss: 0.16199226677417755\n"
     ]
    },
    {
     "name": "stderr",
     "output_type": "stream",
     "text": [
      " 35%|█████████████████████████████████▉                                                               | 7/20 [00:23<00:43,  3.31s/it]"
     ]
    },
    {
     "name": "stdout",
     "output_type": "stream",
     "text": [
      "train loss: 0.16514703631401062\n",
      "val loss: 0.16428394615650177\n"
     ]
    },
    {
     "name": "stderr",
     "output_type": "stream",
     "text": [
      " 40%|██████████████████████████████████████▊                                                          | 8/20 [00:26<00:39,  3.33s/it]"
     ]
    },
    {
     "name": "stdout",
     "output_type": "stream",
     "text": [
      "Copied best model weights!\n",
      "train loss: 0.15988361835479736\n",
      "val loss: 0.1514347642660141\n"
     ]
    },
    {
     "name": "stderr",
     "output_type": "stream",
     "text": [
      " 45%|███████████████████████████████████████████▋                                                     | 9/20 [00:29<00:36,  3.32s/it]"
     ]
    },
    {
     "name": "stdout",
     "output_type": "stream",
     "text": [
      "Copied best model weights!\n",
      "train loss: 0.15970999002456665\n",
      "val loss: 0.14869336783885956\n"
     ]
    },
    {
     "name": "stderr",
     "output_type": "stream",
     "text": [
      " 50%|████████████████████████████████████████████████                                                | 10/20 [00:33<00:33,  3.34s/it]"
     ]
    },
    {
     "name": "stdout",
     "output_type": "stream",
     "text": [
      "Copied best model weights!\n",
      "train loss: 0.1520548313856125\n",
      "val loss: 0.14865261316299438\n"
     ]
    },
    {
     "name": "stderr",
     "output_type": "stream",
     "text": [
      " 55%|████████████████████████████████████████████████████▊                                           | 11/20 [00:36<00:30,  3.35s/it]"
     ]
    },
    {
     "name": "stdout",
     "output_type": "stream",
     "text": [
      "Copied best model weights!\n",
      "train loss: 0.15567360818386078\n",
      "val loss: 0.14332056045532227\n"
     ]
    },
    {
     "name": "stderr",
     "output_type": "stream",
     "text": [
      " 60%|█████████████████████████████████████████████████████████▌                                      | 12/20 [00:40<00:26,  3.35s/it]"
     ]
    },
    {
     "name": "stdout",
     "output_type": "stream",
     "text": [
      "Copied best model weights!\n",
      "train loss: 0.1524980366230011\n",
      "val loss: 0.13846355676651\n"
     ]
    },
    {
     "name": "stderr",
     "output_type": "stream",
     "text": [
      " 65%|██████████████████████████████████████████████████████████████▍                                 | 13/20 [00:43<00:23,  3.36s/it]"
     ]
    },
    {
     "name": "stdout",
     "output_type": "stream",
     "text": [
      "train loss: 0.1515013873577118\n",
      "val loss: 0.14645281434059143\n"
     ]
    },
    {
     "name": "stderr",
     "output_type": "stream",
     "text": [
      " 70%|███████████████████████████████████████████████████████████████████▏                            | 14/20 [00:46<00:20,  3.39s/it]"
     ]
    },
    {
     "name": "stdout",
     "output_type": "stream",
     "text": [
      "Copied best model weights!\n",
      "train loss: 0.1454916000366211\n",
      "val loss: 0.13520723581314087\n"
     ]
    },
    {
     "name": "stderr",
     "output_type": "stream",
     "text": [
      " 75%|████████████████████████████████████████████████████████████████████████                        | 15/20 [00:50<00:16,  3.39s/it]"
     ]
    },
    {
     "name": "stdout",
     "output_type": "stream",
     "text": [
      "train loss: 0.15067853033542633\n",
      "val loss: 0.14693757891654968\n"
     ]
    },
    {
     "name": "stderr",
     "output_type": "stream",
     "text": [
      " 80%|████████████████████████████████████████████████████████████████████████████▊                   | 16/20 [00:53<00:13,  3.38s/it]"
     ]
    },
    {
     "name": "stdout",
     "output_type": "stream",
     "text": [
      "train loss: 0.14916273951530457\n",
      "val loss: 0.14164432883262634\n"
     ]
    },
    {
     "name": "stderr",
     "output_type": "stream",
     "text": [
      " 85%|█████████████████████████████████████████████████████████████████████████████████▌              | 17/20 [00:56<00:10,  3.38s/it]"
     ]
    },
    {
     "name": "stdout",
     "output_type": "stream",
     "text": [
      "Copied best model weights!\n",
      "train loss: 0.14563961327075958\n",
      "val loss: 0.1326623260974884\n"
     ]
    },
    {
     "name": "stderr",
     "output_type": "stream",
     "text": [
      " 90%|██████████████████████████████████████████████████████████████████████████████████████▍         | 18/20 [01:00<00:06,  3.38s/it]"
     ]
    },
    {
     "name": "stdout",
     "output_type": "stream",
     "text": [
      "train loss: 0.14873971045017242\n",
      "val loss: 0.13747841119766235\n"
     ]
    },
    {
     "name": "stderr",
     "output_type": "stream",
     "text": [
      " 95%|███████████████████████████████████████████████████████████████████████████████████████████▏    | 19/20 [01:03<00:03,  3.38s/it]"
     ]
    },
    {
     "name": "stdout",
     "output_type": "stream",
     "text": [
      "train loss: 0.14613090455532074\n",
      "val loss: 0.14217986166477203\n"
     ]
    },
    {
     "name": "stderr",
     "output_type": "stream",
     "text": [
      "100%|████████████████████████████████████████████████████████████████████████████████████████████████| 20/20 [01:07<00:00,  3.36s/it]"
     ]
    },
    {
     "name": "stdout",
     "output_type": "stream",
     "text": [
      "Copied best model weights!\n",
      "train loss: 0.13625884056091309\n",
      "val loss: 0.13256071507930756\n"
     ]
    },
    {
     "name": "stderr",
     "output_type": "stream",
     "text": [
      "\n"
     ]
    }
   ],
   "source": [
    "# train\n",
    "model, loss_history, metric_history = train_val(\n",
    "    trainer,\n",
    "    model,\n",
    "    train_loader,\n",
    "    test_loader,\n",
    "    EPOCHS,\n",
    "    opt,\n",
    "    lr_scheduler,\n",
    "    file_surr_output,\n",
    "    device,\n",
    "    TIME_RANGE,\n",
    ")"
   ]
  },
  {
   "cell_type": "code",
   "execution_count": 21,
   "id": "9185ef42-f8b0-4841-ad50-6bdbb25b27ac",
   "metadata": {
    "tags": []
   },
   "outputs": [
    {
     "data": {
      "image/png": "[encoded data removed]",
      "text/plain": [
       "<Figure size 1200x600 with 3 Axes>"
      ]
     },
     "metadata": {},
     "output_type": "display_data"
    }
   ],
   "source": [
    "lepochs = list(range(1, EPOCHS + 1))\n",
    "\n",
    "fig, axs = plt.subplots(3, 1, figsize= (12,6), sharex=True)\n",
    "\n",
    "axs[0].plot(lepochs, metric_history['train_vwc'], marker='.', linestyle='-', color='b', label='Training')\n",
    "axs[0].plot(lepochs, metric_history['val_vwc'], marker='.', linestyle='-', color='r', label='Validation')\n",
    "axs[0].set_title('SM')\n",
    "axs[0].set_ylabel(metric_fn.__class__.__name__)\n",
    "axs[0].grid(True)\n",
    "axs[0].legend(bbox_to_anchor=(1,1))\n",
    "\n",
    "axs[1].plot(lepochs, metric_history['train_actevap'], marker='.', linestyle='-', color='b', label='Training')\n",
    "axs[1].plot(lepochs, metric_history['val_actevap'], marker='.', linestyle='-', color='r', label='Validation')\n",
    "axs[1].set_title('ET')\n",
    "axs[1].set_ylabel(metric_fn.__class__.__name__)\n",
    "axs[1].grid(True)\n",
    "\n",
    "axs[2].plot(lepochs, [i.detach().cpu().numpy() for i in loss_history['train']], marker='.', linestyle='-', color='b', label='Training')\n",
    "axs[2].plot(lepochs, [i.detach().cpu().numpy() for i in loss_history['val']], marker='.', linestyle='-', color='r', label='Validation')\n",
    "axs[2].set_title('Loss')\n",
    "axs[2].set_xlabel('Epochs')\n",
    "axs[2].set_ylabel(loss_fn.__name__)\n",
    "axs[2].grid(True)"
   ]
  },
  {
   "cell_type": "code",
   "execution_count": null,
   "id": "fb2ba337-3624-4527-91a6-7fad2fbc0d63",
   "metadata": {},
   "outputs": [],
   "source": []
  }
 ],
 "metadata": {
  "kernelspec": {
   "display_name": "emulator",
   "language": "python",
   "name": "emulator"
  },
  "language_info": {
   "codemirror_mode": {
    "name": "ipython",
    "version": 3
   },
   "file_extension": ".py",
   "mimetype": "text/x-python",
   "name": "python",
   "nbconvert_exporter": "python",
   "pygments_lexer": "ipython3",
   "version": "3.11.6"
  }
 },
 "nbformat": 4,
 "nbformat_minor": 5
}
