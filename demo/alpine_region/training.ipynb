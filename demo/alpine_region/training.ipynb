{
 "cells": [
  {
   "cell_type": "markdown",
   "id": "913afcd2-a55e-4804-adf4-699a3f3a660a",
   "metadata": {
    "tags": []
   },
   "source": [
    "# Train"
   ]
  },
  {
   "cell_type": "code",
<<<<<<< HEAD
   "execution_count": null,
=======
   "execution_count": 2,
>>>>>>> dev
   "id": "ed6a0ce1-163e-40ac-9e7e-e6d5f364bd84",
   "metadata": {
    "tags": []
   },
   "outputs": [],
   "source": [
    "%load_ext autoreload\n",
    "%autoreload "
   ]
  },
  {
   "cell_type": "code",
<<<<<<< HEAD
   "execution_count": null,
=======
   "execution_count": 3,
>>>>>>> dev
   "id": "905ded3e-309a-4267-9a07-937d72429971",
   "metadata": {
    "tags": []
   },
<<<<<<< HEAD
   "outputs": [],
=======
   "outputs": [
    {
     "name": "stderr",
     "output_type": "stream",
     "text": [
      "/home/iferrario/.local/miniforge/envs/emulator/lib/python3.11/site-packages/tqdm/auto.py:21: TqdmWarning: IProgress not found. Please update jupyter and ipywidgets. See https://ipywidgets.readthedocs.io/en/stable/user_install.html\n",
      "  from .autonotebook import tqdm as notebook_tqdm\n",
      "ERROR 1: PROJ: proj_create_from_database: Open of /home/iferrario/.local/miniforge/envs/emulator/share/proj failed\n"
     ]
    }
   ],
>>>>>>> dev
   "source": [
    "import torch\n",
    "import numpy as np\n",
    "import xarray as xr\n",
    "from pathlib import Path\n",
    "import os\n",
    "import random\n",
    "\n",
    "import dask\n",
    "from torch import nn\n",
    "\n",
    "from hython.datasets.datasets import LSTMDataset, get_dataset\n",
    "from hython.trainer import train_val\n",
    "from hython.sampler import SamplerBuilder\n",
    "from hython.metrics import MSEMetric\n",
    "from hython.losses import RMSELoss\n",
    "from hython.utils import read_from_zarr, set_seed\n",
    "from hython.models.cudnnLSTM import CuDNNLSTM\n",
    "from hython.trainer import RNNTrainer, RNNTrainParams\n",
    "from hython.normalizer import Normalizer\n",
    "\n",
    "\n",
    "import torch.optim as optim\n",
    "from torch.optim.lr_scheduler import ReduceLROnPlateau\n",
    "from torch.utils.data import DataLoader, Dataset\n",
    "\n",
    "# viz\n",
    "import matplotlib.pyplot as plt\n",
    "from hython.viz import plot_sampler"
   ]
  },
  {
   "cell_type": "markdown",
   "id": "22a78cf5-bd72-4a3d-bd18-ce49d0e8fdee",
   "metadata": {
    "tags": []
   },
   "source": [
    "# Settings"
   ]
  },
  {
   "cell_type": "code",
<<<<<<< HEAD
   "execution_count": null,
=======
   "execution_count": 4,
>>>>>>> dev
   "id": "f3186025-caa2-429f-88da-8c9c6b23c292",
   "metadata": {
    "tags": []
   },
   "outputs": [],
   "source": [
<<<<<<< HEAD
    "surr_input =  \"adg1km_eobs_preprocessed.zarr\"\n",
    "dir_surr_input = \"/mnt/CEPH_PROJECTS/InterTwin/hydrologic_data/surrogate_input\"\n",
    "\n",
=======
    "file_surr_input =  \"https://eurac-eo.s3.amazonaws.com/INTERTWIN/SURROGATE_INPUT/adg1km_eobs_preprocessed.zarr/\"\n",
    "\n",
    "\n",
>>>>>>> dev
    "surr_model_output = \"adg_demo.pt\"\n",
    "experiment = \"exp1\" # experiment name\n",
    "\n",
    "dir_surr_output = \"/mnt/CEPH_PROJECTS/InterTwin/hydrologic_data/surrogate_model\"\n",
    "dir_stats_output =  \"/mnt/CEPH_PROJECTS/InterTwin/hydrologic_data/surrogate_stats\"\n",
    "\n",
    "\n",
    "# === FILTER ==============================================================\n",
    "\n",
    "# train/test temporal range\n",
    "train_temporal_range = slice(\"2016-01-01\",\"2018-12-31\")\n",
    "test_temporal_range = slice(\"2019-01-01\", \"2020-12-31\")\n",
    "\n",
    "dynamic_names = [\"precip\", \"pet\", \"temp\"] \n",
    "static_names = [ 'thetaS', 'thetaR', 'RootingDepth', 'Swood','KsatVer', \"Sl\"] \n",
    "target_names = [ \"vwc\", \"actevap\"]\n",
    "\n",
    " \n",
    "\n",
    "# === MASK ========================================================================================\n",
    "\n",
    "mask_names = [\"mask_missing\", \"mask_lake\"] # names depends on preprocessing application\n",
    "\n",
    "# === DATASET ========================================================================================\n",
    "\n",
    "dataset = \"LSTMDataset\"\n",
    "\n",
    "# == MODEL  ========================================================================================\n",
    "\n",
    "# DL model hyper parameters\n",
    "HIDDEN_SIZE = 24\n",
    "DYNAMIC_INPUT_SIZE = len(dynamic_names)\n",
    "STATIC_INPUT_SIZE = len(static_names)\n",
    "OUTPUT_SIZE = len(target_names)\n",
    "TARGET_WEIGHTS = {t:0.5 for t in target_names}\n",
    "\n",
    "# === SAMPLER/TRAINER ===================================================================================\n",
    "\n",
    "SEED = 1696\n",
    "EPOCHS = 20\n",
    "BATCH = 256\n",
    "TEMPORAL_SUBSAMPLING = True\n",
    "TEMPORAL_SUBSET = [150, 150] \n",
    "SEQ_LENGTH = 60\n",
    "\n",
    "assert sum(v for v in TARGET_WEIGHTS.values()) == 1, \"check target weights\"\n",
    "\n"
   ]
  },
  {
   "cell_type": "code",
<<<<<<< HEAD
   "execution_count": null,
=======
   "execution_count": 5,
>>>>>>> dev
   "id": "7c67bf4f-55e3-46fc-927b-72711d831f0f",
   "metadata": {
    "tags": []
   },
   "outputs": [],
   "source": [
    "set_seed(SEED)\n",
    "device = torch.device(\"cuda:0\" if torch.cuda.is_available() else \"cpu\")"
   ]
  },
  {
   "cell_type": "code",
<<<<<<< HEAD
   "execution_count": null,
=======
   "execution_count": 6,
>>>>>>> dev
   "id": "9e6e528c-6196-423e-8c21-bc914cfd3dec",
   "metadata": {
    "tags": []
   },
   "outputs": [],
   "source": [
    "Xd = (\n",
    "    read_from_zarr(url=file_surr_input, group=\"xd\", multi_index=\"gridcell\")\n",
    "    .sel(time=train_temporal_range)\n",
    "    .xd.sel(feat=dynamic_names)\n",
    ")\n",
    "Xs = read_from_zarr(url=file_surr_input, group=\"xs\", multi_index=\"gridcell\").xs.sel(\n",
    "    feat=static_names\n",
    ")\n",
    "Y = (\n",
    "    read_from_zarr(url=file_surr_input, group=\"y\", multi_index=\"gridcell\")\n",
    "    .sel(time=train_temporal_range)\n",
    "    .y.sel(feat=target_names)\n",
    ")\n",
    "\n",
    "SHAPE = Xd.attrs[\"shape\"]\n",
    "# TIME_RANGE = Xd.shape[1]\n",
    "# print(TIME_RANGE)\n",
    "\n",
    "# === READ TEST ===================================================================\n",
    "\n",
    "Y_test = (\n",
    "    read_from_zarr(url=file_surr_input, group=\"y\", multi_index=\"gridcell\")\n",
    "    .sel(time=test_temporal_range)\n",
    "    .y.sel(feat=target_names)\n",
    ")\n",
    "Xd_test = (\n",
    "    read_from_zarr(url=file_surr_input, group=\"xd\", multi_index=\"gridcell\")\n",
    "    .sel(time=test_temporal_range)\n",
    "    .xd.sel(feat=dynamic_names)\n",
    ")"
   ]
  },
  {
   "cell_type": "code",
<<<<<<< HEAD
   "execution_count": null,
=======
   "execution_count": 7,
>>>>>>> dev
   "id": "e7fa8da5-3e7c-43e3-87fd-ae6de26c1e13",
   "metadata": {
    "tags": []
   },
<<<<<<< HEAD
   "outputs": [],
=======
   "outputs": [
    {
     "data": {
      "text/plain": [
       "((40140, 1096, 3), (40140, 1096, 2), (40140, 731, 2), (40140, 731, 3))"
      ]
     },
     "execution_count": 7,
     "metadata": {},
     "output_type": "execute_result"
    }
   ],
>>>>>>> dev
   "source": [
    "Xd.shape, Y.shape, Y_test.shape, Xd_test.shape"
   ]
  },
  {
   "cell_type": "code",
   "execution_count": null,
   "id": "c6ed190a-3743-45d0-a941-3975b13910ce",
   "metadata": {
    "tags": []
   },
   "outputs": [],
   "source": [
    "masks = (\n",
    "    read_from_zarr(url=file_surr_input, group=\"mask\")\n",
    "    .mask.sel(mask_layer=mask_names)\n",
    "    .any(dim=\"mask_layer\")\n",
    ")"
   ]
  },
  {
   "cell_type": "code",
   "execution_count": null,
   "id": "4edc1ebd-220b-46eb-b88b-b451d34ed330",
   "metadata": {
    "tags": []
   },
   "outputs": [],
   "source": [
    "train_sampler_builder = SamplerBuilder(sampling_method= \"downsampling_regular\", \n",
    "                                       sampling_method_kwargs = {\"intervals\": [4,4], \"origin\": [0, 0]},\n",
    "                                       minibatch_sampling=\"random\", \n",
    "                                       processing=\"single-gpu\")\n",
    "\n",
    "test_sampler_builder = SamplerBuilder(sampling_method= \"downsampling_regular\", \n",
    "                                      sampling_method_kwargs = {\"intervals\": [4,4], \"origin\": [2, 2]}, \n",
    "                                      minibatch_sampling=\"sequential\", \n",
    "                                      processing=\"single-gpu\")"
   ]
  },
  {
   "cell_type": "code",
   "execution_count": null,
   "id": "9bcd13bd-697a-4302-b496-5de9d50670c2",
   "metadata": {
    "tags": []
   },
   "outputs": [],
   "source": [
    "train_sampler_builder.initialize(\n",
    "    shape=SHAPE, mask_missing=masks.values, \n",
    ")\n",
    "test_sampler_builder.initialize(\n",
    "    shape=SHAPE, mask_missing=masks.values, \n",
    ")\n",
    "\n",
    "train_sampler = train_sampler_builder.get_sampler()\n",
    "test_sampler = test_sampler_builder.get_sampler()"
   ]
  },
  {
   "cell_type": "code",
   "execution_count": null,
   "id": "63e18fb2-5f2d-49a6-b45d-ebc1c5ec0b01",
   "metadata": {
    "tags": []
   },
   "outputs": [],
   "source": [
    "normalizer_dynamic = Normalizer(method=\"standardize\", type=\"spacetime\", shape=\"1D\")\n",
    "\n",
    "normalizer_static = Normalizer(method=\"standardize\", type=\"space\", shape=\"1D\")\n",
    "\n",
    "normalizer_target = Normalizer(method=\"standardize\", type=\"spacetime\", shape=\"1D\")\n",
    "\n",
    "normalizer_dynamic.compute_stats(Xd[train_sampler_builder.indices])\n",
    "normalizer_static.compute_stats(Xs[train_sampler_builder.indices])\n",
    "normalizer_target.compute_stats(Y[train_sampler_builder.indices])\n",
    "\n",
    "Xd = normalizer_dynamic.normalize(Xd, write_to = f\"{dir_stats_output}/{experiment}_xd.npy\")\n",
    "Xs = normalizer_static.normalize(Xs, write_to = f\"{dir_stats_output}/{experiment}_xs.npy\")\n",
    "Y = normalizer_target.normalize(Y, write_to = f\"{dir_stats_output}/{experiment}_y.npy\")\n",
    "\n",
    "Xd_test = normalizer_dynamic.normalize(Xd_test)\n",
    "Y_test = normalizer_target.normalize(Y_test)"
   ]
  },
  {
   "cell_type": "code",
   "execution_count": null,
   "id": "b180f95e-6dc7-41de-9ce3-e7924312a597",
   "metadata": {
    "tags": []
   },
   "outputs": [],
   "source": [
    "train_dataset = get_dataset(dataset)(\n",
    "    torch.Tensor(Xd.values), torch.Tensor(Y.values), torch.Tensor(Xs.values)\n",
    ")\n",
    "test_dataset = get_dataset(dataset)(\n",
    "    torch.Tensor(Xd_test.values),\n",
    "    torch.Tensor(Y_test.values),\n",
    "    torch.Tensor(Xs.values),\n",
    ")"
   ]
  },
  {
   "cell_type": "code",
   "execution_count": null,
   "id": "8140b8fd-61bf-4e18-87d1-da61fff2ed70",
   "metadata": {
    "tags": []
   },
   "outputs": [],
   "source": [
    "len(train_sampler)"
   ]
  },
  {
   "cell_type": "code",
   "execution_count": null,
   "id": "8cbcec87-3c6d-44aa-bf67-caa5533bab78",
   "metadata": {
    "tags": []
   },
   "outputs": [],
   "source": [
    "train_loader = DataLoader(train_dataset, batch_size=BATCH , sampler=train_sampler)\n",
    "test_loader = DataLoader(test_dataset, batch_size=BATCH , sampler=test_sampler)"
   ]
  },
  {
   "cell_type": "code",
   "execution_count": null,
   "id": "4d994869-0f00-412e-8f3f-6a3c96df12ff",
   "metadata": {
    "tags": []
   },
   "outputs": [],
   "source": [
    "model = CuDNNLSTM(\n",
    "                  hidden_size=HIDDEN_SIZE, \n",
    "                  dynamic_input_size=DYNAMIC_INPUT_SIZE,\n",
    "                  static_input_size=STATIC_INPUT_SIZE, \n",
    "                  output_size=OUTPUT_SIZE\n",
    ")"
   ]
  },
  {
   "cell_type": "code",
   "execution_count": null,
   "id": "532a7e5a-7e32-4f36-844a-15c7189cfd8c",
   "metadata": {
    "tags": []
   },
   "outputs": [],
   "source": [
    "model.to(device)\n",
    "opt = optim.Adam(model.parameters(), lr=1e-3)\n",
    "lr_scheduler = ReduceLROnPlateau(opt, mode=\"min\", factor=0.5, patience=10)"
   ]
  },
  {
   "cell_type": "code",
   "execution_count": null,
   "id": "d93d5c06-721f-4c86-b32a-c50d7e371418",
   "metadata": {
    "tags": []
   },
   "outputs": [],
   "source": [
    "loss_fn = RMSELoss(target_weight=TARGET_WEIGHTS)\n",
    "metric_fn = MSEMetric(target_names=target_names)"
   ]
  },
  {
   "cell_type": "code",
   "execution_count": null,
   "id": "9b345f49-99a2-48ef-967c-f897678c7bbf",
   "metadata": {
    "tags": []
   },
   "outputs": [],
   "source": [
    "trainer = RNNTrainer(\n",
    "    RNNTrainParams(\n",
    "               experiment=experiment, \n",
    "               temporal_subsampling=TEMPORAL_SUBSAMPLING, \n",
    "               temporal_subset=TEMPORAL_SUBSET, \n",
    "               seq_length=SEQ_LENGTH, \n",
    "               target_names=target_names,\n",
    "               metric_func=metric_fn,\n",
    "               loss_func=loss_fn)\n",
    ")"
   ]
  },
  {
   "cell_type": "code",
   "execution_count": null,
   "id": "013bfb1c-4b3f-4ad5-8d4d-11413bcdc96a",
   "metadata": {
    "tags": []
   },
   "outputs": [],
   "source": [
    "file_surr_output = f\"{dir_surr_output}/{experiment}_{surr_model_output}\""
   ]
  },
  {
   "cell_type": "code",
   "execution_count": null,
   "id": "4dd69379-43c0-4e1e-b8f1-b1b28e673c2f",
   "metadata": {
    "tags": []
   },
   "outputs": [],
   "source": [
    "# train\n",
    "model, loss_history, metric_history = train_val(\n",
    "    trainer,\n",
    "    model,\n",
    "    train_loader,\n",
    "    test_loader,\n",
    "    EPOCHS,\n",
    "    opt,\n",
    "    lr_scheduler,\n",
    "    file_surr_output,\n",
    "    device\n",
    ")"
   ]
  },
  {
   "cell_type": "code",
   "execution_count": null,
   "id": "9185ef42-f8b0-4841-ad50-6bdbb25b27ac",
   "metadata": {
    "tags": []
   },
   "outputs": [],
   "source": [
    "lepochs = list(range(1, EPOCHS + 1))\n",
    "\n",
    "fig, axs = plt.subplots(3, 1, figsize= (12,6), sharex=True)\n",
    "\n",
    "axs[0].plot(lepochs, metric_history['train_vwc'], marker='.', linestyle='-', color='b', label='Training')\n",
    "axs[0].plot(lepochs, metric_history['val_vwc'], marker='.', linestyle='-', color='r', label='Validation')\n",
    "axs[0].set_title('SM')\n",
    "axs[0].set_ylabel(metric_fn.__class__.__name__)\n",
    "axs[0].grid(True)\n",
    "axs[0].legend(bbox_to_anchor=(1,1))\n",
    "\n",
    "axs[1].plot(lepochs, metric_history['train_actevap'], marker='.', linestyle='-', color='b', label='Training')\n",
    "axs[1].plot(lepochs, metric_history['val_actevap'], marker='.', linestyle='-', color='r', label='Validation')\n",
    "axs[1].set_title('ET')\n",
    "axs[1].set_ylabel(metric_fn.__class__.__name__)\n",
    "axs[1].grid(True)\n",
    "\n",
    "axs[2].plot(lepochs, [i.detach().cpu().numpy() for i in loss_history['train']], marker='.', linestyle='-', color='b', label='Training')\n",
    "axs[2].plot(lepochs, [i.detach().cpu().numpy() for i in loss_history['val']], marker='.', linestyle='-', color='r', label='Validation')\n",
    "axs[2].set_title('Loss')\n",
    "axs[2].set_xlabel('Epochs')\n",
    "axs[2].set_ylabel(loss_fn.__name__)\n",
    "axs[2].grid(True)"
   ]
  },
  {
   "cell_type": "code",
   "execution_count": null,
   "id": "4c9d0f88-0a14-4a72-ae09-efa4ff79f566",
   "metadata": {},
   "outputs": [],
   "source": []
  }
 ],
 "metadata": {
  "kernelspec": {
   "display_name": "emulator",
   "language": "python",
   "name": "emulator"
  },
  "language_info": {
   "codemirror_mode": {
    "name": "ipython",
    "version": 3
   },
   "file_extension": ".py",
   "mimetype": "text/x-python",
   "name": "python",
   "nbconvert_exporter": "python",
   "pygments_lexer": "ipython3",
   "version": "3.11.6"
  }
 },
 "nbformat": 4,
 "nbformat_minor": 5
}
