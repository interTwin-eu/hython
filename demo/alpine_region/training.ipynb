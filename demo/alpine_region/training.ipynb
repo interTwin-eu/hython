{
 "cells": [
  {
   "cell_type": "markdown",
   "id": "913afcd2-a55e-4804-adf4-699a3f3a660a",
   "metadata": {
    "tags": []
   },
   "source": [
    "# Train"
   ]
  },
  {
   "cell_type": "code",
   "execution_count": 3,
   "id": "ed6a0ce1-163e-40ac-9e7e-e6d5f364bd84",
   "metadata": {
    "tags": []
   },
   "outputs": [],
   "source": [
    "%load_ext autoreload\n",
    "%autoreload "
   ]
  },
  {
   "cell_type": "code",
   "execution_count": 19,
   "id": "f4635e3f-8a34-48ac-b4f5-d871bdfcda0b",
   "metadata": {
    "tags": []
   },
   "outputs": [],
   "source": [
    "import torch\n",
    "import numpy as np\n",
    "import xarray as xr\n",
    "from pathlib import Path\n",
    "import os\n",
    "import random\n",
    "\n",
    "import dask\n",
    "from torch import nn\n",
    "\n",
    "from hython.preprocess import apply_normalization\n",
    "from hython.datasets.datasets import LSTMDataset\n",
    "from hython.train_val import train_val\n",
    "from hython.sampler import RegularIntervalSampler, DataLoaderSpatialSampler\n",
    "from hython.metrics import mse_metric\n",
    "from hython.losses import RMSELoss\n",
    "from hython.utils import read_from_zarr, missing_location_idx, get_sampler_config, set_seed\n",
    "from hython.models.cudnnLSTM import CuDNNLSTM\n",
    "from hython.trainer import RNNTrainer, RNNTrainParams\n",
    "\n",
    "import torch.optim as optim\n",
    "from torch.optim.lr_scheduler import ReduceLROnPlateau\n",
    "from torch.utils.data import DataLoader, Dataset\n",
    "\n",
    "# viz\n",
    "import matplotlib.pyplot as plt\n",
    "from hython.viz import plot_sampler"
   ]
  },
  {
   "cell_type": "markdown",
   "id": "22a78cf5-bd72-4a3d-bd18-ce49d0e8fdee",
   "metadata": {
    "tags": []
   },
   "source": [
    "# Settings"
   ]
  },
  {
   "cell_type": "code",
   "execution_count": 27,
   "id": "f3186025-caa2-429f-88da-8c9c6b23c292",
   "metadata": {
    "tags": []
   },
   "outputs": [
    {
     "data": {
      "text/plain": [
       "PosixPath('/mnt/CEPH_PROJECTS/InterTwin/hydrologic_data/surrogate_model/alps1km_eobs_s000100_vVA_h24_s1696.pt')"
      ]
     },
     "execution_count": 27,
     "metadata": {},
     "output_type": "execute_result"
    }
   ],
   "source": [
    "WFLOW_MODEL =  \"alps1km_eobs\"\n",
    "SURROGATE_MODEL = \"alps1km_eobs\"\n",
    "EXP = \"s000100\"\n",
    "SEED = 1696\n",
    "\n",
    "dynamic_names = [\"precip\", \"pet\", \"temp\"] \n",
    "static_names = [ 'thetaS', 'thetaR', 'RootingDepth', 'Swood','KsatVer', \"Sl\"] \n",
    "target_names = [ \"vwc\",\"actevap\"] \n",
    "\n",
    "# DL model hyper parameters\n",
    "HIDDEN_SIZE = 24\n",
    "INPUT_SIZE = len(dynamic_names)\n",
    "OUTPUT_SIZE = len(target_names)\n",
    "NUMBER_STATIC_PREDICTORS = len(static_names)\n",
    "TARGET_WEIGHTS = {t:0.5 for t in target_names}\n",
    "\n",
    "# train/val parameters\n",
    "\n",
    "train_start = \"2016-01-01\"\n",
    "train_end = \"2016-12-31\"\n",
    "train_range = slice(train_start,train_end)\n",
    "\n",
    "EPOCHS = 20\n",
    "SPATIAL_BATCH_SIZE = 256\n",
    "TEMPORAL_SAMPLING_SIZE = 150 \n",
    "SEQ_LENGTH = 360 \n",
    "\n",
    "# sampler parameters\n",
    "\n",
    "INTERVALS = [10, 10] # km\n",
    "TRAIN_ORIGIN = [0, 0]\n",
    "VAL_ORIGIN = [5, 5]\n",
    "\n",
    "# missing policy\n",
    "remove_lakes = True\n",
    "\n",
    "assert sum(v for v in TARGET_WEIGHTS.values()) == 1, \"check target weights\"\n",
    "TARGET_INITIALS = \"\".join([i[0].capitalize() for i in target_names])\n",
    "\n",
    "# paths\n",
    "WD =  Path(\"/mnt/CEPH_PROJECTS/InterTwin/hydrologic_data/\")\n",
    "SURR_INPUT = WD / \"surrogate_training\" / f\"{WFLOW_MODEL}.zarr\"\n",
    "SURR_MODEL_WEIGHTS = WD / \"surrogate_model\" / f\"{SURROGATE_MODEL}_{EXP}_v{TARGET_INITIALS}_h{HIDDEN_SIZE}_s{SEED}.pt\"\n",
    "SURR_MODEL_WEIGHTS"
   ]
  },
  {
   "cell_type": "code",
   "execution_count": 28,
   "id": "7c67bf4f-55e3-46fc-927b-72711d831f0f",
   "metadata": {
    "tags": []
   },
   "outputs": [],
   "source": [
    "set_seed(SEED)\n",
    "device = torch.device(\"cuda:0\" if torch.cuda.is_available() else \"cpu\")"
   ]
  },
  {
   "cell_type": "code",
   "execution_count": 9,
   "id": "018504d9-8bf3-4845-a0ac-02a034ceb44b",
   "metadata": {
    "tags": []
   },
   "outputs": [
    {
     "name": "stdout",
     "output_type": "stream",
     "text": [
      "(810953, 366, 3) (810953, 6) (810953, 366, 2)\n"
     ]
    }
   ],
   "source": [
    "# Read from preprocessed data, select train range\n",
    "\n",
    "# train\n",
    "Xd = read_from_zarr(url=SURR_INPUT, group=\"xd\", multi_index=\"gridcell\").sel(time = train_range).xd\n",
    "Xs = read_from_zarr(url=SURR_INPUT, group=\"xs\", multi_index=\"gridcell\").xs\n",
    "Y = read_from_zarr(url=SURR_INPUT, group=\"y\", multi_index=\"gridcell\").sel(time = train_range).y\n",
    "\n",
    "# other \n",
    "# wflow_lakes = Xs.sel(feat=\"wflow_lakeareas\").unstack()\n",
    "#wflow_dem = Xs.sel(feat=\"wflow_dem\").unstack()\n",
    "\n",
    "# select features and targets \n",
    "Xd = Xd.sel(feat=dynamic_names)\n",
    "Xs = Xs.sel(feat=static_names)\n",
    "Y = Y.sel(feat=target_names)\n",
    "\n",
    "print(Xd.shape, Xs.shape, Y.shape)\n",
    "# read masks\n",
    "mask_missing = read_from_zarr(url=SURR_INPUT, group=\"mask\" ).mask"
   ]
  },
  {
   "cell_type": "code",
   "execution_count": 10,
   "id": "9e457ac4-2554-4eb8-bdb5-a65a85cf4556",
   "metadata": {
    "tags": []
   },
   "outputs": [
    {
     "name": "stdout",
     "output_type": "stream",
     "text": [
      "SamplerResult(\n",
      " - id_grid_2d: (689, 1177) \n",
      " - idx_sampled_1d: (51035,) \n",
      " - idx_sampled_1d_nomissing: (23740,)) \n",
      " - idx_missing_1d: (431441,) \n",
      " - sampled_grid_dims: (173, 295) \n",
      " - xr_coords: None\n"
     ]
    }
   ],
   "source": [
    "# Define the spatial samplers for both training and validation sets. Remeber the subsets should not overlap, so choose different origins.\n",
    "\n",
    "# training set\n",
    "spatial_train_sampler = RegularIntervalSampler(intervals = INTERVALS, origin = TRAIN_ORIGIN)\n",
    "\n",
    "# validation set\n",
    "spatial_val_sampler = RegularIntervalSampler(intervals = INTERVALS, origin = VAL_ORIGIN) \n",
    "\n",
    "# Apply the samplers: return the cell indices that can be used later in training and validation to sample the whole spatial domain.\n",
    "data2d  = mask_missing.values\n",
    "\n",
    "idx = missing_location_idx(Xs.values)\n",
    "\n",
    "sampler_train_meta = spatial_train_sampler.sampling_idx(data2d, mask_missing)\n",
    "sampler_val_meta = spatial_val_sampler.sampling_idx(data2d, mask_missing)\n",
    "\n",
    "# some useful metadata\n",
    "print(sampler_train_meta)\n",
    "\n",
    "# check location of training and validation sets\n",
    "#_ = plot_sampler(mask_missing, sampler_train_meta, sampler_val_meta, figsize= (8, 8 ), markersize = 2)\n"
   ]
  },
  {
   "cell_type": "code",
   "execution_count": 11,
   "id": "28e88b5b-4249-42ad-9dd6-5820c7dd4247",
   "metadata": {
    "tags": []
   },
   "outputs": [
    {
     "name": "stdout",
     "output_type": "stream",
     "text": [
      "Percentage of sampled data:  1.0425669456213946 %\n"
     ]
    }
   ],
   "source": [
    "print(\"Percentage of sampled data: \",(len(sampler_train_meta.idx_sampled_1d_nomissing)/ len(Xs[~idx].values.flatten()))*100, \"%\")"
   ]
  },
  {
   "cell_type": "code",
   "execution_count": 12,
   "id": "d3269824-2648-4062-badd-f594fe090334",
   "metadata": {
    "tags": []
   },
   "outputs": [],
   "source": [
    "# # Normalizing\n",
    "\n",
    "# statistics from training set\n",
    "_, d_m, d_std = apply_normalization(Xd[sampler_train_meta.idx_sampled_1d_nomissing], type = \"spacetime\", how ='standard')\n",
    "_, s_m, s_std = apply_normalization(Xs[sampler_train_meta.idx_sampled_1d_nomissing], type = \"space\", how ='standard')\n",
    "_, y_m, y_std = apply_normalization(Y[sampler_train_meta.idx_sampled_1d_nomissing], type = \"spacetime\", how ='standard')\n",
    "\n",
    "# normalize training set and validation set\n",
    "Xd = apply_normalization(Xd, type=\"spacetime\", how=\"standard\", m1 = d_m, m2 = d_std).compute()\n",
    "Xs = apply_normalization(Xs, type=\"space\", how=\"standard\",  m1 = s_m, m2 = s_std).compute()\n",
    "Y = apply_normalization(Y, type=\"spacetime\",how=\"standard\", m1 = y_m, m2 = y_std).compute()"
   ]
  },
  {
   "cell_type": "markdown",
   "id": "a747bc5a-fe58-4c63-8945-55e660dd9208",
   "metadata": {
    "tags": []
   },
   "source": [
    "# Prepare Model inputs"
   ]
  },
  {
   "cell_type": "code",
   "execution_count": 13,
   "id": "6fecaecc-4aa4-409a-9031-800d694f92c3",
   "metadata": {
    "tags": []
   },
   "outputs": [
    {
     "name": "stdout",
     "output_type": "stream",
     "text": [
      "torch.Size([810953, 6]) torch.Size([810953, 366, 3]) torch.Size([810953, 366, 2])\n"
     ]
    }
   ],
   "source": [
    "Xs = torch.Tensor(Xs.values)\n",
    "Xd = torch.Tensor(Xd.values)\n",
    "Y = torch.Tensor(Y.values)\n",
    "\n",
    "print(Xs.shape, Xd.shape, Y.shape)\n",
    "\n",
    "# init datasets\n",
    "dataset = LSTMDataset(Xd, Y, Xs)\n",
    "\n",
    "train_sampler = DataLoaderSpatialSampler(dataset, num_samples=1, sampling_indices = sampler_train_meta.idx_sampled_1d_nomissing.tolist())\n",
    "valid_sampler = DataLoaderSpatialSampler(dataset, num_samples=1, sampling_indices = sampler_val_meta.idx_sampled_1d_nomissing.tolist())\n",
    "\n",
    "train_loader = DataLoader(dataset, batch_size=SPATIAL_BATCH_SIZE, shuffle=False, sampler = train_sampler) # implement shuffling in the sampler!\n",
    "val_loader = DataLoader(dataset, batch_size=SPATIAL_BATCH_SIZE, shuffle=False, sampler = valid_sampler)\n"
   ]
  },
  {
   "cell_type": "markdown",
   "id": "feaedbed-af8b-44da-a677-a56bed8b8706",
   "metadata": {
    "tags": []
   },
   "source": [
    "# Initialize Model"
   ]
  },
  {
   "cell_type": "code",
   "execution_count": 29,
   "id": "b046cecf-ee3c-4b85-b68b-bfd62089e87d",
   "metadata": {
    "tags": []
   },
   "outputs": [
    {
     "data": {
      "text/plain": [
       "CuDNNLSTM(\n",
       "  (fc0): Linear(in_features=9, out_features=24, bias=True)\n",
       "  (lstm): LSTM(24, 24, batch_first=True)\n",
       "  (fc1): Linear(in_features=24, out_features=2, bias=True)\n",
       ")"
      ]
     },
     "execution_count": 29,
     "metadata": {},
     "output_type": "execute_result"
    }
   ],
   "source": [
    "model = CuDNNLSTM(INPUT_SIZE, HIDDEN_SIZE, OUTPUT_SIZE, NUMBER_STATIC_PREDICTORS)\n",
    "model = model.to(device)\n",
    "model"
   ]
  },
  {
   "cell_type": "markdown",
   "id": "0751f35d-23e0-4dcf-b67b-b034964f2a87",
   "metadata": {
    "tags": []
   },
   "source": [
    "# Train/valid settings"
   ]
  },
  {
   "cell_type": "code",
   "execution_count": 30,
   "id": "968ad206-3e94-4624-8924-fee31dbed23a",
   "metadata": {
    "tags": []
   },
   "outputs": [],
   "source": [
    "opt = optim.Adam(model.parameters(), lr=1e-3)\n",
    "\n",
    "\n",
    "loss_fn = RMSELoss(target_weight=TARGET_WEIGHTS)\n",
    "\n",
    "\n",
    "metric_fn = mse_metric\n",
    "\n",
    "lr_scheduler = ReduceLROnPlateau(opt, mode='min',factor=0.5, patience=10)\n"
   ]
  },
  {
   "cell_type": "code",
   "execution_count": 31,
   "id": "7c7925ca-ed6a-4275-9cb4-7f069ff2615b",
   "metadata": {
    "tags": []
   },
   "outputs": [],
   "source": [
    "params_train={\n",
    "    \"experiment\":EXP,\n",
    "    \"subsample\": True,\n",
    "    \"n_subsample\": TEMPORAL_SAMPLING_SIZE,\n",
    "    \"seq_length\": SEQ_LENGTH,\n",
    "    \"time_range\": Y.shape[1],\n",
    "    \"loss_func\": loss_fn,\n",
    "    \"metric_func\": metric_fn,\n",
    "    \"train_dataloader\": train_loader, \n",
    "    \"val_dataloader\": val_loader,\n",
    "    \"target_names\": target_names\n",
    "}"
   ]
  },
  {
   "cell_type": "code",
   "execution_count": 32,
   "id": "eeb0ef9a-dc6e-4f05-855b-415b395afe91",
   "metadata": {
    "tags": []
   },
   "outputs": [],
   "source": [
    "trainer = RNNTrainer(params_train)"
   ]
  },
  {
   "cell_type": "markdown",
   "id": "15aae90c-39ff-42ef-bbaa-77e04da01f40",
   "metadata": {
    "tags": []
   },
   "source": [
    "# Run Train/valid"
   ]
  },
  {
   "cell_type": "code",
   "execution_count": 33,
   "id": "ca36e585-beff-41d4-96b6-e02027b74348",
   "metadata": {
    "tags": []
   },
   "outputs": [
    {
     "name": "stderr",
     "output_type": "stream",
     "text": [
      "  0%|                                                                                                         | 0/20 [02:22<?, ?it/s]\n"
     ]
    },
    {
     "ename": "RuntimeError",
     "evalue": "File /mnt/CEPH_PROJECTS/InterTwin/hydrologic_data/surrogate_model/alps1km_eobs_s000100_vVA_h24_s1696.pt cannot be opened.",
     "output_type": "error",
     "traceback": [
      "\u001b[0;31m---------------------------------------------------------------------------\u001b[0m",
      "\u001b[0;31mRuntimeError\u001b[0m                              Traceback (most recent call last)",
      "Cell \u001b[0;32mIn[33], line 1\u001b[0m\n\u001b[0;32m----> 1\u001b[0m model, loss_history, metric_history \u001b[38;5;241m=\u001b[39m \u001b[43mtrain_val\u001b[49m\u001b[43m(\u001b[49m\u001b[43mtrainer\u001b[49m\u001b[43m,\u001b[49m\u001b[43m \u001b[49m\u001b[43mmodel\u001b[49m\u001b[43m,\u001b[49m\u001b[43m \u001b[49m\u001b[43mEPOCHS\u001b[49m\u001b[43m,\u001b[49m\u001b[43m \u001b[49m\u001b[43mopt\u001b[49m\u001b[43m,\u001b[49m\u001b[43m \u001b[49m\u001b[43mlr_scheduler\u001b[49m\u001b[43m,\u001b[49m\u001b[43m \u001b[49m\u001b[43mSURR_MODEL_WEIGHTS\u001b[49m\u001b[43m,\u001b[49m\u001b[43m \u001b[49m\u001b[43mdevice\u001b[49m\u001b[43m)\u001b[49m\n",
      "File \u001b[0;32m~/dev/hython/hython/train_val.py:45\u001b[0m, in \u001b[0;36mtrain_val\u001b[0;34m(trainer, model, epochs, optimizer, lr_scheduler, dp_weights, device)\u001b[0m\n\u001b[1;32m     43\u001b[0m     best_loss \u001b[38;5;241m=\u001b[39m val_loss\n\u001b[1;32m     44\u001b[0m     best_model_weights \u001b[38;5;241m=\u001b[39m copy\u001b[38;5;241m.\u001b[39mdeepcopy(model\u001b[38;5;241m.\u001b[39mstate_dict())\n\u001b[0;32m---> 45\u001b[0m     \u001b[43mtrainer\u001b[49m\u001b[38;5;241;43m.\u001b[39;49m\u001b[43msave_weights\u001b[49m\u001b[43m(\u001b[49m\u001b[43mmodel\u001b[49m\u001b[43m,\u001b[49m\u001b[43m \u001b[49m\u001b[43mdp_weights\u001b[49m\u001b[43m)\u001b[49m\n\u001b[1;32m     46\u001b[0m     \u001b[38;5;28mprint\u001b[39m(\u001b[38;5;124m\"\u001b[39m\u001b[38;5;124mCopied best model weights!\u001b[39m\u001b[38;5;124m\"\u001b[39m)\n\u001b[1;32m     48\u001b[0m \u001b[38;5;28mprint\u001b[39m(\u001b[38;5;124mf\u001b[39m\u001b[38;5;124m\"\u001b[39m\u001b[38;5;124mtrain loss: \u001b[39m\u001b[38;5;132;01m{\u001b[39;00mtrain_loss\u001b[38;5;132;01m}\u001b[39;00m\u001b[38;5;124m\"\u001b[39m)\n",
      "File \u001b[0;32m~/dev/hython/hython/trainer.py:49\u001b[0m, in \u001b[0;36mBaseTrainer.save_weights\u001b[0;34m(self, model, fp)\u001b[0m\n\u001b[1;32m     48\u001b[0m \u001b[38;5;28;01mdef\u001b[39;00m \u001b[38;5;21msave_weights\u001b[39m(\u001b[38;5;28mself\u001b[39m, model, fp):\n\u001b[0;32m---> 49\u001b[0m     \u001b[43mtorch\u001b[49m\u001b[38;5;241;43m.\u001b[39;49m\u001b[43msave\u001b[49m\u001b[43m(\u001b[49m\u001b[43mmodel\u001b[49m\u001b[38;5;241;43m.\u001b[39;49m\u001b[43mstate_dict\u001b[49m\u001b[43m(\u001b[49m\u001b[43m)\u001b[49m\u001b[43m,\u001b[49m\u001b[43m \u001b[49m\u001b[43mfp\u001b[49m\u001b[43m)\u001b[49m\n",
      "File \u001b[0;32m~/.local/miniforge/envs/emulator/lib/python3.11/site-packages/torch/serialization.py:618\u001b[0m, in \u001b[0;36msave\u001b[0;34m(obj, f, pickle_module, pickle_protocol, _use_new_zipfile_serialization, _disable_byteorder_record)\u001b[0m\n\u001b[1;32m    615\u001b[0m _check_save_filelike(f)\n\u001b[1;32m    617\u001b[0m \u001b[38;5;28;01mif\u001b[39;00m _use_new_zipfile_serialization:\n\u001b[0;32m--> 618\u001b[0m     \u001b[38;5;28;01mwith\u001b[39;00m \u001b[43m_open_zipfile_writer\u001b[49m\u001b[43m(\u001b[49m\u001b[43mf\u001b[49m\u001b[43m)\u001b[49m \u001b[38;5;28;01mas\u001b[39;00m opened_zipfile:\n\u001b[1;32m    619\u001b[0m         _save(obj, opened_zipfile, pickle_module, pickle_protocol, _disable_byteorder_record)\n\u001b[1;32m    620\u001b[0m         \u001b[38;5;28;01mreturn\u001b[39;00m\n",
      "File \u001b[0;32m~/.local/miniforge/envs/emulator/lib/python3.11/site-packages/torch/serialization.py:492\u001b[0m, in \u001b[0;36m_open_zipfile_writer\u001b[0;34m(name_or_buffer)\u001b[0m\n\u001b[1;32m    490\u001b[0m \u001b[38;5;28;01melse\u001b[39;00m:\n\u001b[1;32m    491\u001b[0m     container \u001b[38;5;241m=\u001b[39m _open_zipfile_writer_buffer\n\u001b[0;32m--> 492\u001b[0m \u001b[38;5;28;01mreturn\u001b[39;00m \u001b[43mcontainer\u001b[49m\u001b[43m(\u001b[49m\u001b[43mname_or_buffer\u001b[49m\u001b[43m)\u001b[49m\n",
      "File \u001b[0;32m~/.local/miniforge/envs/emulator/lib/python3.11/site-packages/torch/serialization.py:463\u001b[0m, in \u001b[0;36m_open_zipfile_writer_file.__init__\u001b[0;34m(self, name)\u001b[0m\n\u001b[1;32m    461\u001b[0m     \u001b[38;5;28msuper\u001b[39m()\u001b[38;5;241m.\u001b[39m\u001b[38;5;21m__init__\u001b[39m(torch\u001b[38;5;241m.\u001b[39m_C\u001b[38;5;241m.\u001b[39mPyTorchFileWriter(\u001b[38;5;28mself\u001b[39m\u001b[38;5;241m.\u001b[39mfile_stream))\n\u001b[1;32m    462\u001b[0m \u001b[38;5;28;01melse\u001b[39;00m:\n\u001b[0;32m--> 463\u001b[0m     \u001b[38;5;28msuper\u001b[39m()\u001b[38;5;241m.\u001b[39m\u001b[38;5;21m__init__\u001b[39m(\u001b[43mtorch\u001b[49m\u001b[38;5;241;43m.\u001b[39;49m\u001b[43m_C\u001b[49m\u001b[38;5;241;43m.\u001b[39;49m\u001b[43mPyTorchFileWriter\u001b[49m\u001b[43m(\u001b[49m\u001b[38;5;28;43mself\u001b[39;49m\u001b[38;5;241;43m.\u001b[39;49m\u001b[43mname\u001b[49m\u001b[43m)\u001b[49m)\n",
      "\u001b[0;31mRuntimeError\u001b[0m: File /mnt/CEPH_PROJECTS/InterTwin/hydrologic_data/surrogate_model/alps1km_eobs_s000100_vVA_h24_s1696.pt cannot be opened."
     ]
    }
   ],
   "source": [
    "model, loss_history, metric_history = train_val(trainer, model, EPOCHS, opt, lr_scheduler, SURR_MODEL_WEIGHTS, device)"
   ]
  },
  {
   "cell_type": "code",
   "execution_count": 14,
   "id": "9185ef42-f8b0-4841-ad50-6bdbb25b27ac",
   "metadata": {
    "tags": []
   },
   "outputs": [
    {
     "data": {
      "image/png": "[encoded data removed]",
      "text/plain": [
       "<Figure size 1200x600 with 3 Axes>"
      ]
     },
     "metadata": {},
     "output_type": "display_data"
    }
   ],
   "source": [
    "lepochs = list(range(1,params_train[\"num_epochs\"] + 1))\n",
    "\n",
    "fig, axs = plt.subplots(3, 1, figsize= (12,6), sharex=True)\n",
    "\n",
    "axs[0].plot(lepochs, sm_metric_history['train_vwc'], marker='.', linestyle='-', color='b', label='Training')\n",
    "axs[0].plot(lepochs, sm_metric_history['val_vwc'], marker='.', linestyle='-', color='r', label='Validation')\n",
    "#axs[0].title('Validation Loss - SM')\n",
    "axs[0].set_ylabel(metric_fn.__name__)\n",
    "axs[0].grid(True)\n",
    "axs[0].legend(bbox_to_anchor=(1,1))\n",
    "\n",
    "axs[1].plot(lepochs, sm_metric_history['train_actevap'], marker='.', linestyle='-', color='b', label='Training')\n",
    "axs[1].plot(lepochs, sm_metric_history['val_actevap'], marker='.', linestyle='-', color='r', label='Validation')\n",
    "#axs[0].title('Validation Loss - SM')\n",
    "axs[1].set_ylabel(metric_fn.__name__)\n",
    "axs[1].grid(True)\n",
    "\n",
    "axs[2].plot(lepochs, [i.detach().cpu().numpy() for i in sm_loss_history['train']], marker='.', linestyle='-', color='b', label='Training')\n",
    "axs[2].plot(lepochs, [i.detach().cpu().numpy() for i in sm_loss_history['val']], marker='.', linestyle='-', color='r', label='Validation')\n",
    "#axs[0].title('Validation Loss - SM')\n",
    "axs[2].set_xlabel('Epochs')\n",
    "axs[2].set_ylabel(loss_fn.__name__)\n",
    "axs[2].grid(True)"
   ]
  },
  {
   "cell_type": "code",
   "execution_count": 15,
   "id": "3d71c778-9b42-4cda-98c7-5dd075bb3b02",
   "metadata": {
    "tags": []
   },
   "outputs": [],
   "source": [
    "# save model\n",
    "torch.save(model.state_dict(), SURR_MODEL_WEIGHTS)"
   ]
  },
  {
   "cell_type": "code",
   "execution_count": null,
   "id": "fb2ba337-3624-4527-91a6-7fad2fbc0d63",
   "metadata": {},
   "outputs": [],
   "source": []
  }
 ],
 "metadata": {
  "kernelspec": {
   "display_name": "emulator",
   "language": "python",
   "name": "emulator"
  },
  "language_info": {
   "codemirror_mode": {
    "name": "ipython",
    "version": 3
   },
   "file_extension": ".py",
   "mimetype": "text/x-python",
   "name": "python",
   "nbconvert_exporter": "python",
   "pygments_lexer": "ipython3",
   "version": "3.11.6"
  }
 },
 "nbformat": 4,
 "nbformat_minor": 5
}
