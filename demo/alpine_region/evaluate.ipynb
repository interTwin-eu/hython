{
 "cells": [
  {
   "cell_type": "markdown",
   "id": "913afcd2-a55e-4804-adf4-699a3f3a660a",
   "metadata": {
    "tags": []
   },
   "source": [
    "# Inference"
   ]
  },
  {
   "cell_type": "code",
   "execution_count": null,
   "id": "28047b41-d328-4911-b525-366a787cb584",
   "metadata": {
    "tags": []
   },
   "outputs": [],
   "source": [
    "from torch.utils.data import DataLoader # type: ignore\n",
    "import torch.optim as optim # type: ignore\n",
    "from torch.optim.lr_scheduler import ReduceLROnPlateau # type: ignore\n",
    "from torch import nn # type: ignore\n",
    "\n",
    "from hython.models.cudnnLSTM import CuDNNLSTM\n",
    "from hython.datasets.datasets import get_dataset\n",
    "from hython.sampler import *\n",
    "from hython.normalizer import Normalizer\n",
    "from hython.trainer import *\n",
    "from hython.utils import read_from_zarr, missing_location_idx, set_seed, prepare_for_plotting\n",
    "from hython.evaluator import predict\n",
    "from hython.trainer import train_val\n",
    "\n",
    "import matplotlib.pyplot as plt\n",
    "from hython.viz import map_kge, map_bias, map_pbias, map_pearson, map_rmse, map_at_timesteps, ts_compare, plot_sampler, compute_kge_parallel, ts_plot, map_points"
   ]
  },
  {
   "cell_type": "markdown",
   "id": "22a78cf5-bd72-4a3d-bd18-ce49d0e8fdee",
   "metadata": {
    "tags": []
   },
   "source": [
    "# Settings"
   ]
  },
  {
   "cell_type": "code",
   "execution_count": null,
   "id": "928fa390-cc03-4046-90f2-48250df953ff",
   "metadata": {
    "tags": []
   },
   "outputs": [],
   "source": [
    "## inputs\n",
    "\n",
    "# wflow model name, i.e. surrogate input file produced by the preprocessing application\n",
    "\n",
    "surr_input = \"adg1km_eobs_preprocessed.zarr\"\n",
    "\n",
    "surr_model =  \"adg_demo.pt\"\n",
    "experiment =  \"exp1\"  \n",
    "\n",
    "\n",
    "dir_wflow_model = \"adg1km_eobs2\"\n",
    "file_target = \"run_default/output.nc\"\n",
    "\n",
    "# input directory \n",
    "dir_surr_input = \"/mnt/CEPH_PROJECTS/InterTwin/hydrologic_data/surrogate_input\"\n",
    "dir_surr_model = \"/mnt/CEPH_PROJECTS/InterTwin/hydrologic_data/surrogate_model\"\n",
    "dir_wflow_input = \"/mnt/CEPH_PROJECTS/InterTwin/Wflow/models\"\n",
    "\n",
    "## outputs\n",
    "\n",
    "# directory to save the statistics computed during the normalization\n",
    "dir_stats_output = \"/mnt/CEPH_PROJECTS/InterTwin/hydrologic_data/surrogate_stats\"\n",
    "\n",
    "# === FILTER ==============================================================\n",
    "\n",
    "# select temporal range\n",
    "train_temporal_range = [\"2016-01-01\", \"2018-12-31\"] \n",
    "valid_temporal_range = [\"2019-01-01\", \"2020-12-31\"]\n",
    "\n",
    "# select variable names\n",
    "dynamic_names = [\"precip\", \"pet\", \"temp\"]\n",
    "static_names = [ 'thetaS', 'thetaR', 'RootingDepth', 'Swood','KsatVer', \"Sl\"]\n",
    "target_names = [ \"vwc\", \"actevap\"]\n",
    "\n",
    "# === MASK ========================================================================================\n",
    "\n",
    "mask_names = [\"mask_missing\", \"mask_lake\"] # names depends on preprocessing application\n",
    "\n",
    "# == MODEL  ========================================================================================\n",
    "\n",
    "# DL model hyper parameters\n",
    "HIDDEN_SIZE = 24\n",
    "DYNAMIC_INPUT_SIZE = len(dynamic_names)\n",
    "STATIC_INPUT_SIZE = len(static_names)\n",
    "OUTPUT_SIZE = len(target_names)\n",
    "\n",
    "BATCH = 256\n",
    "\n",
    "# === METRICS =====================================================================================\n",
    "\n",
    "metrics = { \n",
    "  \"vwc\": [\"rmse\", \"kge\",  \"pbias\"],\n",
    "  \"actevap\": [\"rmse\", \"kge\",  \"pbias\"]\n",
    "}"
   ]
  },
  {
   "cell_type": "code",
   "execution_count": null,
   "id": "aefb1d13-4482-4917-afb4-4a1d0dde6e22",
   "metadata": {
    "tags": []
   },
   "outputs": [],
   "source": [
    "file_surr_input = f\"{dir_surr_input}/{surr_input}\"\n",
    "\n",
    "file_surr_model = f\"{dir_surr_model}/{experiment}_{surr_model}\"\n",
    "\n",
    "file_wflow_target = f\"{dir_wflow_input}/{dir_wflow_model}/{file_target}\""
   ]
  },
  {
   "cell_type": "code",
   "execution_count": null,
   "id": "9a19f2e6-6f5c-425c-b957-03878b7cb799",
   "metadata": {
    "tags": []
   },
   "outputs": [],
   "source": [
    "device = torch.device(\"cuda:0\" if torch.cuda.is_available() else \"cpu\")\n",
    "\n",
    "train_temporal_range = slice(*train_temporal_range)\n",
    "valid_temporal_range = slice(*valid_temporal_range)"
   ]
  },
  {
   "cell_type": "code",
   "execution_count": null,
   "id": "99efcc36-3d67-4231-96e5-68e2e83fc71b",
   "metadata": {
    "tags": []
   },
   "outputs": [],
   "source": [
    "# === READ TRAIN ============================================================= \n",
    "\n",
    "Xs = read_from_zarr(url=file_surr_input, group=\"xs\", multi_index=\"gridcell\").xs.sel(\n",
    "     feat=static_names\n",
    " )\n",
    "\n",
    "\n",
    "# === READ TEST ============================================================= \n",
    "\n",
    "Xd_test = (\n",
    "    read_from_zarr(url=file_surr_input, group=\"xd\", multi_index=\"gridcell\")\n",
    "    .sel(time=valid_temporal_range)\n",
    "    .xd.sel(feat=dynamic_names)\n",
    ")\n",
    "Y_test = (\n",
    "    read_from_zarr(url=file_surr_input, group=\"y\", multi_index=\"gridcell\")\n",
    "    .sel(time=valid_temporal_range)\n",
    "    .y.sel(feat=target_names)\n",
    ")"
   ]
  },
  {
   "cell_type": "code",
   "execution_count": null,
   "id": "52cc7734-83c9-41e3-ae24-3444ab5eaaef",
   "metadata": {},
   "outputs": [],
   "source": [
    "# === MASK ============================================================= \n",
    "masks = (\n",
    "    read_from_zarr(url=file_surr_input, group=\"mask\")\n",
    "    .mask.sel(mask_layer=mask_names)\n",
    "    .any(dim=\"mask_layer\")\n",
    ")"
   ]
  },
  {
   "cell_type": "code",
   "execution_count": null,
   "id": "cc0cd8fd-4a42-451a-b22f-caf9d37a586d",
   "metadata": {},
   "outputs": [],
   "source": [
    "# === NORMALIZE ============================================================= \n",
    "\n",
    "normalizer_dynamic = Normalizer(method=\"standardize\", type=\"spacetime\", shape=\"1D\")\n",
    "\n",
    "normalizer_static = Normalizer(method=\"standardize\", type=\"space\", shape=\"1D\")\n",
    "\n",
    "normalizer_target = Normalizer(method=\"standardize\", type=\"spacetime\", shape=\"1D\")\n",
    "\n",
    "\n",
    "normalizer_dynamic.read_stats(f\"{dir_stats_output}/{experiment}_xd.npy\")\n",
    "normalizer_static.read_stats(f\"{dir_stats_output}/{experiment}_xs.npy\")\n",
    "normalizer_target.read_stats(f\"{dir_stats_output}/{experiment}_y.npy\")\n",
    "\n",
    "\n",
    "Xd_test = normalizer_dynamic.normalize(Xd_test)\n",
    "Xs = normalizer_static.normalize(Xs)\n",
    "Y_test = normalizer_target.normalize(Y_test)\n",
    "\n",
    "\n"
   ]
  },
  {
   "cell_type": "code",
   "execution_count": null,
   "id": "40714531-12c1-42b9-82c0-afc79074fc41",
   "metadata": {},
   "outputs": [],
   "source": [
    "# ==== MODEL ============================================================================\n",
    "\n",
    "model = CuDNNLSTM(\n",
    "                  hidden_size=HIDDEN_SIZE, \n",
    "                  dynamic_input_size=DYNAMIC_INPUT_SIZE,\n",
    "                  static_input_size=STATIC_INPUT_SIZE, \n",
    "                  output_size=OUTPUT_SIZE\n",
    ")\n",
    "\n",
    "model.to(device)\n",
    "\n",
    "# model load precomputed weights \n",
    "print(f\"loading model {file_surr_model}\")\n",
    "model.load_state_dict(torch.load(file_surr_model))"
   ]
  },
  {
   "cell_type": "code",
   "execution_count": null,
   "id": "95ceb91e-378a-4b40-bec5-86f505e2ddf2",
   "metadata": {},
   "outputs": [],
   "source": [
    "# === PREDICT =============================================================================\n",
    "\n",
    "ds_target = xr.open_dataset(file_wflow_target, chunks= {\"time\":200}).isel(lat=slice(None, None, -1)).sel(layer=1, drop=True)\n",
    "\n",
    "lat, lon, time = len(masks.lat),len(masks.lon), Xd_test.shape[1]\n",
    "\n",
    "y_pred = predict(Xd_test.values, Xs.values, model, BATCH, device)\n",
    "\n",
    "\n",
    "y_pred = normalizer_target.denormalize(y_pred)\n",
    "\n",
    "Y_test = normalizer_target.denormalize( Y_test)"
   ]
  },
  {
   "cell_type": "code",
   "execution_count": null,
   "id": "349cd03d-4297-4166-8f49-9f2b73ace889",
   "metadata": {},
   "outputs": [],
   "source": [
    "# === EVALUATE ==============================================================================================\n",
    "\n",
    "for iv, var in enumerate(target_names):\n",
    "    print(var)\n",
    "    metrics_var = metrics.copy().pop(var)\n",
    "\n",
    "    y_target_plot, y_pred_plot = prepare_for_plotting(y_target= Y_test[:,:,[iv]].values,\n",
    "                                                y_pred = y_pred[:,:,[iv]], \n",
    "                                                shape = (lat, lon, time), \n",
    "                                                coords  = ds_target.sel(time=valid_temporal_range).coords)\n",
    "\n",
    "    y_target_plot= y_target_plot.where(~masks.values[...,None])\n",
    "    y_pred_plot = y_pred_plot.where(~masks.values[...,None])\n",
    "    \n",
    "    ts_compare(y_target_plot, y_pred_plot, lat = [46.4], lon = [11.4])    \n",
    "    \n",
    "    for metric in metrics_var:\n",
    "        print(metric)\n",
    "        if \"rmse\" in metric:\n",
    "            fig, ax, rmse = map_rmse(y_target_plot, y_pred_plot, unit = f\"{var} (mm)\", figsize = (8, 8), return_rmse=True, title=f\"{var} {metric}\")\n",
    "        elif \"kge\" in metric:\n",
    "            fig, ax, kge = map_kge(y_target_plot, y_pred_plot, figsize = (8, 8), return_kge =True, kwargs_imshow={\"vmin\":-0.5, \"vmax\":1},\n",
    "            ticks = np.linspace(-0.5, 1, 16), title=f\"{var} {metric}\")\n",
    "        elif \"pbias\" in metric:\n",
    "            fig, ax, pbias = map_pbias(y_target_plot, y_pred_plot, figsize = (8, 8), return_pbias=True, kwargs_imshow={\"vmin\":-100, \"vmax\":100}, \n",
    "                ticks = [l*10 for l in range(-10,11, 1)], title=f\"{var} {metric}\")\n",
    "        else:\n",
    "            print(f\"{metric} not found\")\n",
    "            continue"
   ]
  },
  {
   "cell_type": "code",
   "execution_count": null,
   "id": "5553c5db-324d-4605-88fd-d24c89ebdcef",
   "metadata": {},
   "outputs": [],
   "source": []
  },
  {
   "cell_type": "code",
   "execution_count": null,
   "id": "b50f0be9-6859-4f2c-a399-806defac9ecb",
   "metadata": {},
   "outputs": [],
   "source": []
  }
 ],
 "metadata": {
  "kernelspec": {
   "display_name": "emulator",
   "language": "python",
   "name": "emulator"
  },
  "language_info": {
   "codemirror_mode": {
    "name": "ipython",
    "version": 3
   },
   "file_extension": ".py",
   "mimetype": "text/x-python",
   "name": "python",
   "nbconvert_exporter": "python",
   "pygments_lexer": "ipython3",
   "version": "3.11.6"
  }
 },
 "nbformat": 4,
 "nbformat_minor": 5
}
