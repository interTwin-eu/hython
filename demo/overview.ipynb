{
 "cells": [
  {
   "cell_type": "code",
   "execution_count": 1,
   "id": "4e0bbd4c-03bb-4657-a09e-4924ba8a427c",
   "metadata": {},
   "outputs": [],
   "source": [
    "# Intro\n",
    "\n",
    "# Preprocessing\n",
    "\n",
    "# Training\n",
    "\n",
    "# Inference\n"
   ]
  },
  {
   "cell_type": "markdown",
   "id": "833cd10b-dbf7-481f-8c0a-eadd02e70c04",
   "metadata": {},
   "source": [
    "# Intro\n",
    "\n",
    "\n",
    "The surrogate's goal is to emulate the [wflow hydrological model](https://deltares.github.io/Wflow.jl/stable/) outputs,in particular:\n",
    "\n",
    "- Soil moisture\n",
    "- Actual evapotranspiration\n",
    "- River discharge\n",
    "\n",
    "This notebook shows the \n"
   ]
  },
  {
   "cell_type": "markdown",
   "id": "4a4eab48-0c32-458b-8a02-09c8f99e49a8",
   "metadata": {},
   "source": [
    "# Preprocessing\n",
    "\n",
    "Wflow runs on a gridded domain, discretized in time and space. The temporal resolution is 1 day and the spatial resolution is 1 km. The data temporal range that can be used for training and test is from 2007 to 2020.\n",
    "\n",
    "The wflow input/output data structure has 4 dimensions: lat, lon, time, feature.  \n",
    "\n",
    "The LSTM models works with a different structure: gridcell, time, feature. Therefore there is a need for reshaping the data back and forth for training and the visualization of the inference results on a map.\n"
   ]
  },
  {
   "cell_type": "code",
   "execution_count": null,
   "id": "e2f9d0d2-2ac5-4344-b161-b2bc0e759f6f",
   "metadata": {},
   "outputs": [],
   "source": []
  }
 ],
 "metadata": {
  "kernelspec": {
   "display_name": "dl-pytorch",
   "language": "python",
   "name": "dl-pytorch"
  },
  "language_info": {
   "codemirror_mode": {
    "name": "ipython",
    "version": 3
   },
   "file_extension": ".py",
   "mimetype": "text/x-python",
   "name": "python",
   "nbconvert_exporter": "python",
   "pygments_lexer": "ipython3",
   "version": "3.11.5"
  }
 },
 "nbformat": 4,
 "nbformat_minor": 5
}
