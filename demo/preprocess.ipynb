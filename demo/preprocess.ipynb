{
 "cells": [
  {
   "cell_type": "markdown",
   "id": "913afcd2-a55e-4804-adf4-699a3f3a660a",
   "metadata": {
    "tags": []
   },
   "source": [
    "# Preprocessing"
   ]
  },
  {
   "cell_type": "markdown",
   "id": "ec467c1e-c48f-4879-8307-283737d9560a",
   "metadata": {
    "tags": []
   },
   "source": [
    "The preprocessing step is required to \"reshape\" the raw output of Wflow_sbm into a configuration that can be readily used  by the LSTM model for training and inference. \n",
    "\n",
    "$ WFLOW\\_SBM: (lat, lon, time, feature) \\rightarrow LSTM: (gridcell, time, feature)$\n",
    "\n",
    "Depending on the number of features, the time range, time step and spatial resolution, the Wflow_sbm output may well reach several tens of GB, therefore the preprocessing step converts the original data format to .zarr."
   ]
  },
  {
   "cell_type": "code",
   "execution_count": 21,
   "id": "28047b41-d328-4911-b525-366a787cb584",
   "metadata": {
    "tags": []
   },
   "outputs": [],
   "source": [
    "import numpy as np\n",
    "import xarray as xr\n",
    "from pathlib import Path\n",
    "\n",
    "import dask\n",
    "\n",
    "from hython.preprocess import reshape\n",
    "from hython.utils import write_to_zarr, read_from_zarr\n",
    "\n",
    "from numcodecs import Blosc\n",
    "\n",
    "import matplotlib.pyplot as plt"
   ]
  },
  {
   "cell_type": "markdown",
   "id": "22a78cf5-bd72-4a3d-bd18-ce49d0e8fdee",
   "metadata": {
    "tags": []
   },
   "source": [
    "# Settings"
   ]
  },
  {
   "cell_type": "code",
   "execution_count": 11,
   "id": "bd091d03-fa98-4d96-b1ee-3fb894de6a88",
   "metadata": {
    "tags": []
   },
   "outputs": [],
   "source": [
    "wflow_model = \"datademo\" \n",
    "\n",
    "dynamic_names = [\"precip\", \"pet\", \"temp\"] #  WFLOW forcings, input features of the surrogate\n",
    "static_names = [ 'thetaS', 'thetaR', 'RootingDepth', 'Swood','KsatVer', \"Sl\", \"wflow_dem\"] # WFLOW static parameters, input features of the surrogate\n",
    "target_names = [ \"vwc\",\"actevap\"] # WFLOW outputs, targets of the surrogate\n",
    "\n",
    "fn_forcings =  \"forcings.nc\" \n",
    "fn_params = \"staticmaps.nc\"\n",
    "fn_targets = \"output.nc\"\n",
    "\n",
    "\n",
    "train_start = \"2016-01-01\"\n",
    "train_end = \"2018-12-31\"\n",
    "\n",
    "test_start = \"2019-01-01\"\n",
    "test_end = \"2020-12-31\"\n",
    "\n",
    "train_range = slice(train_start,train_end)\n",
    "test_range = slice(test_start, test_end)\n",
    "\n",
    "wd = Path(\"../data\") / wflow_model\n",
    "outd = wd\n",
    "\n",
    "fp_dynamic_forcings = wd / fn_forcings \n",
    "fp_wflow_static_params = wd / fn_params\n",
    "fp_target = wd / fn_targets"
   ]
  },
  {
   "cell_type": "code",
   "execution_count": 12,
   "id": "dc84b649-e1ce-4727-a5e9-332a4d87e2a5",
   "metadata": {
    "tags": []
   },
   "outputs": [],
   "source": [
    "# read data \n",
    "forcings = xr.open_dataset(fp_dynamic_forcings)\n",
    "params = xr.open_dataset(fp_wflow_static_params)\n",
    "targets = xr.open_dataset(fp_target).isel(lat=slice(None, None, -1))"
   ]
  },
  {
   "cell_type": "code",
   "execution_count": 15,
   "id": "f26f7403-5cbe-47ac-8190-f3ab8a584076",
   "metadata": {
    "tags": []
   },
   "outputs": [],
   "source": [
    "try:\n",
    "    forcings = forcings.rename({\"latitude\":\"lat\", \"longitude\":\"lon\"})\n",
    "    params = params.rename({\"latitude\":\"lat\", \"longitude\":\"lon\"})\n",
    "except:\n",
    "    pass"
   ]
  },
  {
   "cell_type": "code",
   "execution_count": 16,
   "id": "37c49039-6f0d-4370-bf9d-d6a152712546",
   "metadata": {
    "tags": []
   },
   "outputs": [],
   "source": [
    "# filter features\n",
    "params = params[static_names]\n",
    "forcings = forcings[dynamic_names]\n",
    "targets = targets[target_names]"
   ]
  },
  {
   "cell_type": "code",
   "execution_count": 17,
   "id": "dc2ff7ef-2c38-427d-b5dc-689a3713bee1",
   "metadata": {
    "scrolled": true,
    "tags": []
   },
   "outputs": [
    {
     "name": "stdout",
     "output_type": "stream",
     "text": [
      "dynamic:  (1452, 2192, 3)  => (GRIDCELL, TIME, FEATURE)\n",
      "static:  (1452, 7)  => (GRIDCELL, FEATURE)\n",
      "target:  (1452, 2191, 2)  => (GRIDCELL, TIME, TARGET)\n"
     ]
    }
   ],
   "source": [
    "# reshape\n",
    "Xd, Xs, Y  = reshape(\n",
    "                   forcings, \n",
    "                   params, \n",
    "                   targets,\n",
    "                   return_type=\"xarray\"\n",
    "                   )"
   ]
  },
  {
   "cell_type": "code",
   "execution_count": 18,
   "id": "20bb7b45-1874-4022-bc8b-55f197c2208f",
   "metadata": {
    "scrolled": true,
    "tags": []
   },
   "outputs": [],
   "source": [
    "# masking out missing data\n",
    "missing_mask = np.isnan(params[static_names[0]]).rename(\"mask\")"
   ]
  },
  {
   "cell_type": "code",
   "execution_count": 19,
   "id": "5398b094-5e8d-46da-b84e-41727021f986",
   "metadata": {
    "scrolled": true,
    "tags": []
   },
   "outputs": [],
   "source": [
    "# additional masking\n",
    "#wflow_lakes = params.wflow_lakeareas\n",
    "#mask_lakes = (wflow_lakes > 0).astype(np.bool_).rename(\"mask_lake\")"
   ]
  },
  {
   "cell_type": "code",
   "execution_count": 20,
   "id": "1815899f-9092-4c5d-b2cd-3c63fd980ec0",
   "metadata": {
    "scrolled": true,
    "tags": []
   },
   "outputs": [],
   "source": [
    "# write to zarr\n",
    "\n",
    "outfp = str(outd /  f\"{wflow_model}.zarr\")\n",
    "\n",
    "Y.attrs.clear()\n",
    "Xd.attrs.clear()\n",
    "\n",
    "compressor = Blosc(cname='zl4', clevel=4, shuffle=Blosc.BITSHUFFLE)\n",
    "\n",
    "write_to_zarr(Xd ,url= outfp, group=\"xd\", storage_options={\"compressor\":compressor}, chunks=\"auto\", multi_index=\"gridcell\")\n",
    "\n",
    "write_to_zarr(Y ,url= outfp,  group=\"y\", storage_options={\"compressor\":compressor}, chunks=\"auto\", multi_index=\"gridcell\")\n",
    "\n",
    "write_to_zarr(Xs ,url= outfp, group=\"xs\", storage_options={\"compressor\":compressor}, chunks=\"auto\", multi_index=\"gridcell\")\n",
    "\n",
    "write_to_zarr(missing_mask,url= outfp, group=\"mask\", storage_options={\"compressor\":compressor})\n",
    "\n",
    "# write_to_zarr(mask_lakes,url= outfp, group=\"mask_lake\", storage_options={\"compressor\":compressor})"
   ]
  }
 ],
 "metadata": {
  "kernelspec": {
   "display_name": "emulator",
   "language": "python",
   "name": "emulator"
  },
  "language_info": {
   "codemirror_mode": {
    "name": "ipython",
    "version": 3
   },
   "file_extension": ".py",
   "mimetype": "text/x-python",
   "name": "python",
   "nbconvert_exporter": "python",
   "pygments_lexer": "ipython3",
   "version": "3.11.6"
  }
 },
 "nbformat": 4,
 "nbformat_minor": 5
}
