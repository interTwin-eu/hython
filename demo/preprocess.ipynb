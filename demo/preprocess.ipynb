{
 "cells": [
  {
   "cell_type": "markdown",
   "id": "913afcd2-a55e-4804-adf4-699a3f3a660a",
   "metadata": {
    "tags": []
   },
   "source": [
    "# Preprocessing"
   ]
  },
  {
   "cell_type": "markdown",
   "id": "ec467c1e-c48f-4879-8307-283737d9560a",
   "metadata": {
    "tags": []
   },
   "source": [
    "The preprocessing step is required to \"reshape\" the raw output of Wflow_sbm into a configuration that can be readily used  by the LSTM model for training and inference. \n",
    "\n",
    "$ WFLOW\\_SBM: (lat, lon, time, feature) \\rightarrow LSTM: (gridcell, time, feature)$\n",
    "\n",
    "Depending on the number of features, the time range, time step and spatial resolution, the Wflow_sbm output may well reach several tens of GB, therefore the preprocessing step converts the original data format to .zarr."
   ]
  },
  {
   "cell_type": "code",
   "execution_count": 1,
   "id": "fec6dd8e-55be-4fb7-88f2-7c38ce3b0686",
   "metadata": {
    "tags": []
   },
   "outputs": [],
   "source": [
    "%load_ext autoreload\n",
    "%autoreload "
   ]
  },
  {
   "cell_type": "code",
   "execution_count": 2,
   "id": "165d512c-c013-4e5e-9a98-c2fe1bdb13fd",
   "metadata": {
    "tags": []
   },
   "outputs": [],
   "source": [
    "import numpy as np\n",
    "import xarray as xr\n",
    "from pathlib import Path\n",
    "from hython.preprocessor import reshape\n",
    "from hython.utils import write_to_zarr, read_from_zarr, build_mask_dataarray\n",
    "from numcodecs import Blosc\n"
   ]
  },
  {
   "cell_type": "markdown",
   "id": "22a78cf5-bd72-4a3d-bd18-ce49d0e8fdee",
   "metadata": {
    "tags": []
   },
   "source": [
    "# Settings"
   ]
  },
  {
   "cell_type": "code",
   "execution_count": 24,
   "id": "bd091d03-fa98-4d96-b1ee-3fb894de6a88",
   "metadata": {
    "tags": []
   },
   "outputs": [],
   "source": [
    "dir_wflow_model = \"datademo\" \n",
    "dir_input = Path(\"../data\") / dir_wflow_model\n",
    "\n",
    "dir_output = dir_input\n",
    "\n",
    "dynamic_names = [\"precip\", \"pet\", \"temp\"] #  WFLOW forcings, input features of the surrogate\n",
    "static_names = [ 'thetaS', 'thetaR', 'RootingDepth', 'Swood','KsatVer', \"Sl\"] # WFLOW static parameters, input features of the surrogate\n",
    "target_names = [ \"vwc\",\"actevap\"] # WFLOW outputs, targets of the surrogate\n",
    "\n",
    "\n",
    "mask_names = [\"wflow_missing\", \"wflow_lake\"]\n",
    "\n",
    "file_dynamic =  \"forcings.nc\" \n",
    "file_static = \"staticmaps.nc\"\n",
    "file_target = \"output.nc\"\n",
    "\n",
    "\n",
    "train_start = \"2016-01-01\"\n",
    "train_end = \"2018-12-31\"\n",
    "\n",
    "test_start = \"2019-01-01\"\n",
    "test_end = \"2020-12-31\"\n",
    "\n",
    "train_range = slice(train_start,train_end)\n",
    "test_range = slice(test_start, test_end)\n"
   ]
  },
  {
   "cell_type": "code",
   "execution_count": 25,
   "id": "dc84b649-e1ce-4727-a5e9-332a4d87e2a5",
   "metadata": {
    "tags": []
   },
   "outputs": [],
   "source": [
    "# read data \n",
    "dynamics = xr.open_dataset(dir_input / file_dynamic)\n",
    "statics = xr.open_dataset(dir_input / file_static)\n",
    "targets = xr.open_dataset(dir_input / file_target).isel(lat=slice(None, None, -1))"
   ]
  },
  {
   "cell_type": "code",
   "execution_count": 26,
   "id": "f26f7403-5cbe-47ac-8190-f3ab8a584076",
   "metadata": {
    "tags": []
   },
   "outputs": [],
   "source": [
    "try:\n",
    "    forcings = forcings.rename({\"latitude\":\"lat\", \"longitude\":\"lon\"})\n",
    "    params = params.rename({\"latitude\":\"lat\", \"longitude\":\"lon\"})\n",
    "except:\n",
    "    pass"
   ]
  },
  {
   "cell_type": "code",
   "execution_count": 27,
   "id": "37c49039-6f0d-4370-bf9d-d6a152712546",
   "metadata": {
    "tags": []
   },
   "outputs": [],
   "source": [
    "# filter features\n",
    "statics = params[static_names]\n",
    "dynamics = forcings[dynamic_names]\n",
    "targets = targets[target_names]"
   ]
  },
  {
   "cell_type": "code",
   "execution_count": 28,
   "id": "a74ed4a3-ea17-43ae-af90-a53c7a43b663",
   "metadata": {
    "scrolled": true,
    "tags": []
   },
   "outputs": [
    {
     "name": "stdout",
     "output_type": "stream",
     "text": [
      "dynamic:  (1452, 2192, 3)  => (GRIDCELL, TIME, FEATURE)\n",
      "static:  (1452, 6)  => (GRIDCELL, FEATURE)\n",
      "target:  (1452, 2191, 2)  => (GRIDCELL, TIME, TARGET)\n"
     ]
    }
   ],
   "source": [
    "# reshape\n",
    "Xd, Xs, Y  = reshape(\n",
    "                   forcings, \n",
    "                   params, \n",
    "                   targets,\n",
    "                   return_type=\"xarray\"\n",
    "                   )"
   ]
  },
  {
   "cell_type": "code",
   "execution_count": 18,
   "id": "b6a7d69b-f406-406c-a4f4-1b7d0b0e6610",
   "metadata": {
    "scrolled": true,
    "tags": []
   },
   "outputs": [],
   "source": [
    "mask_missing = np.isnan(statics[static_names[0]]).rename(\"mask_missing\")"
   ]
  },
  {
   "cell_type": "code",
   "execution_count": 20,
   "id": "b2e6e80f-14fa-4ffe-88bf-37cc081c812f",
   "metadata": {
    "scrolled": true,
    "tags": []
   },
   "outputs": [],
   "source": [
    "masks = build_mask_dataarray([mask_missing], names= [\"mask_missing\"])"
   ]
  },
  {
   "cell_type": "code",
   "execution_count": 21,
   "id": "2c073b08-80d2-4ab7-a636-435fdd76877b",
   "metadata": {
    "scrolled": true,
    "tags": []
   },
   "outputs": [],
   "source": [
    "ATTRS = {\n",
    "        \"shape_label\":mask_missing.dims,\n",
    "        \"shape\":mask_missing.shape\n",
    "        }"
   ]
  },
  {
   "cell_type": "code",
   "execution_count": 22,
   "id": "b9208b61-28ed-4d4a-80b4-739a6840da57",
   "metadata": {
    "tags": []
   },
   "outputs": [],
   "source": [
    "# write to zarr\n",
    "\n",
    "outfp = str(outd /  f\"{wflow_model}.zarr\")\n",
    "\n",
    "compressor = Blosc(cname='zl4', clevel=4, shuffle=Blosc.BITSHUFFLE)\n",
    "\n",
    "write_to_zarr(Xd ,\n",
    "              url= outfp, \n",
    "              group=\"xd\", \n",
    "              storage_options={\"compressor\":compressor}, \n",
    "              chunks=\"auto\", \n",
    "              append_on_time=True, \n",
    "              multi_index=\"gridcell\", \n",
    "              append_attrs = ATTRS)\n",
    "\n",
    "write_to_zarr(Y ,url= outfp,  group=\"y\", storage_options={\"compressor\":compressor}, chunks=\"auto\", append_on_time=True, multi_index=\"gridcell\",append_attrs = ATTRS)\n",
    "\n",
    "write_to_zarr(Xs ,url= outfp, group=\"xs\", storage_options={\"compressor\":compressor}, chunks=\"auto\", multi_index=\"gridcell\",append_attrs = ATTRS)\n"
   ]
  },
  {
   "cell_type": "code",
   "execution_count": 23,
   "id": "a38b6ed1-20a9-493e-a7a0-7bf2f3cbf6fb",
   "metadata": {
    "tags": []
   },
   "outputs": [],
   "source": [
    "write_to_zarr(masks,url= outfp, group=\"mask\", storage_options={\"compressor\":compressor}, overwrite=True)"
   ]
  }
 ],
 "metadata": {
  "kernelspec": {
   "display_name": "emulator",
   "language": "python",
   "name": "emulator"
  },
  "language_info": {
   "codemirror_mode": {
    "name": "ipython",
    "version": 3
   },
   "file_extension": ".py",
   "mimetype": "text/x-python",
   "name": "python",
   "nbconvert_exporter": "python",
   "pygments_lexer": "ipython3",
   "version": "3.11.6"
  }
 },
 "nbformat": 4,
 "nbformat_minor": 5
}
