{
 "cells": [
  {
   "cell_type": "markdown",
   "id": "913afcd2-a55e-4804-adf4-699a3f3a660a",
   "metadata": {
    "tags": []
   },
   "source": [
    "# Train and run wflow_sbm surrogate model"
   ]
  },
  {
   "cell_type": "markdown",
   "id": "ec467c1e-c48f-4879-8307-283737d9560a",
   "metadata": {
    "tags": []
   },
   "source": [
    "The surrogate emulates Actual Evapotranspiration and Volumetric Water Content (top 10 cm) produced from Wflow_sbm over the Alpine region at 1 km spatial resolution and daily time steps. \n",
    "\n",
    "The repository offers a very small dataset in the demodata folder. Uncomment the jupyter notebook cell \"DEMO\" and comment the cell \"ALPS\" in order to train the model.\n",
    "\n",
    "The figures at the end of the notebook show the surrogate outputs on the Alps, however the training data are not yet available to reproduce the results."
   ]
  },
  {
   "cell_type": "code",
   "execution_count": 4,
   "id": "ed6a0ce1-163e-40ac-9e7e-e6d5f364bd84",
   "metadata": {
    "tags": []
   },
   "outputs": [],
   "source": [
    "%load_ext autoreload\n",
    "%autoreload 2"
   ]
  },
  {
   "cell_type": "code",
   "execution_count": 1,
   "id": "28047b41-d328-4911-b525-366a787cb584",
   "metadata": {
    "tags": []
   },
   "outputs": [
    {
     "name": "stderr",
     "output_type": "stream",
     "text": [
      "/home/iferrario/.local/miniforge/envs/emulator/lib/python3.11/site-packages/pandas/core/computation/expressions.py:21: UserWarning: Pandas requires version '2.8.4' or newer of 'numexpr' (version '2.8.3' currently installed).\n",
      "  from pandas.core.computation.check import NUMEXPR_INSTALLED\n"
     ]
    }
   ],
   "source": [
    "import numpy as np\n",
    "import xarray as xr\n",
    "from pathlib import Path\n",
    "\n",
    "import dask\n",
    "\n",
    "from hython.preprocess import reshape\n",
    "from hython.utils import store_as_zarr, read_from_zarr\n",
    "\n",
    "from numcodecs import Blosc\n",
    "\n",
    "import matplotlib.pyplot as plt"
   ]
  },
  {
   "cell_type": "markdown",
   "id": "22a78cf5-bd72-4a3d-bd18-ce49d0e8fdee",
   "metadata": {
    "tags": []
   },
   "source": [
    "# Settings"
   ]
  },
  {
   "cell_type": "code",
   "execution_count": 8,
   "id": "2cc51bdd-1831-43a2-9cc4-da9e0d82b0c2",
   "metadata": {
    "tags": []
   },
   "outputs": [],
   "source": [
    "dynamic_names = [\"precip\", \"pet\", \"temp\"] #  WFLOW forcings, input features of the surrogate\n",
    "static_names = [ 'thetaS', 'thetaR', 'RootingDepth', 'Swood','KsatVer', \"Sl\"] # WFLOW static parameters, input features of the surrogate\n",
    "target_names = [ \"vwc\",\"actevap\",\"runoff\",\"ssf\",\"q_river\"] # WFLOW outputs, targets of the surrogate\n",
    "\n",
    "fn_forcings =  \"forcings.nc\" \n",
    "fn_params = \"staticmaps.nc\"\n",
    "fn_targets = \"output.nc\"\n",
    "\n",
    "\n",
    "train_start = \"2016-01-01\"\n",
    "train_end = \"2018-12-31\"\n",
    "\n",
    "test_start = \"2019-01-01\"\n",
    "test_end = \"2020-12-31\"\n",
    "\n",
    "train_range = slice(train_start,train_end)\n",
    "test_range = slice(test_start, test_end)"
   ]
  },
  {
   "cell_type": "code",
   "execution_count": 9,
   "id": "183a3d40-6459-4396-80d8-329e4e9892fd",
   "metadata": {
    "tags": []
   },
   "outputs": [],
   "source": [
    "# DEMO \n",
    "\n",
    "# wflow_model = \"datademo\"\n",
    "\n",
    "# wd = Path(\"../data\") / wflow_model\n",
    "\n",
    "# fp_dynamic_forcings = wd / fn_forcings \n",
    "# fp_wflow_static_params = wd / fn_params\n",
    "# fp_target = wd / fn_targets\n",
    "\n",
    "# forcings = xr.open_dataset(fp_dynamic_forcings)\n",
    "# params = xr.open_dataset(fp_wflow_static_params)\n",
    "# targets = xr.open_dataset(fp_target).isel(lat=slice(None, None, -1))"
   ]
  },
  {
   "cell_type": "code",
   "execution_count": 10,
   "id": "4273e94f-b1fc-428f-928c-72e40242c2f0",
   "metadata": {
    "tags": []
   },
   "outputs": [],
   "source": [
    "wflow_model =  \"alps1km_eobs\" \n",
    "\n",
    "wd = Path(\"/mnt/CEPH_PROJECTS/InterTwin/Wflow/models\") / wflow_model\n",
    "\n",
    "input_dir_path = Path('/mnt/CEPH_PROJECTS/InterTwin/Wflow/models') / wflow_model\n",
    "\n",
    "surrogate_input_path = Path(\"/mnt/CEPH_PROJECTS/InterTwin/hydrologic_data/surrogate_training\")\n",
    "\n",
    "\n",
    "surrogate_data = surrogate_input_path / f\"{wflow_model}_full.zarr\"\n",
    "\n",
    "\n",
    "forcings = xr.open_dataset(input_dir_path / fn_forcings , chunks= {\"time\":200})\n",
    "params = xr.open_dataset(input_dir_path / fn_params ,  chunks= {\"time\":200}).sel(layer=1)\n",
    "targets = xr.open_dataset(input_dir_path / \"run_default\" / fn_targets, chunks= {\"time\":200}).sel(layer=1).isel(lat=slice(None, None, -1))"
   ]
  },
  {
   "cell_type": "code",
   "execution_count": 11,
   "id": "85089933-d5ac-4d14-85aa-4401a695f477",
   "metadata": {
    "tags": []
   },
   "outputs": [],
   "source": [
    "try:\n",
    "    forcings = forcings.rename({\"latitude\":\"lat\", \"longitude\":\"lon\"})\n",
    "    params = params.rename({\"latitude\":\"lat\", \"longitude\":\"lon\"})\n",
    "except:\n",
    "    pass"
   ]
  },
  {
   "cell_type": "code",
   "execution_count": 12,
   "id": "9da9affc-3e6e-4526-8fe8-e00ffac00c00",
   "metadata": {
    "tags": []
   },
   "outputs": [],
   "source": [
    "params = params.drop_dims(\"time\")"
   ]
  },
  {
   "cell_type": "code",
   "execution_count": 13,
   "id": "dc2ff7ef-2c38-427d-b5dc-689a3713bee1",
   "metadata": {
    "scrolled": true,
    "tags": []
   },
   "outputs": [
    {
     "name": "stdout",
     "output_type": "stream",
     "text": [
      "dynamic:  (810953, 2192, 3)  => (GRIDCELL, TIME, FEATURE)\n",
      "static:  (810953, 79)  => (GRIDCELL, FEATURE)\n",
      "target:  (810953, 2191, 5)  => (GRIDCELL, TIME, TARGET)\n"
     ]
    },
    {
     "name": "stderr",
     "output_type": "stream",
     "text": [
      "/home/iferrario/.local/miniforge/envs/emulator/lib/python3.11/site-packages/xarray/core/dataset.py:5172: PerformanceWarning: Reshaping is producing a large chunk. To accept the large\n",
      "chunk and silence this warning, set the option\n",
      "    >>> with dask.config.set(**{'array.slicing.split_large_chunks': False}):\n",
      "    ...     array.reshape(shape)\n",
      "\n",
      "To avoid creating the large chunks, set the option\n",
      "    >>> with dask.config.set(**{'array.slicing.split_large_chunks': True}):\n",
      "    ...     array.reshape(shape)Explictly passing ``limit`` to ``reshape`` will also silence this warning\n",
      "    >>> array.reshape(shape, limit='128 MiB')\n",
      "  stacked_var = exp_var.stack(**{new_dim: dims})\n",
      "/home/iferrario/.local/miniforge/envs/emulator/lib/python3.11/site-packages/xarray/core/dataset.py:5172: PerformanceWarning: Reshaping is producing a large chunk. To accept the large\n",
      "chunk and silence this warning, set the option\n",
      "    >>> with dask.config.set(**{'array.slicing.split_large_chunks': False}):\n",
      "    ...     array.reshape(shape)\n",
      "\n",
      "To avoid creating the large chunks, set the option\n",
      "    >>> with dask.config.set(**{'array.slicing.split_large_chunks': True}):\n",
      "    ...     array.reshape(shape)Explictly passing ``limit`` to ``reshape`` will also silence this warning\n",
      "    >>> array.reshape(shape, limit='128 MiB')\n",
      "  stacked_var = exp_var.stack(**{new_dim: dims})\n"
     ]
    }
   ],
   "source": [
    "Xd, Xs, Y  = reshape(\n",
    "                   forcings, \n",
    "                   params, \n",
    "                   targets,\n",
    "                   return_type=\"xarray\"\n",
    "                   )"
   ]
  },
  {
   "cell_type": "code",
   "execution_count": 14,
   "id": "d2749119-f0d8-471f-9395-c51a4550247b",
   "metadata": {
    "scrolled": true,
    "tags": []
   },
   "outputs": [],
   "source": [
    "wflow_lakes = params.wflow_lakeareas\n",
    "mask_lakes = (wflow_lakes > 0).astype(np.bool_).rename(\"mask_lake\")"
   ]
  },
  {
   "cell_type": "code",
   "execution_count": 15,
   "id": "31ca98eb-c0f2-4e82-bce6-97e188283504",
   "metadata": {
    "scrolled": true,
    "tags": []
   },
   "outputs": [],
   "source": [
    "missing_mask = np.isnan(params[static_names[0]]).rename(\"mask\")"
   ]
  },
  {
   "cell_type": "code",
   "execution_count": 16,
   "id": "5df13e0c-e657-4d2b-8241-2be86342607b",
   "metadata": {
    "scrolled": true,
    "tags": []
   },
   "outputs": [],
   "source": [
    "# write to zarr\n",
    "\n",
    "compressor = Blosc(cname='zl4', clevel=4, shuffle=Blosc.BITSHUFFLE)\n",
    "\n",
    "\n",
    "store_as_zarr(Xd ,url= surrogate_data, group=\"xd\", storage_options={\"compressor\":compressor}, multi_index=\"gridcell\")\n",
    "store_as_zarr(Y ,url= surrogate_data,  group=\"y\", storage_options={\"compressor\":compressor}, multi_index=\"gridcell\")\n",
    "store_as_zarr(Xs ,url= surrogate_data, group=\"xs\", storage_options={\"compressor\":compressor}, multi_index=\"gridcell\")\n",
    "\n",
    "store_as_zarr(missing_mask,url= surrogate_data, group=\"mask\", storage_options={\"compressor\":compressor})\n",
    "store_as_zarr(mask_lakes,url= surrogate_data, group=\"mask_lake\", storage_options={\"compressor\":compressor})"
   ]
  },
  {
   "cell_type": "code",
   "execution_count": null,
   "id": "ae79b5e7-8e78-4513-9121-54c8e6c4ecf7",
   "metadata": {},
   "outputs": [],
   "source": []
  },
  {
   "cell_type": "code",
   "execution_count": null,
   "id": "1cfffd92-646a-45f5-90c9-46cea070f729",
   "metadata": {},
   "outputs": [],
   "source": []
  }
 ],
 "metadata": {
  "kernelspec": {
   "display_name": "emulator",
   "language": "python",
   "name": "emulator"
  },
  "language_info": {
   "codemirror_mode": {
    "name": "ipython",
    "version": 3
   },
   "file_extension": ".py",
   "mimetype": "text/x-python",
   "name": "python",
   "nbconvert_exporter": "python",
   "pygments_lexer": "ipython3",
   "version": "3.11.6"
  }
 },
 "nbformat": 4,
 "nbformat_minor": 5
}
