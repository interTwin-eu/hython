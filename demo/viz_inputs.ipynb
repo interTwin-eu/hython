{
 "cells": [
  {
   "cell_type": "code",
   "execution_count": null,
   "id": "ada516c8-a141-4cb9-8223-0643a0bcb3cb",
   "metadata": {},
   "outputs": [],
   "source": [
    "%load_ext autoreload\n",
    "%autoreload 2"
   ]
  },
  {
   "cell_type": "code",
   "execution_count": 2,
   "id": "638656eb-891c-4465-8465-550a03e42c8a",
   "metadata": {},
   "outputs": [],
   "source": [
    "import torch\n",
    "import numpy as np\n",
    "import xarray as xr\n",
    "from pathlib import Path\n",
    "import os\n",
    "import random\n",
    "\n",
    "from torch import nn\n",
    "\n",
    "from sklearn.metrics import mean_squared_error\n",
    "from hython.preprocess import preprocess, apply_normalization\n",
    "from hython.datasets.datasets import LSTMDataset\n",
    "from hython.train_val import train_val\n",
    "from hython.sampler import RegularIntervalSampler\n",
    "from hython.metrics import RMSELoss\n",
    "\n",
    "import torch.optim as optim\n",
    "from torch.optim.lr_scheduler import ReduceLROnPlateau\n",
    "from torch.utils.data import DataLoader, TensorDataset, random_split, Dataset\n",
    "\n",
    "\n",
    "from hython.utils import missing_location_idx, reconstruct_from_missing\n",
    "\n",
    "from hython.models.lstm import CustomLSTM\n",
    "# viz\n",
    "import matplotlib.pyplot as plt\n",
    "#import hvplot.xarray \n",
    "from hython.viz import plot_sampler"
   ]
  },
  {
   "cell_type": "code",
   "execution_count": 3,
   "id": "274e899b-fb47-4461-abef-e6f7a66d9af7",
   "metadata": {},
   "outputs": [],
   "source": [
    "wd = Path(\"../data/datademo\")\n",
    "fp_dynamic_forcings = wd / \"forcings.nc\"\n",
    "fp_wflow_static_params = wd / \"staticmaps.nc\"\n",
    "fp_target = wd / \"output.nc\"\n",
    "\n",
    "\n",
    "dynamic_names = [\"precip\", \"pet\", \"temp\"]\n",
    "static_names = [ 'M', 'thetaS', 'RootingDepth', 'Kext', 'Sl', 'Swood', 'TT', 'KsatHorFrac'] \n",
    "target_names = [ \"vwc\"] #, \"actevap\" ]\n",
    "\n"
   ]
  },
  {
   "cell_type": "code",
   "execution_count": null,
   "id": "6f326cea-7a1b-437b-8eb8-10006e066fd2",
   "metadata": {},
   "outputs": [],
   "source": []
  }
 ],
 "metadata": {
  "kernelspec": {
   "display_name": "emulator",
   "language": "python",
   "name": "emulator"
  },
  "language_info": {
   "codemirror_mode": {
    "name": "ipython",
    "version": 3
   },
   "file_extension": ".py",
   "mimetype": "text/x-python",
   "name": "python",
   "nbconvert_exporter": "python",
   "pygments_lexer": "ipython3",
   "version": "3.11.6"
  }
 },
 "nbformat": 4,
 "nbformat_minor": 5
}
