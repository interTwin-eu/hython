{
 "cells": [
  {
   "cell_type": "markdown",
   "id": "913afcd2-a55e-4804-adf4-699a3f3a660a",
   "metadata": {
    "tags": []
   },
   "source": [
    "# Evaluation"
   ]
  },
  {
   "cell_type": "code",
   "execution_count": 1,
   "id": "e3b289d4-d2ad-46cd-9c2a-e501e0c23992",
   "metadata": {
    "tags": []
   },
   "outputs": [],
   "source": [
    "# from model_data import CuDNNLSTM , LSTMDataset"
   ]
  },
  {
   "cell_type": "code",
   "execution_count": 2,
   "id": "28047b41-d328-4911-b525-366a787cb584",
   "metadata": {
    "tags": []
   },
   "outputs": [
    {
     "name": "stderr",
     "output_type": "stream",
     "text": [
      "/home/iferrario/.local/miniforge/envs/emulator/lib/python3.11/site-packages/pandas/core/computation/expressions.py:21: UserWarning: Pandas requires version '2.8.4' or newer of 'numexpr' (version '2.8.3' currently installed).\n",
      "  from pandas.core.computation.check import NUMEXPR_INSTALLED\n"
     ]
    }
   ],
   "source": [
    "from torch.utils.data import DataLoader # type: ignore\n",
    "import torch.optim as optim # type: ignore\n",
    "from torch.optim.lr_scheduler import ReduceLROnPlateau # type: ignore\n",
    "from torch import nn # type: ignore\n",
    "\n",
    "from hython.models.cudnnLSTM import CuDNNLSTM\n",
    "from hython.datasets import LSTMDataset\n",
    "from hython.sampler import *\n",
    "from hython.normalizer import Normalizer\n",
    "from hython.trainer import *\n",
    "from hython.io import read_from_zarr\n",
    "from hython.utils import missing_location_idx, set_seed, prepare_for_plotting\n",
    "from hython.evaluator import predict\n",
    "from hython.trainer import train_val\n",
    "import xarray as xr\n",
    "import rioxarray\n",
    "import matplotlib.pyplot as plt\n",
    "from hython.viz import map_kge, map_bias, map_correlation, map_rmse, map_at_timesteps, ts_compare, plot_sampler, ts_plot, map_points"
   ]
  },
  {
   "cell_type": "markdown",
   "id": "22a78cf5-bd72-4a3d-bd18-ce49d0e8fdee",
   "metadata": {
    "tags": []
   },
   "source": [
    "# Settings"
   ]
  },
  {
   "cell_type": "code",
   "execution_count": 3,
   "id": "752b7492-a80b-4c23-8170-64f086c1328a",
   "metadata": {
    "tags": []
   },
   "outputs": [],
   "source": [
    "EXP_METADATA = {\n",
    "    \"vwc_2\":[ \"thetaS\", \"thetaR\"],\n",
    "    \"actevap_2\":[\"Swood\", \"Sl\"] ,\n",
    "    \"vwc_4\":[ \"thetaS\", \"thetaR\", \"KsatVer\", \"SoilThickness\"],\n",
    "    \"vwc_4_1\":[ \"thetaS\", \"thetaR\", \"KsatVer\", \"SoilThickness\"], # train more data and longer epochs\n",
    "    \"vwc_4_2\":[ \"thetaS\", \"thetaR\", \"KsatVer\", \"SoilThickness\"], # train with deeper layers,\n",
    "    \"vwc_4_3\":[ \"thetaS\", \"thetaR\", \"KsatVer\", \"SoilThickness\"], # train with deeper smaller kernel 3 x 3\n",
    "    \"vwc_4_4\":[ \"thetaS\", \"thetaR\", \"KsatVer\", \"SoilThickness\"], # simple LSTM\n",
    "    \"vwc_actevap\":['thetaS', 'thetaR', 'SoilThickness','RootingDepth', 'Swood','KsatVer', 'Sl', 'f', 'Kext', 'PathFrac', 'WaterFrac'],\n",
    "    \"sensitivity_lstm\":[ \"thetaS\", \"thetaR\", \"KsatVer\", \"SoilThickness\"]\n",
    "}"
   ]
  },
  {
   "cell_type": "code",
   "execution_count": 8,
   "id": "39932d0a-583f-43a6-82fb-d61310fdb57d",
   "metadata": {
    "tags": []
   },
   "outputs": [],
   "source": [
    "EXPERIMENT  = \"vwc_actevap\"\n",
    "\n",
    "SURROGATE_INPUT = \"https://eurac-eo.s3.amazonaws.com/INTERTWIN/SURROGATE_INPUT/adg1km_eobs_preprocessed.zarr/\"\n",
    "COORDINATES_INPUT = \"https://eurac-eo.s3.amazonaws.com/INTERTWIN/SURROGATE_INPUT/adg1km_eobs_original.zarr/\"\n",
    "\n",
    "SURROGATE_MODEL_OUTPUT = f\"/mnt/CEPH_PROJECTS/InterTwin/hydrologic_data/surrogate_model/{EXPERIMENT}.pt\"\n",
    "TMP_STATS = \"/mnt/CEPH_PROJECTS/InterTwin/hydrologic_data/surrogate_stats\"\n",
    "\n",
    "# === FILTER ==============================================================\n",
    "\n",
    "# train/test temporal range\n",
    "train_temporal_range = slice(\"2016-01-01\",\"2018-12-31\")\n",
    "test_temporal_range = slice(\"2019-01-01\", \"2020-12-31\")\n",
    "\n",
    "# variables\n",
    "dynamic_names = [\"precip\", \"pet\", \"temp\"] \n",
    "static_names = EXP_METADATA[EXPERIMENT]\n",
    "target_names = [\"vwc\",\"actevap\"] #\"q_land_toriver\", \"ssf_toriver\",\"runoff_river\"] #, \"runoff_land\", \"runoff_river\", \"snow\", \"snowwater\"]#, \"snow\", \"snowwater\"]\n",
    "\n",
    "# === MASK ========================================================================================\n",
    "\n",
    "mask_names = [\"mask_missing\", \"mask_lake\"] # names depends on preprocessing application\n",
    "\n",
    "# === DATASET ========================================================================================\n",
    "\n",
    "DATASET = \"LSTMDataset\"\n",
    "\n",
    "# == MODEL  ========================================================================================\n",
    "\n",
    "HIDDEN_SIZE = 64\n",
    "DYNAMIC_INPUT_SIZE = len(dynamic_names)\n",
    "STATIC_INPUT_SIZE = len(static_names)\n",
    "OUTPUT_SIZE = len(target_names)\n",
    "\n",
    "TARGET_WEIGHTS = {t:1/len(target_names) for t in target_names}\n",
    "\n",
    "\n",
    "# === SAMPLER/TRAINER ===================================================================================\n",
    "\n",
    "EPOCHS = 40\n",
    "BATCH = 256\n",
    "SEED = 42\n",
    "\n",
    "\n",
    "TEMPORAL_SUBSAMPLING = True\n",
    "TEMPORAL_SUBSET = [150, 150] \n",
    "SEQ_LENGTH = 120\n",
    "\n",
    "\n",
    "assert sum(v for v in TARGET_WEIGHTS.values()) == 1, \"check target weights\"\n",
    "TARGET_INITIALS = \"\".join([i[0].capitalize() for i in target_names])"
   ]
  },
  {
   "cell_type": "code",
   "execution_count": 9,
   "id": "9a19f2e6-6f5c-425c-b957-03878b7cb799",
   "metadata": {
    "tags": []
   },
   "outputs": [],
   "source": [
    "import torch\n",
    "device = torch.device(\"cuda:0\" if torch.cuda.is_available() else \"cpu\")\n",
    "#device = \"cpu\"\n"
   ]
  },
  {
   "cell_type": "code",
   "execution_count": 10,
   "id": "99efcc36-3d67-4231-96e5-68e2e83fc71b",
   "metadata": {
    "tags": []
   },
   "outputs": [],
   "source": [
    "Xd = (\n",
    "    read_from_zarr(url=SURROGATE_INPUT, group=\"xd\", multi_index=\"gridcell\")\n",
    "    .sel(time=train_temporal_range)\n",
    "    .xd.sel(feat=dynamic_names)\n",
    ")\n",
    "Xs = read_from_zarr(url=SURROGATE_INPUT, group=\"xs\", multi_index=\"gridcell\").xs.sel(\n",
    "    feat=static_names\n",
    ")\n",
    "Y = (\n",
    "    read_from_zarr(url=SURROGATE_INPUT, group=\"y\", multi_index=\"gridcell\")\n",
    "    .sel(time=train_temporal_range)\n",
    "    .y.sel(feat=target_names)\n",
    ")\n",
    "\n",
    "SHAPE = Xd.attrs[\"shape\"]\n",
    "\n",
    "\n",
    "# === READ TEST ===================================================================\n",
    "\n",
    "Y_test = (\n",
    "    read_from_zarr(url=SURROGATE_INPUT, group=\"y\", multi_index=\"gridcell\")\n",
    "    .sel(time=test_temporal_range)\n",
    "    .y.sel(feat=target_names)\n",
    ")\n",
    "Xd_test = (\n",
    "    read_from_zarr(url=SURROGATE_INPUT, group=\"xd\", multi_index=\"gridcell\")\n",
    "    .sel(time=test_temporal_range)\n",
    "    .xd.sel(feat=dynamic_names)\n",
    ")"
   ]
  },
  {
   "cell_type": "code",
   "execution_count": 11,
   "id": "27fc9724-af54-41c2-9ac1-255fdefd0816",
   "metadata": {
    "tags": []
   },
   "outputs": [],
   "source": [
    "# === MASK ============================================================= \n",
    "masks = (\n",
    "    read_from_zarr(url=SURROGATE_INPUT, group=\"mask\")\n",
    "    .mask.sel(mask_layer=mask_names)\n",
    "    .any(dim=\"mask_layer\")\n",
    ")"
   ]
  },
  {
   "cell_type": "code",
   "execution_count": 12,
   "id": "3a932230-d47c-4376-96f2-9cb1eae3f037",
   "metadata": {
    "tags": []
   },
   "outputs": [],
   "source": [
    "# === NORMALIZE ============================================================= \n",
    "\n",
    "normalizer_dynamic = Normalizer(method=\"standardize\",\n",
    "                                type=\"spacetime\", axis_order=\"NTC\",\n",
    "                                #save_stats=f\"{TMP_STATS}/{EXPERIMENT}_xd.npy\"\n",
    "                               )\n",
    "normalizer_static = Normalizer(method=\"standardize\",\n",
    "                               type=\"space\", axis_order=\"NTC\",\n",
    "                               #save_stats=f\"{TMP_STATS}/{EXPERIMENT}_xs.npy\"\n",
    "                              )\n",
    "normalizer_target = Normalizer(method=\"standardize\", type=\"spacetime\",\n",
    "                               axis_order=\"NTC\"\n",
    "                               #save_stats=f\"{TMP_STATS}/{EXPERIMENT}_y.npy\"\n",
    ")"
   ]
  },
  {
   "cell_type": "code",
   "execution_count": 13,
   "id": "d6308691-712c-443b-87b8-d0a264a04586",
   "metadata": {
    "tags": []
   },
   "outputs": [],
   "source": [
    "# normalizer_dynamic.read_stats(f\"{TMP_STATS}/{EXPERIMENT}_xd.npy\")\n",
    "# normalizer_static.read_stats(f\"{TMP_STATS}/{EXPERIMENT}_xs.npy\")\n",
    "# normalizer_target.read_stats(f\"{TMP_STATS}/{EXPERIMENT}_y.npy\")\n",
    "\n",
    "\n",
    "# Xd_test = normalizer_dynamic.normalize(Xd_test)\n",
    "# Xs = normalizer_static.normalize(Xs)\n",
    "# Y_test = normalizer_target.normalize(Y_test)"
   ]
  },
  {
   "cell_type": "code",
   "execution_count": 19,
   "id": "0f9b14fc-069f-44fc-b6bb-076e2a022759",
   "metadata": {
    "tags": []
   },
   "outputs": [],
   "source": [
    "# import numpy as np\n",
    "# def compute_with_gradients(Xd, Xs, Y_test, model, batch_size, device):\n",
    "#     print(Xd.shape)\n",
    "#     print(Xs.shape)\n",
    "#     print(Y_test.shape)\n",
    "    \n",
    "#     Xd = torch.tensor(Xd).float()\n",
    "#     Xs = torch.tensor(Xs).float()\n",
    "#     Y_test = torch.tensor(Y_test).float()\n",
    "    \n",
    "#     Xd = torch.nan_to_num(Xd, nan = 0.0)\n",
    "#     Xs = torch.nan_to_num(Xs, nan = 0.0)\n",
    "\n",
    "\n",
    "#     model = model.to(device)\n",
    "#     model.train()\n",
    "#     results = torch.zeros_like(Y_test)\n",
    "#     model.eval()  \n",
    "#     arr = []\n",
    "#     Xd.requires_grad_(True)\n",
    "#     Xs.requires_grad_(True)\n",
    "\n",
    "\n",
    "#     grads = []\n",
    "#     for i in range(0, Xd.shape[0], batch_size):\n",
    "#         # print(i//256)\n",
    "#         d = torch.Tensor(Xd[i : (i + batch_size)]).to(device)\n",
    "#         s = torch.Tensor(Xs[i : (i + batch_size)]).to(device)\n",
    "#         s = s.unsqueeze(1).repeat(1, d.size(1), 1)\n",
    "        \n",
    "\n",
    "\n",
    "#         x_ds_batch = torch.cat((d, s), dim=-1)\n",
    "        \n",
    "#         l1_batch = model.fc0(x_ds_batch)\n",
    "#         lstm_out = model.lstm(l1_batch)\n",
    "#         outputs = model.fc1(lstm_out[0])\n",
    "        \n",
    "\n",
    "    \n",
    "        \n",
    "#         if i/256.0 == 156.0:\n",
    "#             results[i:i+204,:,:] = outputs\n",
    "#         else:\n",
    "#             results[i:i+batch_size,:,:] = outputs\n",
    "\n",
    "\n",
    "#     results_num = torch.nan_to_num(results,nan =0.0)\n",
    "\n",
    "#     Y_test_num = torch.nan_to_num(Y_test,nan =0.0)\n",
    "#     virtual_loss = (results_num - Y_test_num).mean(axis = 1)\n",
    "#     fianl_loss = virtual_loss.sum()  # 创建一个简单的虚拟损失\n",
    "#     fianl_loss.backward(retain_graph=True)\n",
    "#     aaa = Xd.grad\n",
    "#     bbb = Xs.grad\n",
    "    \n",
    "#     return results, aaa,bbb"
   ]
  },
  {
   "cell_type": "code",
   "execution_count": 15,
   "id": "5d367152",
   "metadata": {},
   "outputs": [],
   "source": [
    "# Static to dynamic\n",
    "Xs2 = Xs.expand_dims(dim={\"time\":Xd_test.time}, axis=1)"
   ]
  },
  {
   "cell_type": "code",
   "execution_count": 16,
   "id": "9b3edd32-7eff-4b6b-8467-5d6d22865713",
   "metadata": {
    "tags": []
   },
   "outputs": [],
   "source": [
    "test_dataset = LSTMDataset(\n",
    "        Xd_test,\n",
    "        Y_test,\n",
    "        Xs2,\n",
    "        original_domain_shape=SHAPE,\n",
    "        mask=masks,\n",
    "        downsampler=None,\n",
    "        normalizer_dynamic=normalizer_dynamic,\n",
    "        normalizer_static=normalizer_static,\n",
    "        normalizer_target=normalizer_target,\n",
    "        \n",
    ")"
   ]
  },
  {
   "cell_type": "code",
   "execution_count": 17,
   "id": "b066380a-4a5b-4b94-9433-a84a1d52842c",
   "metadata": {
    "tags": []
   },
   "outputs": [],
   "source": [
    "test_sampler_builder = SamplerBuilder(\n",
    "    test_dataset,\n",
    "    sampling=\"sequential\", \n",
    "    processing=\"single-gpu\")\n",
    "\n",
    "test_sampler = test_sampler_builder.get_sampler()\n",
    "test_loader = DataLoader(test_dataset, batch_size=BATCH , sampler=test_sampler)"
   ]
  },
  {
   "cell_type": "code",
   "execution_count": 18,
   "id": "a3edd382-6b69-448a-8f11-3afacff9a7ab",
   "metadata": {
    "tags": []
   },
   "outputs": [],
   "source": [
    "\n",
    "def compute_with_gradients_sensitivity(dataloader, model,device):\n",
    "    \n",
    "    model = model.to(device)\n",
    "    model.train()\n",
    "    results = torch.zeros_like(dataloader.dataset.y[:len(dataloader)*dataloader.batch_size,:,:])\n",
    "\n",
    "    dataloader.dataset.xd.requires_grad_(True)\n",
    "    dataloader.dataset.xs.requires_grad_(True)\n",
    "\n",
    "    i = 0\n",
    "    for d, s, y in dataloader:\n",
    "        #s = s.unsqueeze(1).repeat(1, d.size(1), 1)\n",
    "        x_ds_batch = torch.cat((d, s), dim=-1).to(device)\n",
    "\n",
    "        l1_batch = model.fc0(x_ds_batch)\n",
    "        lstm_out = model.lstm(l1_batch)\n",
    "        outputs = model.fc1(lstm_out[0])\n",
    "\n",
    "        \n",
    "        results[(i*outputs.shape[0]):(i*outputs.shape[0]+outputs.shape[0]),:,:] = outputs\n",
    "\n",
    "        i += 1\n",
    "\n",
    "    results_num = torch.nan_to_num(results,nan =0.0)\n",
    "    \n",
    "    torch.nn.utils.clip_grad_norm_(model.parameters(), max_norm=1)\n",
    "\n",
    "    results_num[:,:,0].backward(torch.ones_like(results_num[:,:,0])) # 0 soil moisture, 1 actevap\n",
    "    aaa = dataloader.dataset.xd.grad\n",
    "    bbb = dataloader.dataset.xs.grad\n",
    "    \n",
    "    return results, aaa,bbb"
   ]
  },
  {
   "cell_type": "code",
   "execution_count": 21,
   "id": "9317f6bb-5666-4f85-94aa-1ab495624ebe",
   "metadata": {
    "tags": []
   },
   "outputs": [
    {
     "data": {
      "text/plain": [
       "<All keys matched successfully>"
      ]
     },
     "execution_count": 21,
     "metadata": {},
     "output_type": "execute_result"
    }
   ],
   "source": [
    "# ==== MODEL VAE ============================================================================\n",
    "\n",
    "model = CuDNNLSTM(\n",
    "                  hidden_size=HIDDEN_SIZE, \n",
    "                  dynamic_input_size=DYNAMIC_INPUT_SIZE,\n",
    "                  static_input_size=STATIC_INPUT_SIZE, \n",
    "                  output_size=OUTPUT_SIZE\n",
    ")\n",
    "\n",
    "\n",
    "model.to(device)\n",
    "\n",
    "# model load precomputed weights \n",
    "model.load_state_dict(torch.load(SURROGATE_MODEL_OUTPUT)) # ,map_location=torch.device('cpu')"
   ]
  },
  {
   "cell_type": "code",
   "execution_count": null,
   "id": "0488b26d-f18c-426d-a300-5d4bb0b42ef3",
   "metadata": {
    "tags": []
   },
   "outputs": [],
   "source": [
    "# === Calculate input gradient with related to Actevap.  =============================================================================\n",
    "results, Xd_grad, Xs_grad = compute_with_gradients_sensitivity(test_loader, model, device)"
   ]
  },
  {
   "cell_type": "code",
   "execution_count": 19,
   "id": "01607506-dee2-45cc-bab0-1d31d53db74f",
   "metadata": {
    "tags": []
   },
   "outputs": [],
   "source": [
    "# === sensitivity map of dynamic parameters with related to the input\n",
    "# Xd_gradient * Xd_values =============================================================================\n",
    "\n",
    "sensitivity = Xd_grad*Xd_test.values\n"
   ]
  },
  {
   "cell_type": "code",
   "execution_count": 20,
   "id": "6eb2bc1b",
   "metadata": {},
   "outputs": [],
   "source": [
    "# === sensitivity map of static parameters with related to the input\n",
    "sensitivity_static = Xs_grad*Xs.values[:,None]"
   ]
  },
  {
   "cell_type": "code",
   "execution_count": 21,
   "id": "ccb44886-47ab-4779-8b9c-dbbd287de004",
   "metadata": {
    "tags": []
   },
   "outputs": [
    {
     "data": {
      "text/plain": [
       "(torch.Size([40140, 731, 11]), torch.Size([40140, 731, 3]))"
      ]
     },
     "execution_count": 21,
     "metadata": {},
     "output_type": "execute_result"
    }
   ],
   "source": [
    "sensitivity.shape, Xd_grad.shape"
   ]
  },
  {
   "cell_type": "code",
   "execution_count": 22,
   "id": "7b2d7a74-8b82-4cba-9038-99ef2ad18a58",
   "metadata": {
    "tags": []
   },
   "outputs": [],
   "source": [
    "# === Plotting parameters =============================================================================\n",
    "coords = read_from_zarr(COORDINATES_INPUT, group=\"y\").sel(time=test_temporal_range).isel(time=1).coords"
   ]
  },
  {
   "cell_type": "code",
   "execution_count": 27,
   "id": "f39c4fb6-cfd1-4dcc-8f23-4b3deafdd757",
   "metadata": {
    "tags": []
   },
   "outputs": [
    {
     "data": {
      "text/plain": [
       "(180, 223, 731)"
      ]
     },
     "execution_count": 27,
     "metadata": {},
     "output_type": "execute_result"
    }
   ],
   "source": [
    "lat, lon, time = len(masks.lat),len(masks.lon), Xd_test.shape[1]\n",
    "lat, lon, time"
   ]
  },
  {
   "cell_type": "code",
   "execution_count": 24,
   "id": "a3811a86-beb1-41b4-9676-ff95dbbd7dfe",
   "metadata": {
    "tags": []
   },
   "outputs": [
    {
     "data": {
      "text/plain": [
       "['thetaS',\n",
       " 'thetaR',\n",
       " 'SoilThickness',\n",
       " 'RootingDepth',\n",
       " 'Swood',\n",
       " 'KsatVer',\n",
       " 'Sl',\n",
       " 'f',\n",
       " 'Kext',\n",
       " 'PathFrac',\n",
       " 'WaterFrac']"
      ]
     },
     "execution_count": 24,
     "metadata": {},
     "output_type": "execute_result"
    }
   ],
   "source": [
    "static_names"
   ]
  },
  {
   "cell_type": "code",
   "execution_count": 33,
   "id": "c0886526-d00a-4f37-a8d9-16b8aedf8c16",
   "metadata": {
    "tags": []
   },
   "outputs": [],
   "source": [
    "grad, sens = prepare_for_plotting(\n",
    "                                            Xd_grad[:,:,[0]], # precip\n",
    "                                            sensitivity[:,:,[0]],  # precip\n",
    "                                            shape = (*SHAPE, time), \n",
    "                                            coords  = coords)"
   ]
  },
  {
   "cell_type": "code",
   "execution_count": 43,
   "id": "7b94ca2c",
   "metadata": {},
   "outputs": [],
   "source": [
    "grad_static, sens_static = prepare_for_plotting(\n",
    "                                            Xs_grad[:,:,[1]], # thetaS\n",
    "                                            sensitivity[:,:,[1]],  # thetaS\n",
    "                                            shape = (*SHAPE, time), \n",
    "                                            coords  = coords)"
   ]
  },
  {
   "cell_type": "code",
   "execution_count": 46,
   "id": "c2a3ad81-d0d6-4eda-b8d0-30ed5f3651cf",
   "metadata": {
    "tags": []
   },
   "outputs": [],
   "source": [
    "#y_pred_plot.isel(time=0).where(y_pred_plot.isel(time=0) != 0).plot(vmin=-200, vmax=200)\n",
    "\n",
    "# ts_compare(Xd_test.unstack().sel(feat=\"pet\"),Xd_test.unstack().sel(feat=\"pet\"), \n",
    "#                        label_1=\"grad\", label_2 = \"sensitivity\", lat = [46.5], lon = [11.4])"
   ]
  },
  {
   "cell_type": "code",
   "execution_count": 47,
   "id": "903e88b1",
   "metadata": {},
   "outputs": [],
   "source": [
    "grad[\"time\"] = Xd_test.time\n",
    "sens[\"time\"] = Xd_test.time\n",
    "grad_static[\"time\"] = Xd_test.time\n",
    "sens_static[\"time\"] = Xd_test.time"
   ]
  },
  {
   "cell_type": "code",
   "execution_count": 49,
   "id": "006d56fb-b0e7-403c-8317-3dfa9b417166",
   "metadata": {
    "tags": []
   },
   "outputs": [],
   "source": [
    "ts_compare(grad,   sens, label_1=\"grad\", label_2 = \"sensitivity\", lat = [46.5], lon = [11.4]   )"
   ]
  },
  {
   "cell_type": "code",
   "execution_count": null,
   "id": "50361881",
   "metadata": {},
   "outputs": [],
   "source": [
    "ts_compare(grad_static,   sens_static, label_1=\"grad\", label_2 = \"sensitivity\", lat = [46.5], lon = [11.4]   )"
   ]
  },
  {
   "cell_type": "code",
   "execution_count": null,
   "id": "a14285d1-fa77-4999-89f5-68356e9b0899",
   "metadata": {
    "tags": []
   },
   "outputs": [],
   "source": [
    "Y_test = normalizer_target.denormalize(Y_test)"
   ]
  },
  {
   "cell_type": "code",
   "execution_count": null,
   "id": "586f034d-4643-41f8-8699-bb2433d1a01a",
   "metadata": {
    "tags": []
   },
   "outputs": [],
   "source": [
    "# === Plotting =============================================================================\n",
    "\n",
    "from plot_in import prepare_for_in_plotting,ts\n",
    "\n",
    "dynamic_feature_plot = sensitivity_actevap.detach().reshape(180,223,731,3)\n",
    "# dynamic_feature_plot = Xd_test.values.reshape(180,223,731,3)\n",
    "\n",
    "array_no_nan = np.nan_to_num(dynamic_feature_plot, nan=0)\n",
    "\n",
    "from plot_in import prepare_for_in_plotting,ts_compare_in\n",
    "coords  = ds_target.sel(time=valid_temporal_range).coords\n",
    "def to_xr(arr, coords, dims=[\"lat\", \"lon\", \"time\"]):\n",
    "    return xr.DataArray(arr, dims=dims, coords=coords)\n",
    "yhat = to_xr(array_no_nan[:,:,:,1], coords=coords)\n",
    "y_target_plot"
   ]
  },
  {
   "cell_type": "code",
   "execution_count": null,
   "id": "203e62e3-8121-4fa1-9911-b1acf6410545",
   "metadata": {
    "tags": []
   },
   "outputs": [],
   "source": [
    "# === sensitivity map of dynamic parameters with related to the MSE.\n",
    "#.     Xd_gradient * Xd_values =============================================================================\n",
    "\n",
    "sensitivity = Xd_grad1*Xd_test.values\n"
   ]
  },
  {
   "cell_type": "code",
   "execution_count": null,
   "id": "a0842425-4839-4d0c-9767-72ffc80150db",
   "metadata": {
    "tags": []
   },
   "outputs": [],
   "source": [
    "# === Plotting =============================================================================\n",
    "\n",
    "from plot_in import prepare_for_in_plotting,ts_compare_in\n",
    "\n",
    "dynamic_feature_plot = Xd_grad1.detach().reshape(180,223,731,3)\n",
    "# dynamic_feature_plot = Xd_test.values.reshape(180,223,731,3)\n",
    "\n",
    "array_no_nan = np.nan_to_num(dynamic_feature_plot, nan=0)\n",
    "\n",
    "from plot_in import prepare_for_in_plotting,ts_compare_in\n",
    "coords  = ds_target.sel(time=valid_temporal_range).coords\n",
    "def to_xr(arr, coords, dims=[\"lat\", \"lon\", \"time\"]):\n",
    "    return xr.DataArray(arr, dims=dims, coords=coords)\n",
    "yhat = to_xr(array_no_nan[:,:,:,1], coords=coords)\n",
    "\n",
    "ts_compare_in(yhat,lat = [46.4], lon = [11.4])\n",
    "\n"
   ]
  }
 ],
 "metadata": {
  "kernelspec": {
   "display_name": "emulator",
   "language": "python",
   "name": "python3"
  },
  "language_info": {
   "codemirror_mode": {
    "name": "ipython",
    "version": 3
   },
   "file_extension": ".py",
   "mimetype": "text/x-python",
   "name": "python",
   "nbconvert_exporter": "python",
   "pygments_lexer": "ipython3",
   "version": "3.11.6"
  }
 },
 "nbformat": 4,
 "nbformat_minor": 5
}
