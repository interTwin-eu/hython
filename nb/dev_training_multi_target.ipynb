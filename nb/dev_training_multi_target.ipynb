{
 "cells": [
  {
   "cell_type": "code",
   "execution_count": 1,
   "id": "30de281b-5aee-4e21-a402-d9b7edbd65ca",
   "metadata": {
    "tags": []
   },
   "outputs": [],
   "source": [
    "%load_ext autoreload\n",
    "%autoreload 2"
   ]
  },
  {
   "cell_type": "code",
   "execution_count": 2,
   "id": "db2e5f2c-0b5a-4c47-8280-4ff3c150c0e4",
   "metadata": {
    "tags": []
   },
   "outputs": [
    {
     "name": "stderr",
     "output_type": "stream",
     "text": [
      "ERROR 1: PROJ: proj_create_from_database: Open of /home/iferrario/.local/miniforge/envs/emulator/share/proj failed\n"
     ]
    }
   ],
   "source": [
    "import os\n",
    "import xarray as xr\n",
    "import random \n",
    "import numpy as np\n",
    "from pathlib import Path \n",
    "import glob\n",
    "\n",
    "from sklearn.metrics import mean_squared_error\n",
    "\n",
    "import torch\n",
    "from torch import nn\n",
    "import torch.optim as optim\n",
    "from torch.optim.lr_scheduler import ReduceLROnPlateau\n",
    "from torch.utils.data import DataLoader, TensorDataset, random_split, Dataset\n",
    "\n",
    "# Eurac utils\n",
    "from hython.preprocess import preprocess, apply_missing_policy, apply_normalization\n",
    "from hython.models.lstm import CustomLSTM, CudnnLSTM\n",
    "#from hython.metrics import RMSELoss\n",
    "from hython.losses import RMSELoss\n",
    "from hython.datasets.datasets import LSTMDataset\n",
    "from hython.train_val import train_val\n",
    "from hython.viz import plot_sampler\n",
    "from hython.sampler import RegularIntervalSampler\n",
    "from hython.utils import missing_location_idx, reconstruct_from_missing\n",
    "\n",
    "# visualize \n",
    "import matplotlib.pyplot as plt\n",
    "import geopandas as gpd\n",
    "from cartopy import crs as ccrs\n",
    "\n",
    "import warnings\n",
    "warnings.filterwarnings(\"ignore\")"
   ]
  },
  {
   "cell_type": "code",
   "execution_count": 3,
   "id": "8202d3c5",
   "metadata": {
    "tags": []
   },
   "outputs": [],
   "source": [
    "# import sys\n",
    "# sys.path.append('/home/iferrario/dev/differentiable_modelling/tsai/model_code/')\n",
    "# from hydroDL.model import rnn, crit, train"
   ]
  },
  {
   "cell_type": "code",
   "execution_count": 4,
   "id": "fc885dc5-908f-4cef-8af0-de1e5761d48b",
   "metadata": {
    "tags": []
   },
   "outputs": [],
   "source": [
    "def set_seed(seed):\n",
    "    random.seed(seed)\n",
    "    os.environ[\"PYTHONHASHSEED\"] = str(seed)\n",
    "    np.random.seed(seed)\n",
    "    torch.manual_seed(seed)\n",
    "    if torch.cuda.is_available():\n",
    "        torch.cuda.manual_seed_all(seed)\n",
    "        torch.backends.cudnn.deterministic = True\n",
    "\n",
    "set_seed(2023)"
   ]
  },
  {
   "cell_type": "markdown",
   "id": "b842ef8c-5393-48b2-b3f2-6bf711ae0745",
   "metadata": {
    "tags": []
   },
   "source": [
    "## Overview\n",
    "\n",
    "\n",
    "Before training we are sampling the grid domain and removing the missing values. \n",
    "\n",
    "The operation of reshaping&sampling and missing removal are invertible, meaning it is always possible to go back to the parent grid.\n",
    "\n",
    "**Missing values**: the last step of the workflow removes missing values (np.nan). Missing here is considered as any values that should not be used in model training/validation. For example if there is a reason to remove lakes from the training, we should set lakes to missing (i.e., np.nan). \n",
    "\n",
    "![sampling](assets/grid_sampling.png)\n",
    "\n",
    "\n",
    "\n",
    "**Train/validation approach**:\n",
    "There are three types of validation: The more common is type a), but here we are more interested in b) and c), as the goal is regionalizaiton of parameters.\n",
    "\n",
    "![sampling](assets/validation_strategy.png)\n",
    "\n",
    "\n",
    "**Normalization**:\n",
    "\n",
    "Normalization helps the algorithm reaching a miminum, decreasing computation time. It is not straightforward how to normalize training and validation datasets in case of validation approach b) and c) \n",
    "\n",
    "**Mini-batch**: \n",
    "Randomly selecting gridcells and time sequence chunks."
   ]
  },
  {
   "cell_type": "code",
   "execution_count": 6,
   "id": "402948fa-4db9-4fb0-a48a-c9e6dc8e0199",
   "metadata": {
    "tags": []
   },
   "outputs": [],
   "source": [
    "## user settings\n",
    "\n",
    "domain = \"alps\" # \"alps\"\n",
    "\n",
    "timeslice = slice(\"2016-01-01\",\"2020-12-31\")\n",
    "\n",
    "\n",
    "dynamic_names = [\"precip\", \"pet\", \"temp\"]\n",
    "static_names = [ 'M', 'thetaS', 'RootingDepth', 'Kext', 'Sl', 'Swood', 'TT', 'KsatHorFrac'] \n",
    "target_names = [ \"vwc\",\"actevap\" ] # \"q_river\"]\n",
    "\n",
    "\n"
   ]
  },
  {
   "cell_type": "code",
   "execution_count": 7,
   "id": "4927f596-9fc7-420a-b1a4-37699a9244bf",
   "metadata": {
    "tags": []
   },
   "outputs": [],
   "source": [
    "if domain == \"alps\":\n",
    "    ipath = Path('/mnt/CEPH_PROJECTS/InterTwin/Wflow/full_domain/alps1km')\n",
    "    dyn_vars_ds = xr.open_dataset(ipath / 'inmaps_eobs_eobsd_makkink_86400_2015_2019.nc', decode_coords='all',chunks= {\"time\":100})\n",
    "    static_params_ds = xr.open_dataset(ipath / \"staticmaps.nc\", decode_coords='all', chunks= {\"time\":100}).sel(layer=1)\n",
    "    target_ds = xr.open_dataset(ipath / \"run_default/output.nc\", decode_coords='all', chunks= {\"time\":100}).sel(layer=1).isel(lat=slice(None, None, -1))\n",
    "    target_ds.dims,dyn_vars_ds.dims, static_params_ds.dims\n",
    "if domain == \"adige\":\n",
    "    glob.glob('/mnt/CEPH_PROJECTS/InterTwin/Surrogate_Model/Train Model/Deltras Data')\n",
    "    dyn_vars_ds = xr.open_dataset('/mnt/CEPH_PROJECTS/InterTwin/Surrogate_Model/Train Model/Deltras Data/Dynamic_Data_2000_2015.nc',decode_coords='all', chunks= {\"time\":100})#.to_dataset(dim='variable')\n",
    "    static_params_ds = xr.open_dataset('/mnt/CEPH_PROJECTS/InterTwin/Surrogate_Model/Train Model/Deltras Data/staticmaps.nc',decode_coords='all', chunks= {\"time\":100}).sel(layer=1)#.to_dataset(dim='variable')\n",
    "    target_ds = xr.open_dataset('/mnt/CEPH_PROJECTS/InterTwin/Surrogate_Model/Train Model/Deltras Data/Target_train_et_sm_2000_2015.nc',decode_coords='all', chunks= {\"time\":100}).isel(lat=slice(None, None, -1))\n",
    "    dyn_vars_ds.dims, static_params_ds.dims, target_ds.dims"
   ]
  },
  {
   "cell_type": "code",
   "execution_count": 8,
   "id": "015e1adb",
   "metadata": {
    "tags": []
   },
   "outputs": [],
   "source": [
    "target_ds.data_vars, dyn_vars_ds.data_vars, static_params_ds.data_vars;"
   ]
  },
  {
   "cell_type": "code",
   "execution_count": 9,
   "id": "da32aba0-acb4-47ef-af5b-10e994d36518",
   "metadata": {
    "tags": []
   },
   "outputs": [
    {
     "data": {
      "text/html": [
       "<div><svg style=\"position: absolute; width: 0; height: 0; overflow: hidden\">\n",
       "<defs>\n",
       "<symbol id=\"icon-database\" viewBox=\"0 0 32 32\">\n",
       "<path d=\"M16 0c-8.837 0-16 2.239-16 5v4c0 2.761 7.163 5 16 5s16-2.239 16-5v-4c0-2.761-7.163-5-16-5z\"></path>\n",
       "<path d=\"M16 17c-8.837 0-16-2.239-16-5v6c0 2.761 7.163 5 16 5s16-2.239 16-5v-6c0 2.761-7.163 5-16 5z\"></path>\n",
       "<path d=\"M16 26c-8.837 0-16-2.239-16-5v6c0 2.761 7.163 5 16 5s16-2.239 16-5v-6c0 2.761-7.163 5-16 5z\"></path>\n",
       "</symbol>\n",
       "<symbol id=\"icon-file-text2\" viewBox=\"0 0 32 32\">\n",
       "<path d=\"M28.681 7.159c-0.694-0.947-1.662-2.053-2.724-3.116s-2.169-2.030-3.116-2.724c-1.612-1.182-2.393-1.319-2.841-1.319h-15.5c-1.378 0-2.5 1.121-2.5 2.5v27c0 1.378 1.122 2.5 2.5 2.5h23c1.378 0 2.5-1.122 2.5-2.5v-19.5c0-0.448-0.137-1.23-1.319-2.841zM24.543 5.457c0.959 0.959 1.712 1.825 2.268 2.543h-4.811v-4.811c0.718 0.556 1.584 1.309 2.543 2.268zM28 29.5c0 0.271-0.229 0.5-0.5 0.5h-23c-0.271 0-0.5-0.229-0.5-0.5v-27c0-0.271 0.229-0.5 0.5-0.5 0 0 15.499-0 15.5 0v7c0 0.552 0.448 1 1 1h7v19.5z\"></path>\n",
       "<path d=\"M23 26h-14c-0.552 0-1-0.448-1-1s0.448-1 1-1h14c0.552 0 1 0.448 1 1s-0.448 1-1 1z\"></path>\n",
       "<path d=\"M23 22h-14c-0.552 0-1-0.448-1-1s0.448-1 1-1h14c0.552 0 1 0.448 1 1s-0.448 1-1 1z\"></path>\n",
       "<path d=\"M23 18h-14c-0.552 0-1-0.448-1-1s0.448-1 1-1h14c0.552 0 1 0.448 1 1s-0.448 1-1 1z\"></path>\n",
       "</symbol>\n",
       "</defs>\n",
       "</svg>\n",
       "<style>/* CSS stylesheet for displaying xarray objects in jupyterlab.\n",
       " *\n",
       " */\n",
       "\n",
       ":root {\n",
       "  --xr-font-color0: var(--jp-content-font-color0, rgba(0, 0, 0, 1));\n",
       "  --xr-font-color2: var(--jp-content-font-color2, rgba(0, 0, 0, 0.54));\n",
       "  --xr-font-color3: var(--jp-content-font-color3, rgba(0, 0, 0, 0.38));\n",
       "  --xr-border-color: var(--jp-border-color2, #e0e0e0);\n",
       "  --xr-disabled-color: var(--jp-layout-color3, #bdbdbd);\n",
       "  --xr-background-color: var(--jp-layout-color0, white);\n",
       "  --xr-background-color-row-even: var(--jp-layout-color1, white);\n",
       "  --xr-background-color-row-odd: var(--jp-layout-color2, #eeeeee);\n",
       "}\n",
       "\n",
       "html[theme=dark],\n",
       "body[data-theme=dark],\n",
       "body.vscode-dark {\n",
       "  --xr-font-color0: rgba(255, 255, 255, 1);\n",
       "  --xr-font-color2: rgba(255, 255, 255, 0.54);\n",
       "  --xr-font-color3: rgba(255, 255, 255, 0.38);\n",
       "  --xr-border-color: #1F1F1F;\n",
       "  --xr-disabled-color: #515151;\n",
       "  --xr-background-color: #111111;\n",
       "  --xr-background-color-row-even: #111111;\n",
       "  --xr-background-color-row-odd: #313131;\n",
       "}\n",
       "\n",
       ".xr-wrap {\n",
       "  display: block !important;\n",
       "  min-width: 300px;\n",
       "  max-width: 700px;\n",
       "}\n",
       "\n",
       ".xr-text-repr-fallback {\n",
       "  /* fallback to plain text repr when CSS is not injected (untrusted notebook) */\n",
       "  display: none;\n",
       "}\n",
       "\n",
       ".xr-header {\n",
       "  padding-top: 6px;\n",
       "  padding-bottom: 6px;\n",
       "  margin-bottom: 4px;\n",
       "  border-bottom: solid 1px var(--xr-border-color);\n",
       "}\n",
       "\n",
       ".xr-header > div,\n",
       ".xr-header > ul {\n",
       "  display: inline;\n",
       "  margin-top: 0;\n",
       "  margin-bottom: 0;\n",
       "}\n",
       "\n",
       ".xr-obj-type,\n",
       ".xr-array-name {\n",
       "  margin-left: 2px;\n",
       "  margin-right: 10px;\n",
       "}\n",
       "\n",
       ".xr-obj-type {\n",
       "  color: var(--xr-font-color2);\n",
       "}\n",
       "\n",
       ".xr-sections {\n",
       "  padding-left: 0 !important;\n",
       "  display: grid;\n",
       "  grid-template-columns: 150px auto auto 1fr 20px 20px;\n",
       "}\n",
       "\n",
       ".xr-section-item {\n",
       "  display: contents;\n",
       "}\n",
       "\n",
       ".xr-section-item input {\n",
       "  display: none;\n",
       "}\n",
       "\n",
       ".xr-section-item input + label {\n",
       "  color: var(--xr-disabled-color);\n",
       "}\n",
       "\n",
       ".xr-section-item input:enabled + label {\n",
       "  cursor: pointer;\n",
       "  color: var(--xr-font-color2);\n",
       "}\n",
       "\n",
       ".xr-section-item input:enabled + label:hover {\n",
       "  color: var(--xr-font-color0);\n",
       "}\n",
       "\n",
       ".xr-section-summary {\n",
       "  grid-column: 1;\n",
       "  color: var(--xr-font-color2);\n",
       "  font-weight: 500;\n",
       "}\n",
       "\n",
       ".xr-section-summary > span {\n",
       "  display: inline-block;\n",
       "  padding-left: 0.5em;\n",
       "}\n",
       "\n",
       ".xr-section-summary-in:disabled + label {\n",
       "  color: var(--xr-font-color2);\n",
       "}\n",
       "\n",
       ".xr-section-summary-in + label:before {\n",
       "  display: inline-block;\n",
       "  content: '►';\n",
       "  font-size: 11px;\n",
       "  width: 15px;\n",
       "  text-align: center;\n",
       "}\n",
       "\n",
       ".xr-section-summary-in:disabled + label:before {\n",
       "  color: var(--xr-disabled-color);\n",
       "}\n",
       "\n",
       ".xr-section-summary-in:checked + label:before {\n",
       "  content: '▼';\n",
       "}\n",
       "\n",
       ".xr-section-summary-in:checked + label > span {\n",
       "  display: none;\n",
       "}\n",
       "\n",
       ".xr-section-summary,\n",
       ".xr-section-inline-details {\n",
       "  padding-top: 4px;\n",
       "  padding-bottom: 4px;\n",
       "}\n",
       "\n",
       ".xr-section-inline-details {\n",
       "  grid-column: 2 / -1;\n",
       "}\n",
       "\n",
       ".xr-section-details {\n",
       "  display: none;\n",
       "  grid-column: 1 / -1;\n",
       "  margin-bottom: 5px;\n",
       "}\n",
       "\n",
       ".xr-section-summary-in:checked ~ .xr-section-details {\n",
       "  display: contents;\n",
       "}\n",
       "\n",
       ".xr-array-wrap {\n",
       "  grid-column: 1 / -1;\n",
       "  display: grid;\n",
       "  grid-template-columns: 20px auto;\n",
       "}\n",
       "\n",
       ".xr-array-wrap > label {\n",
       "  grid-column: 1;\n",
       "  vertical-align: top;\n",
       "}\n",
       "\n",
       ".xr-preview {\n",
       "  color: var(--xr-font-color3);\n",
       "}\n",
       "\n",
       ".xr-array-preview,\n",
       ".xr-array-data {\n",
       "  padding: 0 5px !important;\n",
       "  grid-column: 2;\n",
       "}\n",
       "\n",
       ".xr-array-data,\n",
       ".xr-array-in:checked ~ .xr-array-preview {\n",
       "  display: none;\n",
       "}\n",
       "\n",
       ".xr-array-in:checked ~ .xr-array-data,\n",
       ".xr-array-preview {\n",
       "  display: inline-block;\n",
       "}\n",
       "\n",
       ".xr-dim-list {\n",
       "  display: inline-block !important;\n",
       "  list-style: none;\n",
       "  padding: 0 !important;\n",
       "  margin: 0;\n",
       "}\n",
       "\n",
       ".xr-dim-list li {\n",
       "  display: inline-block;\n",
       "  padding: 0;\n",
       "  margin: 0;\n",
       "}\n",
       "\n",
       ".xr-dim-list:before {\n",
       "  content: '(';\n",
       "}\n",
       "\n",
       ".xr-dim-list:after {\n",
       "  content: ')';\n",
       "}\n",
       "\n",
       ".xr-dim-list li:not(:last-child):after {\n",
       "  content: ',';\n",
       "  padding-right: 5px;\n",
       "}\n",
       "\n",
       ".xr-has-index {\n",
       "  font-weight: bold;\n",
       "}\n",
       "\n",
       ".xr-var-list,\n",
       ".xr-var-item {\n",
       "  display: contents;\n",
       "}\n",
       "\n",
       ".xr-var-item > div,\n",
       ".xr-var-item label,\n",
       ".xr-var-item > .xr-var-name span {\n",
       "  background-color: var(--xr-background-color-row-even);\n",
       "  margin-bottom: 0;\n",
       "}\n",
       "\n",
       ".xr-var-item > .xr-var-name:hover span {\n",
       "  padding-right: 5px;\n",
       "}\n",
       "\n",
       ".xr-var-list > li:nth-child(odd) > div,\n",
       ".xr-var-list > li:nth-child(odd) > label,\n",
       ".xr-var-list > li:nth-child(odd) > .xr-var-name span {\n",
       "  background-color: var(--xr-background-color-row-odd);\n",
       "}\n",
       "\n",
       ".xr-var-name {\n",
       "  grid-column: 1;\n",
       "}\n",
       "\n",
       ".xr-var-dims {\n",
       "  grid-column: 2;\n",
       "}\n",
       "\n",
       ".xr-var-dtype {\n",
       "  grid-column: 3;\n",
       "  text-align: right;\n",
       "  color: var(--xr-font-color2);\n",
       "}\n",
       "\n",
       ".xr-var-preview {\n",
       "  grid-column: 4;\n",
       "}\n",
       "\n",
       ".xr-index-preview {\n",
       "  grid-column: 2 / 5;\n",
       "  color: var(--xr-font-color2);\n",
       "}\n",
       "\n",
       ".xr-var-name,\n",
       ".xr-var-dims,\n",
       ".xr-var-dtype,\n",
       ".xr-preview,\n",
       ".xr-attrs dt {\n",
       "  white-space: nowrap;\n",
       "  overflow: hidden;\n",
       "  text-overflow: ellipsis;\n",
       "  padding-right: 10px;\n",
       "}\n",
       "\n",
       ".xr-var-name:hover,\n",
       ".xr-var-dims:hover,\n",
       ".xr-var-dtype:hover,\n",
       ".xr-attrs dt:hover {\n",
       "  overflow: visible;\n",
       "  width: auto;\n",
       "  z-index: 1;\n",
       "}\n",
       "\n",
       ".xr-var-attrs,\n",
       ".xr-var-data,\n",
       ".xr-index-data {\n",
       "  display: none;\n",
       "  background-color: var(--xr-background-color) !important;\n",
       "  padding-bottom: 5px !important;\n",
       "}\n",
       "\n",
       ".xr-var-attrs-in:checked ~ .xr-var-attrs,\n",
       ".xr-var-data-in:checked ~ .xr-var-data,\n",
       ".xr-index-data-in:checked ~ .xr-index-data {\n",
       "  display: block;\n",
       "}\n",
       "\n",
       ".xr-var-data > table {\n",
       "  float: right;\n",
       "}\n",
       "\n",
       ".xr-var-name span,\n",
       ".xr-var-data,\n",
       ".xr-index-name div,\n",
       ".xr-index-data,\n",
       ".xr-attrs {\n",
       "  padding-left: 25px !important;\n",
       "}\n",
       "\n",
       ".xr-attrs,\n",
       ".xr-var-attrs,\n",
       ".xr-var-data,\n",
       ".xr-index-data {\n",
       "  grid-column: 1 / -1;\n",
       "}\n",
       "\n",
       "dl.xr-attrs {\n",
       "  padding: 0;\n",
       "  margin: 0;\n",
       "  display: grid;\n",
       "  grid-template-columns: 125px auto;\n",
       "}\n",
       "\n",
       ".xr-attrs dt,\n",
       ".xr-attrs dd {\n",
       "  padding: 0;\n",
       "  margin: 0;\n",
       "  float: left;\n",
       "  padding-right: 10px;\n",
       "  width: auto;\n",
       "}\n",
       "\n",
       ".xr-attrs dt {\n",
       "  font-weight: normal;\n",
       "  grid-column: 1;\n",
       "}\n",
       "\n",
       ".xr-attrs dt:hover span {\n",
       "  display: inline-block;\n",
       "  background: var(--xr-background-color);\n",
       "  padding-right: 10px;\n",
       "}\n",
       "\n",
       ".xr-attrs dd {\n",
       "  grid-column: 2;\n",
       "  white-space: pre-wrap;\n",
       "  word-break: break-all;\n",
       "}\n",
       "\n",
       ".xr-icon-database,\n",
       ".xr-icon-file-text2,\n",
       ".xr-no-icon {\n",
       "  display: inline-block;\n",
       "  vertical-align: middle;\n",
       "  width: 1em;\n",
       "  height: 1.5em !important;\n",
       "  stroke-width: 0;\n",
       "  stroke: currentColor;\n",
       "  fill: currentColor;\n",
       "}\n",
       "</style><pre class='xr-text-repr-fallback'>&lt;xarray.Dataset&gt;\n",
       "Dimensions:  (lon: 1177, lat: 689, time: 1825)\n",
       "Coordinates:\n",
       "  * lon      (lon) float64 5.079 5.088 5.098 5.107 ... 15.83 15.84 15.85 15.86\n",
       "  * lat      (lat) float64 50.03 50.02 50.01 50.0 ... 43.75 43.74 43.73 43.72\n",
       "    layer    float64 1.0\n",
       "  * time     (time) datetime64[ns] 2015-01-02 2015-01-03 ... 2019-12-31\n",
       "Data variables:\n",
       "    actevap  (time, lat, lon) float32 dask.array&lt;chunksize=(100, 689, 1177), meta=np.ndarray&gt;\n",
       "    q_river  (time, lat, lon) float32 dask.array&lt;chunksize=(100, 689, 1177), meta=np.ndarray&gt;\n",
       "    vwc      (time, lat, lon) float32 dask.array&lt;chunksize=(100, 344, 589), meta=np.ndarray&gt;</pre><div class='xr-wrap' style='display:none'><div class='xr-header'><div class='xr-obj-type'>xarray.Dataset</div></div><ul class='xr-sections'><li class='xr-section-item'><input id='section-6fbc5d01-40ed-4d6c-a012-aa006d469b9c' class='xr-section-summary-in' type='checkbox' disabled ><label for='section-6fbc5d01-40ed-4d6c-a012-aa006d469b9c' class='xr-section-summary'  title='Expand/collapse section'>Dimensions:</label><div class='xr-section-inline-details'><ul class='xr-dim-list'><li><span class='xr-has-index'>lon</span>: 1177</li><li><span class='xr-has-index'>lat</span>: 689</li><li><span class='xr-has-index'>time</span>: 1825</li></ul></div><div class='xr-section-details'></div></li><li class='xr-section-item'><input id='section-dee32959-4ba3-4bef-8e87-f4f7f0007f96' class='xr-section-summary-in' type='checkbox'  checked><label for='section-dee32959-4ba3-4bef-8e87-f4f7f0007f96' class='xr-section-summary' >Coordinates: <span>(4)</span></label><div class='xr-section-inline-details'></div><div class='xr-section-details'><ul class='xr-var-list'><li class='xr-var-item'><div class='xr-var-name'><span class='xr-has-index'>lon</span></div><div class='xr-var-dims'>(lon)</div><div class='xr-var-dtype'>float64</div><div class='xr-var-preview xr-preview'>5.079 5.088 5.098 ... 15.85 15.86</div><input id='attrs-899ea5a6-c3dc-417a-b4a8-3160b00ff942' class='xr-var-attrs-in' type='checkbox' ><label for='attrs-899ea5a6-c3dc-417a-b4a8-3160b00ff942' title='Show/Hide attributes'><svg class='icon xr-icon-file-text2'><use xlink:href='#icon-file-text2'></use></svg></label><input id='data-623d788d-5da0-4acc-b6b7-6c13e026a584' class='xr-var-data-in' type='checkbox'><label for='data-623d788d-5da0-4acc-b6b7-6c13e026a584' title='Show/Hide data repr'><svg class='icon xr-icon-database'><use xlink:href='#icon-database'></use></svg></label><div class='xr-var-attrs'><dl class='xr-attrs'><dt><span>long_name :</span></dt><dd>longitude</dd><dt><span>standard_name :</span></dt><dd>longitude</dd><dt><span>axis :</span></dt><dd>X</dd><dt><span>units :</span></dt><dd>degrees_east</dd></dl></div><div class='xr-var-data'><pre>array([ 5.079167,  5.088333,  5.0975  , ..., 15.840833, 15.85    , 15.859167])</pre></div></li><li class='xr-var-item'><div class='xr-var-name'><span class='xr-has-index'>lat</span></div><div class='xr-var-dims'>(lat)</div><div class='xr-var-dtype'>float64</div><div class='xr-var-preview xr-preview'>50.03 50.02 50.01 ... 43.73 43.72</div><input id='attrs-a9fd446b-6cd4-4cc0-9a73-3f6f1856cf89' class='xr-var-attrs-in' type='checkbox' ><label for='attrs-a9fd446b-6cd4-4cc0-9a73-3f6f1856cf89' title='Show/Hide attributes'><svg class='icon xr-icon-file-text2'><use xlink:href='#icon-file-text2'></use></svg></label><input id='data-8f459f3b-d598-4dc5-9b9e-ed8120f34f26' class='xr-var-data-in' type='checkbox'><label for='data-8f459f3b-d598-4dc5-9b9e-ed8120f34f26' title='Show/Hide data repr'><svg class='icon xr-icon-database'><use xlink:href='#icon-database'></use></svg></label><div class='xr-var-attrs'><dl class='xr-attrs'><dt><span>long_name :</span></dt><dd>latitude</dd><dt><span>standard_name :</span></dt><dd>latitude</dd><dt><span>axis :</span></dt><dd>Y</dd><dt><span>units :</span></dt><dd>degrees_north</dd></dl></div><div class='xr-var-data'><pre>array([50.026667, 50.0175  , 50.008333, ..., 43.738333, 43.729167, 43.72    ])</pre></div></li><li class='xr-var-item'><div class='xr-var-name'><span>layer</span></div><div class='xr-var-dims'>()</div><div class='xr-var-dtype'>float64</div><div class='xr-var-preview xr-preview'>1.0</div><input id='attrs-42c4b1f8-02a0-48a0-b89a-34c0814a05c2' class='xr-var-attrs-in' type='checkbox' ><label for='attrs-42c4b1f8-02a0-48a0-b89a-34c0814a05c2' title='Show/Hide attributes'><svg class='icon xr-icon-file-text2'><use xlink:href='#icon-file-text2'></use></svg></label><input id='data-cc771d7a-a597-4ebd-927a-ca81e281be15' class='xr-var-data-in' type='checkbox'><label for='data-cc771d7a-a597-4ebd-927a-ca81e281be15' title='Show/Hide data repr'><svg class='icon xr-icon-database'><use xlink:href='#icon-database'></use></svg></label><div class='xr-var-attrs'><dl class='xr-attrs'><dt><span>long_name :</span></dt><dd>layer_index</dd><dt><span>standard_name :</span></dt><dd>layer_index</dd><dt><span>axis :</span></dt><dd>Z</dd></dl></div><div class='xr-var-data'><pre>array(1.)</pre></div></li><li class='xr-var-item'><div class='xr-var-name'><span class='xr-has-index'>time</span></div><div class='xr-var-dims'>(time)</div><div class='xr-var-dtype'>datetime64[ns]</div><div class='xr-var-preview xr-preview'>2015-01-02 ... 2019-12-31</div><input id='attrs-1e96958f-28ba-4b75-84df-9c5216d64345' class='xr-var-attrs-in' type='checkbox' disabled><label for='attrs-1e96958f-28ba-4b75-84df-9c5216d64345' title='Show/Hide attributes'><svg class='icon xr-icon-file-text2'><use xlink:href='#icon-file-text2'></use></svg></label><input id='data-601e0032-7c1b-4776-9067-63647cfb0011' class='xr-var-data-in' type='checkbox'><label for='data-601e0032-7c1b-4776-9067-63647cfb0011' title='Show/Hide data repr'><svg class='icon xr-icon-database'><use xlink:href='#icon-database'></use></svg></label><div class='xr-var-attrs'><dl class='xr-attrs'></dl></div><div class='xr-var-data'><pre>array([&#x27;2015-01-02T00:00:00.000000000&#x27;, &#x27;2015-01-03T00:00:00.000000000&#x27;,\n",
       "       &#x27;2015-01-04T00:00:00.000000000&#x27;, ..., &#x27;2019-12-29T00:00:00.000000000&#x27;,\n",
       "       &#x27;2019-12-30T00:00:00.000000000&#x27;, &#x27;2019-12-31T00:00:00.000000000&#x27;],\n",
       "      dtype=&#x27;datetime64[ns]&#x27;)</pre></div></li></ul></div></li><li class='xr-section-item'><input id='section-43ccedbc-94c8-4937-be66-5b789bd784e4' class='xr-section-summary-in' type='checkbox'  checked><label for='section-43ccedbc-94c8-4937-be66-5b789bd784e4' class='xr-section-summary' >Data variables: <span>(3)</span></label><div class='xr-section-inline-details'></div><div class='xr-section-details'><ul class='xr-var-list'><li class='xr-var-item'><div class='xr-var-name'><span>actevap</span></div><div class='xr-var-dims'>(time, lat, lon)</div><div class='xr-var-dtype'>float32</div><div class='xr-var-preview xr-preview'>dask.array&lt;chunksize=(100, 689, 1177), meta=np.ndarray&gt;</div><input id='attrs-12dc510e-94bd-4666-ac2f-bac948092eff' class='xr-var-attrs-in' type='checkbox' disabled><label for='attrs-12dc510e-94bd-4666-ac2f-bac948092eff' title='Show/Hide attributes'><svg class='icon xr-icon-file-text2'><use xlink:href='#icon-file-text2'></use></svg></label><input id='data-c10ccf3e-b8d1-43ae-ade8-890ae28e9b87' class='xr-var-data-in' type='checkbox'><label for='data-c10ccf3e-b8d1-43ae-ade8-890ae28e9b87' title='Show/Hide data repr'><svg class='icon xr-icon-database'><use xlink:href='#icon-database'></use></svg></label><div class='xr-var-attrs'><dl class='xr-attrs'></dl></div><div class='xr-var-data'><table>\n",
       "    <tr>\n",
       "        <td>\n",
       "            <table style=\"border-collapse: collapse;\">\n",
       "                <thead>\n",
       "                    <tr>\n",
       "                        <td> </td>\n",
       "                        <th> Array </th>\n",
       "                        <th> Chunk </th>\n",
       "                    </tr>\n",
       "                </thead>\n",
       "                <tbody>\n",
       "                    \n",
       "                    <tr>\n",
       "                        <th> Bytes </th>\n",
       "                        <td> 5.51 GiB </td>\n",
       "                        <td> 309.35 MiB </td>\n",
       "                    </tr>\n",
       "                    \n",
       "                    <tr>\n",
       "                        <th> Shape </th>\n",
       "                        <td> (1825, 689, 1177) </td>\n",
       "                        <td> (100, 689, 1177) </td>\n",
       "                    </tr>\n",
       "                    <tr>\n",
       "                        <th> Dask graph </th>\n",
       "                        <td colspan=\"2\"> 19 chunks in 3 graph layers </td>\n",
       "                    </tr>\n",
       "                    <tr>\n",
       "                        <th> Data type </th>\n",
       "                        <td colspan=\"2\"> float32 numpy.ndarray </td>\n",
       "                    </tr>\n",
       "                </tbody>\n",
       "            </table>\n",
       "        </td>\n",
       "        <td>\n",
       "        <svg width=\"207\" height=\"165\" style=\"stroke:rgb(0,0,0);stroke-width:1\" >\n",
       "\n",
       "  <!-- Horizontal lines -->\n",
       "  <line x1=\"10\" y1=\"0\" x2=\"80\" y2=\"70\" style=\"stroke-width:2\" />\n",
       "  <line x1=\"10\" y1=\"45\" x2=\"80\" y2=\"115\" style=\"stroke-width:2\" />\n",
       "\n",
       "  <!-- Vertical lines -->\n",
       "  <line x1=\"10\" y1=\"0\" x2=\"10\" y2=\"45\" style=\"stroke-width:2\" />\n",
       "  <line x1=\"13\" y1=\"3\" x2=\"13\" y2=\"49\" />\n",
       "  <line x1=\"17\" y1=\"7\" x2=\"17\" y2=\"53\" />\n",
       "  <line x1=\"21\" y1=\"11\" x2=\"21\" y2=\"56\" />\n",
       "  <line x1=\"25\" y1=\"15\" x2=\"25\" y2=\"60\" />\n",
       "  <line x1=\"29\" y1=\"19\" x2=\"29\" y2=\"64\" />\n",
       "  <line x1=\"33\" y1=\"23\" x2=\"33\" y2=\"68\" />\n",
       "  <line x1=\"37\" y1=\"27\" x2=\"37\" y2=\"72\" />\n",
       "  <line x1=\"40\" y1=\"30\" x2=\"40\" y2=\"76\" />\n",
       "  <line x1=\"44\" y1=\"34\" x2=\"44\" y2=\"80\" />\n",
       "  <line x1=\"48\" y1=\"38\" x2=\"48\" y2=\"83\" />\n",
       "  <line x1=\"52\" y1=\"42\" x2=\"52\" y2=\"87\" />\n",
       "  <line x1=\"56\" y1=\"46\" x2=\"56\" y2=\"91\" />\n",
       "  <line x1=\"60\" y1=\"50\" x2=\"60\" y2=\"95\" />\n",
       "  <line x1=\"64\" y1=\"54\" x2=\"64\" y2=\"99\" />\n",
       "  <line x1=\"68\" y1=\"58\" x2=\"68\" y2=\"103\" />\n",
       "  <line x1=\"71\" y1=\"61\" x2=\"71\" y2=\"107\" />\n",
       "  <line x1=\"75\" y1=\"65\" x2=\"75\" y2=\"111\" />\n",
       "  <line x1=\"79\" y1=\"69\" x2=\"79\" y2=\"114\" />\n",
       "  <line x1=\"80\" y1=\"70\" x2=\"80\" y2=\"115\" style=\"stroke-width:2\" />\n",
       "\n",
       "  <!-- Colored Rectangle -->\n",
       "  <polygon points=\"10.0,0.0 80.58823529411765,70.58823529411765 80.58823529411765,115.89234488315876 10.0,45.3041095890411\" style=\"fill:#8B4903A0;stroke-width:0\"/>\n",
       "\n",
       "  <!-- Horizontal lines -->\n",
       "  <line x1=\"10\" y1=\"0\" x2=\"87\" y2=\"0\" style=\"stroke-width:2\" />\n",
       "  <line x1=\"13\" y1=\"3\" x2=\"91\" y2=\"3\" />\n",
       "  <line x1=\"17\" y1=\"7\" x2=\"95\" y2=\"7\" />\n",
       "  <line x1=\"21\" y1=\"11\" x2=\"98\" y2=\"11\" />\n",
       "  <line x1=\"25\" y1=\"15\" x2=\"102\" y2=\"15\" />\n",
       "  <line x1=\"29\" y1=\"19\" x2=\"106\" y2=\"19\" />\n",
       "  <line x1=\"33\" y1=\"23\" x2=\"110\" y2=\"23\" />\n",
       "  <line x1=\"37\" y1=\"27\" x2=\"114\" y2=\"27\" />\n",
       "  <line x1=\"40\" y1=\"30\" x2=\"118\" y2=\"30\" />\n",
       "  <line x1=\"44\" y1=\"34\" x2=\"122\" y2=\"34\" />\n",
       "  <line x1=\"48\" y1=\"38\" x2=\"126\" y2=\"38\" />\n",
       "  <line x1=\"52\" y1=\"42\" x2=\"129\" y2=\"42\" />\n",
       "  <line x1=\"56\" y1=\"46\" x2=\"133\" y2=\"46\" />\n",
       "  <line x1=\"60\" y1=\"50\" x2=\"137\" y2=\"50\" />\n",
       "  <line x1=\"64\" y1=\"54\" x2=\"141\" y2=\"54\" />\n",
       "  <line x1=\"68\" y1=\"58\" x2=\"145\" y2=\"58\" />\n",
       "  <line x1=\"71\" y1=\"61\" x2=\"149\" y2=\"61\" />\n",
       "  <line x1=\"75\" y1=\"65\" x2=\"153\" y2=\"65\" />\n",
       "  <line x1=\"79\" y1=\"69\" x2=\"157\" y2=\"69\" />\n",
       "  <line x1=\"80\" y1=\"70\" x2=\"157\" y2=\"70\" style=\"stroke-width:2\" />\n",
       "\n",
       "  <!-- Vertical lines -->\n",
       "  <line x1=\"10\" y1=\"0\" x2=\"80\" y2=\"70\" style=\"stroke-width:2\" />\n",
       "  <line x1=\"87\" y1=\"0\" x2=\"157\" y2=\"70\" style=\"stroke-width:2\" />\n",
       "\n",
       "  <!-- Colored Rectangle -->\n",
       "  <polygon points=\"10.0,0.0 87.3917808219178,0.0 157.98001611603547,70.58823529411765 80.58823529411765,70.58823529411765\" style=\"fill:#8B4903A0;stroke-width:0\"/>\n",
       "\n",
       "  <!-- Horizontal lines -->\n",
       "  <line x1=\"80\" y1=\"70\" x2=\"157\" y2=\"70\" style=\"stroke-width:2\" />\n",
       "  <line x1=\"80\" y1=\"115\" x2=\"157\" y2=\"115\" style=\"stroke-width:2\" />\n",
       "\n",
       "  <!-- Vertical lines -->\n",
       "  <line x1=\"80\" y1=\"70\" x2=\"80\" y2=\"115\" style=\"stroke-width:2\" />\n",
       "  <line x1=\"157\" y1=\"70\" x2=\"157\" y2=\"115\" style=\"stroke-width:2\" />\n",
       "\n",
       "  <!-- Colored Rectangle -->\n",
       "  <polygon points=\"80.58823529411765,70.58823529411765 157.98001611603547,70.58823529411765 157.98001611603547,115.89234488315876 80.58823529411765,115.89234488315876\" style=\"fill:#ECB172A0;stroke-width:0\"/>\n",
       "\n",
       "  <!-- Text -->\n",
       "  <text x=\"119.284126\" y=\"135.892345\" font-size=\"1.0rem\" font-weight=\"100\" text-anchor=\"middle\" >1177</text>\n",
       "  <text x=\"177.980016\" y=\"93.240290\" font-size=\"1.0rem\" font-weight=\"100\" text-anchor=\"middle\" transform=\"rotate(-90,177.980016,93.240290)\">689</text>\n",
       "  <text x=\"35.294118\" y=\"100.598227\" font-size=\"1.0rem\" font-weight=\"100\" text-anchor=\"middle\" transform=\"rotate(45,35.294118,100.598227)\">1825</text>\n",
       "</svg>\n",
       "        </td>\n",
       "    </tr>\n",
       "</table></div></li><li class='xr-var-item'><div class='xr-var-name'><span>q_river</span></div><div class='xr-var-dims'>(time, lat, lon)</div><div class='xr-var-dtype'>float32</div><div class='xr-var-preview xr-preview'>dask.array&lt;chunksize=(100, 689, 1177), meta=np.ndarray&gt;</div><input id='attrs-b6af8533-083c-416b-9149-eeea8f17b2ee' class='xr-var-attrs-in' type='checkbox' disabled><label for='attrs-b6af8533-083c-416b-9149-eeea8f17b2ee' title='Show/Hide attributes'><svg class='icon xr-icon-file-text2'><use xlink:href='#icon-file-text2'></use></svg></label><input id='data-c80314ce-f472-4052-a697-b1d43f386aac' class='xr-var-data-in' type='checkbox'><label for='data-c80314ce-f472-4052-a697-b1d43f386aac' title='Show/Hide data repr'><svg class='icon xr-icon-database'><use xlink:href='#icon-database'></use></svg></label><div class='xr-var-attrs'><dl class='xr-attrs'></dl></div><div class='xr-var-data'><table>\n",
       "    <tr>\n",
       "        <td>\n",
       "            <table style=\"border-collapse: collapse;\">\n",
       "                <thead>\n",
       "                    <tr>\n",
       "                        <td> </td>\n",
       "                        <th> Array </th>\n",
       "                        <th> Chunk </th>\n",
       "                    </tr>\n",
       "                </thead>\n",
       "                <tbody>\n",
       "                    \n",
       "                    <tr>\n",
       "                        <th> Bytes </th>\n",
       "                        <td> 5.51 GiB </td>\n",
       "                        <td> 309.35 MiB </td>\n",
       "                    </tr>\n",
       "                    \n",
       "                    <tr>\n",
       "                        <th> Shape </th>\n",
       "                        <td> (1825, 689, 1177) </td>\n",
       "                        <td> (100, 689, 1177) </td>\n",
       "                    </tr>\n",
       "                    <tr>\n",
       "                        <th> Dask graph </th>\n",
       "                        <td colspan=\"2\"> 19 chunks in 3 graph layers </td>\n",
       "                    </tr>\n",
       "                    <tr>\n",
       "                        <th> Data type </th>\n",
       "                        <td colspan=\"2\"> float32 numpy.ndarray </td>\n",
       "                    </tr>\n",
       "                </tbody>\n",
       "            </table>\n",
       "        </td>\n",
       "        <td>\n",
       "        <svg width=\"207\" height=\"165\" style=\"stroke:rgb(0,0,0);stroke-width:1\" >\n",
       "\n",
       "  <!-- Horizontal lines -->\n",
       "  <line x1=\"10\" y1=\"0\" x2=\"80\" y2=\"70\" style=\"stroke-width:2\" />\n",
       "  <line x1=\"10\" y1=\"45\" x2=\"80\" y2=\"115\" style=\"stroke-width:2\" />\n",
       "\n",
       "  <!-- Vertical lines -->\n",
       "  <line x1=\"10\" y1=\"0\" x2=\"10\" y2=\"45\" style=\"stroke-width:2\" />\n",
       "  <line x1=\"13\" y1=\"3\" x2=\"13\" y2=\"49\" />\n",
       "  <line x1=\"17\" y1=\"7\" x2=\"17\" y2=\"53\" />\n",
       "  <line x1=\"21\" y1=\"11\" x2=\"21\" y2=\"56\" />\n",
       "  <line x1=\"25\" y1=\"15\" x2=\"25\" y2=\"60\" />\n",
       "  <line x1=\"29\" y1=\"19\" x2=\"29\" y2=\"64\" />\n",
       "  <line x1=\"33\" y1=\"23\" x2=\"33\" y2=\"68\" />\n",
       "  <line x1=\"37\" y1=\"27\" x2=\"37\" y2=\"72\" />\n",
       "  <line x1=\"40\" y1=\"30\" x2=\"40\" y2=\"76\" />\n",
       "  <line x1=\"44\" y1=\"34\" x2=\"44\" y2=\"80\" />\n",
       "  <line x1=\"48\" y1=\"38\" x2=\"48\" y2=\"83\" />\n",
       "  <line x1=\"52\" y1=\"42\" x2=\"52\" y2=\"87\" />\n",
       "  <line x1=\"56\" y1=\"46\" x2=\"56\" y2=\"91\" />\n",
       "  <line x1=\"60\" y1=\"50\" x2=\"60\" y2=\"95\" />\n",
       "  <line x1=\"64\" y1=\"54\" x2=\"64\" y2=\"99\" />\n",
       "  <line x1=\"68\" y1=\"58\" x2=\"68\" y2=\"103\" />\n",
       "  <line x1=\"71\" y1=\"61\" x2=\"71\" y2=\"107\" />\n",
       "  <line x1=\"75\" y1=\"65\" x2=\"75\" y2=\"111\" />\n",
       "  <line x1=\"79\" y1=\"69\" x2=\"79\" y2=\"114\" />\n",
       "  <line x1=\"80\" y1=\"70\" x2=\"80\" y2=\"115\" style=\"stroke-width:2\" />\n",
       "\n",
       "  <!-- Colored Rectangle -->\n",
       "  <polygon points=\"10.0,0.0 80.58823529411765,70.58823529411765 80.58823529411765,115.89234488315876 10.0,45.3041095890411\" style=\"fill:#8B4903A0;stroke-width:0\"/>\n",
       "\n",
       "  <!-- Horizontal lines -->\n",
       "  <line x1=\"10\" y1=\"0\" x2=\"87\" y2=\"0\" style=\"stroke-width:2\" />\n",
       "  <line x1=\"13\" y1=\"3\" x2=\"91\" y2=\"3\" />\n",
       "  <line x1=\"17\" y1=\"7\" x2=\"95\" y2=\"7\" />\n",
       "  <line x1=\"21\" y1=\"11\" x2=\"98\" y2=\"11\" />\n",
       "  <line x1=\"25\" y1=\"15\" x2=\"102\" y2=\"15\" />\n",
       "  <line x1=\"29\" y1=\"19\" x2=\"106\" y2=\"19\" />\n",
       "  <line x1=\"33\" y1=\"23\" x2=\"110\" y2=\"23\" />\n",
       "  <line x1=\"37\" y1=\"27\" x2=\"114\" y2=\"27\" />\n",
       "  <line x1=\"40\" y1=\"30\" x2=\"118\" y2=\"30\" />\n",
       "  <line x1=\"44\" y1=\"34\" x2=\"122\" y2=\"34\" />\n",
       "  <line x1=\"48\" y1=\"38\" x2=\"126\" y2=\"38\" />\n",
       "  <line x1=\"52\" y1=\"42\" x2=\"129\" y2=\"42\" />\n",
       "  <line x1=\"56\" y1=\"46\" x2=\"133\" y2=\"46\" />\n",
       "  <line x1=\"60\" y1=\"50\" x2=\"137\" y2=\"50\" />\n",
       "  <line x1=\"64\" y1=\"54\" x2=\"141\" y2=\"54\" />\n",
       "  <line x1=\"68\" y1=\"58\" x2=\"145\" y2=\"58\" />\n",
       "  <line x1=\"71\" y1=\"61\" x2=\"149\" y2=\"61\" />\n",
       "  <line x1=\"75\" y1=\"65\" x2=\"153\" y2=\"65\" />\n",
       "  <line x1=\"79\" y1=\"69\" x2=\"157\" y2=\"69\" />\n",
       "  <line x1=\"80\" y1=\"70\" x2=\"157\" y2=\"70\" style=\"stroke-width:2\" />\n",
       "\n",
       "  <!-- Vertical lines -->\n",
       "  <line x1=\"10\" y1=\"0\" x2=\"80\" y2=\"70\" style=\"stroke-width:2\" />\n",
       "  <line x1=\"87\" y1=\"0\" x2=\"157\" y2=\"70\" style=\"stroke-width:2\" />\n",
       "\n",
       "  <!-- Colored Rectangle -->\n",
       "  <polygon points=\"10.0,0.0 87.3917808219178,0.0 157.98001611603547,70.58823529411765 80.58823529411765,70.58823529411765\" style=\"fill:#8B4903A0;stroke-width:0\"/>\n",
       "\n",
       "  <!-- Horizontal lines -->\n",
       "  <line x1=\"80\" y1=\"70\" x2=\"157\" y2=\"70\" style=\"stroke-width:2\" />\n",
       "  <line x1=\"80\" y1=\"115\" x2=\"157\" y2=\"115\" style=\"stroke-width:2\" />\n",
       "\n",
       "  <!-- Vertical lines -->\n",
       "  <line x1=\"80\" y1=\"70\" x2=\"80\" y2=\"115\" style=\"stroke-width:2\" />\n",
       "  <line x1=\"157\" y1=\"70\" x2=\"157\" y2=\"115\" style=\"stroke-width:2\" />\n",
       "\n",
       "  <!-- Colored Rectangle -->\n",
       "  <polygon points=\"80.58823529411765,70.58823529411765 157.98001611603547,70.58823529411765 157.98001611603547,115.89234488315876 80.58823529411765,115.89234488315876\" style=\"fill:#ECB172A0;stroke-width:0\"/>\n",
       "\n",
       "  <!-- Text -->\n",
       "  <text x=\"119.284126\" y=\"135.892345\" font-size=\"1.0rem\" font-weight=\"100\" text-anchor=\"middle\" >1177</text>\n",
       "  <text x=\"177.980016\" y=\"93.240290\" font-size=\"1.0rem\" font-weight=\"100\" text-anchor=\"middle\" transform=\"rotate(-90,177.980016,93.240290)\">689</text>\n",
       "  <text x=\"35.294118\" y=\"100.598227\" font-size=\"1.0rem\" font-weight=\"100\" text-anchor=\"middle\" transform=\"rotate(45,35.294118,100.598227)\">1825</text>\n",
       "</svg>\n",
       "        </td>\n",
       "    </tr>\n",
       "</table></div></li><li class='xr-var-item'><div class='xr-var-name'><span>vwc</span></div><div class='xr-var-dims'>(time, lat, lon)</div><div class='xr-var-dtype'>float32</div><div class='xr-var-preview xr-preview'>dask.array&lt;chunksize=(100, 344, 589), meta=np.ndarray&gt;</div><input id='attrs-d8b11676-779d-468c-872c-f81b837520f0' class='xr-var-attrs-in' type='checkbox' disabled><label for='attrs-d8b11676-779d-468c-872c-f81b837520f0' title='Show/Hide attributes'><svg class='icon xr-icon-file-text2'><use xlink:href='#icon-file-text2'></use></svg></label><input id='data-6ec5d304-b8d9-421a-8e02-069bc8445f98' class='xr-var-data-in' type='checkbox'><label for='data-6ec5d304-b8d9-421a-8e02-069bc8445f98' title='Show/Hide data repr'><svg class='icon xr-icon-database'><use xlink:href='#icon-database'></use></svg></label><div class='xr-var-attrs'><dl class='xr-attrs'></dl></div><div class='xr-var-data'><table>\n",
       "    <tr>\n",
       "        <td>\n",
       "            <table style=\"border-collapse: collapse;\">\n",
       "                <thead>\n",
       "                    <tr>\n",
       "                        <td> </td>\n",
       "                        <th> Array </th>\n",
       "                        <th> Chunk </th>\n",
       "                    </tr>\n",
       "                </thead>\n",
       "                <tbody>\n",
       "                    \n",
       "                    <tr>\n",
       "                        <th> Bytes </th>\n",
       "                        <td> 5.51 GiB </td>\n",
       "                        <td> 77.52 MiB </td>\n",
       "                    </tr>\n",
       "                    \n",
       "                    <tr>\n",
       "                        <th> Shape </th>\n",
       "                        <td> (1825, 689, 1177) </td>\n",
       "                        <td> (100, 345, 589) </td>\n",
       "                    </tr>\n",
       "                    <tr>\n",
       "                        <th> Dask graph </th>\n",
       "                        <td colspan=\"2\"> 76 chunks in 4 graph layers </td>\n",
       "                    </tr>\n",
       "                    <tr>\n",
       "                        <th> Data type </th>\n",
       "                        <td colspan=\"2\"> float32 numpy.ndarray </td>\n",
       "                    </tr>\n",
       "                </tbody>\n",
       "            </table>\n",
       "        </td>\n",
       "        <td>\n",
       "        <svg width=\"207\" height=\"165\" style=\"stroke:rgb(0,0,0);stroke-width:1\" >\n",
       "\n",
       "  <!-- Horizontal lines -->\n",
       "  <line x1=\"10\" y1=\"0\" x2=\"80\" y2=\"70\" style=\"stroke-width:2\" />\n",
       "  <line x1=\"10\" y1=\"22\" x2=\"80\" y2=\"93\" />\n",
       "  <line x1=\"10\" y1=\"45\" x2=\"80\" y2=\"115\" style=\"stroke-width:2\" />\n",
       "\n",
       "  <!-- Vertical lines -->\n",
       "  <line x1=\"10\" y1=\"0\" x2=\"10\" y2=\"45\" style=\"stroke-width:2\" />\n",
       "  <line x1=\"13\" y1=\"3\" x2=\"13\" y2=\"49\" />\n",
       "  <line x1=\"17\" y1=\"7\" x2=\"17\" y2=\"53\" />\n",
       "  <line x1=\"21\" y1=\"11\" x2=\"21\" y2=\"56\" />\n",
       "  <line x1=\"25\" y1=\"15\" x2=\"25\" y2=\"60\" />\n",
       "  <line x1=\"29\" y1=\"19\" x2=\"29\" y2=\"64\" />\n",
       "  <line x1=\"33\" y1=\"23\" x2=\"33\" y2=\"68\" />\n",
       "  <line x1=\"37\" y1=\"27\" x2=\"37\" y2=\"72\" />\n",
       "  <line x1=\"40\" y1=\"30\" x2=\"40\" y2=\"76\" />\n",
       "  <line x1=\"44\" y1=\"34\" x2=\"44\" y2=\"80\" />\n",
       "  <line x1=\"48\" y1=\"38\" x2=\"48\" y2=\"83\" />\n",
       "  <line x1=\"52\" y1=\"42\" x2=\"52\" y2=\"87\" />\n",
       "  <line x1=\"56\" y1=\"46\" x2=\"56\" y2=\"91\" />\n",
       "  <line x1=\"60\" y1=\"50\" x2=\"60\" y2=\"95\" />\n",
       "  <line x1=\"64\" y1=\"54\" x2=\"64\" y2=\"99\" />\n",
       "  <line x1=\"68\" y1=\"58\" x2=\"68\" y2=\"103\" />\n",
       "  <line x1=\"71\" y1=\"61\" x2=\"71\" y2=\"107\" />\n",
       "  <line x1=\"75\" y1=\"65\" x2=\"75\" y2=\"111\" />\n",
       "  <line x1=\"79\" y1=\"69\" x2=\"79\" y2=\"114\" />\n",
       "  <line x1=\"80\" y1=\"70\" x2=\"80\" y2=\"115\" style=\"stroke-width:2\" />\n",
       "\n",
       "  <!-- Colored Rectangle -->\n",
       "  <polygon points=\"10.0,0.0 80.58823529411765,70.58823529411765 80.58823529411765,115.89234488315876 10.0,45.3041095890411\" style=\"fill:#8B4903A0;stroke-width:0\"/>\n",
       "\n",
       "  <!-- Horizontal lines -->\n",
       "  <line x1=\"10\" y1=\"0\" x2=\"87\" y2=\"0\" style=\"stroke-width:2\" />\n",
       "  <line x1=\"13\" y1=\"3\" x2=\"91\" y2=\"3\" />\n",
       "  <line x1=\"17\" y1=\"7\" x2=\"95\" y2=\"7\" />\n",
       "  <line x1=\"21\" y1=\"11\" x2=\"98\" y2=\"11\" />\n",
       "  <line x1=\"25\" y1=\"15\" x2=\"102\" y2=\"15\" />\n",
       "  <line x1=\"29\" y1=\"19\" x2=\"106\" y2=\"19\" />\n",
       "  <line x1=\"33\" y1=\"23\" x2=\"110\" y2=\"23\" />\n",
       "  <line x1=\"37\" y1=\"27\" x2=\"114\" y2=\"27\" />\n",
       "  <line x1=\"40\" y1=\"30\" x2=\"118\" y2=\"30\" />\n",
       "  <line x1=\"44\" y1=\"34\" x2=\"122\" y2=\"34\" />\n",
       "  <line x1=\"48\" y1=\"38\" x2=\"126\" y2=\"38\" />\n",
       "  <line x1=\"52\" y1=\"42\" x2=\"129\" y2=\"42\" />\n",
       "  <line x1=\"56\" y1=\"46\" x2=\"133\" y2=\"46\" />\n",
       "  <line x1=\"60\" y1=\"50\" x2=\"137\" y2=\"50\" />\n",
       "  <line x1=\"64\" y1=\"54\" x2=\"141\" y2=\"54\" />\n",
       "  <line x1=\"68\" y1=\"58\" x2=\"145\" y2=\"58\" />\n",
       "  <line x1=\"71\" y1=\"61\" x2=\"149\" y2=\"61\" />\n",
       "  <line x1=\"75\" y1=\"65\" x2=\"153\" y2=\"65\" />\n",
       "  <line x1=\"79\" y1=\"69\" x2=\"157\" y2=\"69\" />\n",
       "  <line x1=\"80\" y1=\"70\" x2=\"157\" y2=\"70\" style=\"stroke-width:2\" />\n",
       "\n",
       "  <!-- Vertical lines -->\n",
       "  <line x1=\"10\" y1=\"0\" x2=\"80\" y2=\"70\" style=\"stroke-width:2\" />\n",
       "  <line x1=\"48\" y1=\"0\" x2=\"119\" y2=\"70\" />\n",
       "  <line x1=\"87\" y1=\"0\" x2=\"157\" y2=\"70\" style=\"stroke-width:2\" />\n",
       "\n",
       "  <!-- Colored Rectangle -->\n",
       "  <polygon points=\"10.0,0.0 87.3917808219178,0.0 157.98001611603547,70.58823529411765 80.58823529411765,70.58823529411765\" style=\"fill:#8B4903A0;stroke-width:0\"/>\n",
       "\n",
       "  <!-- Horizontal lines -->\n",
       "  <line x1=\"80\" y1=\"70\" x2=\"157\" y2=\"70\" style=\"stroke-width:2\" />\n",
       "  <line x1=\"80\" y1=\"93\" x2=\"157\" y2=\"93\" />\n",
       "  <line x1=\"80\" y1=\"115\" x2=\"157\" y2=\"115\" style=\"stroke-width:2\" />\n",
       "\n",
       "  <!-- Vertical lines -->\n",
       "  <line x1=\"80\" y1=\"70\" x2=\"80\" y2=\"115\" style=\"stroke-width:2\" />\n",
       "  <line x1=\"119\" y1=\"70\" x2=\"119\" y2=\"115\" />\n",
       "  <line x1=\"157\" y1=\"70\" x2=\"157\" y2=\"115\" style=\"stroke-width:2\" />\n",
       "\n",
       "  <!-- Colored Rectangle -->\n",
       "  <polygon points=\"80.58823529411765,70.58823529411765 157.98001611603547,70.58823529411765 157.98001611603547,115.89234488315876 80.58823529411765,115.89234488315876\" style=\"fill:#ECB172A0;stroke-width:0\"/>\n",
       "\n",
       "  <!-- Text -->\n",
       "  <text x=\"119.284126\" y=\"135.892345\" font-size=\"1.0rem\" font-weight=\"100\" text-anchor=\"middle\" >1177</text>\n",
       "  <text x=\"177.980016\" y=\"93.240290\" font-size=\"1.0rem\" font-weight=\"100\" text-anchor=\"middle\" transform=\"rotate(-90,177.980016,93.240290)\">689</text>\n",
       "  <text x=\"35.294118\" y=\"100.598227\" font-size=\"1.0rem\" font-weight=\"100\" text-anchor=\"middle\" transform=\"rotate(45,35.294118,100.598227)\">1825</text>\n",
       "</svg>\n",
       "        </td>\n",
       "    </tr>\n",
       "</table></div></li></ul></div></li><li class='xr-section-item'><input id='section-a97bda53-b352-4ff7-a67d-f8300d6895a4' class='xr-section-summary-in' type='checkbox'  ><label for='section-a97bda53-b352-4ff7-a67d-f8300d6895a4' class='xr-section-summary' >Indexes: <span>(3)</span></label><div class='xr-section-inline-details'></div><div class='xr-section-details'><ul class='xr-var-list'><li class='xr-var-item'><div class='xr-index-name'><div>lon</div></div><div class='xr-index-preview'>PandasIndex</div><div></div><input id='index-c41eda19-ddaa-4bbf-a74e-96336feb7345' class='xr-index-data-in' type='checkbox'/><label for='index-c41eda19-ddaa-4bbf-a74e-96336feb7345' title='Show/Hide index repr'><svg class='icon xr-icon-database'><use xlink:href='#icon-database'></use></svg></label><div class='xr-index-data'><pre>PandasIndex(Index([5.0791666666666675,  5.088333333333335,  5.097500000000004,\n",
       "        5.106666666666671,   5.11583333333334,  5.125000000000007,\n",
       "        5.134166666666676,  5.143333333333343,  5.152500000000012,\n",
       "       5.1616666666666795,\n",
       "       ...\n",
       "       15.776666666668339, 15.785833333335008, 15.795000000001675,\n",
       "       15.804166666668344, 15.813333333335011,  15.82250000000168,\n",
       "       15.831666666668347, 15.840833333335016, 15.850000000001684,\n",
       "       15.859166666668353],\n",
       "      dtype=&#x27;float64&#x27;, name=&#x27;lon&#x27;, length=1177))</pre></div></li><li class='xr-var-item'><div class='xr-index-name'><div>lat</div></div><div class='xr-index-preview'>PandasIndex</div><div></div><input id='index-2d1a94fb-c8a1-4e65-ba0b-621238353f71' class='xr-index-data-in' type='checkbox'/><label for='index-2d1a94fb-c8a1-4e65-ba0b-621238353f71' title='Show/Hide index repr'><svg class='icon xr-icon-database'><use xlink:href='#icon-database'></use></svg></label><div class='xr-index-data'><pre>PandasIndex(Index([ 50.02666666666667,  50.01750000000001, 50.008333333333354,\n",
       "       49.999166666666696,  49.99000000000004,  49.98083333333338,\n",
       "        49.97166666666672,  49.96250000000006, 49.953333333333404,\n",
       "       49.944166666666746,\n",
       "       ...\n",
       "       43.802500000005665,  43.79333333333901,  43.78416666667235,\n",
       "        43.77500000000569,  43.76583333333903,  43.75666666667237,\n",
       "       43.747500000005715,  43.73833333333906,   43.7291666666724,\n",
       "        43.72000000000574],\n",
       "      dtype=&#x27;float64&#x27;, name=&#x27;lat&#x27;, length=689))</pre></div></li><li class='xr-var-item'><div class='xr-index-name'><div>time</div></div><div class='xr-index-preview'>PandasIndex</div><div></div><input id='index-3b46708c-1618-497f-88f9-c33a35225ac2' class='xr-index-data-in' type='checkbox'/><label for='index-3b46708c-1618-497f-88f9-c33a35225ac2' title='Show/Hide index repr'><svg class='icon xr-icon-database'><use xlink:href='#icon-database'></use></svg></label><div class='xr-index-data'><pre>PandasIndex(DatetimeIndex([&#x27;2015-01-02&#x27;, &#x27;2015-01-03&#x27;, &#x27;2015-01-04&#x27;, &#x27;2015-01-05&#x27;,\n",
       "               &#x27;2015-01-06&#x27;, &#x27;2015-01-07&#x27;, &#x27;2015-01-08&#x27;, &#x27;2015-01-09&#x27;,\n",
       "               &#x27;2015-01-10&#x27;, &#x27;2015-01-11&#x27;,\n",
       "               ...\n",
       "               &#x27;2019-12-22&#x27;, &#x27;2019-12-23&#x27;, &#x27;2019-12-24&#x27;, &#x27;2019-12-25&#x27;,\n",
       "               &#x27;2019-12-26&#x27;, &#x27;2019-12-27&#x27;, &#x27;2019-12-28&#x27;, &#x27;2019-12-29&#x27;,\n",
       "               &#x27;2019-12-30&#x27;, &#x27;2019-12-31&#x27;],\n",
       "              dtype=&#x27;datetime64[ns]&#x27;, name=&#x27;time&#x27;, length=1825, freq=None))</pre></div></li></ul></div></li><li class='xr-section-item'><input id='section-5effcb74-5623-47f2-9ea4-1e64109136fb' class='xr-section-summary-in' type='checkbox' disabled ><label for='section-5effcb74-5623-47f2-9ea4-1e64109136fb' class='xr-section-summary'  title='Expand/collapse section'>Attributes: <span>(0)</span></label><div class='xr-section-inline-details'></div><div class='xr-section-details'><dl class='xr-attrs'></dl></div></li></ul></div></div>"
      ],
      "text/plain": [
       "<xarray.Dataset>\n",
       "Dimensions:  (lon: 1177, lat: 689, time: 1825)\n",
       "Coordinates:\n",
       "  * lon      (lon) float64 5.079 5.088 5.098 5.107 ... 15.83 15.84 15.85 15.86\n",
       "  * lat      (lat) float64 50.03 50.02 50.01 50.0 ... 43.75 43.74 43.73 43.72\n",
       "    layer    float64 1.0\n",
       "  * time     (time) datetime64[ns] 2015-01-02 2015-01-03 ... 2019-12-31\n",
       "Data variables:\n",
       "    actevap  (time, lat, lon) float32 dask.array<chunksize=(100, 689, 1177), meta=np.ndarray>\n",
       "    q_river  (time, lat, lon) float32 dask.array<chunksize=(100, 689, 1177), meta=np.ndarray>\n",
       "    vwc      (time, lat, lon) float32 dask.array<chunksize=(100, 344, 589), meta=np.ndarray>"
      ]
     },
     "execution_count": 9,
     "metadata": {},
     "output_type": "execute_result"
    }
   ],
   "source": [
    "target_ds"
   ]
  },
  {
   "cell_type": "markdown",
   "id": "34632ae5-0d6b-430d-afea-c7319b9a18b4",
   "metadata": {},
   "source": [
    "## Preparation"
   ]
  },
  {
   "cell_type": "code",
   "execution_count": 10,
   "id": "4aa64fee-7e75-4f2a-b9ef-8be4daab21fc",
   "metadata": {
    "tags": []
   },
   "outputs": [],
   "source": [
    "if timeslice:\n",
    "\n",
    "    dyn_vars_ds = dyn_vars_ds.sel(time=timeslice)\n",
    "    target_ds = target_ds.sel(time=timeslice)\n",
    "    target_ds.dims,dyn_vars_ds.dims"
   ]
  },
  {
   "cell_type": "code",
   "execution_count": 11,
   "id": "fa88ab68",
   "metadata": {
    "tags": []
   },
   "outputs": [],
   "source": [
    "#plt.imshow(target_ds[target_names[0]].isel(time=1000).values)\n",
    "#plt.colorbar()"
   ]
  },
  {
   "cell_type": "code",
   "execution_count": 12,
   "id": "a14f36c5",
   "metadata": {
    "tags": []
   },
   "outputs": [],
   "source": [
    "# latslice = slice(46.8,46.4)\n",
    "# lonslice =   slice(10,11.2)\n",
    "\n",
    "# dyn_vars_ds = dyn_vars_ds.sel(lat=latslice, lon = lonslice )\n",
    "# static_params_ds = static_params_ds.sel(lat=latslice, lon = lonslice )\n",
    "# target_ds = target_ds.sel(lat=slice(46.4,46.8), lon = lonslice )\n",
    "# target_ds.dims,dyn_vars_ds.dims, static_params_ds.dims"
   ]
  },
  {
   "cell_type": "code",
   "execution_count": 13,
   "id": "c3edd005",
   "metadata": {
    "tags": []
   },
   "outputs": [],
   "source": [
    "#target_ds.mean(dim = \"time\")[target_names[0]].plot(cmap = \"jet\")"
   ]
  },
  {
   "cell_type": "code",
   "execution_count": 14,
   "id": "434201ab",
   "metadata": {
    "tags": []
   },
   "outputs": [],
   "source": [
    "mask_lakes = (target_ds.mean(dim = \"time\")[\"actevap\"] == 0).astype(np.bool_)"
   ]
  },
  {
   "cell_type": "code",
   "execution_count": 15,
   "id": "c1568046",
   "metadata": {
    "tags": []
   },
   "outputs": [],
   "source": [
    "#mask_lakes.plot()"
   ]
  },
  {
   "cell_type": "code",
   "execution_count": 16,
   "id": "f6ce6d84",
   "metadata": {
    "tags": []
   },
   "outputs": [],
   "source": [
    "#mask_lakes = (np.isnan(target_ds)).any(dim=[\"time\"])[target_names[0]]"
   ]
  },
  {
   "cell_type": "code",
   "execution_count": 17,
   "id": "1f95e56e",
   "metadata": {
    "tags": []
   },
   "outputs": [
    {
     "data": {
      "text/plain": [
       "([1177, 689], 1461)"
      ]
     },
     "execution_count": 17,
     "metadata": {},
     "output_type": "execute_result"
    }
   ],
   "source": [
    "dim_space = list(dyn_vars_ds.dims.values())[1:] # lon, lat\n",
    "dim_time = list(dyn_vars_ds.dims.values())[0] # tim\n",
    "dim_space, dim_time"
   ]
  },
  {
   "cell_type": "code",
   "execution_count": 18,
   "id": "b2626488-5874-4b93-bba3-c92394d5a261",
   "metadata": {
    "tags": []
   },
   "outputs": [
    {
     "name": "stdout",
     "output_type": "stream",
     "text": [
      "grid_0_0_0.npz\t grid_10_0_5.npz   grid_30_0_3.npz\n",
      "grid_10_0_3.npz  grid_30_0_15.npz\n"
     ]
    }
   ],
   "source": [
    "!ls /mnt/CEPH_PROJECTS/InterTwin/Surrogate_Model/temp/"
   ]
  },
  {
   "cell_type": "code",
   "execution_count": 19,
   "id": "d759a25b-99c1-4e96-9653-51ebab43cf06",
   "metadata": {
    "tags": []
   },
   "outputs": [],
   "source": [
    "intervals = (10, 10)\n",
    "train_origin = (0, 0)\n",
    "valid_origin =  (3, 3)\n",
    "test_origin =  (9, 9)\n",
    "\n",
    "compute = False\n",
    "save = False"
   ]
  },
  {
   "cell_type": "markdown",
   "id": "6909b2f6-5e1d-474c-a0ed-f7287e5fc408",
   "metadata": {},
   "source": [
    "### Preprocess"
   ]
  },
  {
   "cell_type": "code",
   "execution_count": 20,
   "id": "a200889a-0650-4ca8-b2b6-b19a4c6bd090",
   "metadata": {
    "tags": []
   },
   "outputs": [],
   "source": [
    "# mask lakes\n",
    "remove_lakes = True\n",
    "if remove_lakes:\n",
    "    target_ds = target_ds.where(~mask_lakes, np.nan)\n",
    "    dyn_vars_ds = dyn_vars_ds.where(~mask_lakes, np.nan)\n",
    "    static_params_ds = static_params_ds.where(~mask_lakes, np.nan)\n",
    "\n",
    "#"
   ]
  },
  {
   "cell_type": "code",
   "execution_count": 21,
   "id": "d15c92af",
   "metadata": {
    "tags": []
   },
   "outputs": [
    {
     "name": "stdout",
     "output_type": "stream",
     "text": [
      "Xd\n",
      "Xs\n",
      "Y\n",
      "dims\n",
      "Xd_valid\n",
      "Xs_valid\n",
      "Y_valid\n",
      "dims_valid\n",
      "meta\n",
      "meta_valid\n"
     ]
    }
   ],
   "source": [
    "if compute: \n",
    "    Xd, Xs, Y, dims, meta = preprocess(dyn_vars_ds, \n",
    "                       static_params_ds, \n",
    "                       target_ds, \n",
    "                       dynamic_name = dynamic_names,\n",
    "                       static_name = static_names, \n",
    "                       target_name = target_names, \n",
    "                       sampler = Sampler(intervals = intervals,\n",
    "                                         origin = train_origin),\n",
    "                        return_sampler_meta = True\n",
    "                       )\n",
    "    Xd_valid, Xs_valid, Y_valid, dims_valid, meta_valid = preprocess(dyn_vars_ds, \n",
    "                       static_params_ds, \n",
    "                       target_ds, \n",
    "                       dynamic_name = dynamic_names,\n",
    "                       static_name = static_names, \n",
    "                       target_name = target_names, \n",
    "                       sampler = Sampler(intervals = intervals,\n",
    "                                         origin = valid_origin),\n",
    "                      return_sampler_meta = True\n",
    "                       )\n",
    "else:\n",
    "    loaded = np.load(f'/mnt/CEPH_PROJECTS/InterTwin/Surrogate_Model/temp/grid_{intervals[0]}_{train_origin[0]}_{valid_origin[0]}.npz',\n",
    "                    allow_pickle=True)\n",
    "    for ff in loaded.files:\n",
    "        print(ff)\n",
    "        if \"dims\" in ff:\n",
    "            exec(f\"{ff}=loaded['{ff}'].tolist()\")\n",
    "        else:\n",
    "            exec(f\"{ff}=loaded['{ff}']\")"
   ]
  },
  {
   "cell_type": "code",
   "execution_count": 22,
   "id": "37a15a97-12ec-4128-b863-4f0f2d7960e0",
   "metadata": {
    "tags": []
   },
   "outputs": [],
   "source": [
    "if save:\n",
    "    np.savez_compressed(f'/mnt/CEPH_PROJECTS/InterTwin/Surrogate_Model/temp/grid_{intervals[0]}_{train_origin[0]}_{valid_origin[0]}'\n",
    "                    , Xd=Xd, Xs=Xs, Y=Y, dims=dims, Xd_valid=Xd_valid, Xs_valid=Xs_valid,\n",
    "                       Y_valid=Y_valid, dims_valid=dims_valid, meta=meta, meta_valid=meta_valid)"
   ]
  },
  {
   "cell_type": "code",
   "execution_count": 23,
   "id": "15264f62-f26b-4e87-8806-065978e5f7c8",
   "metadata": {
    "tags": []
   },
   "outputs": [],
   "source": [
    "# Xd_test, Xs_test, Y_test, dims_test = preprocess(dyn_vars_ds, \n",
    "#                        static_params_ds, \n",
    "#                        target_ds, \n",
    "#                        dynamic_name = dynamic_names,\n",
    "#                        static_name = static_names, \n",
    "#                        target_name = target_names, \n",
    "#                        sampler = Sampler(intervals = intervals,\n",
    "#                                          origin = test_origin)\n",
    "#                        )"
   ]
  },
  {
   "cell_type": "code",
   "execution_count": 24,
   "id": "f2a8a9f9-bb9b-4847-897e-a8e3b57b3111",
   "metadata": {
    "tags": []
   },
   "outputs": [],
   "source": [
    "#plot_sampler(static_params_ds.wflow_dem, meta, meta_valid)"
   ]
  },
  {
   "cell_type": "markdown",
   "id": "9e7578a0",
   "metadata": {},
   "source": [
    "### Correct negative values in actevap "
   ]
  },
  {
   "cell_type": "code",
   "execution_count": 25,
   "id": "27c41b35-fbae-49b7-ac7b-071fe0c538a8",
   "metadata": {
    "tags": []
   },
   "outputs": [],
   "source": [
    "if (Y < 0).any():\n",
    "    print(\"found negative values\")\n",
    "    Y = np.where(Y < 0, 0, Y)"
   ]
  },
  {
   "cell_type": "code",
   "execution_count": 26,
   "id": "f6fd6260-4ac6-406c-a799-17ad1a7fa71a",
   "metadata": {
    "tags": []
   },
   "outputs": [],
   "source": [
    "# Y = Y[:,:,[0]]"
   ]
  },
  {
   "cell_type": "code",
   "execution_count": 27,
   "id": "465c92b0-3ba7-4e4e-b15f-8d9358d7f6ed",
   "metadata": {
    "tags": []
   },
   "outputs": [],
   "source": [
    "# Y_valid = Y_valid[:,:,[0]]"
   ]
  },
  {
   "cell_type": "markdown",
   "id": "38b105c0-f154-42ac-938c-0d62bdcc92b6",
   "metadata": {},
   "source": [
    "### Remove missing"
   ]
  },
  {
   "cell_type": "code",
   "execution_count": 28,
   "id": "22bf123b-7920-40d1-b775-50f93f143d9f",
   "metadata": {
    "tags": []
   },
   "outputs": [
    {
     "data": {
      "text/plain": [
       "(8142, 1461, 2)"
      ]
     },
     "execution_count": 28,
     "metadata": {},
     "output_type": "execute_result"
    }
   ],
   "source": [
    "Y.shape"
   ]
  },
  {
   "cell_type": "code",
   "execution_count": 29,
   "id": "b5dd2316",
   "metadata": {},
   "outputs": [],
   "source": [
    "# find indices of missing values\n",
    "idx = missing_location_idx(Xs)"
   ]
  },
  {
   "cell_type": "code",
   "execution_count": 30,
   "id": "c99ddc16",
   "metadata": {},
   "outputs": [],
   "source": [
    "# find indices of missing values\n",
    "idx_valid = missing_location_idx(Xs_valid)"
   ]
  },
  {
   "cell_type": "code",
   "execution_count": 31,
   "id": "4cacaa81",
   "metadata": {
    "tags": []
   },
   "outputs": [],
   "source": [
    "Xd_clean = Xd[~idx]\n",
    "Xs_clean = Xs[~idx]\n",
    "Y_clean = Y[~idx]\n",
    "\n",
    "Xd_valid_clean = Xd_valid[~idx_valid]\n",
    "Xs_valid_clean = Xs_valid[~idx_valid]\n",
    "Y_valid_clean = Y_valid[~idx_valid]"
   ]
  },
  {
   "cell_type": "code",
   "execution_count": 32,
   "id": "a1c95fee-32c2-4f69-8d1b-e86ae799e13a",
   "metadata": {
    "tags": []
   },
   "outputs": [
    {
     "data": {
      "text/plain": [
       "((8142, 1461, 3), (3723, 1461, 3), (3723, 8), (3723, 1461, 2))"
      ]
     },
     "execution_count": 32,
     "metadata": {},
     "output_type": "execute_result"
    }
   ],
   "source": [
    "Xd.shape, Xd_clean.shape, Xs_clean.shape, Y_clean.shape"
   ]
  },
  {
   "cell_type": "code",
   "execution_count": 33,
   "id": "4f4c7f6e",
   "metadata": {
    "tags": []
   },
   "outputs": [
    {
     "data": {
      "text/plain": [
       "(False, False, False, False, False, False)"
      ]
     },
     "execution_count": 33,
     "metadata": {},
     "output_type": "execute_result"
    }
   ],
   "source": [
    "np.isnan(Xd_clean).any(), np.isnan(Xs_clean).any(), np.isnan(Y_clean).any(),np.isnan(Xd_valid_clean).any(), np.isnan(Xs_valid_clean).any(), np.isnan(Y_valid_clean).any()"
   ]
  },
  {
   "cell_type": "code",
   "execution_count": 34,
   "id": "70198c15",
   "metadata": {
    "tags": []
   },
   "outputs": [],
   "source": [
    "for i in range(100):\n",
    "    if np.isnan(Y_clean[i,:,0]).any():\n",
    "        print(i)\n",
    "        plt.plot(Y_clean[i,:,0])"
   ]
  },
  {
   "cell_type": "code",
   "execution_count": 35,
   "id": "d60264d6",
   "metadata": {
    "tags": []
   },
   "outputs": [
    {
     "data": {
      "text/plain": [
       "((3723, 1461, 3), (3722, 8))"
      ]
     },
     "execution_count": 35,
     "metadata": {},
     "output_type": "execute_result"
    }
   ],
   "source": [
    "Xd_clean.shape, Xs_valid_clean.shape"
   ]
  },
  {
   "cell_type": "markdown",
   "id": "9725c520-dd56-42f4-9295-609fc442707b",
   "metadata": {},
   "source": [
    "### Normalization"
   ]
  },
  {
   "cell_type": "code",
   "execution_count": 36,
   "id": "f3bc4a8e-8927-4dec-994c-6f341556b926",
   "metadata": {
    "tags": []
   },
   "outputs": [],
   "source": [
    "Xd_clean, d_m, d_std = apply_normalization(Xd_clean, type = \"spacetime\", how ='standard')\n",
    "Xs_clean, s_m, s_std = apply_normalization(Xs_clean, type = \"space\", how ='standard')"
   ]
  },
  {
   "cell_type": "code",
   "execution_count": 37,
   "id": "8abddbb2-a9c8-46c5-a52e-64392f37b8fc",
   "metadata": {
    "tags": []
   },
   "outputs": [],
   "source": [
    "Y_clean, y_m, y_std = apply_normalization(Y_clean, type = \"spacetime\", how ='standard')"
   ]
  },
  {
   "cell_type": "code",
   "execution_count": 38,
   "id": "6dcddb8a",
   "metadata": {
    "tags": []
   },
   "outputs": [
    {
     "data": {
      "text/plain": [
       "((8,), (3,), (2,))"
      ]
     },
     "execution_count": 38,
     "metadata": {},
     "output_type": "execute_result"
    }
   ],
   "source": [
    "s_std.shape,d_std.shape,y_std.shape"
   ]
  },
  {
   "cell_type": "code",
   "execution_count": 39,
   "id": "d72f5e46-2ed2-47c3-a24b-6804de4d6364",
   "metadata": {
    "tags": []
   },
   "outputs": [],
   "source": [
    "Xd_valid_clean = apply_normalization(Xd_valid_clean, type = \"spacetime\", how ='standard', m = d_m, std = d_std)\n",
    "Xs_valid_clean = apply_normalization(Xs_valid_clean, type = \"space\", how ='standard', m = s_m, std = s_std)"
   ]
  },
  {
   "cell_type": "code",
   "execution_count": 40,
   "id": "24c8eb91-d13b-4e1c-8642-de59f9e1d63c",
   "metadata": {
    "tags": []
   },
   "outputs": [],
   "source": [
    "Y_valid_clean = apply_normalization(Y_valid_clean, type = \"spacetime\", how ='standard', m = y_m, std = y_std)"
   ]
  },
  {
   "cell_type": "code",
   "execution_count": 41,
   "id": "f41203da",
   "metadata": {
    "tags": []
   },
   "outputs": [
    {
     "data": {
      "text/plain": [
       "(False, False, False, False, False, False)"
      ]
     },
     "execution_count": 41,
     "metadata": {},
     "output_type": "execute_result"
    }
   ],
   "source": [
    "np.isnan(Xd_clean).any(), np.isnan(Xs_clean).any(), np.isnan(Y_clean).any(),np.isnan(Xd_valid_clean).any(), np.isnan(Xs_valid_clean).any(), np.isnan(Y_valid_clean).any()"
   ]
  },
  {
   "cell_type": "code",
   "execution_count": 42,
   "id": "d17fde5b",
   "metadata": {
    "tags": []
   },
   "outputs": [
    {
     "data": {
      "text/plain": [
       "<matplotlib.colorbar.Colorbar at 0x7f91969ba610>"
      ]
     },
     "execution_count": 42,
     "metadata": {},
     "output_type": "execute_result"
    },
    {
     "data": {
      "image/png": "[encoded data removed]",
      "text/plain": [
       "<Figure size 640x480 with 2 Axes>"
      ]
     },
     "metadata": {},
     "output_type": "display_data"
    }
   ],
   "source": [
    "plt.imshow(reconstruct_from_missing(Xs_clean, Xs.shape, idx)[:,2].reshape(*dims[\"sampled_dims\"][:2]))\n",
    "plt.colorbar()"
   ]
  },
  {
   "cell_type": "code",
   "execution_count": 43,
   "id": "cb16b041-c4a7-4298-b588-2c3d8cdbd7aa",
   "metadata": {
    "tags": []
   },
   "outputs": [],
   "source": [
    "Xs_clean = torch.Tensor(Xs_clean)\n",
    "Xs_valid_clean = torch.Tensor(Xs_valid_clean)\n",
    "\n",
    "Xd_clean = torch.Tensor(Xd_clean)\n",
    "Xd_valid_clean = torch.Tensor(Xd_valid_clean)\n",
    "\n",
    "Y_clean = torch.Tensor(Y_clean)\n",
    "Y_valid_clean = torch.Tensor(Y_valid_clean)"
   ]
  },
  {
   "cell_type": "markdown",
   "id": "baa13d1c-1c1f-455a-8b26-22073f9ccda8",
   "metadata": {},
   "source": [
    "### Preparing data loader"
   ]
  },
  {
   "cell_type": "code",
   "execution_count": 44,
   "id": "b983afe2-889a-4ff0-b646-c98c0b504e58",
   "metadata": {
    "tags": []
   },
   "outputs": [
    {
     "data": {
      "text/plain": [
       "(11, 2)"
      ]
     },
     "execution_count": 44,
     "metadata": {},
     "output_type": "execute_result"
    }
   ],
   "source": [
    "nx = Xd.shape[-1] + Xs.shape[-1]\n",
    "ny = Y.shape[-1]\n",
    "nx, ny"
   ]
  },
  {
   "cell_type": "code",
   "execution_count": 45,
   "id": "559d3cd1",
   "metadata": {
    "tags": []
   },
   "outputs": [],
   "source": [
    "\n",
    "spatial_batch_size =  256 # int(512 / 4)\n",
    "temporal_sampling_size = 120\n",
    "seq_length = 260\n"
   ]
  },
  {
   "cell_type": "code",
   "execution_count": 46,
   "id": "60259465",
   "metadata": {
    "tags": []
   },
   "outputs": [],
   "source": [
    "train_dataset = LSTMDataset(Xd_clean, Y_clean, Xs_clean, create_seq=False)"
   ]
  },
  {
   "cell_type": "code",
   "execution_count": null,
   "id": "3e3b27e7-d9d9-41e2-9ea2-350fd700962b",
   "metadata": {
    "tags": []
   },
   "outputs": [],
   "source": [
    "val_dataset = LSTMDataset(Xd_valid_clean, Y_valid_clean, Xs_valid_clean, create_seq=False)"
   ]
  },
  {
   "cell_type": "code",
   "execution_count": null,
   "id": "361b31b3-ecfa-420c-bbd4-bde2ec1e8065",
   "metadata": {
    "tags": []
   },
   "outputs": [],
   "source": [
    "s = Sampling(method=\"clustering\")"
   ]
  },
  {
   "cell_type": "code",
   "execution_count": null,
   "id": "cd7e30c7-12ac-47b0-8972-588af45a9c90",
   "metadata": {
    "tags": []
   },
   "outputs": [],
   "source": [
    "# PyTorch DataLoader\n",
    "#data_loader = DataLoader(dataset, batch_size=spatial_batch_size, shuffle=False)\n",
    "train_loader = DataLoader(train_dataset, batch_size=spatial_batch_size, shuffle=True, sampling = None )\n",
    "val_loader = DataLoader(val_dataset, batch_size=spatial_batch_size, shuffle=False)"
   ]
  },
  {
   "cell_type": "code",
   "execution_count": 49,
   "id": "930a85ea",
   "metadata": {
    "tags": []
   },
   "outputs": [
    {
     "name": "stdout",
     "output_type": "stream",
     "text": [
      "torch.Size([256, 1461, 3]) torch.float32\n",
      "torch.Size([256, 8]) torch.float32\n",
      "torch.Size([256, 1461, 2]) torch.float32\n"
     ]
    }
   ],
   "source": [
    "# Invistigate the dataset \n",
    "for x1, x2, y in train_loader:\n",
    "    print(x1.shape, x1.dtype)\n",
    "    print(x2.shape, x2.dtype)\n",
    "    print(y.shape, y.dtype)\n",
    "    break"
   ]
  },
  {
   "cell_type": "code",
   "execution_count": 50,
   "id": "68c9b575-7629-4eef-8113-b8a5c73e8f28",
   "metadata": {
    "tags": []
   },
   "outputs": [
    {
     "data": {
      "text/plain": [
       "[<matplotlib.lines.Line2D at 0x7f91906fa110>]"
      ]
     },
     "execution_count": 50,
     "metadata": {},
     "output_type": "execute_result"
    },
    {
     "data": {
      "image/png": "[encoded data removed]",
      "text/plain": [
       "<Figure size 1000x200 with 1 Axes>"
      ]
     },
     "metadata": {},
     "output_type": "display_data"
    },
    {
     "data": {
      "image/png": "[encoded data removed]",
      "text/plain": [
       "<Figure size 1000x200 with 1 Axes>"
      ]
     },
     "metadata": {},
     "output_type": "display_data"
    }
   ],
   "source": [
    "plt.figure(figsize= (10, 2))\n",
    "plt.plot(y[12, :, 0])\n",
    "plt.figure(figsize= (10, 2))\n",
    "plt.plot(y[12, :, 1])"
   ]
  },
  {
   "cell_type": "markdown",
   "id": "1ee7952e-9447-41a0-a5b2-e1cf3291d022",
   "metadata": {
    "tags": []
   },
   "source": [
    "### Setting up model"
   ]
  },
  {
   "cell_type": "code",
   "execution_count": 51,
   "id": "43679253-45e8-4f9d-bbc9-c2bc035c434a",
   "metadata": {
    "tags": []
   },
   "outputs": [
    {
     "data": {
      "text/plain": [
       "{'input_size': 3,\n",
       " 'hidden_size': 256,\n",
       " 'output_size': 2,\n",
       " 'number_static_predictors': 8}"
      ]
     },
     "execution_count": 51,
     "metadata": {},
     "output_type": "execute_result"
    }
   ],
   "source": [
    "hidden_size = 256\n",
    "\n",
    "model_params={\n",
    "    \"input_size\": 3, #number of dynamic predictors - user_input\n",
    "    \"hidden_size\": hidden_size, # user_input\n",
    "    \"output_size\": Y.shape[-1], # number_target - user_input\n",
    "    \"number_static_predictors\": len(static_names), #number of static parameters - user_input \n",
    "\n",
    "}\n",
    "\n",
    "## The used device for training\n",
    "device = torch.device(\"cuda:0\" if torch.cuda.is_available() else \"cpu\")\n",
    "\n",
    "model_params"
   ]
  },
  {
   "cell_type": "code",
   "execution_count": 52,
   "id": "d3295ee3-8e53-4846-8872-88e356e3da19",
   "metadata": {
    "tags": []
   },
   "outputs": [
    {
     "data": {
      "text/plain": [
       "CustomLSTM(\n",
       "  (fc0): Linear(in_features=11, out_features=256, bias=True)\n",
       "  (lstm): LSTM(256, 256, batch_first=True)\n",
       "  (fc1): Linear(in_features=256, out_features=64, bias=True)\n",
       "  (fc2): Linear(in_features=64, out_features=2, bias=True)\n",
       ")"
      ]
     },
     "execution_count": 52,
     "metadata": {},
     "output_type": "execute_result"
    }
   ],
   "source": [
    "model = CustomLSTM(model_params)\n",
    "#model = CudnnLstmModel(nx = nx, ny =  ny, hiddenSize =  hidden_size)\n",
    "model = model.to(device)\n",
    "model"
   ]
  },
  {
   "cell_type": "code",
   "execution_count": 53,
   "id": "e8ca6929",
   "metadata": {
    "tags": []
   },
   "outputs": [],
   "source": [
    "set_seed(2023)\n",
    "\n",
    "def mse_metric(output, target):\n",
    "    metric_epoch = mean_squared_error(output, target, squared=True)\n",
    "    return metric_epoch\n",
    "\n",
    "# Training and validation \n",
    "path2models= \"./checkpoints\" #./output/kaggle/working/AI4EO/models\n",
    "if not os.path.exists(path2models):\n",
    "    os.mkdir(path2models)\n",
    "    \n",
    "    \n",
    "## Where to save the trained models weights \n",
    "## Set the optimization algorithms and learning rate\n",
    "opt = optim.Adam(model.parameters(), lr=1e-2)\n",
    "\n",
    "## Set the loss function\n",
    "loss_fn = RMSELoss(target_weight={'sm':0.5, 'actevap':0.5}) #nn.MSELoss()\n",
    "\n",
    "## Set the metric function - here using the same loss function \n",
    "metric_fn = mse_metric #nn.MSELoss()\n",
    "\n",
    "## Set the learning rate scheduler\n",
    "lr_scheduler = ReduceLROnPlateau(opt, mode='min',factor=0.5, patience=10)"
   ]
  },
  {
   "cell_type": "code",
   "execution_count": 56,
   "id": "9ef33ecf",
   "metadata": {
    "tags": []
   },
   "outputs": [
    {
     "data": {
      "text/plain": [
       "hython.models.lstm.CustomLSTM"
      ]
     },
     "execution_count": 56,
     "metadata": {},
     "output_type": "execute_result"
    }
   ],
   "source": [
    "\n",
    "epochs = 100\n",
    "\n",
    "## Set the training parameters\n",
    "params_train={\n",
    "    \"num_epochs\": epochs,\n",
    "    \"temporal_sampling_size\": temporal_sampling_size,\n",
    "    \"seq_length\": seq_length,\n",
    "    \"ts_range\": Y.shape[1],\n",
    "    \"optimizer\": opt,\n",
    "    \"loss_func\": loss_fn,\n",
    "    \"metric_func\": metric_fn,\n",
    "    \"train_dl\": train_loader, \n",
    "    \"val_dl\": val_loader,\n",
    "    \"lr_scheduler\": lr_scheduler,\n",
    "    \"path2weights\": f\"{path2models}/weights.pt\",\n",
    "    \"device\":device\n",
    "\n",
    "}\n",
    "\n",
    "\n",
    "type(model)"
   ]
  },
  {
   "cell_type": "code",
   "execution_count": 57,
   "id": "552bfc81",
   "metadata": {
    "tags": []
   },
   "outputs": [
    {
     "data": {
      "text/plain": [
       "CustomLSTM(\n",
       "  (fc0): Linear(in_features=11, out_features=256, bias=True)\n",
       "  (lstm): LSTM(256, 256, batch_first=True)\n",
       "  (fc1): Linear(in_features=256, out_features=64, bias=True)\n",
       "  (fc2): Linear(in_features=64, out_features=2, bias=True)\n",
       ")"
      ]
     },
     "execution_count": 57,
     "metadata": {},
     "output_type": "execute_result"
    }
   ],
   "source": [
    "model"
   ]
  },
  {
   "cell_type": "markdown",
   "id": "0c0fe116-e157-4dee-aebd-708e39c8e216",
   "metadata": {
    "tags": []
   },
   "source": [
    "## Running"
   ]
  },
  {
   "cell_type": "markdown",
   "id": "51da05ce-57d6-4219-85b5-da57d453e8a9",
   "metadata": {
    "tags": []
   },
   "source": [
    "### Soil Moisture "
   ]
  },
  {
   "cell_type": "code",
   "execution_count": 58,
   "id": "45225548-3cbd-4ad7-ae4f-22714f531f52",
   "metadata": {
    "scrolled": true,
    "tags": []
   },
   "outputs": [],
   "source": [
    "#lossFun_PF = crit.RmseLoss()\n",
    "#model = train.trainModel(\n",
    "#    model, \n",
    "#    Xd, # gridcell x time x forcings\n",
    "#    Y, # gridcell x time x out\n",
    "#    Xs, # gridcell x VICpar\n",
    "#    lossFun_PF, \n",
    "#    nEpoch=params_train[\"num_epochs\"], \n",
    "#    miniBatch=[100, 60], \n",
    "#    saveEpoch=50, \n",
    "#    saveFolder=\"./\")"
   ]
  },
  {
   "cell_type": "code",
   "execution_count": 59,
   "id": "7d9f1387",
   "metadata": {
    "scrolled": true,
    "tags": []
   },
   "outputs": [
    {
     "name": "stdout",
     "output_type": "stream",
     "text": [
      "Epoch 0/99, current lr=0.01\n",
      "Copied best model weights!\n",
      "train loss: 0.5204095840454102, train metric: 0.3398379981517792\n",
      "val loss: 0.48278918862342834, val metric: 0.306286096572876\n",
      "----------\n",
      "Epoch 1/99, current lr=0.01\n",
      "Copied best model weights!\n",
      "train loss: 0.37635737657546997, train metric: 0.17557218670845032\n",
      "val loss: 0.37198320031166077, val metric: 0.18302848935127258\n",
      "----------\n",
      "Epoch 2/99, current lr=0.01\n",
      "train loss: 0.3694770336151123, train metric: 0.17021870613098145\n",
      "val loss: 0.4016834795475006, val metric: 0.21366092562675476\n",
      "----------\n",
      "Epoch 3/99, current lr=0.01\n",
      "train loss: 0.35405728220939636, train metric: 0.15569885075092316\n",
      "val loss: 0.41267266869544983, val metric: 0.2241276204586029\n",
      "----------\n",
      "Epoch 4/99, current lr=0.01\n",
      "train loss: 0.3632521629333496, train metric: 0.15926796197891235\n",
      "val loss: 0.4003013074398041, val metric: 0.20369146764278412\n",
      "----------\n",
      "Epoch 5/99, current lr=0.01\n",
      "Copied best model weights!\n",
      "train loss: 0.3393750488758087, train metric: 0.1456824243068695\n",
      "val loss: 0.37179216742515564, val metric: 0.17796561121940613\n",
      "----------\n",
      "Epoch 6/99, current lr=0.01\n",
      "train loss: 0.34047234058380127, train metric: 0.1474963277578354\n",
      "val loss: 0.3992069363594055, val metric: 0.21095909178256989\n",
      "----------\n",
      "Epoch 7/99, current lr=0.01\n",
      "train loss: 0.3532544672489166, train metric: 0.14835788309574127\n",
      "val loss: 0.38966432213783264, val metric: 0.19130179286003113\n",
      "----------\n",
      "Epoch 8/99, current lr=0.01\n",
      "Copied best model weights!\n",
      "train loss: 0.3383878767490387, train metric: 0.14613136649131775\n",
      "val loss: 0.3714635372161865, val metric: 0.18645107746124268\n",
      "----------\n",
      "Epoch 9/99, current lr=0.01\n",
      "train loss: 0.34223419427871704, train metric: 0.14640288054943085\n",
      "val loss: 0.3778388202190399, val metric: 0.18917617201805115\n",
      "----------\n",
      "Epoch 10/99, current lr=0.01\n",
      "train loss: 0.37282487750053406, train metric: 0.1757335662841797\n",
      "val loss: 0.3906540274620056, val metric: 0.20438700914382935\n",
      "----------\n",
      "Epoch 11/99, current lr=0.01\n",
      "Copied best model weights!\n",
      "train loss: 0.3290650248527527, train metric: 0.1332446187734604\n",
      "val loss: 0.3694342374801636, val metric: 0.1791888177394867\n",
      "----------\n",
      "Epoch 12/99, current lr=0.01\n",
      "train loss: 0.34801235795021057, train metric: 0.14662449061870575\n",
      "val loss: 0.3912152647972107, val metric: 0.19558638334274292\n",
      "----------\n",
      "Epoch 13/99, current lr=0.01\n",
      "train loss: 0.3401511311531067, train metric: 0.1413831114768982\n",
      "val loss: 0.4223557114601135, val metric: 0.2340768575668335\n",
      "----------\n",
      "Epoch 14/99, current lr=0.01\n",
      "train loss: 0.4164751470088959, train metric: 0.21161237359046936\n",
      "val loss: 0.5460594892501831, val metric: 0.3741476535797119\n",
      "----------\n",
      "Epoch 15/99, current lr=0.01\n",
      "train loss: 0.40986257791519165, train metric: 0.19977694749832153\n",
      "val loss: 0.4149056375026703, val metric: 0.2117886245250702\n",
      "----------\n",
      "Epoch 16/99, current lr=0.01\n",
      "train loss: 0.3994847536087036, train metric: 0.19036459922790527\n",
      "val loss: 0.4226638376712799, val metric: 0.22433984279632568\n",
      "----------\n",
      "Epoch 17/99, current lr=0.01\n",
      "train loss: 0.4195047616958618, train metric: 0.21504156291484833\n",
      "val loss: 0.47446978092193604, val metric: 0.28233209252357483\n",
      "----------\n",
      "Epoch 18/99, current lr=0.01\n",
      "train loss: 0.4513648450374603, train metric: 0.24204480648040771\n",
      "val loss: 0.43441617488861084, val metric: 0.2329365313053131\n",
      "----------\n",
      "Epoch 19/99, current lr=0.01\n",
      "train loss: 0.41316109895706177, train metric: 0.20961616933345795\n",
      "val loss: 0.4117715358734131, val metric: 0.2204911708831787\n",
      "----------\n",
      "Epoch 20/99, current lr=0.01\n",
      "train loss: 0.3957512080669403, train metric: 0.1921674609184265\n",
      "val loss: 0.40690597891807556, val metric: 0.21469105780124664\n",
      "----------\n",
      "Epoch 21/99, current lr=0.01\n",
      "train loss: 0.40258508920669556, train metric: 0.1968844085931778\n",
      "val loss: 0.42358946800231934, val metric: 0.225143164396286\n",
      "----------\n",
      "Epoch 22/99, current lr=0.01\n",
      "train loss: 0.38493961095809937, train metric: 0.1800878345966339\n",
      "val loss: 0.415775328874588, val metric: 0.226254403591156\n",
      "----------\n",
      "Epoch 23/99, current lr=0.005\n",
      "train loss: 0.39441078901290894, train metric: 0.1891133189201355\n",
      "val loss: 0.4138951003551483, val metric: 0.22021305561065674\n",
      "----------\n",
      "Epoch 24/99, current lr=0.005\n",
      "train loss: 0.3768942952156067, train metric: 0.1753702461719513\n",
      "val loss: 0.39906400442123413, val metric: 0.20803990960121155\n",
      "----------\n",
      "Epoch 25/99, current lr=0.005\n",
      "train loss: 0.37574538588523865, train metric: 0.17417111992835999\n",
      "val loss: 0.3927838206291199, val metric: 0.2034226953983307\n",
      "----------\n",
      "Epoch 26/99, current lr=0.005\n",
      "train loss: 0.37489721179008484, train metric: 0.17269310355186462\n",
      "val loss: 0.3991587460041046, val metric: 0.20653431117534637\n",
      "----------\n",
      "Epoch 27/99, current lr=0.005\n",
      "train loss: 0.3590738773345947, train metric: 0.16123606264591217\n",
      "val loss: 0.3772520422935486, val metric: 0.18850059807300568\n",
      "----------\n",
      "Epoch 28/99, current lr=0.005\n",
      "train loss: 0.36479297280311584, train metric: 0.16199225187301636\n",
      "val loss: 0.3965359926223755, val metric: 0.20078083872795105\n",
      "----------\n",
      "Epoch 29/99, current lr=0.005\n",
      "train loss: 0.3658411204814911, train metric: 0.16713441908359528\n",
      "val loss: 0.3959648907184601, val metric: 0.2067352831363678\n",
      "----------\n",
      "Epoch 30/99, current lr=0.005\n",
      "train loss: 0.35580316185951233, train metric: 0.15795816481113434\n",
      "val loss: 0.37957778573036194, val metric: 0.19260185956954956\n",
      "----------\n",
      "Epoch 31/99, current lr=0.005\n",
      "train loss: 0.34311583638191223, train metric: 0.14431852102279663\n",
      "val loss: 0.37211182713508606, val metric: 0.18292087316513062\n",
      "----------\n",
      "Epoch 32/99, current lr=0.005\n",
      "train loss: 0.3465496897697449, train metric: 0.1478506475687027\n",
      "val loss: 0.3782404959201813, val metric: 0.18973100185394287\n",
      "----------\n",
      "Epoch 33/99, current lr=0.005\n",
      "train loss: 0.35028448700904846, train metric: 0.15218056738376617\n",
      "val loss: 0.3878710865974426, val metric: 0.19669847190380096\n",
      "----------\n",
      "Epoch 34/99, current lr=0.0025\n",
      "Copied best model weights!\n",
      "train loss: 0.33725735545158386, train metric: 0.13980163633823395\n",
      "val loss: 0.3566530644893646, val metric: 0.16839316487312317\n",
      "----------\n",
      "Epoch 35/99, current lr=0.0025\n",
      "train loss: 0.3436005413532257, train metric: 0.14681123197078705\n",
      "val loss: 0.3726120591163635, val metric: 0.18608784675598145\n",
      "----------\n",
      "Epoch 36/99, current lr=0.0025\n",
      "train loss: 0.34391388297080994, train metric: 0.14348796010017395\n",
      "val loss: 0.37187960743904114, val metric: 0.1808483600616455\n",
      "----------\n",
      "Epoch 37/99, current lr=0.0025\n",
      "train loss: 0.34728479385375977, train metric: 0.14630931615829468\n",
      "val loss: 0.37853774428367615, val metric: 0.18530666828155518\n",
      "----------\n",
      "Epoch 38/99, current lr=0.0025\n",
      "train loss: 0.33534932136535645, train metric: 0.13771028816699982\n",
      "val loss: 0.368299663066864, val metric: 0.17989882826805115\n",
      "----------\n",
      "Epoch 39/99, current lr=0.0025\n",
      "train loss: 0.33744895458221436, train metric: 0.1396137923002243\n",
      "val loss: 0.36755335330963135, val metric: 0.1784353405237198\n",
      "----------\n",
      "Epoch 40/99, current lr=0.0025\n",
      "train loss: 0.3255771994590759, train metric: 0.13107457756996155\n",
      "val loss: 0.3645431697368622, val metric: 0.17564646899700165\n",
      "----------\n",
      "Epoch 41/99, current lr=0.0025\n",
      "train loss: 0.3471718430519104, train metric: 0.14804548025131226\n",
      "val loss: 0.3784513771533966, val metric: 0.18687373399734497\n",
      "----------\n",
      "Epoch 42/99, current lr=0.0025\n",
      "train loss: 0.3309871554374695, train metric: 0.13392339646816254\n",
      "val loss: 0.3572729229927063, val metric: 0.1696372926235199\n",
      "----------\n",
      "Epoch 43/99, current lr=0.0025\n",
      "train loss: 0.3259684443473816, train metric: 0.1345156580209732\n",
      "val loss: 0.36140620708465576, val metric: 0.17740893363952637\n",
      "----------\n",
      "Epoch 44/99, current lr=0.0025\n",
      "train loss: 0.3400111794471741, train metric: 0.1470402181148529\n",
      "val loss: 0.3699265122413635, val metric: 0.18622615933418274\n",
      "----------\n",
      "Epoch 45/99, current lr=0.0025\n",
      "train loss: 0.3332778215408325, train metric: 0.1404375433921814\n",
      "val loss: 0.3585960865020752, val metric: 0.17462892830371857\n",
      "----------\n",
      "Epoch 46/99, current lr=0.00125\n",
      "train loss: 0.339812695980072, train metric: 0.14340141415596008\n",
      "val loss: 0.37720227241516113, val metric: 0.1883057951927185\n",
      "----------\n",
      "Epoch 47/99, current lr=0.00125\n",
      "Copied best model weights!\n",
      "train loss: 0.3066314160823822, train metric: 0.11775162070989609\n",
      "val loss: 0.33370888233184814, val metric: 0.1517764925956726\n",
      "----------\n",
      "Epoch 48/99, current lr=0.00125\n",
      "train loss: 0.3077782392501831, train metric: 0.11442297697067261\n",
      "val loss: 0.33989259600639343, val metric: 0.15460105240345\n",
      "----------\n",
      "Epoch 49/99, current lr=0.00125\n",
      "train loss: 0.32306185364723206, train metric: 0.13193276524543762\n",
      "val loss: 0.3548465073108673, val metric: 0.1701788753271103\n",
      "----------\n",
      "Epoch 50/99, current lr=0.00125\n",
      "train loss: 0.31166064739227295, train metric: 0.12025430798530579\n",
      "val loss: 0.35392042994499207, val metric: 0.1679699867963791\n",
      "----------\n",
      "Epoch 51/99, current lr=0.00125\n",
      "train loss: 0.3095286786556244, train metric: 0.11873799562454224\n",
      "val loss: 0.3471701145172119, val metric: 0.16220404207706451\n",
      "----------\n",
      "Epoch 52/99, current lr=0.00125\n",
      "train loss: 0.31698745489120483, train metric: 0.1257726401090622\n",
      "val loss: 0.35745111107826233, val metric: 0.1723504662513733\n",
      "----------\n",
      "Epoch 53/99, current lr=0.00125\n",
      "train loss: 0.32153597474098206, train metric: 0.12721261382102966\n",
      "val loss: 0.36409151554107666, val metric: 0.1757449209690094\n",
      "----------\n",
      "Epoch 54/99, current lr=0.00125\n",
      "train loss: 0.32499098777770996, train metric: 0.1310398131608963\n",
      "val loss: 0.3696199655532837, val metric: 0.18252918124198914\n",
      "----------\n",
      "Epoch 55/99, current lr=0.00125\n",
      "train loss: 0.30499082803726196, train metric: 0.11596804857254028\n",
      "val loss: 0.3495912551879883, val metric: 0.16430185735225677\n",
      "----------\n",
      "Epoch 56/99, current lr=0.00125\n",
      "train loss: 0.3023630380630493, train metric: 0.11400861293077469\n",
      "val loss: 0.35824528336524963, val metric: 0.17609719932079315\n",
      "----------\n",
      "Epoch 57/99, current lr=0.00125\n",
      "train loss: 0.2969662547111511, train metric: 0.10935914516448975\n",
      "val loss: 0.33664506673812866, val metric: 0.15358608961105347\n",
      "----------\n",
      "Epoch 58/99, current lr=0.00125\n",
      "train loss: 0.31118515133857727, train metric: 0.1204698383808136\n",
      "val loss: 0.3551933169364929, val metric: 0.16959546506404877\n",
      "----------\n",
      "Epoch 59/99, current lr=0.000625\n",
      "train loss: 0.3046393394470215, train metric: 0.11499524116516113\n",
      "val loss: 0.346761018037796, val metric: 0.16245168447494507\n",
      "----------\n",
      "Epoch 60/99, current lr=0.000625\n",
      "train loss: 0.3071052134037018, train metric: 0.11622987687587738\n",
      "val loss: 0.35207292437553406, val metric: 0.1663004755973816\n",
      "----------\n",
      "Epoch 61/99, current lr=0.000625\n",
      "train loss: 0.307433158159256, train metric: 0.1213885098695755\n",
      "val loss: 0.357593297958374, val metric: 0.17538556456565857\n",
      "----------\n",
      "Epoch 62/99, current lr=0.000625\n",
      "train loss: 0.29294395446777344, train metric: 0.10681329667568207\n",
      "val loss: 0.3459145426750183, val metric: 0.1641795039176941\n",
      "----------\n",
      "Epoch 63/99, current lr=0.000625\n",
      "train loss: 0.3086088299751282, train metric: 0.12028096616268158\n",
      "val loss: 0.36372941732406616, val metric: 0.1804027259349823\n",
      "----------\n",
      "Epoch 64/99, current lr=0.000625\n",
      "train loss: 0.29963424801826477, train metric: 0.11032405495643616\n",
      "val loss: 0.3475019931793213, val metric: 0.16310302913188934\n",
      "----------\n",
      "Epoch 65/99, current lr=0.000625\n",
      "train loss: 0.3079608380794525, train metric: 0.11919130384922028\n",
      "val loss: 0.357748419046402, val metric: 0.17456473410129547\n",
      "----------\n",
      "Epoch 66/99, current lr=0.000625\n",
      "train loss: 0.2920648157596588, train metric: 0.10652785003185272\n",
      "val loss: 0.34180060029029846, val metric: 0.15857753157615662\n",
      "----------\n",
      "Epoch 67/99, current lr=0.000625\n",
      "train loss: 0.3006107211112976, train metric: 0.11526691168546677\n",
      "val loss: 0.3578820526599884, val metric: 0.17563335597515106\n",
      "----------\n",
      "Epoch 68/99, current lr=0.000625\n",
      "train loss: 0.294788122177124, train metric: 0.11079246550798416\n",
      "val loss: 0.34813106060028076, val metric: 0.1662236452102661\n",
      "----------\n",
      "Epoch 69/99, current lr=0.000625\n",
      "train loss: 0.2986467480659485, train metric: 0.11337009817361832\n",
      "val loss: 0.35084792971611023, val metric: 0.16904067993164062\n",
      "----------\n",
      "Epoch 70/99, current lr=0.0003125\n",
      "train loss: 0.2904919683933258, train metric: 0.10509249567985535\n",
      "val loss: 0.34629037976264954, val metric: 0.16380007565021515\n",
      "----------\n",
      "Epoch 71/99, current lr=0.0003125\n",
      "train loss: 0.2874842882156372, train metric: 0.10587392747402191\n",
      "val loss: 0.34794485569000244, val metric: 0.16847069561481476\n",
      "----------\n",
      "Epoch 72/99, current lr=0.0003125\n",
      "train loss: 0.28719064593315125, train metric: 0.10462816059589386\n",
      "val loss: 0.344260573387146, val metric: 0.16217392683029175\n",
      "----------\n",
      "Epoch 73/99, current lr=0.0003125\n",
      "train loss: 0.29104936122894287, train metric: 0.10487969219684601\n",
      "val loss: 0.35517674684524536, val metric: 0.17182528972625732\n",
      "----------\n",
      "Epoch 74/99, current lr=0.0003125\n",
      "train loss: 0.28611111640930176, train metric: 0.10526636242866516\n",
      "val loss: 0.3393167555332184, val metric: 0.1618785262107849\n",
      "----------\n",
      "Epoch 75/99, current lr=0.0003125\n",
      "train loss: 0.29362931847572327, train metric: 0.10546094179153442\n",
      "val loss: 0.3566359877586365, val metric: 0.1701105684041977\n",
      "----------\n",
      "Epoch 76/99, current lr=0.0003125\n",
      "train loss: 0.2876851558685303, train metric: 0.10391999781131744\n",
      "val loss: 0.34807199239730835, val metric: 0.16417741775512695\n",
      "----------\n",
      "Epoch 77/99, current lr=0.0003125\n",
      "train loss: 0.2778669595718384, train metric: 0.09642302989959717\n",
      "val loss: 0.3399108946323395, val metric: 0.16008234024047852\n",
      "----------\n",
      "Epoch 78/99, current lr=0.0003125\n",
      "train loss: 0.28395724296569824, train metric: 0.09896848350763321\n",
      "val loss: 0.3484373092651367, val metric: 0.16342085599899292\n",
      "----------\n",
      "Epoch 79/99, current lr=0.0003125\n",
      "train loss: 0.29348036646842957, train metric: 0.10876764357089996\n",
      "val loss: 0.3581825792789459, val metric: 0.1744060218334198\n",
      "----------\n",
      "Epoch 80/99, current lr=0.0003125\n",
      "train loss: 0.28884199261665344, train metric: 0.10018059611320496\n",
      "val loss: 0.3572097718715668, val metric: 0.16815757751464844\n",
      "----------\n",
      "Epoch 81/99, current lr=0.00015625\n",
      "train loss: 0.30128058791160583, train metric: 0.11232373118400574\n",
      "val loss: 0.3687601387500763, val metric: 0.1799492985010147\n",
      "----------\n",
      "Epoch 82/99, current lr=0.00015625\n",
      "train loss: 0.28928661346435547, train metric: 0.105382040143013\n",
      "val loss: 0.35452723503112793, val metric: 0.1724783182144165\n",
      "----------\n",
      "Epoch 83/99, current lr=0.00015625\n",
      "train loss: 0.28299471735954285, train metric: 0.1029350757598877\n",
      "val loss: 0.3470694422721863, val metric: 0.1663743406534195\n",
      "----------\n",
      "Epoch 84/99, current lr=0.00015625\n",
      "train loss: 0.27331799268722534, train metric: 0.09314890205860138\n",
      "val loss: 0.3369850516319275, val metric: 0.1553562730550766\n",
      "----------\n",
      "Epoch 85/99, current lr=0.00015625\n",
      "train loss: 0.27648457884788513, train metric: 0.09797079861164093\n",
      "val loss: 0.3418593108654022, val metric: 0.16243496537208557\n",
      "----------\n",
      "Epoch 86/99, current lr=0.00015625\n",
      "train loss: 0.2785665690898895, train metric: 0.09681852161884308\n",
      "val loss: 0.34290117025375366, val metric: 0.15994228422641754\n",
      "----------\n",
      "Epoch 87/99, current lr=0.00015625\n",
      "train loss: 0.28104057908058167, train metric: 0.09814749658107758\n",
      "val loss: 0.34786924719810486, val metric: 0.1637609601020813\n",
      "----------\n",
      "Epoch 88/99, current lr=0.00015625\n",
      "train loss: 0.287002831697464, train metric: 0.1021135076880455\n",
      "val loss: 0.3541973829269409, val metric: 0.16846461594104767\n",
      "----------\n",
      "Epoch 89/99, current lr=0.00015625\n",
      "train loss: 0.2786095142364502, train metric: 0.09453573077917099\n",
      "val loss: 0.34955084323883057, val metric: 0.163955956697464\n",
      "----------\n",
      "Epoch 90/99, current lr=0.00015625\n",
      "train loss: 0.2836539149284363, train metric: 0.09983481466770172\n",
      "val loss: 0.35263824462890625, val metric: 0.16767936944961548\n",
      "----------\n",
      "Epoch 91/99, current lr=0.00015625\n",
      "train loss: 0.27764150500297546, train metric: 0.09652800858020782\n",
      "val loss: 0.3476009964942932, val metric: 0.16381588578224182\n",
      "----------\n",
      "Epoch 92/99, current lr=7.8125e-05\n",
      "train loss: 0.2763497233390808, train metric: 0.09616215527057648\n",
      "val loss: 0.3448774516582489, val metric: 0.16453182697296143\n",
      "----------\n",
      "Epoch 93/99, current lr=7.8125e-05\n",
      "train loss: 0.27533969283103943, train metric: 0.09550419449806213\n",
      "val loss: 0.3464834988117218, val metric: 0.16483289003372192\n",
      "----------\n",
      "Epoch 94/99, current lr=7.8125e-05\n",
      "Copied best model weights!\n",
      "train loss: 0.2667052745819092, train metric: 0.08927775919437408\n",
      "val loss: 0.3329201936721802, val metric: 0.154369056224823\n",
      "----------\n",
      "Epoch 95/99, current lr=7.8125e-05\n",
      "train loss: 0.2728237807750702, train metric: 0.09712003171443939\n",
      "val loss: 0.3394598066806793, val metric: 0.16131025552749634\n",
      "----------\n",
      "Epoch 96/99, current lr=7.8125e-05\n",
      "train loss: 0.27280035614967346, train metric: 0.09174729138612747\n",
      "val loss: 0.34398356080055237, val metric: 0.16048762202262878\n",
      "----------\n",
      "Epoch 97/99, current lr=7.8125e-05\n",
      "train loss: 0.28188806772232056, train metric: 0.10235586762428284\n",
      "val loss: 0.3548915684223175, val metric: 0.17336808145046234\n",
      "----------\n",
      "Epoch 98/99, current lr=7.8125e-05\n",
      "train loss: 0.29155290126800537, train metric: 0.10784699022769928\n",
      "val loss: 0.36150816082954407, val metric: 0.1765308380126953\n",
      "----------\n",
      "Epoch 99/99, current lr=7.8125e-05\n",
      "train loss: 0.28774040937423706, train metric: 0.10494603216648102\n",
      "val loss: 0.3588486611843109, val metric: 0.17441990971565247\n",
      "----------\n"
     ]
    }
   ],
   "source": [
    "model, sm_loss_history ,sm_metric_history = train_val(model, params_train)"
   ]
  },
  {
   "cell_type": "code",
   "execution_count": 61,
   "id": "76e6857c",
   "metadata": {
    "tags": []
   },
   "outputs": [
    {
     "data": {
      "image/png": "[encoded data removed]",
      "text/plain": [
       "<Figure size 1000x600 with 1 Axes>"
      ]
     },
     "metadata": {},
     "output_type": "display_data"
    }
   ],
   "source": [
    "# import matplotlib.pyplot as plt\n",
    "# Extract the loss values\n",
    "train_loss = sm_metric_history['train']\n",
    "val_loss = sm_metric_history['val']\n",
    "\n",
    "# Create a list of epochs for the x-axis (e.g., [1, 2, 3, ..., 100])\n",
    "lepochs = list(range(1,params_train[\"num_epochs\"] + 1))\n",
    "\n",
    "# Create the train and validation loss plots\n",
    "plt.figure(figsize=(10, 6))\n",
    "plt.plot(lepochs, train_loss, marker='o', linestyle='-', color='b', label='Training Loss')\n",
    "plt.plot(lepochs, val_loss, marker='o', linestyle='-', color='r', label='Validation Loss')\n",
    "plt.title('Validation Loss - SM')\n",
    "plt.xlabel('Epochs')\n",
    "plt.ylabel('Loss')\n",
    "plt.grid(True)\n",
    "plt.legend()\n",
    "plt.show()"
   ]
  },
  {
   "cell_type": "code",
   "execution_count": 62,
   "id": "2b3bc899",
   "metadata": {},
   "outputs": [
    {
     "data": {
      "text/plain": [
       "<All keys matched successfully>"
      ]
     },
     "execution_count": 62,
     "metadata": {},
     "output_type": "execute_result"
    }
   ],
   "source": [
    "model.load_state_dict(torch.load(params_train[\"path2weights\"]))"
   ]
  },
  {
   "cell_type": "code",
   "execution_count": null,
   "id": "b659be52",
   "metadata": {},
   "outputs": [],
   "source": [
    "#model= model.to('cuda:0')\n",
    "model= model.to('cpu')"
   ]
  },
  {
   "cell_type": "code",
   "execution_count": null,
   "id": "a7fb1cc0",
   "metadata": {},
   "outputs": [],
   "source": [
    "it = iter(train_loader)"
   ]
  },
  {
   "cell_type": "code",
   "execution_count": null,
   "id": "8ff559be",
   "metadata": {},
   "outputs": [],
   "source": [
    "din, static, val = next(it)\n",
    "din.shape, static.shape, val.shape"
   ]
  },
  {
   "cell_type": "code",
   "execution_count": null,
   "id": "159ecc56-57ee-442c-b46d-9ef40e758417",
   "metadata": {},
   "outputs": [],
   "source": [
    "# plt.scatter(model(din.to(device), static.to(device)).detach().cpu().numpy()[10,:,0], val[10,:,0])"
   ]
  },
  {
   "cell_type": "code",
   "execution_count": null,
   "id": "ecd226a3-e2ef-4552-a73a-b580abfaee08",
   "metadata": {},
   "outputs": [],
   "source": [
    "plt.figure(figsize=(20,10)) \n",
    "plt.plot(model(din, static).detach().cpu().numpy()[101,:,0], label =\"model\")\n",
    "plt.plot(val[101,:,0], label=\"val\")\n",
    "plt.legend()"
   ]
  },
  {
   "cell_type": "code",
   "execution_count": 63,
   "id": "63a920ef-5b50-47b4-9fbe-a9a7828f80f3",
   "metadata": {},
   "outputs": [],
   "source": [
    "from hython.utils import predict, reconstruct_from_missing, reshape_to_2Dspatial, to_xr\n",
    "from hython.viz import map_bias, map_pbias, map_pearson, map_at_timesteps, ts_compare"
   ]
  },
  {
   "cell_type": "code",
   "execution_count": 65,
   "id": "9c698a97-ceae-4175-8ac3-fc0bca27fbff",
   "metadata": {},
   "outputs": [
    {
     "data": {
      "text/plain": [
       "((69, 118, 1461, 2), (69, 118, 1461, 2))"
      ]
     },
     "execution_count": 65,
     "metadata": {},
     "output_type": "execute_result"
    }
   ],
   "source": [
    "yhat = predict(Xd_clean, Xs_clean, model, spatial_batch_size, device)\n",
    "\n",
    "yhat = reconstruct_from_missing(\n",
    "                                yhat, \n",
    "                                Y.shape, \n",
    "                                idx\n",
    "    )\n",
    "\n",
    "lat, lon, time = *dims[\"sampled_dims\"][:2], Y.shape[1]\n",
    "\n",
    "yhat = reshape_to_2Dspatial(\n",
    "    yhat,\n",
    "    lat,\n",
    "    lon,\n",
    "    time, \n",
    "    2)\n",
    "\n",
    "y = reshape_to_2Dspatial(\n",
    "    Y,\n",
    "    lat,\n",
    "    lon,\n",
    "    time,\n",
    "    2)\n",
    "yhat.shape, y.shape"
   ]
  },
  {
   "cell_type": "code",
   "execution_count": 68,
   "id": "0c56a405-5071-4018-81a5-1ae4ec8af4e3",
   "metadata": {},
   "outputs": [],
   "source": [
    "# sm\n",
    "#y = to_xr(y[...,0], coords = dict(target_ds.coords))\n",
    "#yhat = to_xr(yhat[...,0], coords = dict(target_ds.coords))"
   ]
  },
  {
   "cell_type": "code",
   "execution_count": 73,
   "id": "f829f061-8f62-4772-aabf-90fa4b040eb0",
   "metadata": {},
   "outputs": [
    {
     "data": {
      "image/png": "[encoded data removed]",
      "text/plain": [
       "<Figure size 640x480 with 2 Axes>"
      ]
     },
     "metadata": {},
     "output_type": "display_data"
    }
   ],
   "source": [
    "map_pbias(y[...,1], yhat[...,1])"
   ]
  },
  {
   "cell_type": "code",
   "execution_count": null,
   "id": "2ab58f33-3339-431f-858b-4431f9239c05",
   "metadata": {},
   "outputs": [],
   "source": []
  }
 ],
 "metadata": {
  "kernelspec": {
   "display_name": "emulator",
   "language": "python",
   "name": "emulator"
  },
  "language_info": {
   "codemirror_mode": {
    "name": "ipython",
    "version": 3
   },
   "file_extension": ".py",
   "mimetype": "text/x-python",
   "name": "python",
   "nbconvert_exporter": "python",
   "pygments_lexer": "ipython3",
   "version": "3.11.6"
  }
 },
 "nbformat": 4,
 "nbformat_minor": 5
}
