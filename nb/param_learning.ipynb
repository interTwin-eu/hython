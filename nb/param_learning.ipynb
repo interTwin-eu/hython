{
 "cells": [
  {
   "cell_type": "code",
   "execution_count": 1,
   "id": "c5795920-d1b9-4d9f-a797-37025d645842",
   "metadata": {},
   "outputs": [],
   "source": [
    "# The cubelets dataset should be alright:\n",
    "\n",
    "# The xs corresponds now to the gephysical properties for the CVAE \n",
    "# The xd corresponds to the forcing for the Surrogate\n",
    "# The y corresponds to the target for the Surrogate\n",
    "\n",
    "# In addition it may be useful to have also the climatology, therefore time varying inputs for the CVAE, but this is not a priority as I want to focus on static and at most temporal statistics layers\n",
    "\n",
    "# If I am going to use the SURROGATE 1D LSTM (find a better name for it) then I need to reshape the \"xd\" and \"y\" into NTC, which is ok with the cubeletsdataset, but may be slow for big datasets. For huge dataset we may need\n",
    "# either distributed computing. \n",
    "# Reshaping of the CVAE output to match SURROGATE static inputs will occur in the model or training \n",
    "\n",
    "# I don't think it I can use two dataloaders, one for CVAE and SURROGATE. \n",
    "\n",
    "# The problem would be with randomization, in few words: one batch for the CVAE problem is essentially a 2D tile, composed by N pixels. I can randomly sample the batches (i.e. tiles) which is ok for training the CVAE, but for the \n",
    "# SURROGATE I am constrained to randomly pick only the pixels within one tile.\n",
    "\n",
    "# Also in order to choose the batch size of the dataloader I need to consider how a N mini-batch of (H W) tiles becomes N*H*W for the SURROGATE, therefore I am kind of constrained in deciding the tile H W size \n",
    "\n",
    "\n",
    "# Unless I can use one dataloader that provides the datasets and then loop over "
   ]
  },
  {
   "cell_type": "code",
   "execution_count": null,
   "id": "78c7b0f3-a687-431f-9085-0aed08ccf394",
   "metadata": {},
   "outputs": [],
   "source": []
  }
 ],
 "metadata": {
  "kernelspec": {
   "display_name": "emulator",
   "language": "python",
   "name": "emulator"
  },
  "language_info": {
   "codemirror_mode": {
    "name": "ipython",
    "version": 3
   },
   "file_extension": ".py",
   "mimetype": "text/x-python",
   "name": "python",
   "nbconvert_exporter": "python",
   "pygments_lexer": "ipython3",
   "version": "3.11.6"
  }
 },
 "nbformat": 4,
 "nbformat_minor": 5
}
