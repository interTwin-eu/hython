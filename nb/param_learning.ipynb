{
 "cells": [
  {
   "cell_type": "code",
   "execution_count": 1,
   "id": "5a53ef4c-547a-40d9-a718-51fa101ccbec",
   "metadata": {},
   "outputs": [],
   "source": [
    "%load_ext autoreload\n",
    "%autoreload 2"
   ]
  },
  {
   "cell_type": "markdown",
   "id": "23d7ab96-9b23-4002-9e18-2ef098275853",
   "metadata": {},
   "source": [
    "The cubelets dataset should be alright:\n",
    "\n",
    "The xs corresponds now to the gephysical properties for the CVAE \n",
    "The xd corresponds to the forcing for the Surrogate\n",
    "The y corresponds to the target for the Surrogate\n",
    "\n",
    "In addition it may be useful to have also the climatology, therefore time varying inputs for the CVAE, but this is not a priority as I want to focus on static and at most temporal statistics layers\n",
    "\n",
    "If I am going to use the SURROGATE 1D LSTM (find a better name for it) then I need to reshape the \"xd\" and \"y\" into NTC, which is ok with the cubeletsdataset, but may be slow for big datasets. For huge dataset we may need\n",
    "either distributed computing. \n",
    "\n",
    "Reshaping of the CVAE output to match SURROGATE static inputs will occur in the model or training \n",
    "\n",
    "I don't think it I can use two dataloaders, one for CVAE and SURROGATE. \n",
    "\n",
    "The problem would be with randomization, in few words: one batch for the CVAE problem is essentially a 2D tile, composed by N pixels. I can randomly sample the batches (i.e. tiles) which is ok for training the CVAE, but for the \n",
    "SURROGATE I am constrained to randomly pick only the pixels within one tile.\n",
    "\n",
    "Also in order to choose the batch size of the dataloader I need to consider how a N mini-batch of (H W) tiles becomes N*H*W for the SURROGATE, therefore I am kind of constrained in deciding the tile H W size \n",
    "\n",
    "Unless I can use one dataloader that provides the datasets and then loop over \n",
    "\n",
    "\n",
    "\n",
    "INPUT AND MODEL GRID ALIGNEMENT\n",
    "\n",
    "There will be misalignement, meaning some of the input cells will fall partially under the model grid cell. \n",
    "\n",
    "But let's say I have 1000x1000 input, and one batch is 4x4 as I know that 4 cells of input are equivalent roughly to 1 cell of model .\n",
    "\n",
    "Now the models overlaps the input, but each cell is 16 times bigger, so the cells are 250x250\n"
   ]
  },
  {
   "cell_type": "code",
   "execution_count": 3,
   "id": "78c7b0f3-a687-431f-9085-0aed08ccf394",
   "metadata": {},
   "outputs": [
    {
     "name": "stderr",
     "output_type": "stream",
     "text": [
      "/home/iferrario/.local/miniforge/envs/emulator/lib/python3.11/site-packages/pandas/core/computation/expressions.py:21: UserWarning: Pandas requires version '2.8.4' or newer of 'numexpr' (version '2.8.3' currently installed).\n",
      "  from pandas.core.computation.check import NUMEXPR_INSTALLED\n"
     ]
    }
   ],
   "source": [
    "import torch\n",
    "import torch.nn.functional as F\n",
    "from torch import nn\n",
    "import xarray as xr\n",
    "import warnings\n",
    "warnings.filterwarnings(\"ignore\")"
   ]
  },
  {
   "cell_type": "code",
   "execution_count": 206,
   "id": "ed6a7380-c783-4193-8c3e-2b639d95ad3f",
   "metadata": {},
   "outputs": [],
   "source": [
    "import torchvision.transforms as transforms\n",
    "from torch.utils.data import DataLoader, Dataset\n",
    "import glob\n",
    "from openeo.local import LocalConnection \n",
    "from hython.datasets.datasets import CubeletsDataset, TilesDataset\n",
    "import matplotlib.pyplot as plt\n",
    "import geopandas as gpd\n",
    "import xarray as xr\n",
    "import rioxarray"
   ]
  },
  {
   "cell_type": "code",
   "execution_count": 5,
   "id": "5e8a6484-5e98-4adb-801d-e0a124953c02",
   "metadata": {},
   "outputs": [],
   "source": [
    "conn = LocalConnection(\"./\")"
   ]
  },
  {
   "cell_type": "code",
   "execution_count": 145,
   "id": "276b66f3-cda8-486c-bbc2-381b26949e2e",
   "metadata": {},
   "outputs": [
    {
     "data": {
      "text/plain": [
       "{'minx': {0: 10.28375},\n",
       " 'miny': {0: 45.437083333333334},\n",
       " 'maxx': {0: 12.327083333333334},\n",
       " 'maxy': {0: 47.092083333333335}}"
      ]
     },
     "execution_count": 145,
     "metadata": {},
     "output_type": "execute_result"
    }
   ],
   "source": [
    "bounds = gpd.read_file(\"/mnt/CEPH_PROJECTS/InterTwin/Wflow/models/adg1km_eobs/staticgeoms/basins.geojson\").bounds.to_dict()\n",
    "bounds"
   ]
  },
  {
   "cell_type": "code",
   "execution_count": null,
   "id": "05d9349a-13ad-40ad-846d-298f13afe83b",
   "metadata": {},
   "outputs": [],
   "source": [
    "bounds  = {b:bounds[i][0] for i,b in zip(bounds, [\"west\",\"south\",\"east\",\"north\"])}"
   ]
  },
  {
   "cell_type": "code",
   "execution_count": 164,
   "id": "513e36fd-f584-4190-80e3-1da7f9efc103",
   "metadata": {},
   "outputs": [],
   "source": [
    "static = xr.open_dataset(\"/mnt/CEPH_PROJECTS/InterTwin/Wflow/models/adg1km_eobs/staticmaps.nc\")"
   ]
  },
  {
   "cell_type": "code",
   "execution_count": 166,
   "id": "f3ae812a-eed3-408d-815c-998fe3b82b17",
   "metadata": {},
   "outputs": [
    {
     "data": {
      "text/plain": [
       "(180, 223)"
      ]
     },
     "execution_count": 166,
     "metadata": {},
     "output_type": "execute_result"
    }
   ],
   "source": []
  },
  {
   "cell_type": "code",
   "execution_count": 6,
   "id": "8f36a505-a6ea-45dc-8bba-17cb6d24f282",
   "metadata": {},
   "outputs": [],
   "source": [
    "bands =  [\"bd_sl1\",\"bd_sl2\",\"bd_sl3\", \"bd_sl4\", \"bd_sl5\", \"bd_sl6\",\n",
    "    \"clyppt_sl1\",\"clyppt_sl2\",\"clyppt_sl3\", \"clyppt_sl4\", \"clyppt_sl5\", \"clyppt_sl6\",\n",
    "    \"sltppt_sl1\",\"sltppt_sl2\",\"sltppt_sl3\", \"sltppt_sl4\", \"sltppt_sl5\", \"sltppt_sl6\",\n",
    "    \"sndppt_sl1\",\"sndppt_sl2\",\"sndppt_sl3\", \"sndppt_sl4\", \"sndppt_sl5\", \"sndppt_sl6\",\n",
    "    \"ph_sl1\",\"ph_sl2\",\"ph_sl3\", \"ph_sl4\", \"ph_sl5\", \"ph_sl6\",\n",
    "    \"oc_sl1\",\"oc_sl2\",\"oc_sl3\", \"oc_sl4\", \"oc_sl5\", \"oc_sl6\",\n",
    "    \"soilthickness\"]"
   ]
  },
  {
   "cell_type": "code",
   "execution_count": 148,
   "id": "3c55c848-fd7f-429d-9c28-d31b5db60edc",
   "metadata": {},
   "outputs": [],
   "source": [
    "das = [ conn.load_stac(url=\"https://stac.eurac.edu/collections/SOILGRIDS\", bands = [band], spatial_extent=bounds).execute().to_dataset(dim=\"band\").isel(time=0) for band in bands ]\n",
    "ds = xr.merge(das, compat=\"override\")"
   ]
  },
  {
   "cell_type": "code",
   "execution_count": 149,
   "id": "fb54cfbc-a594-4377-b2a7-faf2329e9356",
   "metadata": {},
   "outputs": [],
   "source": [
    "ds = ds.rename({\"y\":\"lat\", \"x\":\"lon\"})"
   ]
  },
  {
   "cell_type": "code",
   "execution_count": 150,
   "id": "48c8d4eb-e7f7-4a6c-a5cc-b572600f9b09",
   "metadata": {},
   "outputs": [],
   "source": [
    "XSIZE,YSIZE, TSIZE = 5, 5, 60\n",
    "XOVER,YOVER,TOVER = 0, 0, 30"
   ]
  },
  {
   "cell_type": "code",
   "execution_count": null,
   "id": "b5fa3bb3-de6b-43db-b9ef-1a1c5f8fa1bf",
   "metadata": {},
   "outputs": [],
   "source": [
    "mask = ds.bd_sl1.isnull().compute()\n",
    "mask.plot()"
   ]
  },
  {
   "cell_type": "code",
   "execution_count": 223,
   "id": "79a1d892-c552-4ab7-817a-eaf5522d9bd7",
   "metadata": {},
   "outputs": [
    {
     "data": {
      "text/plain": [
       "((48, 72), (11, 16))"
      ]
     },
     "execution_count": 223,
     "metadata": {},
     "output_type": "execute_result"
    }
   ],
   "source": [
    "ds.clyppt_sl1.sel(lat=slice(46.6,46.5), lon=slice(11,11.15)).shape,static.thetaR.sel(latitude=slice(46.6,46.5), longitude=slice(11,11.15)).shape"
   ]
  },
  {
   "cell_type": "code",
   "execution_count": null,
   "id": "53a76cac-4bfc-4232-9b2f-99ffa16caa2e",
   "metadata": {},
   "outputs": [],
   "source": [
    "plt.figure(figsize=(14,8))\n",
    "ds.clyppt_sl1.sel(lat=slice(46.6,46.5), lon=slice(11,11.15)).plot(cmap=\"Greys\")\n",
    "static.thetaR.sel(latitude=slice(46.6,46.5), longitude=slice(11,11.15)).plot(add_colorbar=False,alpha=0.6)"
   ]
  },
  {
   "cell_type": "code",
   "execution_count": 219,
   "id": "740deb65-fe81-4df6-b815-17818459da18",
   "metadata": {},
   "outputs": [],
   "source": [
    "model_para, inp_data = xr.align(static.thetaR, ds.clyppt_sl1, )\n",
    "\n",
    "# inp_data = inp_data.rio.set_crs(model_para.rio.crs)\n",
    "# inp_data = inp_data.rio.set_spatial_dims(x_dim=\"lon\", y_dim=\"lat\")"
   ]
  },
  {
   "cell_type": "code",
   "execution_count": 220,
   "id": "0e174f6a-1409-45ff-b530-981adf9d0770",
   "metadata": {},
   "outputs": [],
   "source": [
    "#inp_data2 = inp_data.rio.reproject_match(model_para)"
   ]
  },
  {
   "cell_type": "code",
   "execution_count": 221,
   "id": "85a6ab98-b139-42d7-8eb3-4a975ccc51b5",
   "metadata": {},
   "outputs": [
    {
     "data": {
      "text/plain": [
       "<matplotlib.collections.QuadMesh at 0x7b1f18cb0a50>"
      ]
     },
     "execution_count": 221,
     "metadata": {},
     "output_type": "execute_result"
    },
    {
     "data": {
      "image/png": "[encoded data removed]",
      "text/plain": [
       "<Figure size 1400x800 with 2 Axes>"
      ]
     },
     "metadata": {},
     "output_type": "display_data"
    }
   ],
   "source": [
    "plt.figure(figsize=(14,8))\n",
    "inp_data.sel(lat=slice(46.6,46.5), lon=slice(11,11.15)).plot(cmap=\"Greys\")\n",
    "model_para.sel(latitude=slice(46.6,46.5), longitude=slice(11,11.15)).plot(add_colorbar=False,alpha=0.6)"
   ]
  },
  {
   "cell_type": "code",
   "execution_count": 11,
   "id": "cf6e2c95-dcbf-41e6-9df9-c91aec838a57",
   "metadata": {},
   "outputs": [],
   "source": [
    "train_dataset = TilesDataset(xs = ds, \n",
    "            batch_size={\"xsize\":XSIZE,\"ysize\":YSIZE}, \n",
    "            overlap={\"xover\":XOVER, \"yover\":YOVER},\n",
    "            shape = ds.bd_sl1.shape,\n",
    "            mask = mask,\n",
    "            \n",
    "            persist=False)"
   ]
  },
  {
   "cell_type": "code",
   "execution_count": 152,
   "id": "8753858a-f893-4e36-b844-ab7a64f93041",
   "metadata": {},
   "outputs": [],
   "source": [
    "test_dataset = TilesDataset(xs = ds.soilthickness.to_dataset(name=\"soilthickness\"), \n",
    "            batch_size={\"xsize\":XSIZE,\"ysize\":YSIZE}, \n",
    "            overlap={\"xover\":XOVER, \"yover\":YOVER},\n",
    "            shape = ds.bd_sl1.shape,\n",
    "            mask = mask,\n",
    "            persist=False)"
   ]
  },
  {
   "cell_type": "code",
   "execution_count": null,
   "id": "6b418c43-9225-4446-a8ac-8f9e9530acf1",
   "metadata": {},
   "outputs": [],
   "source": [
    "len(test_dataset)"
   ]
  },
  {
   "cell_type": "code",
   "execution_count": null,
   "id": "9e4dfb11-8404-431f-9b12-993351f63581",
   "metadata": {},
   "outputs": [],
   "source": [
    "plt.imshow(test_dataset[2][0])"
   ]
  },
  {
   "cell_type": "code",
   "execution_count": 162,
   "id": "78c6496f-7045-4754-9a64-304b0739e513",
   "metadata": {},
   "outputs": [
    {
     "data": {
      "text/plain": [
       "((795, 981), 1)"
      ]
     },
     "execution_count": 162,
     "metadata": {},
     "output_type": "execute_result"
    }
   ],
   "source": [
    "ds.soilthickness.shape, "
   ]
  },
  {
   "cell_type": "code",
   "execution_count": 224,
   "id": "f7a62bbd-6226-489a-9a4b-2e5801d336cc",
   "metadata": {},
   "outputs": [],
   "source": [
    "## TODO: pooling layers or strides for hierarchical learning\n",
    "\n",
    "## TODO: soft constraints PTF\n",
    "\n",
    "## TODO: Disjoin spatial subset for training and testing\n",
    "\n",
    "## TODO: How to join with surrogate?\n",
    "\n",
    "## TODO: Can I build a custom pooling operator instead of maxpooling?"
   ]
  },
  {
   "cell_type": "code",
   "execution_count": 155,
   "id": "13ccf820-d210-4629-8a2e-cac5bfdfe7db",
   "metadata": {},
   "outputs": [],
   "source": [
    "import torch.nn.functional as F\n",
    "from torch.nn.modules.utils import _pair, _quadruple\n",
    "\n",
    "class MaxPool2d(torch.nn.Module):\n",
    "\n",
    "    def __init__(self, kernel_size=3, stride=1, padding=0):\n",
    "        super(MaxPool2d, self).__init__()\n",
    "        self.k = _pair(kernel_size)\n",
    "        self.stride = _pair(stride)\n",
    "        self.padding = _quadruple(padding)\n",
    "        self.fc = nn.Linear(kernel_size*kernel_size,kernel_size*kernel_size)\n",
    "    \n",
    "    def forward(self, x):\n",
    "        x = F.pad(x, self.padding, mode='reflect')\n",
    "        x = x.unfold(2, self.k[0], self.stride[0]).unfold(3, self.k[1], self.stride[1])\n",
    "        x = x.contiguous().view(x.size()[:4] + (-1,))\n",
    "        print(x.shape)\n",
    "        pool, indices = torch.max(x, dim=-1)\n",
    "        return pool.squeeze(-1)"
   ]
  },
  {
   "cell_type": "code",
   "execution_count": 122,
   "id": "9854f831-d126-411a-89ce-a619abacc286",
   "metadata": {},
   "outputs": [
    {
     "data": {
      "text/plain": [
       "torch.Size([1, 100, 48, 5])"
      ]
     },
     "execution_count": 122,
     "metadata": {},
     "output_type": "execute_result"
    }
   ],
   "source": [
    "test_dataset[400].unfold(2,5,2).shape"
   ]
  },
  {
   "cell_type": "code",
   "execution_count": 119,
   "id": "067b7940-9616-4c71-b968-8c7535704989",
   "metadata": {},
   "outputs": [
    {
     "data": {
      "text/plain": [
       "torch.Size([1, 100, 100])"
      ]
     },
     "execution_count": 119,
     "metadata": {},
     "output_type": "execute_result"
    }
   ],
   "source": [
    "nn.MaxPool2d(5,1,2)(test_dataset[400]).shape"
   ]
  },
  {
   "cell_type": "code",
   "execution_count": 92,
   "id": "916a92bc-86e4-4552-982c-130ee9ca3cb1",
   "metadata": {},
   "outputs": [
    {
     "name": "stdout",
     "output_type": "stream",
     "text": [
      "torch.Size([1, 100, 100])\n",
      "torch.Size([1, 102, 100, 1, 3])\n"
     ]
    },
    {
     "data": {
      "text/plain": [
       "torch.Size([1, 102, 100])"
      ]
     },
     "execution_count": 92,
     "metadata": {},
     "output_type": "execute_result"
    }
   ],
   "source": [
    "print(test_dataset[400].shape)\n",
    "_ = MaxPool2d(3,1,1)(test_dataset[400])\n",
    "_.shape"
   ]
  },
  {
   "cell_type": "code",
   "execution_count": 56,
   "id": "fa31d27f-1857-48c8-839b-45bcf27c12fb",
   "metadata": {},
   "outputs": [],
   "source": [
    "conv1 = nn.Conv2d(1, 1, kernel_size=3, padding=1)\n",
    "pool1 = nn.AdaptiveAvgPool2d((10,12))\n",
    "#pool1 = nn.AvgPool2d(kernel_size=3) #, padding=1)"
   ]
  },
  {
   "cell_type": "code",
   "execution_count": 57,
   "id": "a3593ef3-90d9-4df3-a309-75061960d57a",
   "metadata": {},
   "outputs": [
    {
     "data": {
      "text/plain": [
       "<matplotlib.colorbar.Colorbar at 0x7b1fb815f890>"
      ]
     },
     "execution_count": 57,
     "metadata": {},
     "output_type": "execute_result"
    },
    {
     "data": {
      "image/png": "[encoded data removed]",
      "text/plain": [
       "<Figure size 640x480 with 2 Axes>"
      ]
     },
     "metadata": {},
     "output_type": "display_data"
    }
   ],
   "source": [
    "plt.imshow(test_dataset[400][0])\n",
    "plt.colorbar()"
   ]
  },
  {
   "cell_type": "code",
   "execution_count": 125,
   "id": "fc03651d-b13c-406a-bd15-7cb9c347e135",
   "metadata": {},
   "outputs": [
    {
     "data": {
      "text/plain": [
       "<matplotlib.colorbar.Colorbar at 0x7b1f703dd590>"
      ]
     },
     "execution_count": 125,
     "metadata": {},
     "output_type": "execute_result"
    },
    {
     "data": {
      "image/png": "[encoded data removed]",
      "text/plain": [
       "<Figure size 640x480 with 2 Axes>"
      ]
     },
     "metadata": {},
     "output_type": "display_data"
    }
   ],
   "source": [
    "plt.imshow(pool1(test_dataset[400])[0].detach().numpy())\n",
    "plt.colorbar()"
   ]
  },
  {
   "cell_type": "code",
   "execution_count": 88,
   "id": "7dfcf681-e427-449e-9055-242ca8877d22",
   "metadata": {},
   "outputs": [],
   "source": [
    "class Encoder(nn.Module):\n",
    "    def __init__(self):\n",
    "        super(Encoder, self).__init__()\n",
    "        self.conv1 = nn.Conv2d(len(bands), 64, kernel_size=3, stride=5, padding=1)\n",
    "        self.conv2 = nn.Conv2d(64, 128, kernel_size=3, stride=5, padding=1)\n",
    "        self.fc1 = nn.Linear(128, 20)\n",
    "        self.fc21 = nn.Linear(20, 1)  # mu layer\n",
    "        self.fc22 = nn.Linear(20, 1)  # logvariance layer\n",
    "\n",
    "    def forward(self, x):\n",
    "        x = F.relu(self.conv1(x))\n",
    "        x = F.relu(self.conv2(x))\n",
    "        x = x.view(-1, 128)\n",
    "        x = F.relu(self.fc1(x))\n",
    "        return self.fc21(x), self.fc22(x)"
   ]
  },
  {
   "cell_type": "code",
   "execution_count": 92,
   "id": "8fba1197-2dc8-4bff-9ad1-454850880dfe",
   "metadata": {},
   "outputs": [],
   "source": [
    "encoder = Encoder()"
   ]
  },
  {
   "cell_type": "code",
   "execution_count": 123,
   "id": "cd90160d-ed36-4ba8-a7b1-a6a566e4f8b8",
   "metadata": {},
   "outputs": [],
   "source": [
    "class Surrogate(nn.Module):\n",
    "    def __init__(self):\n",
    "        pass\n",
    "    def forward(self,xd):\n",
    "        return xd"
   ]
  },
  {
   "cell_type": "code",
   "execution_count": 124,
   "id": "63dcbef0-d326-42b9-a690-7b9a966d1265",
   "metadata": {},
   "outputs": [],
   "source": [
    "model = Surrogate()"
   ]
  },
  {
   "cell_type": "code",
   "execution_count": 94,
   "id": "b23002cf-17e7-4e62-b1f8-c2ecbf60b410",
   "metadata": {},
   "outputs": [
    {
     "data": {
      "text/plain": [
       "<hython.datasets.datasets.TilesDataset at 0x7189a097a910>"
      ]
     },
     "execution_count": 94,
     "metadata": {},
     "output_type": "execute_result"
    }
   ],
   "source": []
  },
  {
   "cell_type": "code",
   "execution_count": 80,
   "id": "63bbaaca-8260-4349-a4f8-f4be6a6d39d2",
   "metadata": {},
   "outputs": [],
   "source": [
    "class Decoder(nn.Module):\n",
    "    def __init__(self):\n",
    "        super(Decoder, self).__init__()\n",
    "        self.fc3 = nn.Linear(20, 400)\n",
    "        self.fc4 = nn.Linear(400, 7*7*256)\n",
    "        self.conv2t = nn.ConvTranspose2d(256, 128, kernel_size=3, stride=1, padding=1, output_padding=1)\n",
    "        self.conv3t = nn.ConvTranspose2d(128, 64, kernel_size=3, stride=1, padding=1, output_padding=1)\n",
    "        self.conv4t = nn.ConvTranspose2d(64, len(bands), kernel_size=3, stride=1, padding=1, output_padding=1)\n",
    "\n",
    "    def forward(self, z):\n",
    "        x = F.relu(self.fc3(z))\n",
    "        x = F.relu(self.fc4(x)).view(-1, 256, 7, 7)\n",
    "        x = F.relu(self.conv2t(x))\n",
    "        x = F.relu(self.conv3t(x))\n",
    "        return torch.sigmoid(self.conv4t(x))"
   ]
  },
  {
   "cell_type": "code",
   "execution_count": 57,
   "id": "12958a92-4cb3-4f5f-8f74-dc70218ece0f",
   "metadata": {},
   "outputs": [],
   "source": [
    "class CVAE(nn.Module):\n",
    "    def __init__(self):\n",
    "        super(CVAE, self).__init__()\n",
    "        self.encoder = Encoder()\n",
    "        self.decoder = Decoder()\n",
    "\n",
    "    def reparameterize(self, mu, logvar):\n",
    "        std = torch.exp(0.5*logvar)\n",
    "        eps = torch.randn_like(std)\n",
    "        return mu + eps*std\n",
    "\n",
    "    def forward(self, x):\n",
    "        mu, logvar = self.encoder(x)\n",
    "        z = self.reparameterize(mu, logvar)\n",
    "        return self.decoder(z), mu, logvar"
   ]
  },
  {
   "cell_type": "code",
   "execution_count": 58,
   "id": "962d8923-96b5-4815-965f-f667cb904c6e",
   "metadata": {},
   "outputs": [],
   "source": [
    "def loss_function(recon_x, x, mu, logvar):\n",
    "    BCE = F.binary_cross_entropy(recon_x, x, reduction='sum')\n",
    "    KLD = -0.5 * torch.sum(1 + logvar - mu.pow(2) - logvar.exp())\n",
    "    return BCE + KLD"
   ]
  },
  {
   "cell_type": "code",
   "execution_count": 59,
   "id": "2585219e-c272-42a5-86e8-4beee64eb13e",
   "metadata": {},
   "outputs": [
    {
     "ename": "RuntimeError",
     "evalue": "shape '[-1, 6272]' is invalid for input of size 1280000",
     "output_type": "error",
     "traceback": [
      "\u001b[0;31m---------------------------------------------------------------------------\u001b[0m",
      "\u001b[0;31mRuntimeError\u001b[0m                              Traceback (most recent call last)",
      "Cell \u001b[0;32mIn[59], line 14\u001b[0m\n\u001b[1;32m     11\u001b[0m images \u001b[38;5;241m=\u001b[39m images\u001b[38;5;241m.\u001b[39mto(\u001b[38;5;124m'\u001b[39m\u001b[38;5;124mcuda\u001b[39m\u001b[38;5;124m'\u001b[39m) \u001b[38;5;28;01mif\u001b[39;00m torch\u001b[38;5;241m.\u001b[39mcuda\u001b[38;5;241m.\u001b[39mis_available() \u001b[38;5;28;01melse\u001b[39;00m images\n\u001b[1;32m     12\u001b[0m optimizer\u001b[38;5;241m.\u001b[39mzero_grad()\n\u001b[0;32m---> 14\u001b[0m recon_batch, mu, logvar \u001b[38;5;241m=\u001b[39m \u001b[43mcvae\u001b[49m\u001b[43m(\u001b[49m\u001b[43mimages\u001b[49m\u001b[43m)\u001b[49m\n\u001b[1;32m     15\u001b[0m loss \u001b[38;5;241m=\u001b[39m loss_function(recon_batch, images, mu, logvar)\n\u001b[1;32m     17\u001b[0m loss\u001b[38;5;241m.\u001b[39mbackward()\n",
      "File \u001b[0;32m~/.local/miniforge/envs/emulator/lib/python3.11/site-packages/torch/nn/modules/module.py:1518\u001b[0m, in \u001b[0;36mModule._wrapped_call_impl\u001b[0;34m(self, *args, **kwargs)\u001b[0m\n\u001b[1;32m   1516\u001b[0m     \u001b[38;5;28;01mreturn\u001b[39;00m \u001b[38;5;28mself\u001b[39m\u001b[38;5;241m.\u001b[39m_compiled_call_impl(\u001b[38;5;241m*\u001b[39margs, \u001b[38;5;241m*\u001b[39m\u001b[38;5;241m*\u001b[39mkwargs)  \u001b[38;5;66;03m# type: ignore[misc]\u001b[39;00m\n\u001b[1;32m   1517\u001b[0m \u001b[38;5;28;01melse\u001b[39;00m:\n\u001b[0;32m-> 1518\u001b[0m     \u001b[38;5;28;01mreturn\u001b[39;00m \u001b[38;5;28;43mself\u001b[39;49m\u001b[38;5;241;43m.\u001b[39;49m\u001b[43m_call_impl\u001b[49m\u001b[43m(\u001b[49m\u001b[38;5;241;43m*\u001b[39;49m\u001b[43margs\u001b[49m\u001b[43m,\u001b[49m\u001b[43m \u001b[49m\u001b[38;5;241;43m*\u001b[39;49m\u001b[38;5;241;43m*\u001b[39;49m\u001b[43mkwargs\u001b[49m\u001b[43m)\u001b[49m\n",
      "File \u001b[0;32m~/.local/miniforge/envs/emulator/lib/python3.11/site-packages/torch/nn/modules/module.py:1527\u001b[0m, in \u001b[0;36mModule._call_impl\u001b[0;34m(self, *args, **kwargs)\u001b[0m\n\u001b[1;32m   1522\u001b[0m \u001b[38;5;66;03m# If we don't have any hooks, we want to skip the rest of the logic in\u001b[39;00m\n\u001b[1;32m   1523\u001b[0m \u001b[38;5;66;03m# this function, and just call forward.\u001b[39;00m\n\u001b[1;32m   1524\u001b[0m \u001b[38;5;28;01mif\u001b[39;00m \u001b[38;5;129;01mnot\u001b[39;00m (\u001b[38;5;28mself\u001b[39m\u001b[38;5;241m.\u001b[39m_backward_hooks \u001b[38;5;129;01mor\u001b[39;00m \u001b[38;5;28mself\u001b[39m\u001b[38;5;241m.\u001b[39m_backward_pre_hooks \u001b[38;5;129;01mor\u001b[39;00m \u001b[38;5;28mself\u001b[39m\u001b[38;5;241m.\u001b[39m_forward_hooks \u001b[38;5;129;01mor\u001b[39;00m \u001b[38;5;28mself\u001b[39m\u001b[38;5;241m.\u001b[39m_forward_pre_hooks\n\u001b[1;32m   1525\u001b[0m         \u001b[38;5;129;01mor\u001b[39;00m _global_backward_pre_hooks \u001b[38;5;129;01mor\u001b[39;00m _global_backward_hooks\n\u001b[1;32m   1526\u001b[0m         \u001b[38;5;129;01mor\u001b[39;00m _global_forward_hooks \u001b[38;5;129;01mor\u001b[39;00m _global_forward_pre_hooks):\n\u001b[0;32m-> 1527\u001b[0m     \u001b[38;5;28;01mreturn\u001b[39;00m \u001b[43mforward_call\u001b[49m\u001b[43m(\u001b[49m\u001b[38;5;241;43m*\u001b[39;49m\u001b[43margs\u001b[49m\u001b[43m,\u001b[49m\u001b[43m \u001b[49m\u001b[38;5;241;43m*\u001b[39;49m\u001b[38;5;241;43m*\u001b[39;49m\u001b[43mkwargs\u001b[49m\u001b[43m)\u001b[49m\n\u001b[1;32m   1529\u001b[0m \u001b[38;5;28;01mtry\u001b[39;00m:\n\u001b[1;32m   1530\u001b[0m     result \u001b[38;5;241m=\u001b[39m \u001b[38;5;28;01mNone\u001b[39;00m\n",
      "Cell \u001b[0;32mIn[57], line 13\u001b[0m, in \u001b[0;36mCVAE.forward\u001b[0;34m(self, x)\u001b[0m\n\u001b[1;32m     12\u001b[0m \u001b[38;5;28;01mdef\u001b[39;00m \u001b[38;5;21mforward\u001b[39m(\u001b[38;5;28mself\u001b[39m, x):\n\u001b[0;32m---> 13\u001b[0m     mu, logvar \u001b[38;5;241m=\u001b[39m \u001b[38;5;28;43mself\u001b[39;49m\u001b[38;5;241;43m.\u001b[39;49m\u001b[43mencoder\u001b[49m\u001b[43m(\u001b[49m\u001b[43mx\u001b[49m\u001b[43m)\u001b[49m\n\u001b[1;32m     14\u001b[0m     z \u001b[38;5;241m=\u001b[39m \u001b[38;5;28mself\u001b[39m\u001b[38;5;241m.\u001b[39mreparameterize(mu, logvar)\n\u001b[1;32m     15\u001b[0m     \u001b[38;5;28;01mreturn\u001b[39;00m \u001b[38;5;28mself\u001b[39m\u001b[38;5;241m.\u001b[39mdecoder(z), mu, logvar\n",
      "File \u001b[0;32m~/.local/miniforge/envs/emulator/lib/python3.11/site-packages/torch/nn/modules/module.py:1518\u001b[0m, in \u001b[0;36mModule._wrapped_call_impl\u001b[0;34m(self, *args, **kwargs)\u001b[0m\n\u001b[1;32m   1516\u001b[0m     \u001b[38;5;28;01mreturn\u001b[39;00m \u001b[38;5;28mself\u001b[39m\u001b[38;5;241m.\u001b[39m_compiled_call_impl(\u001b[38;5;241m*\u001b[39margs, \u001b[38;5;241m*\u001b[39m\u001b[38;5;241m*\u001b[39mkwargs)  \u001b[38;5;66;03m# type: ignore[misc]\u001b[39;00m\n\u001b[1;32m   1517\u001b[0m \u001b[38;5;28;01melse\u001b[39;00m:\n\u001b[0;32m-> 1518\u001b[0m     \u001b[38;5;28;01mreturn\u001b[39;00m \u001b[38;5;28;43mself\u001b[39;49m\u001b[38;5;241;43m.\u001b[39;49m\u001b[43m_call_impl\u001b[49m\u001b[43m(\u001b[49m\u001b[38;5;241;43m*\u001b[39;49m\u001b[43margs\u001b[49m\u001b[43m,\u001b[49m\u001b[43m \u001b[49m\u001b[38;5;241;43m*\u001b[39;49m\u001b[38;5;241;43m*\u001b[39;49m\u001b[43mkwargs\u001b[49m\u001b[43m)\u001b[49m\n",
      "File \u001b[0;32m~/.local/miniforge/envs/emulator/lib/python3.11/site-packages/torch/nn/modules/module.py:1527\u001b[0m, in \u001b[0;36mModule._call_impl\u001b[0;34m(self, *args, **kwargs)\u001b[0m\n\u001b[1;32m   1522\u001b[0m \u001b[38;5;66;03m# If we don't have any hooks, we want to skip the rest of the logic in\u001b[39;00m\n\u001b[1;32m   1523\u001b[0m \u001b[38;5;66;03m# this function, and just call forward.\u001b[39;00m\n\u001b[1;32m   1524\u001b[0m \u001b[38;5;28;01mif\u001b[39;00m \u001b[38;5;129;01mnot\u001b[39;00m (\u001b[38;5;28mself\u001b[39m\u001b[38;5;241m.\u001b[39m_backward_hooks \u001b[38;5;129;01mor\u001b[39;00m \u001b[38;5;28mself\u001b[39m\u001b[38;5;241m.\u001b[39m_backward_pre_hooks \u001b[38;5;129;01mor\u001b[39;00m \u001b[38;5;28mself\u001b[39m\u001b[38;5;241m.\u001b[39m_forward_hooks \u001b[38;5;129;01mor\u001b[39;00m \u001b[38;5;28mself\u001b[39m\u001b[38;5;241m.\u001b[39m_forward_pre_hooks\n\u001b[1;32m   1525\u001b[0m         \u001b[38;5;129;01mor\u001b[39;00m _global_backward_pre_hooks \u001b[38;5;129;01mor\u001b[39;00m _global_backward_hooks\n\u001b[1;32m   1526\u001b[0m         \u001b[38;5;129;01mor\u001b[39;00m _global_forward_hooks \u001b[38;5;129;01mor\u001b[39;00m _global_forward_pre_hooks):\n\u001b[0;32m-> 1527\u001b[0m     \u001b[38;5;28;01mreturn\u001b[39;00m \u001b[43mforward_call\u001b[49m\u001b[43m(\u001b[49m\u001b[38;5;241;43m*\u001b[39;49m\u001b[43margs\u001b[49m\u001b[43m,\u001b[49m\u001b[43m \u001b[49m\u001b[38;5;241;43m*\u001b[39;49m\u001b[38;5;241;43m*\u001b[39;49m\u001b[43mkwargs\u001b[49m\u001b[43m)\u001b[49m\n\u001b[1;32m   1529\u001b[0m \u001b[38;5;28;01mtry\u001b[39;00m:\n\u001b[1;32m   1530\u001b[0m     result \u001b[38;5;241m=\u001b[39m \u001b[38;5;28;01mNone\u001b[39;00m\n",
      "Cell \u001b[0;32mIn[55], line 13\u001b[0m, in \u001b[0;36mEncoder.forward\u001b[0;34m(self, x)\u001b[0m\n\u001b[1;32m     11\u001b[0m x \u001b[38;5;241m=\u001b[39m F\u001b[38;5;241m.\u001b[39mrelu(\u001b[38;5;28mself\u001b[39m\u001b[38;5;241m.\u001b[39mconv1(x))\n\u001b[1;32m     12\u001b[0m x \u001b[38;5;241m=\u001b[39m F\u001b[38;5;241m.\u001b[39mrelu(\u001b[38;5;28mself\u001b[39m\u001b[38;5;241m.\u001b[39mconv2(x))\n\u001b[0;32m---> 13\u001b[0m x \u001b[38;5;241m=\u001b[39m \u001b[43mx\u001b[49m\u001b[38;5;241;43m.\u001b[39;49m\u001b[43mview\u001b[49m\u001b[43m(\u001b[49m\u001b[38;5;241;43m-\u001b[39;49m\u001b[38;5;241;43m1\u001b[39;49m\u001b[43m,\u001b[49m\u001b[43m \u001b[49m\u001b[38;5;241;43m7\u001b[39;49m\u001b[38;5;241;43m*\u001b[39;49m\u001b[38;5;241;43m7\u001b[39;49m\u001b[38;5;241;43m*\u001b[39;49m\u001b[38;5;241;43m128\u001b[39;49m\u001b[43m)\u001b[49m\n\u001b[1;32m     14\u001b[0m x \u001b[38;5;241m=\u001b[39m F\u001b[38;5;241m.\u001b[39mrelu(\u001b[38;5;28mself\u001b[39m\u001b[38;5;241m.\u001b[39mfc1(x))\n\u001b[1;32m     15\u001b[0m \u001b[38;5;28;01mreturn\u001b[39;00m \u001b[38;5;28mself\u001b[39m\u001b[38;5;241m.\u001b[39mfc21(x), \u001b[38;5;28mself\u001b[39m\u001b[38;5;241m.\u001b[39mfc22(x)\n",
      "\u001b[0;31mRuntimeError\u001b[0m: shape '[-1, 6272]' is invalid for input of size 1280000"
     ]
    }
   ],
   "source": [
    "batch_size = 16\n",
    "\n",
    "train_loader = DataLoader(train_dataset, batch_size=batch_size, shuffle=True)\n",
    "test_loader = DataLoader(test_dataset, batch_size=batch_size, shuffle=False)\n",
    "\n",
    "cvae = CVAE().to('cuda') if torch.cuda.is_available() else CVAE()\n",
    "optimizer = torch.optim.Adam(cvae.parameters(), lr=1e-3)\n",
    "\n",
    "for epoch in range(10):\n",
    "    for i, images in enumerate(train_loader):\n",
    "        images = images.to('cuda') if torch.cuda.is_available() else images\n",
    "        optimizer.zero_grad()\n",
    "        \n",
    "        recon_batch, mu, logvar = cvae(images)\n",
    "        loss = loss_function(recon_batch, images, mu, logvar)\n",
    "        \n",
    "        loss.backward()\n",
    "        optimizer.step()\n",
    "\n",
    "        if i == 0:\n",
    "            print(f'Epoch [{epoch+1}/{num_epochs}], Loss: {loss.item()}')"
   ]
  },
  {
   "cell_type": "code",
   "execution_count": null,
   "id": "7d31886e-766b-48fa-b139-cb01ec0a0750",
   "metadata": {},
   "outputs": [],
   "source": []
  }
 ],
 "metadata": {
  "kernelspec": {
   "display_name": "emulator",
   "language": "python",
   "name": "emulator"
  },
  "language_info": {
   "codemirror_mode": {
    "name": "ipython",
    "version": 3
   },
   "file_extension": ".py",
   "mimetype": "text/x-python",
   "name": "python",
   "nbconvert_exporter": "python",
   "pygments_lexer": "ipython3",
   "version": "3.11.6"
  }
 },
 "nbformat": 4,
 "nbformat_minor": 5
}
