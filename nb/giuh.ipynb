{
 "cells": [
  {
   "cell_type": "markdown",
   "id": "913afcd2-a55e-4804-adf4-699a3f3a660a",
   "metadata": {
    "tags": []
   },
   "source": [
    "# Train"
   ]
  },
  {
   "cell_type": "code",
   "execution_count": 1,
   "id": "ed6a0ce1-163e-40ac-9e7e-e6d5f364bd84",
   "metadata": {
    "tags": []
   },
   "outputs": [],
   "source": [
    "%load_ext autoreload\n",
    "%autoreload "
   ]
  },
  {
   "cell_type": "code",
   "execution_count": 2,
   "id": "905ded3e-309a-4267-9a07-937d72429971",
   "metadata": {
    "tags": []
   },
   "outputs": [
    {
     "name": "stderr",
     "output_type": "stream",
     "text": [
      "/home/iferrario/.local/miniforge/envs/emulator/lib/python3.11/site-packages/tqdm/auto.py:21: TqdmWarning: IProgress not found. Please update jupyter and ipywidgets. See https://ipywidgets.readthedocs.io/en/stable/user_install.html\n",
      "  from .autonotebook import tqdm as notebook_tqdm\n",
      "ERROR 1: PROJ: proj_create_from_database: Open of /home/iferrario/.local/miniforge/envs/emulator/share/proj failed\n"
     ]
    }
   ],
   "source": [
    "import torch\n",
    "from torch import nn\n",
    "import numpy as np\n",
    "import xarray as xr\n",
    "from pathlib import Path\n",
    "import os\n",
    "import random\n",
    "\n",
    "import dask\n",
    "from torch import nn\n",
    "\n",
    "from hython.datasets.datasets import LSTMDataset, get_dataset\n",
    "from hython.trainer import train_val\n",
    "from hython.sampler import SamplerBuilder, RegularIntervalDownsampler\n",
    "from hython.metrics import MSEMetric\n",
    "from hython.losses import RMSELoss\n",
    "from hython.utils import read_from_zarr, set_seed\n",
    "\n",
    "from hython.trainer import RNNTrainParams, RNNTrainer, SimpleHydroTrainer\n",
    "from hython.normalizer import Normalizer\n",
    "\n",
    "\n",
    "import torch.optim as optim\n",
    "from torch.optim.lr_scheduler import ReduceLROnPlateau\n",
    "from torch.utils.data import DataLoader, Dataset\n",
    "\n",
    "# viz\n",
    "import matplotlib.pyplot as plt\n",
    "from hython.viz import plot_sampler"
   ]
  },
  {
   "cell_type": "markdown",
   "id": "22a78cf5-bd72-4a3d-bd18-ce49d0e8fdee",
   "metadata": {
    "tags": []
   },
   "source": [
    "# Settings"
   ]
  },
  {
   "cell_type": "code",
   "execution_count": 3,
   "id": "f3186025-caa2-429f-88da-8c9c6b23c292",
   "metadata": {
    "tags": []
   },
   "outputs": [],
   "source": [
    "# PARAMETERS \n",
    "\n",
    "EXPERIMENT  = \"test\"\n",
    "\n",
    "SURROGATE_INPUT = \"https://eurac-eo.s3.amazonaws.com/INTERTWIN/SURROGATE_INPUT/adg1km_eobs_preprocessed.zarr/\"\n",
    "\n",
    "SURROGATE_MODEL_OUTPUT = f\"/mnt/CEPH_PROJECTS/InterTwin/hydrologic_data/surrogate_model/{EXPERIMENT}.pt\"\n",
    "TMP_STATS = \"/mnt/CEPH_PROJECTS/InterTwin/hydrologic_data/surrogate_stats\"\n",
    "\n",
    "\n",
    "# === FILTER ==============================================================\n",
    "\n",
    "# train/test temporal range\n",
    "train_temporal_range = slice(\"2016-01-01\",\"2018-12-31\")\n",
    "test_temporal_range = slice(\"2019-01-01\", \"2020-12-31\")\n",
    "\n",
    "dynamic_names = [\"precip\", \"pet\", \"temp\"] \n",
    "\n",
    "static_names = [ 'thetaS', 'thetaR', 'RootingDepth', 'Swood','KsatVer', \"Sl\"] \n",
    "\n",
    "giuh_names = ['hand', 'distance_to_outlet', 'ldd', 'slope']\n",
    "\n",
    "target_names = [ \"vwc\",\"actevap\"]\n",
    "\n",
    " \n",
    "\n",
    "# === MASK ========================================================================================\n",
    "\n",
    "mask_names = [\"mask_missing\", \"mask_lake\"] # names depends on preprocessing application\n",
    "\n",
    "# === DATASET ========================================================================================\n",
    "\n",
    "DATASET = \"LSTMDataset\"\n",
    "\n",
    "# == MODEL  ========================================================================================\n",
    "\n",
    "# DL model hyper parameters\n",
    "HIDDEN_SIZE = 24\n",
    "DYNAMIC_INPUT_SIZE = len(dynamic_names)\n",
    "STATIC_INPUT_SIZE = len(static_names)\n",
    "OUTPUT_SIZE = len(target_names)\n",
    "TARGET_WEIGHTS = {t:0.5 for t in target_names}\n",
    "\n",
    "# === SAMPLER/TRAINER ===================================================================================\n",
    "\n",
    "DOWNSAMPLING = False\n",
    "\n",
    "SEED = 1696\n",
    "EPOCHS = 50\n",
    "BATCH = 256\n",
    "\n",
    "TEMPORAL_SUBSAMPLING = True\n",
    "TEMPORAL_SUBSET = [150, 150] \n",
    "SEQ_LENGTH = 120\n",
    "\n",
    "assert sum(v for v in TARGET_WEIGHTS.values()) == 1, \"check target weights\"\n",
    "\n"
   ]
  },
  {
   "cell_type": "code",
   "execution_count": 4,
   "id": "7c67bf4f-55e3-46fc-927b-72711d831f0f",
   "metadata": {
    "tags": []
   },
   "outputs": [],
   "source": [
    "set_seed(SEED)\n",
    "device = torch.device(\"cuda:0\" if torch.cuda.is_available() else \"cpu\")"
   ]
  },
  {
   "cell_type": "code",
   "execution_count": 5,
   "id": "9e6e528c-6196-423e-8c21-bc914cfd3dec",
   "metadata": {
    "tags": []
   },
   "outputs": [],
   "source": [
    "# === READ TRAIN ===================================================================\n",
    "Xd = (\n",
    "    read_from_zarr(url=SURROGATE_INPUT , group=\"xd\", multi_index=\"gridcell\")\n",
    "    .sel(time=train_temporal_range)\n",
    "    .xd.sel(feat=dynamic_names)\n",
    ")\n",
    "Xs = read_from_zarr(url=SURROGATE_INPUT , group=\"xs\", multi_index=\"gridcell\").xs.sel(\n",
    "    feat=static_names\n",
    ")\n",
    "Y = (\n",
    "    read_from_zarr(url=SURROGATE_INPUT , group=\"y\", multi_index=\"gridcell\")\n",
    "    .sel(time=train_temporal_range)\n",
    "    .y.sel(feat=target_names)\n",
    ")\n",
    "\n",
    "SHAPE = Xd.attrs[\"shape\"]\n",
    "\n",
    "# === READ TEST ===================================================================\n",
    "\n",
    "Y_test = (\n",
    "    read_from_zarr(url=SURROGATE_INPUT , group=\"y\", multi_index=\"gridcell\")\n",
    "    .sel(time=test_temporal_range)\n",
    "    .y.sel(feat=target_names)\n",
    ")\n",
    "Xd_test = (\n",
    "    read_from_zarr(url=SURROGATE_INPUT , group=\"xd\", multi_index=\"gridcell\")\n",
    "    .sel(time=test_temporal_range)\n",
    "    .xd.sel(feat=dynamic_names)\n",
    ")"
   ]
  },
  {
   "cell_type": "code",
   "execution_count": 6,
   "id": "c6ed190a-3743-45d0-a941-3975b13910ce",
   "metadata": {
    "tags": []
   },
   "outputs": [],
   "source": [
    "masks = (\n",
    "    read_from_zarr(url=SURROGATE_INPUT, group=\"mask\")\n",
    "    .mask.sel(mask_layer=mask_names)\n",
    "    .any(dim=\"mask_layer\")\n",
    ")"
   ]
  },
  {
   "cell_type": "code",
   "execution_count": 7,
   "id": "4edc1ebd-220b-46eb-b88b-b451d34ed330",
   "metadata": {
    "tags": []
   },
   "outputs": [],
   "source": [
    "if DOWNSAMPLING:\n",
    "   train_downsampler = RegularIntervalDownsampler(\n",
    "        intervals=[3,3], origin=[0,0]\n",
    "    )       \n",
    "   test_downsampler = RegularIntervalDownsampler(\n",
    "        intervals=[3,3], origin=[2,2]\n",
    "    )\n",
    "else:\n",
    "    train_downsampler,test_downsampler = None,None"
   ]
  },
  {
   "cell_type": "code",
   "execution_count": 8,
   "id": "7b8b1023-e04f-4ccd-b5ac-ef680bb7a141",
   "metadata": {
    "tags": []
   },
   "outputs": [],
   "source": [
    "# === NORMALIZE ======================================================================\n",
    "\n",
    "normalizer_dynamic = Normalizer(method=\"standardize\", type=\"spacetime\", axis_order = \"NTC\", save_stats= f\"{TMP_STATS}/{EXPERIMENT}_xd.npy\")\n",
    "normalizer_static = Normalizer(method=\"standardize\", type=\"space\", axis_order = \"NTC\", save_stats= f\"{TMP_STATS}/{EXPERIMENT}_xs.npy\")\n",
    "normalizer_target = Normalizer(method=\"standardize\", type=\"spacetime\", axis_order = \"NTC\", save_stats= f\"{TMP_STATS}/{EXPERIMENT}_y.npy\")\n"
   ]
  },
  {
   "cell_type": "code",
   "execution_count": 9,
   "id": "63e18fb2-5f2d-49a6-b45d-ebc1c5ec0b01",
   "metadata": {
    "tags": []
   },
   "outputs": [
    {
     "name": "stdout",
     "output_type": "stream",
     "text": [
      "[    0     1     2 ... 40137 40138 40139]\n",
      "compute stats\n",
      "write stats to /mnt/CEPH_PROJECTS/InterTwin/hydrologic_data/surrogate_stats/test_xd.npy\n",
      "compute stats\n",
      "write stats to /mnt/CEPH_PROJECTS/InterTwin/hydrologic_data/surrogate_stats/test_xs.npy\n",
      "compute stats\n",
      "write stats to /mnt/CEPH_PROJECTS/InterTwin/hydrologic_data/surrogate_stats/test_y.npy\n",
      "[    0     1     2 ... 40137 40138 40139]\n"
     ]
    }
   ],
   "source": [
    "# === DATSET =======================================================================\n",
    "\n",
    "train_dataset = get_dataset(DATASET)(\n",
    "        Xd,\n",
    "        Y,\n",
    "        Xs,\n",
    "        original_domain_shape=SHAPE,\n",
    "        mask = masks,\n",
    "        downsampler = train_downsampler,\n",
    "        normalizer_dynamic = normalizer_dynamic,\n",
    "        normalizer_static = normalizer_static,\n",
    "        normalizer_target = normalizer_target\n",
    ")\n",
    "test_dataset = get_dataset(DATASET)(\n",
    "        Xd_test,\n",
    "        Y_test,\n",
    "        Xs,\n",
    "        original_domain_shape=SHAPE,\n",
    "        mask = masks,\n",
    "        downsampler = test_downsampler,\n",
    "        normalizer_dynamic = normalizer_dynamic,\n",
    "        normalizer_static = normalizer_static,\n",
    "        normalizer_target = normalizer_target\n",
    ")"
   ]
  },
  {
   "cell_type": "code",
   "execution_count": 10,
   "id": "f40a8446-9572-45f5-8c70-7b194755772b",
   "metadata": {
    "tags": []
   },
   "outputs": [],
   "source": [
    "# === SAMPLER ===================================================================\n",
    "\n",
    "\n",
    "train_sampler_builder = SamplerBuilder(\n",
    "    train_dataset,\n",
    "    sampling=\"random\", \n",
    "    processing=\"single-gpu\")\n",
    "\n",
    "test_sampler_builder = SamplerBuilder(\n",
    "    test_dataset,\n",
    "    sampling=\"sequential\", \n",
    "    processing=\"single-gpu\")\n",
    "\n",
    "\n",
    "train_sampler = train_sampler_builder.get_sampler()\n",
    "test_sampler = test_sampler_builder.get_sampler()"
   ]
  },
  {
   "cell_type": "code",
   "execution_count": 11,
   "id": "8cbcec87-3c6d-44aa-bf67-caa5533bab78",
   "metadata": {
    "tags": []
   },
   "outputs": [],
   "source": [
    "# === DATA LOADER ================================================================\n",
    "\n",
    "train_loader = DataLoader(train_dataset, batch_size=BATCH , sampler=train_sampler)\n",
    "test_loader = DataLoader(test_dataset, batch_size=BATCH , sampler=test_sampler)"
   ]
  },
  {
   "cell_type": "code",
   "execution_count": 12,
   "id": "08d6f70c-707d-4167-bc6d-e27aa7a25b25",
   "metadata": {},
   "outputs": [],
   "source": [
    "from hython.models.cudnnLSTM import LSTMCell, LandSurfaceModel, GIUH\n",
    "from hython.trainer import RNNTrainParams, SimpleHydroTrainer"
   ]
  },
  {
   "cell_type": "code",
   "execution_count": 13,
   "id": "fa650b6f-7bb2-4754-afe5-fe3aecfbe6b9",
   "metadata": {},
   "outputs": [],
   "source": [
    "# Land Surface Model\n",
    "\n",
    "land_surface_modules = nn.ModuleDict(\n",
    "    {\n",
    "        \"vwc\":LSTMCell( HIDDEN_SIZE, 3, 6, 1),\n",
    "        \"actevap\":LSTMCell( HIDDEN_SIZE, 3, 6, 1)\n",
    "    }\n",
    ")\n",
    "\n",
    "\n",
    "model = LandSurfaceModel(\n",
    "                land_surface_modules, \n",
    "                HIDDEN_SIZE*2, # sum of all variables hidden size \n",
    "                 2 # variables\n",
    "        )\n",
    "\n"
   ]
  },
  {
   "cell_type": "code",
   "execution_count": 14,
   "id": "8e760b1e-9ae5-4573-838d-cde087942ec9",
   "metadata": {},
   "outputs": [
    {
     "ename": "NameError",
     "evalue": "name 'giuh_hidden_size' is not defined",
     "output_type": "error",
     "traceback": [
      "\u001b[0;31m---------------------------------------------------------------------------\u001b[0m",
      "\u001b[0;31mNameError\u001b[0m                                 Traceback (most recent call last)",
      "Cell \u001b[0;32mIn[14], line 4\u001b[0m\n\u001b[1;32m      1\u001b[0m \u001b[38;5;66;03m# GIUH \u001b[39;00m\n\u001b[1;32m      3\u001b[0m model_giuh \u001b[38;5;241m=\u001b[39m GIUH(\n\u001b[0;32m----> 4\u001b[0m      hidden_size \u001b[38;5;241m=\u001b[39m \u001b[43mgiuh_hidden_size\u001b[49m,\n\u001b[1;32m      5\u001b[0m      dynamic_input_size \u001b[38;5;241m=\u001b[39m giuh_dynamic_input_size, \u001b[38;5;66;03m# forcing + state_and_flux\u001b[39;00m\n\u001b[1;32m      6\u001b[0m      static_input_size \u001b[38;5;241m=\u001b[39m giuh_static_input_size, \n\u001b[1;32m      7\u001b[0m      output_size \u001b[38;5;241m=\u001b[39m giuh_output_size\n\u001b[1;32m      8\u001b[0m         )\n",
      "\u001b[0;31mNameError\u001b[0m: name 'giuh_hidden_size' is not defined"
     ]
    }
   ],
   "source": [
    "# GIUH \n",
    "\n",
    "model_giuh = GIUH(\n",
    "     hidden_size = giuh_hidden_size,\n",
    "     dynamic_input_size = giuh_dynamic_input_size, # forcing + state_and_flux\n",
    "     static_input_size = giuh_static_input_size, \n",
    "     output_size = giuh_output_size\n",
    "        )"
   ]
  },
  {
   "cell_type": "code",
   "execution_count": null,
   "id": "fb3d823c-0c95-4d86-9446-ec1b92241016",
   "metadata": {},
   "outputs": [],
   "source": [
    "# the dataloader should not have only the effective parameters but also the static ones for the GIUH"
   ]
  },
  {
   "cell_type": "code",
   "execution_count": 15,
   "id": "532a7e5a-7e32-4f36-844a-15c7189cfd8c",
   "metadata": {
    "tags": []
   },
   "outputs": [],
   "source": [
    "model.to(device)\n",
    "opt = optim.Adam(model.parameters(), lr=1e-3)\n",
    "lr_scheduler = ReduceLROnPlateau(opt, mode=\"min\", factor=0.5, patience=10)"
   ]
  },
  {
   "cell_type": "code",
   "execution_count": 16,
   "id": "d93d5c06-721f-4c86-b32a-c50d7e371418",
   "metadata": {
    "tags": []
   },
   "outputs": [],
   "source": [
    "loss_fn = RMSELoss(target_weight=TARGET_WEIGHTS)\n",
    "metric_fn = MSEMetric(target_names=target_names)"
   ]
  },
  {
   "cell_type": "code",
   "execution_count": 17,
   "id": "9b345f49-99a2-48ef-967c-f897678c7bbf",
   "metadata": {
    "tags": []
   },
   "outputs": [
    {
     "name": "stdout",
     "output_type": "stream",
     "text": [
      "<hython.trainer.RNNTrainParams object at 0x7d0f8021df10>\n"
     ]
    }
   ],
   "source": [
    "trainer = RNNTrainer(\n",
    "    RNNTrainParams(\n",
    "               experiment=EXPERIMENT, \n",
    "               temporal_subsampling=TEMPORAL_SUBSAMPLING, \n",
    "               temporal_subset=TEMPORAL_SUBSET, \n",
    "               seq_length=SEQ_LENGTH, \n",
    "               target_names=target_names,\n",
    "               metric_func=metric_fn,\n",
    "               loss_func=loss_fn)\n",
    ")"
   ]
  },
  {
   "cell_type": "code",
   "execution_count": null,
   "id": "bcbf45a6-b7fb-4979-a4b5-e7a9348ccd29",
   "metadata": {
    "tags": []
   },
   "outputs": [
    {
     "name": "stderr",
     "output_type": "stream",
     "text": [
      "  2%|█▉                                                                                               | 1/50 [01:03<51:35, 63.16s/it]"
     ]
    },
    {
     "name": "stdout",
     "output_type": "stream",
     "text": [
      "save weights to: /mnt/CEPH_PROJECTS/InterTwin/hydrologic_data/surrogate_model/test.pt\n",
      "Copied best model weights!\n",
      "train loss: 0.13192692399024963\n",
      "val loss: 0.14283297955989838\n"
     ]
    },
    {
     "name": "stderr",
     "output_type": "stream",
     "text": [
      "  4%|███▉                                                                                             | 2/50 [02:07<50:56, 63.68s/it]"
     ]
    },
    {
     "name": "stdout",
     "output_type": "stream",
     "text": [
      "train loss: 0.1006297916173935\n",
      "val loss: 0.15121707320213318\n"
     ]
    },
    {
     "name": "stderr",
     "output_type": "stream",
     "text": [
      "  6%|█████▊                                                                                           | 3/50 [03:08<49:07, 62.72s/it]"
     ]
    },
    {
     "name": "stdout",
     "output_type": "stream",
     "text": [
      "save weights to: /mnt/CEPH_PROJECTS/InterTwin/hydrologic_data/surrogate_model/test.pt\n",
      "Copied best model weights!\n",
      "train loss: 0.10075044631958008\n",
      "val loss: 0.14019303023815155\n"
     ]
    },
    {
     "name": "stderr",
     "output_type": "stream",
     "text": [
      "  8%|███████▊                                                                                         | 4/50 [04:12<48:30, 63.27s/it]"
     ]
    },
    {
     "name": "stdout",
     "output_type": "stream",
     "text": [
      "train loss: 0.09399404376745224\n",
      "val loss: 0.14169831573963165\n"
     ]
    },
    {
     "name": "stderr",
     "output_type": "stream",
     "text": [
      " 10%|█████████▋                                                                                       | 5/50 [05:14<47:07, 62.83s/it]"
     ]
    },
    {
     "name": "stdout",
     "output_type": "stream",
     "text": [
      "save weights to: /mnt/CEPH_PROJECTS/InterTwin/hydrologic_data/surrogate_model/test.pt\n",
      "Copied best model weights!\n",
      "train loss: 0.09106142818927765\n",
      "val loss: 0.139723002910614\n"
     ]
    },
    {
     "name": "stderr",
     "output_type": "stream",
     "text": [
      " 12%|███████████▋                                                                                     | 6/50 [06:19<46:37, 63.57s/it]"
     ]
    },
    {
     "name": "stdout",
     "output_type": "stream",
     "text": [
      "train loss: 0.08695613592863083\n",
      "val loss: 0.15121711790561676\n"
     ]
    },
    {
     "name": "stderr",
     "output_type": "stream",
     "text": [
      " 14%|█████████████▌                                                                                   | 7/50 [07:23<45:36, 63.64s/it]"
     ]
    },
    {
     "name": "stdout",
     "output_type": "stream",
     "text": [
      "save weights to: /mnt/CEPH_PROJECTS/InterTwin/hydrologic_data/surrogate_model/test.pt\n",
      "Copied best model weights!\n",
      "train loss: 0.08888477087020874\n",
      "val loss: 0.13580133020877838\n"
     ]
    },
    {
     "name": "stderr",
     "output_type": "stream",
     "text": [
      " 16%|███████████████▌                                                                                 | 8/50 [08:26<44:23, 63.41s/it]"
     ]
    },
    {
     "name": "stdout",
     "output_type": "stream",
     "text": [
      "train loss: 0.09103836119174957\n",
      "val loss: 0.14123739302158356\n"
     ]
    }
   ],
   "source": [
    "# train\n",
    "model, loss_history, metric_history = train_val(\n",
    "    trainer,\n",
    "    model,\n",
    "    train_loader,\n",
    "    test_loader,\n",
    "    EPOCHS,\n",
    "    opt,\n",
    "    lr_scheduler,\n",
    "    SURROGATE_MODEL_OUTPUT,\n",
    "    device\n",
    ")"
   ]
  },
  {
   "cell_type": "code",
   "execution_count": 88,
   "id": "9185ef42-f8b0-4841-ad50-6bdbb25b27ac",
   "metadata": {
    "tags": []
   },
   "outputs": [
    {
     "data": {
      "image/png": "[encoded data removed]",
      "text/plain": [
       "<Figure size 1200x600 with 3 Axes>"
      ]
     },
     "metadata": {},
     "output_type": "display_data"
    }
   ],
   "source": [
    "lepochs = list(range(1, EPOCHS + 1))\n",
    "\n",
    "fig, axs = plt.subplots(3, 1, figsize= (12,6), sharex=True)\n",
    "\n",
    "axs[0].plot(lepochs, metric_history['train_vwc'], marker='.', linestyle='-', color='b', label='Training')\n",
    "axs[0].plot(lepochs, metric_history['val_vwc'], marker='.', linestyle='-', color='r', label='Validation')\n",
    "axs[0].set_title('SM')\n",
    "axs[0].set_ylabel(metric_fn.__class__.__name__)\n",
    "axs[0].grid(True)\n",
    "axs[0].legend(bbox_to_anchor=(1,1))\n",
    "\n",
    "axs[1].plot(lepochs, metric_history['train_actevap'], marker='.', linestyle='-', color='b', label='Training')\n",
    "axs[1].plot(lepochs, metric_history['val_actevap'], marker='.', linestyle='-', color='r', label='Validation')\n",
    "axs[1].set_title('ET')\n",
    "axs[1].set_ylabel(metric_fn.__class__.__name__)\n",
    "axs[1].grid(True)\n",
    "\n",
    "axs[2].plot(lepochs, [i.detach().cpu().numpy() for i in loss_history['train']], marker='.', linestyle='-', color='b', label='Training')\n",
    "axs[2].plot(lepochs, [i.detach().cpu().numpy() for i in loss_history['val']], marker='.', linestyle='-', color='r', label='Validation')\n",
    "axs[2].set_title('Loss')\n",
    "axs[2].set_xlabel('Epochs')\n",
    "axs[2].set_ylabel(loss_fn.__name__)\n",
    "axs[2].grid(True)"
   ]
  },
  {
   "cell_type": "code",
   "execution_count": null,
   "id": "66d3005e-0846-4d46-adaf-a78feded2b69",
   "metadata": {},
   "outputs": [],
   "source": []
  }
 ],
 "metadata": {
  "kernelspec": {
   "display_name": "emulator",
   "language": "python",
   "name": "emulator"
  },
  "language_info": {
   "codemirror_mode": {
    "name": "ipython",
    "version": 3
   },
   "file_extension": ".py",
   "mimetype": "text/x-python",
   "name": "python",
   "nbconvert_exporter": "python",
   "pygments_lexer": "ipython3",
   "version": "3.11.6"
  }
 },
 "nbformat": 4,
 "nbformat_minor": 5
}
