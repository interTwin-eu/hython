{
 "cells": [
  {
   "cell_type": "code",
   "execution_count": 1,
   "id": "30de281b-5aee-4e21-a402-d9b7edbd65ca",
   "metadata": {
    "tags": []
   },
   "outputs": [],
   "source": [
    "%load_ext autoreload\n",
    "%autoreload 2"
   ]
  },
  {
   "cell_type": "code",
   "execution_count": 3,
   "id": "db2e5f2c-0b5a-4c47-8280-4ff3c150c0e4",
   "metadata": {
    "tags": []
   },
   "outputs": [],
   "source": [
    "import os\n",
    "import xarray as xr\n",
    "import random \n",
    "import numpy as np\n",
    "from pathlib import Path \n",
    "import glob\n",
    "\n",
    "from sklearn.metrics import mean_squared_error\n",
    "\n",
    "import torch\n",
    "from torch import nn\n",
    "import torch.optim as optim\n",
    "from torch.optim.lr_scheduler import ReduceLROnPlateau\n",
    "from torch.utils.data import DataLoader, TensorDataset, random_split, Dataset\n",
    "\n",
    "# Eurac utils\n",
    "#ImportError: cannot import name 'apply_missing_policy' from 'hython.preprocess' \n",
    "from hython.preprocess import preprocess, apply_normalization\n",
    "from hython.models.lstm import CustomLSTM, CudnnLSTM\n",
    "from hython.metrics import mse_metric\n",
    "from hython.losses import RMSELoss\n",
    "from hython.datasets.datasets import LSTMDataset\n",
    "from hython.train_val import train_val\n",
    "from hython.viz import plot_sampler\n",
    "from hython.sampler import RegularIntervalSampler\n",
    "from hython.utils import missing_location_idx, reconstruct_from_missing\n",
    "\n",
    "# visualize \n",
    "import matplotlib.pyplot as plt\n",
    "import geopandas as gpd\n",
    "from cartopy import crs as ccrs\n",
    "\n",
    "import warnings\n",
    "warnings.filterwarnings(\"ignore\")"
   ]
  },
  {
   "cell_type": "code",
   "execution_count": 4,
   "id": "ad117049-eb9f-4222-b275-232bf6c05ab0",
   "metadata": {
    "tags": []
   },
   "outputs": [],
   "source": [
    "import hython \n"
   ]
  },
  {
   "cell_type": "code",
   "execution_count": 5,
   "id": "ba361a30-50d1-4661-87fd-279b0d667d97",
   "metadata": {
    "tags": []
   },
   "outputs": [
    {
     "name": "stdout",
     "output_type": "stream",
     "text": [
      "Name: hython\n",
      "Version: 0.0.1\n",
      "Summary: \n",
      "Home-page: \n",
      "Author: \n",
      "Author-email: Mohammad Alasawedah <mohammadhussein.alasawedah@eurac.edu>, Iacopo Ferrario <iacopofederico.ferrario@eurac.edu>\n",
      "License: \n",
      "Location: /home/malasawedah/.conda/envs/gpu_env/lib/python3.11/site-packages\n",
      "Editable project location: /home/malasawedah/intertwin-hython/hython\n",
      "Requires: numpy, torch, xarray\n",
      "Required-by: \n",
      "Note: you may need to restart the kernel to use updated packages.\n"
     ]
    }
   ],
   "source": [
    "pip show hython "
   ]
  },
  {
   "cell_type": "code",
   "execution_count": 6,
   "id": "fc885dc5-908f-4cef-8af0-de1e5761d48b",
   "metadata": {
    "tags": []
   },
   "outputs": [],
   "source": [
    "def set_seed(seed):\n",
    "    random.seed(seed)\n",
    "    os.environ[\"PYTHONHASHSEED\"] = str(seed)\n",
    "    np.random.seed(seed)\n",
    "    torch.manual_seed(seed)\n",
    "    if torch.cuda.is_available():\n",
    "        torch.cuda.manual_seed_all(seed)\n",
    "        torch.backends.cudnn.deterministic = True\n",
    "\n",
    "set_seed(2023)"
   ]
  },
  {
   "cell_type": "code",
   "execution_count": 7,
   "id": "402948fa-4db9-4fb0-a48a-c9e6dc8e0199",
   "metadata": {
    "tags": []
   },
   "outputs": [],
   "source": [
    "## user settings\n",
    "\n",
    "domain = \"alps\" # \"alps\"\n",
    "\n",
    "timeslice = slice(\"2016-01-01\",\"2020-12-31\")\n",
    "\n",
    "\n",
    "dynamic_names = [\"precip\", \"pet\", \"temp\"]\n",
    "static_names = [ 'M', 'thetaS', 'RootingDepth', 'Kext', 'Sl', 'Swood', 'TT', 'KsatHorFrac'] \n",
    "target_names = [ \"vwc\",\"actevap\" ] # \"q_river\"]\n",
    "\n",
    "\n"
   ]
  },
  {
   "cell_type": "code",
   "execution_count": 8,
   "id": "4927f596-9fc7-420a-b1a4-37699a9244bf",
   "metadata": {
    "tags": []
   },
   "outputs": [],
   "source": [
    "if domain == \"alps\":\n",
    "    ipath = Path('/mnt/CEPH_PROJECTS/InterTwin/Wflow/full_domain/alps1km')\n",
    "    dyn_vars_ds = xr.open_dataset(ipath / 'inmaps_eobs_eobsd_makkink_86400_2015_2019.nc', decode_coords='all',chunks= {\"time\":100})\n",
    "    static_params_ds = xr.open_dataset(ipath / \"staticmaps.nc\", decode_coords='all', chunks= {\"time\":100}).sel(layer=1)\n",
    "    target_ds = xr.open_dataset(ipath / \"run_default/output.nc\", decode_coords='all', chunks= {\"time\":100}).sel(layer=1).isel(lat=slice(None, None, -1))\n",
    "    target_ds.dims,dyn_vars_ds.dims, static_params_ds.dims\n",
    "if domain == \"adige\":\n",
    "    glob.glob('/mnt/CEPH_PROJECTS/InterTwin/Surrogate_Model/Train Model/Deltras Data')\n",
    "    dyn_vars_ds = xr.open_dataset('/mnt/CEPH_PROJECTS/InterTwin/Surrogate_Model/Train Model/Deltras Data/Dynamic_Data_2000_2015.nc',decode_coords='all', chunks= {\"time\":100})#.to_dataset(dim='variable')\n",
    "    static_params_ds = xr.open_dataset('/mnt/CEPH_PROJECTS/InterTwin/Surrogate_Model/Train Model/Deltras Data/staticmaps.nc',decode_coords='all', chunks= {\"time\":100}).sel(layer=1)#.to_dataset(dim='variable')\n",
    "    target_ds = xr.open_dataset('/mnt/CEPH_PROJECTS/InterTwin/Surrogate_Model/Train Model/Deltras Data/Target_train_et_sm_2000_2015.nc',decode_coords='all', chunks= {\"time\":100}).isel(lat=slice(None, None, -1))\n",
    "    dyn_vars_ds.dims, static_params_ds.dims, target_ds.dims"
   ]
  },
  {
   "cell_type": "code",
   "execution_count": 9,
   "id": "015e1adb",
   "metadata": {
    "tags": []
   },
   "outputs": [],
   "source": [
    "target_ds.data_vars, dyn_vars_ds.data_vars, static_params_ds.data_vars;"
   ]
  },
  {
   "cell_type": "code",
   "execution_count": 10,
   "id": "da32aba0-acb4-47ef-af5b-10e994d36518",
   "metadata": {
    "tags": []
   },
   "outputs": [
    {
     "data": {
      "text/html": [
       "<div><svg style=\"position: absolute; width: 0; height: 0; overflow: hidden\">\n",
       "<defs>\n",
       "<symbol id=\"icon-database\" viewBox=\"0 0 32 32\">\n",
       "<path d=\"M16 0c-8.837 0-16 2.239-16 5v4c0 2.761 7.163 5 16 5s16-2.239 16-5v-4c0-2.761-7.163-5-16-5z\"></path>\n",
       "<path d=\"M16 17c-8.837 0-16-2.239-16-5v6c0 2.761 7.163 5 16 5s16-2.239 16-5v-6c0 2.761-7.163 5-16 5z\"></path>\n",
       "<path d=\"M16 26c-8.837 0-16-2.239-16-5v6c0 2.761 7.163 5 16 5s16-2.239 16-5v-6c0 2.761-7.163 5-16 5z\"></path>\n",
       "</symbol>\n",
       "<symbol id=\"icon-file-text2\" viewBox=\"0 0 32 32\">\n",
       "<path d=\"M28.681 7.159c-0.694-0.947-1.662-2.053-2.724-3.116s-2.169-2.030-3.116-2.724c-1.612-1.182-2.393-1.319-2.841-1.319h-15.5c-1.378 0-2.5 1.121-2.5 2.5v27c0 1.378 1.122 2.5 2.5 2.5h23c1.378 0 2.5-1.122 2.5-2.5v-19.5c0-0.448-0.137-1.23-1.319-2.841zM24.543 5.457c0.959 0.959 1.712 1.825 2.268 2.543h-4.811v-4.811c0.718 0.556 1.584 1.309 2.543 2.268zM28 29.5c0 0.271-0.229 0.5-0.5 0.5h-23c-0.271 0-0.5-0.229-0.5-0.5v-27c0-0.271 0.229-0.5 0.5-0.5 0 0 15.499-0 15.5 0v7c0 0.552 0.448 1 1 1h7v19.5z\"></path>\n",
       "<path d=\"M23 26h-14c-0.552 0-1-0.448-1-1s0.448-1 1-1h14c0.552 0 1 0.448 1 1s-0.448 1-1 1z\"></path>\n",
       "<path d=\"M23 22h-14c-0.552 0-1-0.448-1-1s0.448-1 1-1h14c0.552 0 1 0.448 1 1s-0.448 1-1 1z\"></path>\n",
       "<path d=\"M23 18h-14c-0.552 0-1-0.448-1-1s0.448-1 1-1h14c0.552 0 1 0.448 1 1s-0.448 1-1 1z\"></path>\n",
       "</symbol>\n",
       "</defs>\n",
       "</svg>\n",
       "<style>/* CSS stylesheet for displaying xarray objects in jupyterlab.\n",
       " *\n",
       " */\n",
       "\n",
       ":root {\n",
       "  --xr-font-color0: var(--jp-content-font-color0, rgba(0, 0, 0, 1));\n",
       "  --xr-font-color2: var(--jp-content-font-color2, rgba(0, 0, 0, 0.54));\n",
       "  --xr-font-color3: var(--jp-content-font-color3, rgba(0, 0, 0, 0.38));\n",
       "  --xr-border-color: var(--jp-border-color2, #e0e0e0);\n",
       "  --xr-disabled-color: var(--jp-layout-color3, #bdbdbd);\n",
       "  --xr-background-color: var(--jp-layout-color0, white);\n",
       "  --xr-background-color-row-even: var(--jp-layout-color1, white);\n",
       "  --xr-background-color-row-odd: var(--jp-layout-color2, #eeeeee);\n",
       "}\n",
       "\n",
       "html[theme=dark],\n",
       "body[data-theme=dark],\n",
       "body.vscode-dark {\n",
       "  --xr-font-color0: rgba(255, 255, 255, 1);\n",
       "  --xr-font-color2: rgba(255, 255, 255, 0.54);\n",
       "  --xr-font-color3: rgba(255, 255, 255, 0.38);\n",
       "  --xr-border-color: #1F1F1F;\n",
       "  --xr-disabled-color: #515151;\n",
       "  --xr-background-color: #111111;\n",
       "  --xr-background-color-row-even: #111111;\n",
       "  --xr-background-color-row-odd: #313131;\n",
       "}\n",
       "\n",
       ".xr-wrap {\n",
       "  display: block !important;\n",
       "  min-width: 300px;\n",
       "  max-width: 700px;\n",
       "}\n",
       "\n",
       ".xr-text-repr-fallback {\n",
       "  /* fallback to plain text repr when CSS is not injected (untrusted notebook) */\n",
       "  display: none;\n",
       "}\n",
       "\n",
       ".xr-header {\n",
       "  padding-top: 6px;\n",
       "  padding-bottom: 6px;\n",
       "  margin-bottom: 4px;\n",
       "  border-bottom: solid 1px var(--xr-border-color);\n",
       "}\n",
       "\n",
       ".xr-header > div,\n",
       ".xr-header > ul {\n",
       "  display: inline;\n",
       "  margin-top: 0;\n",
       "  margin-bottom: 0;\n",
       "}\n",
       "\n",
       ".xr-obj-type,\n",
       ".xr-array-name {\n",
       "  margin-left: 2px;\n",
       "  margin-right: 10px;\n",
       "}\n",
       "\n",
       ".xr-obj-type {\n",
       "  color: var(--xr-font-color2);\n",
       "}\n",
       "\n",
       ".xr-sections {\n",
       "  padding-left: 0 !important;\n",
       "  display: grid;\n",
       "  grid-template-columns: 150px auto auto 1fr 20px 20px;\n",
       "}\n",
       "\n",
       ".xr-section-item {\n",
       "  display: contents;\n",
       "}\n",
       "\n",
       ".xr-section-item input {\n",
       "  display: none;\n",
       "}\n",
       "\n",
       ".xr-section-item input + label {\n",
       "  color: var(--xr-disabled-color);\n",
       "}\n",
       "\n",
       ".xr-section-item input:enabled + label {\n",
       "  cursor: pointer;\n",
       "  color: var(--xr-font-color2);\n",
       "}\n",
       "\n",
       ".xr-section-item input:enabled + label:hover {\n",
       "  color: var(--xr-font-color0);\n",
       "}\n",
       "\n",
       ".xr-section-summary {\n",
       "  grid-column: 1;\n",
       "  color: var(--xr-font-color2);\n",
       "  font-weight: 500;\n",
       "}\n",
       "\n",
       ".xr-section-summary > span {\n",
       "  display: inline-block;\n",
       "  padding-left: 0.5em;\n",
       "}\n",
       "\n",
       ".xr-section-summary-in:disabled + label {\n",
       "  color: var(--xr-font-color2);\n",
       "}\n",
       "\n",
       ".xr-section-summary-in + label:before {\n",
       "  display: inline-block;\n",
       "  content: '►';\n",
       "  font-size: 11px;\n",
       "  width: 15px;\n",
       "  text-align: center;\n",
       "}\n",
       "\n",
       ".xr-section-summary-in:disabled + label:before {\n",
       "  color: var(--xr-disabled-color);\n",
       "}\n",
       "\n",
       ".xr-section-summary-in:checked + label:before {\n",
       "  content: '▼';\n",
       "}\n",
       "\n",
       ".xr-section-summary-in:checked + label > span {\n",
       "  display: none;\n",
       "}\n",
       "\n",
       ".xr-section-summary,\n",
       ".xr-section-inline-details {\n",
       "  padding-top: 4px;\n",
       "  padding-bottom: 4px;\n",
       "}\n",
       "\n",
       ".xr-section-inline-details {\n",
       "  grid-column: 2 / -1;\n",
       "}\n",
       "\n",
       ".xr-section-details {\n",
       "  display: none;\n",
       "  grid-column: 1 / -1;\n",
       "  margin-bottom: 5px;\n",
       "}\n",
       "\n",
       ".xr-section-summary-in:checked ~ .xr-section-details {\n",
       "  display: contents;\n",
       "}\n",
       "\n",
       ".xr-array-wrap {\n",
       "  grid-column: 1 / -1;\n",
       "  display: grid;\n",
       "  grid-template-columns: 20px auto;\n",
       "}\n",
       "\n",
       ".xr-array-wrap > label {\n",
       "  grid-column: 1;\n",
       "  vertical-align: top;\n",
       "}\n",
       "\n",
       ".xr-preview {\n",
       "  color: var(--xr-font-color3);\n",
       "}\n",
       "\n",
       ".xr-array-preview,\n",
       ".xr-array-data {\n",
       "  padding: 0 5px !important;\n",
       "  grid-column: 2;\n",
       "}\n",
       "\n",
       ".xr-array-data,\n",
       ".xr-array-in:checked ~ .xr-array-preview {\n",
       "  display: none;\n",
       "}\n",
       "\n",
       ".xr-array-in:checked ~ .xr-array-data,\n",
       ".xr-array-preview {\n",
       "  display: inline-block;\n",
       "}\n",
       "\n",
       ".xr-dim-list {\n",
       "  display: inline-block !important;\n",
       "  list-style: none;\n",
       "  padding: 0 !important;\n",
       "  margin: 0;\n",
       "}\n",
       "\n",
       ".xr-dim-list li {\n",
       "  display: inline-block;\n",
       "  padding: 0;\n",
       "  margin: 0;\n",
       "}\n",
       "\n",
       ".xr-dim-list:before {\n",
       "  content: '(';\n",
       "}\n",
       "\n",
       ".xr-dim-list:after {\n",
       "  content: ')';\n",
       "}\n",
       "\n",
       ".xr-dim-list li:not(:last-child):after {\n",
       "  content: ',';\n",
       "  padding-right: 5px;\n",
       "}\n",
       "\n",
       ".xr-has-index {\n",
       "  font-weight: bold;\n",
       "}\n",
       "\n",
       ".xr-var-list,\n",
       ".xr-var-item {\n",
       "  display: contents;\n",
       "}\n",
       "\n",
       ".xr-var-item > div,\n",
       ".xr-var-item label,\n",
       ".xr-var-item > .xr-var-name span {\n",
       "  background-color: var(--xr-background-color-row-even);\n",
       "  margin-bottom: 0;\n",
       "}\n",
       "\n",
       ".xr-var-item > .xr-var-name:hover span {\n",
       "  padding-right: 5px;\n",
       "}\n",
       "\n",
       ".xr-var-list > li:nth-child(odd) > div,\n",
       ".xr-var-list > li:nth-child(odd) > label,\n",
       ".xr-var-list > li:nth-child(odd) > .xr-var-name span {\n",
       "  background-color: var(--xr-background-color-row-odd);\n",
       "}\n",
       "\n",
       ".xr-var-name {\n",
       "  grid-column: 1;\n",
       "}\n",
       "\n",
       ".xr-var-dims {\n",
       "  grid-column: 2;\n",
       "}\n",
       "\n",
       ".xr-var-dtype {\n",
       "  grid-column: 3;\n",
       "  text-align: right;\n",
       "  color: var(--xr-font-color2);\n",
       "}\n",
       "\n",
       ".xr-var-preview {\n",
       "  grid-column: 4;\n",
       "}\n",
       "\n",
       ".xr-index-preview {\n",
       "  grid-column: 2 / 5;\n",
       "  color: var(--xr-font-color2);\n",
       "}\n",
       "\n",
       ".xr-var-name,\n",
       ".xr-var-dims,\n",
       ".xr-var-dtype,\n",
       ".xr-preview,\n",
       ".xr-attrs dt {\n",
       "  white-space: nowrap;\n",
       "  overflow: hidden;\n",
       "  text-overflow: ellipsis;\n",
       "  padding-right: 10px;\n",
       "}\n",
       "\n",
       ".xr-var-name:hover,\n",
       ".xr-var-dims:hover,\n",
       ".xr-var-dtype:hover,\n",
       ".xr-attrs dt:hover {\n",
       "  overflow: visible;\n",
       "  width: auto;\n",
       "  z-index: 1;\n",
       "}\n",
       "\n",
       ".xr-var-attrs,\n",
       ".xr-var-data,\n",
       ".xr-index-data {\n",
       "  display: none;\n",
       "  background-color: var(--xr-background-color) !important;\n",
       "  padding-bottom: 5px !important;\n",
       "}\n",
       "\n",
       ".xr-var-attrs-in:checked ~ .xr-var-attrs,\n",
       ".xr-var-data-in:checked ~ .xr-var-data,\n",
       ".xr-index-data-in:checked ~ .xr-index-data {\n",
       "  display: block;\n",
       "}\n",
       "\n",
       ".xr-var-data > table {\n",
       "  float: right;\n",
       "}\n",
       "\n",
       ".xr-var-name span,\n",
       ".xr-var-data,\n",
       ".xr-index-name div,\n",
       ".xr-index-data,\n",
       ".xr-attrs {\n",
       "  padding-left: 25px !important;\n",
       "}\n",
       "\n",
       ".xr-attrs,\n",
       ".xr-var-attrs,\n",
       ".xr-var-data,\n",
       ".xr-index-data {\n",
       "  grid-column: 1 / -1;\n",
       "}\n",
       "\n",
       "dl.xr-attrs {\n",
       "  padding: 0;\n",
       "  margin: 0;\n",
       "  display: grid;\n",
       "  grid-template-columns: 125px auto;\n",
       "}\n",
       "\n",
       ".xr-attrs dt,\n",
       ".xr-attrs dd {\n",
       "  padding: 0;\n",
       "  margin: 0;\n",
       "  float: left;\n",
       "  padding-right: 10px;\n",
       "  width: auto;\n",
       "}\n",
       "\n",
       ".xr-attrs dt {\n",
       "  font-weight: normal;\n",
       "  grid-column: 1;\n",
       "}\n",
       "\n",
       ".xr-attrs dt:hover span {\n",
       "  display: inline-block;\n",
       "  background: var(--xr-background-color);\n",
       "  padding-right: 10px;\n",
       "}\n",
       "\n",
       ".xr-attrs dd {\n",
       "  grid-column: 2;\n",
       "  white-space: pre-wrap;\n",
       "  word-break: break-all;\n",
       "}\n",
       "\n",
       ".xr-icon-database,\n",
       ".xr-icon-file-text2,\n",
       ".xr-no-icon {\n",
       "  display: inline-block;\n",
       "  vertical-align: middle;\n",
       "  width: 1em;\n",
       "  height: 1.5em !important;\n",
       "  stroke-width: 0;\n",
       "  stroke: currentColor;\n",
       "  fill: currentColor;\n",
       "}\n",
       "</style><pre class='xr-text-repr-fallback'>&lt;xarray.Dataset&gt;\n",
       "Dimensions:  (lon: 1177, lat: 689, time: 1825)\n",
       "Coordinates:\n",
       "  * lon      (lon) float64 5.079 5.088 5.098 5.107 ... 15.83 15.84 15.85 15.86\n",
       "  * lat      (lat) float64 50.03 50.02 50.01 50.0 ... 43.75 43.74 43.73 43.72\n",
       "    layer    float64 1.0\n",
       "  * time     (time) datetime64[ns] 2015-01-02 2015-01-03 ... 2019-12-31\n",
       "Data variables:\n",
       "    actevap  (time, lat, lon) float32 dask.array&lt;chunksize=(100, 689, 1177), meta=np.ndarray&gt;\n",
       "    q_river  (time, lat, lon) float32 dask.array&lt;chunksize=(100, 689, 1177), meta=np.ndarray&gt;\n",
       "    vwc      (time, lat, lon) float32 dask.array&lt;chunksize=(100, 344, 589), meta=np.ndarray&gt;</pre><div class='xr-wrap' style='display:none'><div class='xr-header'><div class='xr-obj-type'>xarray.Dataset</div></div><ul class='xr-sections'><li class='xr-section-item'><input id='section-58fa98c1-c4cd-410a-87c8-176b0d77895e' class='xr-section-summary-in' type='checkbox' disabled ><label for='section-58fa98c1-c4cd-410a-87c8-176b0d77895e' class='xr-section-summary'  title='Expand/collapse section'>Dimensions:</label><div class='xr-section-inline-details'><ul class='xr-dim-list'><li><span class='xr-has-index'>lon</span>: 1177</li><li><span class='xr-has-index'>lat</span>: 689</li><li><span class='xr-has-index'>time</span>: 1825</li></ul></div><div class='xr-section-details'></div></li><li class='xr-section-item'><input id='section-3c26e982-2865-4dea-8f8a-eab6d56cb514' class='xr-section-summary-in' type='checkbox'  checked><label for='section-3c26e982-2865-4dea-8f8a-eab6d56cb514' class='xr-section-summary' >Coordinates: <span>(4)</span></label><div class='xr-section-inline-details'></div><div class='xr-section-details'><ul class='xr-var-list'><li class='xr-var-item'><div class='xr-var-name'><span class='xr-has-index'>lon</span></div><div class='xr-var-dims'>(lon)</div><div class='xr-var-dtype'>float64</div><div class='xr-var-preview xr-preview'>5.079 5.088 5.098 ... 15.85 15.86</div><input id='attrs-df5f5081-b785-4676-9ee1-23dc626f0dca' class='xr-var-attrs-in' type='checkbox' ><label for='attrs-df5f5081-b785-4676-9ee1-23dc626f0dca' title='Show/Hide attributes'><svg class='icon xr-icon-file-text2'><use xlink:href='#icon-file-text2'></use></svg></label><input id='data-5af06f8c-f7a2-4768-9ed3-a871ddc4ba58' class='xr-var-data-in' type='checkbox'><label for='data-5af06f8c-f7a2-4768-9ed3-a871ddc4ba58' title='Show/Hide data repr'><svg class='icon xr-icon-database'><use xlink:href='#icon-database'></use></svg></label><div class='xr-var-attrs'><dl class='xr-attrs'><dt><span>long_name :</span></dt><dd>longitude</dd><dt><span>standard_name :</span></dt><dd>longitude</dd><dt><span>axis :</span></dt><dd>X</dd><dt><span>units :</span></dt><dd>degrees_east</dd></dl></div><div class='xr-var-data'><pre>array([ 5.079167,  5.088333,  5.0975  , ..., 15.840833, 15.85    , 15.859167])</pre></div></li><li class='xr-var-item'><div class='xr-var-name'><span class='xr-has-index'>lat</span></div><div class='xr-var-dims'>(lat)</div><div class='xr-var-dtype'>float64</div><div class='xr-var-preview xr-preview'>50.03 50.02 50.01 ... 43.73 43.72</div><input id='attrs-1cd024b2-d8eb-441c-9ea2-4fdf09f52975' class='xr-var-attrs-in' type='checkbox' ><label for='attrs-1cd024b2-d8eb-441c-9ea2-4fdf09f52975' title='Show/Hide attributes'><svg class='icon xr-icon-file-text2'><use xlink:href='#icon-file-text2'></use></svg></label><input id='data-c9d049a9-44c3-4eb2-a788-54f72897bedb' class='xr-var-data-in' type='checkbox'><label for='data-c9d049a9-44c3-4eb2-a788-54f72897bedb' title='Show/Hide data repr'><svg class='icon xr-icon-database'><use xlink:href='#icon-database'></use></svg></label><div class='xr-var-attrs'><dl class='xr-attrs'><dt><span>long_name :</span></dt><dd>latitude</dd><dt><span>standard_name :</span></dt><dd>latitude</dd><dt><span>axis :</span></dt><dd>Y</dd><dt><span>units :</span></dt><dd>degrees_north</dd></dl></div><div class='xr-var-data'><pre>array([50.026667, 50.0175  , 50.008333, ..., 43.738333, 43.729167, 43.72    ])</pre></div></li><li class='xr-var-item'><div class='xr-var-name'><span>layer</span></div><div class='xr-var-dims'>()</div><div class='xr-var-dtype'>float64</div><div class='xr-var-preview xr-preview'>1.0</div><input id='attrs-5126fbce-626e-42d7-97a0-4545a7d0d6b3' class='xr-var-attrs-in' type='checkbox' ><label for='attrs-5126fbce-626e-42d7-97a0-4545a7d0d6b3' title='Show/Hide attributes'><svg class='icon xr-icon-file-text2'><use xlink:href='#icon-file-text2'></use></svg></label><input id='data-45f040f8-202c-4144-9de9-0c0e7d8ff7a8' class='xr-var-data-in' type='checkbox'><label for='data-45f040f8-202c-4144-9de9-0c0e7d8ff7a8' title='Show/Hide data repr'><svg class='icon xr-icon-database'><use xlink:href='#icon-database'></use></svg></label><div class='xr-var-attrs'><dl class='xr-attrs'><dt><span>long_name :</span></dt><dd>layer_index</dd><dt><span>standard_name :</span></dt><dd>layer_index</dd><dt><span>axis :</span></dt><dd>Z</dd></dl></div><div class='xr-var-data'><pre>array(1.)</pre></div></li><li class='xr-var-item'><div class='xr-var-name'><span class='xr-has-index'>time</span></div><div class='xr-var-dims'>(time)</div><div class='xr-var-dtype'>datetime64[ns]</div><div class='xr-var-preview xr-preview'>2015-01-02 ... 2019-12-31</div><input id='attrs-49d781a8-ae7b-4d6c-b156-9cfdbdcabeb9' class='xr-var-attrs-in' type='checkbox' disabled><label for='attrs-49d781a8-ae7b-4d6c-b156-9cfdbdcabeb9' title='Show/Hide attributes'><svg class='icon xr-icon-file-text2'><use xlink:href='#icon-file-text2'></use></svg></label><input id='data-f77f66c8-7fc5-4987-92b1-210204fbd3eb' class='xr-var-data-in' type='checkbox'><label for='data-f77f66c8-7fc5-4987-92b1-210204fbd3eb' title='Show/Hide data repr'><svg class='icon xr-icon-database'><use xlink:href='#icon-database'></use></svg></label><div class='xr-var-attrs'><dl class='xr-attrs'></dl></div><div class='xr-var-data'><pre>array([&#x27;2015-01-02T00:00:00.000000000&#x27;, &#x27;2015-01-03T00:00:00.000000000&#x27;,\n",
       "       &#x27;2015-01-04T00:00:00.000000000&#x27;, ..., &#x27;2019-12-29T00:00:00.000000000&#x27;,\n",
       "       &#x27;2019-12-30T00:00:00.000000000&#x27;, &#x27;2019-12-31T00:00:00.000000000&#x27;],\n",
       "      dtype=&#x27;datetime64[ns]&#x27;)</pre></div></li></ul></div></li><li class='xr-section-item'><input id='section-8d106913-3a02-48fe-ba82-342f78fee8e2' class='xr-section-summary-in' type='checkbox'  checked><label for='section-8d106913-3a02-48fe-ba82-342f78fee8e2' class='xr-section-summary' >Data variables: <span>(3)</span></label><div class='xr-section-inline-details'></div><div class='xr-section-details'><ul class='xr-var-list'><li class='xr-var-item'><div class='xr-var-name'><span>actevap</span></div><div class='xr-var-dims'>(time, lat, lon)</div><div class='xr-var-dtype'>float32</div><div class='xr-var-preview xr-preview'>dask.array&lt;chunksize=(100, 689, 1177), meta=np.ndarray&gt;</div><input id='attrs-cad8842c-2b95-474a-ab23-ef3d70662b77' class='xr-var-attrs-in' type='checkbox' disabled><label for='attrs-cad8842c-2b95-474a-ab23-ef3d70662b77' title='Show/Hide attributes'><svg class='icon xr-icon-file-text2'><use xlink:href='#icon-file-text2'></use></svg></label><input id='data-f2f4d111-805b-4227-b69e-0e305e942631' class='xr-var-data-in' type='checkbox'><label for='data-f2f4d111-805b-4227-b69e-0e305e942631' title='Show/Hide data repr'><svg class='icon xr-icon-database'><use xlink:href='#icon-database'></use></svg></label><div class='xr-var-attrs'><dl class='xr-attrs'></dl></div><div class='xr-var-data'><table>\n",
       "    <tr>\n",
       "        <td>\n",
       "            <table style=\"border-collapse: collapse;\">\n",
       "                <thead>\n",
       "                    <tr>\n",
       "                        <td> </td>\n",
       "                        <th> Array </th>\n",
       "                        <th> Chunk </th>\n",
       "                    </tr>\n",
       "                </thead>\n",
       "                <tbody>\n",
       "                    \n",
       "                    <tr>\n",
       "                        <th> Bytes </th>\n",
       "                        <td> 5.51 GiB </td>\n",
       "                        <td> 309.35 MiB </td>\n",
       "                    </tr>\n",
       "                    \n",
       "                    <tr>\n",
       "                        <th> Shape </th>\n",
       "                        <td> (1825, 689, 1177) </td>\n",
       "                        <td> (100, 689, 1177) </td>\n",
       "                    </tr>\n",
       "                    <tr>\n",
       "                        <th> Dask graph </th>\n",
       "                        <td colspan=\"2\"> 19 chunks in 3 graph layers </td>\n",
       "                    </tr>\n",
       "                    <tr>\n",
       "                        <th> Data type </th>\n",
       "                        <td colspan=\"2\"> float32 numpy.ndarray </td>\n",
       "                    </tr>\n",
       "                </tbody>\n",
       "            </table>\n",
       "        </td>\n",
       "        <td>\n",
       "        <svg width=\"207\" height=\"165\" style=\"stroke:rgb(0,0,0);stroke-width:1\" >\n",
       "\n",
       "  <!-- Horizontal lines -->\n",
       "  <line x1=\"10\" y1=\"0\" x2=\"80\" y2=\"70\" style=\"stroke-width:2\" />\n",
       "  <line x1=\"10\" y1=\"45\" x2=\"80\" y2=\"115\" style=\"stroke-width:2\" />\n",
       "\n",
       "  <!-- Vertical lines -->\n",
       "  <line x1=\"10\" y1=\"0\" x2=\"10\" y2=\"45\" style=\"stroke-width:2\" />\n",
       "  <line x1=\"13\" y1=\"3\" x2=\"13\" y2=\"49\" />\n",
       "  <line x1=\"17\" y1=\"7\" x2=\"17\" y2=\"53\" />\n",
       "  <line x1=\"21\" y1=\"11\" x2=\"21\" y2=\"56\" />\n",
       "  <line x1=\"25\" y1=\"15\" x2=\"25\" y2=\"60\" />\n",
       "  <line x1=\"29\" y1=\"19\" x2=\"29\" y2=\"64\" />\n",
       "  <line x1=\"33\" y1=\"23\" x2=\"33\" y2=\"68\" />\n",
       "  <line x1=\"37\" y1=\"27\" x2=\"37\" y2=\"72\" />\n",
       "  <line x1=\"40\" y1=\"30\" x2=\"40\" y2=\"76\" />\n",
       "  <line x1=\"44\" y1=\"34\" x2=\"44\" y2=\"80\" />\n",
       "  <line x1=\"48\" y1=\"38\" x2=\"48\" y2=\"83\" />\n",
       "  <line x1=\"52\" y1=\"42\" x2=\"52\" y2=\"87\" />\n",
       "  <line x1=\"56\" y1=\"46\" x2=\"56\" y2=\"91\" />\n",
       "  <line x1=\"60\" y1=\"50\" x2=\"60\" y2=\"95\" />\n",
       "  <line x1=\"64\" y1=\"54\" x2=\"64\" y2=\"99\" />\n",
       "  <line x1=\"68\" y1=\"58\" x2=\"68\" y2=\"103\" />\n",
       "  <line x1=\"71\" y1=\"61\" x2=\"71\" y2=\"107\" />\n",
       "  <line x1=\"75\" y1=\"65\" x2=\"75\" y2=\"111\" />\n",
       "  <line x1=\"79\" y1=\"69\" x2=\"79\" y2=\"114\" />\n",
       "  <line x1=\"80\" y1=\"70\" x2=\"80\" y2=\"115\" style=\"stroke-width:2\" />\n",
       "\n",
       "  <!-- Colored Rectangle -->\n",
       "  <polygon points=\"10.0,0.0 80.58823529411765,70.58823529411765 80.58823529411765,115.89234488315876 10.0,45.3041095890411\" style=\"fill:#8B4903A0;stroke-width:0\"/>\n",
       "\n",
       "  <!-- Horizontal lines -->\n",
       "  <line x1=\"10\" y1=\"0\" x2=\"87\" y2=\"0\" style=\"stroke-width:2\" />\n",
       "  <line x1=\"13\" y1=\"3\" x2=\"91\" y2=\"3\" />\n",
       "  <line x1=\"17\" y1=\"7\" x2=\"95\" y2=\"7\" />\n",
       "  <line x1=\"21\" y1=\"11\" x2=\"98\" y2=\"11\" />\n",
       "  <line x1=\"25\" y1=\"15\" x2=\"102\" y2=\"15\" />\n",
       "  <line x1=\"29\" y1=\"19\" x2=\"106\" y2=\"19\" />\n",
       "  <line x1=\"33\" y1=\"23\" x2=\"110\" y2=\"23\" />\n",
       "  <line x1=\"37\" y1=\"27\" x2=\"114\" y2=\"27\" />\n",
       "  <line x1=\"40\" y1=\"30\" x2=\"118\" y2=\"30\" />\n",
       "  <line x1=\"44\" y1=\"34\" x2=\"122\" y2=\"34\" />\n",
       "  <line x1=\"48\" y1=\"38\" x2=\"126\" y2=\"38\" />\n",
       "  <line x1=\"52\" y1=\"42\" x2=\"129\" y2=\"42\" />\n",
       "  <line x1=\"56\" y1=\"46\" x2=\"133\" y2=\"46\" />\n",
       "  <line x1=\"60\" y1=\"50\" x2=\"137\" y2=\"50\" />\n",
       "  <line x1=\"64\" y1=\"54\" x2=\"141\" y2=\"54\" />\n",
       "  <line x1=\"68\" y1=\"58\" x2=\"145\" y2=\"58\" />\n",
       "  <line x1=\"71\" y1=\"61\" x2=\"149\" y2=\"61\" />\n",
       "  <line x1=\"75\" y1=\"65\" x2=\"153\" y2=\"65\" />\n",
       "  <line x1=\"79\" y1=\"69\" x2=\"157\" y2=\"69\" />\n",
       "  <line x1=\"80\" y1=\"70\" x2=\"157\" y2=\"70\" style=\"stroke-width:2\" />\n",
       "\n",
       "  <!-- Vertical lines -->\n",
       "  <line x1=\"10\" y1=\"0\" x2=\"80\" y2=\"70\" style=\"stroke-width:2\" />\n",
       "  <line x1=\"87\" y1=\"0\" x2=\"157\" y2=\"70\" style=\"stroke-width:2\" />\n",
       "\n",
       "  <!-- Colored Rectangle -->\n",
       "  <polygon points=\"10.0,0.0 87.3917808219178,0.0 157.98001611603547,70.58823529411765 80.58823529411765,70.58823529411765\" style=\"fill:#8B4903A0;stroke-width:0\"/>\n",
       "\n",
       "  <!-- Horizontal lines -->\n",
       "  <line x1=\"80\" y1=\"70\" x2=\"157\" y2=\"70\" style=\"stroke-width:2\" />\n",
       "  <line x1=\"80\" y1=\"115\" x2=\"157\" y2=\"115\" style=\"stroke-width:2\" />\n",
       "\n",
       "  <!-- Vertical lines -->\n",
       "  <line x1=\"80\" y1=\"70\" x2=\"80\" y2=\"115\" style=\"stroke-width:2\" />\n",
       "  <line x1=\"157\" y1=\"70\" x2=\"157\" y2=\"115\" style=\"stroke-width:2\" />\n",
       "\n",
       "  <!-- Colored Rectangle -->\n",
       "  <polygon points=\"80.58823529411765,70.58823529411765 157.98001611603547,70.58823529411765 157.98001611603547,115.89234488315876 80.58823529411765,115.89234488315876\" style=\"fill:#ECB172A0;stroke-width:0\"/>\n",
       "\n",
       "  <!-- Text -->\n",
       "  <text x=\"119.284126\" y=\"135.892345\" font-size=\"1.0rem\" font-weight=\"100\" text-anchor=\"middle\" >1177</text>\n",
       "  <text x=\"177.980016\" y=\"93.240290\" font-size=\"1.0rem\" font-weight=\"100\" text-anchor=\"middle\" transform=\"rotate(-90,177.980016,93.240290)\">689</text>\n",
       "  <text x=\"35.294118\" y=\"100.598227\" font-size=\"1.0rem\" font-weight=\"100\" text-anchor=\"middle\" transform=\"rotate(45,35.294118,100.598227)\">1825</text>\n",
       "</svg>\n",
       "        </td>\n",
       "    </tr>\n",
       "</table></div></li><li class='xr-var-item'><div class='xr-var-name'><span>q_river</span></div><div class='xr-var-dims'>(time, lat, lon)</div><div class='xr-var-dtype'>float32</div><div class='xr-var-preview xr-preview'>dask.array&lt;chunksize=(100, 689, 1177), meta=np.ndarray&gt;</div><input id='attrs-051d553a-5ed7-46e5-8e44-3c913807774f' class='xr-var-attrs-in' type='checkbox' disabled><label for='attrs-051d553a-5ed7-46e5-8e44-3c913807774f' title='Show/Hide attributes'><svg class='icon xr-icon-file-text2'><use xlink:href='#icon-file-text2'></use></svg></label><input id='data-1ff9cb23-b733-4f5a-8834-2c54d336c7ee' class='xr-var-data-in' type='checkbox'><label for='data-1ff9cb23-b733-4f5a-8834-2c54d336c7ee' title='Show/Hide data repr'><svg class='icon xr-icon-database'><use xlink:href='#icon-database'></use></svg></label><div class='xr-var-attrs'><dl class='xr-attrs'></dl></div><div class='xr-var-data'><table>\n",
       "    <tr>\n",
       "        <td>\n",
       "            <table style=\"border-collapse: collapse;\">\n",
       "                <thead>\n",
       "                    <tr>\n",
       "                        <td> </td>\n",
       "                        <th> Array </th>\n",
       "                        <th> Chunk </th>\n",
       "                    </tr>\n",
       "                </thead>\n",
       "                <tbody>\n",
       "                    \n",
       "                    <tr>\n",
       "                        <th> Bytes </th>\n",
       "                        <td> 5.51 GiB </td>\n",
       "                        <td> 309.35 MiB </td>\n",
       "                    </tr>\n",
       "                    \n",
       "                    <tr>\n",
       "                        <th> Shape </th>\n",
       "                        <td> (1825, 689, 1177) </td>\n",
       "                        <td> (100, 689, 1177) </td>\n",
       "                    </tr>\n",
       "                    <tr>\n",
       "                        <th> Dask graph </th>\n",
       "                        <td colspan=\"2\"> 19 chunks in 3 graph layers </td>\n",
       "                    </tr>\n",
       "                    <tr>\n",
       "                        <th> Data type </th>\n",
       "                        <td colspan=\"2\"> float32 numpy.ndarray </td>\n",
       "                    </tr>\n",
       "                </tbody>\n",
       "            </table>\n",
       "        </td>\n",
       "        <td>\n",
       "        <svg width=\"207\" height=\"165\" style=\"stroke:rgb(0,0,0);stroke-width:1\" >\n",
       "\n",
       "  <!-- Horizontal lines -->\n",
       "  <line x1=\"10\" y1=\"0\" x2=\"80\" y2=\"70\" style=\"stroke-width:2\" />\n",
       "  <line x1=\"10\" y1=\"45\" x2=\"80\" y2=\"115\" style=\"stroke-width:2\" />\n",
       "\n",
       "  <!-- Vertical lines -->\n",
       "  <line x1=\"10\" y1=\"0\" x2=\"10\" y2=\"45\" style=\"stroke-width:2\" />\n",
       "  <line x1=\"13\" y1=\"3\" x2=\"13\" y2=\"49\" />\n",
       "  <line x1=\"17\" y1=\"7\" x2=\"17\" y2=\"53\" />\n",
       "  <line x1=\"21\" y1=\"11\" x2=\"21\" y2=\"56\" />\n",
       "  <line x1=\"25\" y1=\"15\" x2=\"25\" y2=\"60\" />\n",
       "  <line x1=\"29\" y1=\"19\" x2=\"29\" y2=\"64\" />\n",
       "  <line x1=\"33\" y1=\"23\" x2=\"33\" y2=\"68\" />\n",
       "  <line x1=\"37\" y1=\"27\" x2=\"37\" y2=\"72\" />\n",
       "  <line x1=\"40\" y1=\"30\" x2=\"40\" y2=\"76\" />\n",
       "  <line x1=\"44\" y1=\"34\" x2=\"44\" y2=\"80\" />\n",
       "  <line x1=\"48\" y1=\"38\" x2=\"48\" y2=\"83\" />\n",
       "  <line x1=\"52\" y1=\"42\" x2=\"52\" y2=\"87\" />\n",
       "  <line x1=\"56\" y1=\"46\" x2=\"56\" y2=\"91\" />\n",
       "  <line x1=\"60\" y1=\"50\" x2=\"60\" y2=\"95\" />\n",
       "  <line x1=\"64\" y1=\"54\" x2=\"64\" y2=\"99\" />\n",
       "  <line x1=\"68\" y1=\"58\" x2=\"68\" y2=\"103\" />\n",
       "  <line x1=\"71\" y1=\"61\" x2=\"71\" y2=\"107\" />\n",
       "  <line x1=\"75\" y1=\"65\" x2=\"75\" y2=\"111\" />\n",
       "  <line x1=\"79\" y1=\"69\" x2=\"79\" y2=\"114\" />\n",
       "  <line x1=\"80\" y1=\"70\" x2=\"80\" y2=\"115\" style=\"stroke-width:2\" />\n",
       "\n",
       "  <!-- Colored Rectangle -->\n",
       "  <polygon points=\"10.0,0.0 80.58823529411765,70.58823529411765 80.58823529411765,115.89234488315876 10.0,45.3041095890411\" style=\"fill:#8B4903A0;stroke-width:0\"/>\n",
       "\n",
       "  <!-- Horizontal lines -->\n",
       "  <line x1=\"10\" y1=\"0\" x2=\"87\" y2=\"0\" style=\"stroke-width:2\" />\n",
       "  <line x1=\"13\" y1=\"3\" x2=\"91\" y2=\"3\" />\n",
       "  <line x1=\"17\" y1=\"7\" x2=\"95\" y2=\"7\" />\n",
       "  <line x1=\"21\" y1=\"11\" x2=\"98\" y2=\"11\" />\n",
       "  <line x1=\"25\" y1=\"15\" x2=\"102\" y2=\"15\" />\n",
       "  <line x1=\"29\" y1=\"19\" x2=\"106\" y2=\"19\" />\n",
       "  <line x1=\"33\" y1=\"23\" x2=\"110\" y2=\"23\" />\n",
       "  <line x1=\"37\" y1=\"27\" x2=\"114\" y2=\"27\" />\n",
       "  <line x1=\"40\" y1=\"30\" x2=\"118\" y2=\"30\" />\n",
       "  <line x1=\"44\" y1=\"34\" x2=\"122\" y2=\"34\" />\n",
       "  <line x1=\"48\" y1=\"38\" x2=\"126\" y2=\"38\" />\n",
       "  <line x1=\"52\" y1=\"42\" x2=\"129\" y2=\"42\" />\n",
       "  <line x1=\"56\" y1=\"46\" x2=\"133\" y2=\"46\" />\n",
       "  <line x1=\"60\" y1=\"50\" x2=\"137\" y2=\"50\" />\n",
       "  <line x1=\"64\" y1=\"54\" x2=\"141\" y2=\"54\" />\n",
       "  <line x1=\"68\" y1=\"58\" x2=\"145\" y2=\"58\" />\n",
       "  <line x1=\"71\" y1=\"61\" x2=\"149\" y2=\"61\" />\n",
       "  <line x1=\"75\" y1=\"65\" x2=\"153\" y2=\"65\" />\n",
       "  <line x1=\"79\" y1=\"69\" x2=\"157\" y2=\"69\" />\n",
       "  <line x1=\"80\" y1=\"70\" x2=\"157\" y2=\"70\" style=\"stroke-width:2\" />\n",
       "\n",
       "  <!-- Vertical lines -->\n",
       "  <line x1=\"10\" y1=\"0\" x2=\"80\" y2=\"70\" style=\"stroke-width:2\" />\n",
       "  <line x1=\"87\" y1=\"0\" x2=\"157\" y2=\"70\" style=\"stroke-width:2\" />\n",
       "\n",
       "  <!-- Colored Rectangle -->\n",
       "  <polygon points=\"10.0,0.0 87.3917808219178,0.0 157.98001611603547,70.58823529411765 80.58823529411765,70.58823529411765\" style=\"fill:#8B4903A0;stroke-width:0\"/>\n",
       "\n",
       "  <!-- Horizontal lines -->\n",
       "  <line x1=\"80\" y1=\"70\" x2=\"157\" y2=\"70\" style=\"stroke-width:2\" />\n",
       "  <line x1=\"80\" y1=\"115\" x2=\"157\" y2=\"115\" style=\"stroke-width:2\" />\n",
       "\n",
       "  <!-- Vertical lines -->\n",
       "  <line x1=\"80\" y1=\"70\" x2=\"80\" y2=\"115\" style=\"stroke-width:2\" />\n",
       "  <line x1=\"157\" y1=\"70\" x2=\"157\" y2=\"115\" style=\"stroke-width:2\" />\n",
       "\n",
       "  <!-- Colored Rectangle -->\n",
       "  <polygon points=\"80.58823529411765,70.58823529411765 157.98001611603547,70.58823529411765 157.98001611603547,115.89234488315876 80.58823529411765,115.89234488315876\" style=\"fill:#ECB172A0;stroke-width:0\"/>\n",
       "\n",
       "  <!-- Text -->\n",
       "  <text x=\"119.284126\" y=\"135.892345\" font-size=\"1.0rem\" font-weight=\"100\" text-anchor=\"middle\" >1177</text>\n",
       "  <text x=\"177.980016\" y=\"93.240290\" font-size=\"1.0rem\" font-weight=\"100\" text-anchor=\"middle\" transform=\"rotate(-90,177.980016,93.240290)\">689</text>\n",
       "  <text x=\"35.294118\" y=\"100.598227\" font-size=\"1.0rem\" font-weight=\"100\" text-anchor=\"middle\" transform=\"rotate(45,35.294118,100.598227)\">1825</text>\n",
       "</svg>\n",
       "        </td>\n",
       "    </tr>\n",
       "</table></div></li><li class='xr-var-item'><div class='xr-var-name'><span>vwc</span></div><div class='xr-var-dims'>(time, lat, lon)</div><div class='xr-var-dtype'>float32</div><div class='xr-var-preview xr-preview'>dask.array&lt;chunksize=(100, 344, 589), meta=np.ndarray&gt;</div><input id='attrs-66c865ba-3c2c-41fd-9880-c22bf54ddd3a' class='xr-var-attrs-in' type='checkbox' disabled><label for='attrs-66c865ba-3c2c-41fd-9880-c22bf54ddd3a' title='Show/Hide attributes'><svg class='icon xr-icon-file-text2'><use xlink:href='#icon-file-text2'></use></svg></label><input id='data-d9ced762-ea65-4df5-9a70-4444a54cda61' class='xr-var-data-in' type='checkbox'><label for='data-d9ced762-ea65-4df5-9a70-4444a54cda61' title='Show/Hide data repr'><svg class='icon xr-icon-database'><use xlink:href='#icon-database'></use></svg></label><div class='xr-var-attrs'><dl class='xr-attrs'></dl></div><div class='xr-var-data'><table>\n",
       "    <tr>\n",
       "        <td>\n",
       "            <table style=\"border-collapse: collapse;\">\n",
       "                <thead>\n",
       "                    <tr>\n",
       "                        <td> </td>\n",
       "                        <th> Array </th>\n",
       "                        <th> Chunk </th>\n",
       "                    </tr>\n",
       "                </thead>\n",
       "                <tbody>\n",
       "                    \n",
       "                    <tr>\n",
       "                        <th> Bytes </th>\n",
       "                        <td> 5.51 GiB </td>\n",
       "                        <td> 77.52 MiB </td>\n",
       "                    </tr>\n",
       "                    \n",
       "                    <tr>\n",
       "                        <th> Shape </th>\n",
       "                        <td> (1825, 689, 1177) </td>\n",
       "                        <td> (100, 345, 589) </td>\n",
       "                    </tr>\n",
       "                    <tr>\n",
       "                        <th> Dask graph </th>\n",
       "                        <td colspan=\"2\"> 76 chunks in 4 graph layers </td>\n",
       "                    </tr>\n",
       "                    <tr>\n",
       "                        <th> Data type </th>\n",
       "                        <td colspan=\"2\"> float32 numpy.ndarray </td>\n",
       "                    </tr>\n",
       "                </tbody>\n",
       "            </table>\n",
       "        </td>\n",
       "        <td>\n",
       "        <svg width=\"207\" height=\"165\" style=\"stroke:rgb(0,0,0);stroke-width:1\" >\n",
       "\n",
       "  <!-- Horizontal lines -->\n",
       "  <line x1=\"10\" y1=\"0\" x2=\"80\" y2=\"70\" style=\"stroke-width:2\" />\n",
       "  <line x1=\"10\" y1=\"22\" x2=\"80\" y2=\"93\" />\n",
       "  <line x1=\"10\" y1=\"45\" x2=\"80\" y2=\"115\" style=\"stroke-width:2\" />\n",
       "\n",
       "  <!-- Vertical lines -->\n",
       "  <line x1=\"10\" y1=\"0\" x2=\"10\" y2=\"45\" style=\"stroke-width:2\" />\n",
       "  <line x1=\"13\" y1=\"3\" x2=\"13\" y2=\"49\" />\n",
       "  <line x1=\"17\" y1=\"7\" x2=\"17\" y2=\"53\" />\n",
       "  <line x1=\"21\" y1=\"11\" x2=\"21\" y2=\"56\" />\n",
       "  <line x1=\"25\" y1=\"15\" x2=\"25\" y2=\"60\" />\n",
       "  <line x1=\"29\" y1=\"19\" x2=\"29\" y2=\"64\" />\n",
       "  <line x1=\"33\" y1=\"23\" x2=\"33\" y2=\"68\" />\n",
       "  <line x1=\"37\" y1=\"27\" x2=\"37\" y2=\"72\" />\n",
       "  <line x1=\"40\" y1=\"30\" x2=\"40\" y2=\"76\" />\n",
       "  <line x1=\"44\" y1=\"34\" x2=\"44\" y2=\"80\" />\n",
       "  <line x1=\"48\" y1=\"38\" x2=\"48\" y2=\"83\" />\n",
       "  <line x1=\"52\" y1=\"42\" x2=\"52\" y2=\"87\" />\n",
       "  <line x1=\"56\" y1=\"46\" x2=\"56\" y2=\"91\" />\n",
       "  <line x1=\"60\" y1=\"50\" x2=\"60\" y2=\"95\" />\n",
       "  <line x1=\"64\" y1=\"54\" x2=\"64\" y2=\"99\" />\n",
       "  <line x1=\"68\" y1=\"58\" x2=\"68\" y2=\"103\" />\n",
       "  <line x1=\"71\" y1=\"61\" x2=\"71\" y2=\"107\" />\n",
       "  <line x1=\"75\" y1=\"65\" x2=\"75\" y2=\"111\" />\n",
       "  <line x1=\"79\" y1=\"69\" x2=\"79\" y2=\"114\" />\n",
       "  <line x1=\"80\" y1=\"70\" x2=\"80\" y2=\"115\" style=\"stroke-width:2\" />\n",
       "\n",
       "  <!-- Colored Rectangle -->\n",
       "  <polygon points=\"10.0,0.0 80.58823529411765,70.58823529411765 80.58823529411765,115.89234488315876 10.0,45.3041095890411\" style=\"fill:#8B4903A0;stroke-width:0\"/>\n",
       "\n",
       "  <!-- Horizontal lines -->\n",
       "  <line x1=\"10\" y1=\"0\" x2=\"87\" y2=\"0\" style=\"stroke-width:2\" />\n",
       "  <line x1=\"13\" y1=\"3\" x2=\"91\" y2=\"3\" />\n",
       "  <line x1=\"17\" y1=\"7\" x2=\"95\" y2=\"7\" />\n",
       "  <line x1=\"21\" y1=\"11\" x2=\"98\" y2=\"11\" />\n",
       "  <line x1=\"25\" y1=\"15\" x2=\"102\" y2=\"15\" />\n",
       "  <line x1=\"29\" y1=\"19\" x2=\"106\" y2=\"19\" />\n",
       "  <line x1=\"33\" y1=\"23\" x2=\"110\" y2=\"23\" />\n",
       "  <line x1=\"37\" y1=\"27\" x2=\"114\" y2=\"27\" />\n",
       "  <line x1=\"40\" y1=\"30\" x2=\"118\" y2=\"30\" />\n",
       "  <line x1=\"44\" y1=\"34\" x2=\"122\" y2=\"34\" />\n",
       "  <line x1=\"48\" y1=\"38\" x2=\"126\" y2=\"38\" />\n",
       "  <line x1=\"52\" y1=\"42\" x2=\"129\" y2=\"42\" />\n",
       "  <line x1=\"56\" y1=\"46\" x2=\"133\" y2=\"46\" />\n",
       "  <line x1=\"60\" y1=\"50\" x2=\"137\" y2=\"50\" />\n",
       "  <line x1=\"64\" y1=\"54\" x2=\"141\" y2=\"54\" />\n",
       "  <line x1=\"68\" y1=\"58\" x2=\"145\" y2=\"58\" />\n",
       "  <line x1=\"71\" y1=\"61\" x2=\"149\" y2=\"61\" />\n",
       "  <line x1=\"75\" y1=\"65\" x2=\"153\" y2=\"65\" />\n",
       "  <line x1=\"79\" y1=\"69\" x2=\"157\" y2=\"69\" />\n",
       "  <line x1=\"80\" y1=\"70\" x2=\"157\" y2=\"70\" style=\"stroke-width:2\" />\n",
       "\n",
       "  <!-- Vertical lines -->\n",
       "  <line x1=\"10\" y1=\"0\" x2=\"80\" y2=\"70\" style=\"stroke-width:2\" />\n",
       "  <line x1=\"48\" y1=\"0\" x2=\"119\" y2=\"70\" />\n",
       "  <line x1=\"87\" y1=\"0\" x2=\"157\" y2=\"70\" style=\"stroke-width:2\" />\n",
       "\n",
       "  <!-- Colored Rectangle -->\n",
       "  <polygon points=\"10.0,0.0 87.3917808219178,0.0 157.98001611603547,70.58823529411765 80.58823529411765,70.58823529411765\" style=\"fill:#8B4903A0;stroke-width:0\"/>\n",
       "\n",
       "  <!-- Horizontal lines -->\n",
       "  <line x1=\"80\" y1=\"70\" x2=\"157\" y2=\"70\" style=\"stroke-width:2\" />\n",
       "  <line x1=\"80\" y1=\"93\" x2=\"157\" y2=\"93\" />\n",
       "  <line x1=\"80\" y1=\"115\" x2=\"157\" y2=\"115\" style=\"stroke-width:2\" />\n",
       "\n",
       "  <!-- Vertical lines -->\n",
       "  <line x1=\"80\" y1=\"70\" x2=\"80\" y2=\"115\" style=\"stroke-width:2\" />\n",
       "  <line x1=\"119\" y1=\"70\" x2=\"119\" y2=\"115\" />\n",
       "  <line x1=\"157\" y1=\"70\" x2=\"157\" y2=\"115\" style=\"stroke-width:2\" />\n",
       "\n",
       "  <!-- Colored Rectangle -->\n",
       "  <polygon points=\"80.58823529411765,70.58823529411765 157.98001611603547,70.58823529411765 157.98001611603547,115.89234488315876 80.58823529411765,115.89234488315876\" style=\"fill:#ECB172A0;stroke-width:0\"/>\n",
       "\n",
       "  <!-- Text -->\n",
       "  <text x=\"119.284126\" y=\"135.892345\" font-size=\"1.0rem\" font-weight=\"100\" text-anchor=\"middle\" >1177</text>\n",
       "  <text x=\"177.980016\" y=\"93.240290\" font-size=\"1.0rem\" font-weight=\"100\" text-anchor=\"middle\" transform=\"rotate(-90,177.980016,93.240290)\">689</text>\n",
       "  <text x=\"35.294118\" y=\"100.598227\" font-size=\"1.0rem\" font-weight=\"100\" text-anchor=\"middle\" transform=\"rotate(45,35.294118,100.598227)\">1825</text>\n",
       "</svg>\n",
       "        </td>\n",
       "    </tr>\n",
       "</table></div></li></ul></div></li><li class='xr-section-item'><input id='section-5a927b9b-b54d-4205-aa0b-96e595567191' class='xr-section-summary-in' type='checkbox'  ><label for='section-5a927b9b-b54d-4205-aa0b-96e595567191' class='xr-section-summary' >Indexes: <span>(3)</span></label><div class='xr-section-inline-details'></div><div class='xr-section-details'><ul class='xr-var-list'><li class='xr-var-item'><div class='xr-index-name'><div>lon</div></div><div class='xr-index-preview'>PandasIndex</div><div></div><input id='index-45457b51-7f92-4b25-9d2f-b13bccc34e4d' class='xr-index-data-in' type='checkbox'/><label for='index-45457b51-7f92-4b25-9d2f-b13bccc34e4d' title='Show/Hide index repr'><svg class='icon xr-icon-database'><use xlink:href='#icon-database'></use></svg></label><div class='xr-index-data'><pre>PandasIndex(Index([5.0791666666666675,  5.088333333333335,  5.097500000000004,\n",
       "        5.106666666666671,   5.11583333333334,  5.125000000000007,\n",
       "        5.134166666666676,  5.143333333333343,  5.152500000000012,\n",
       "       5.1616666666666795,\n",
       "       ...\n",
       "       15.776666666668339, 15.785833333335008, 15.795000000001675,\n",
       "       15.804166666668344, 15.813333333335011,  15.82250000000168,\n",
       "       15.831666666668347, 15.840833333335016, 15.850000000001684,\n",
       "       15.859166666668353],\n",
       "      dtype=&#x27;float64&#x27;, name=&#x27;lon&#x27;, length=1177))</pre></div></li><li class='xr-var-item'><div class='xr-index-name'><div>lat</div></div><div class='xr-index-preview'>PandasIndex</div><div></div><input id='index-4a0789a7-a993-487e-82a5-309334938066' class='xr-index-data-in' type='checkbox'/><label for='index-4a0789a7-a993-487e-82a5-309334938066' title='Show/Hide index repr'><svg class='icon xr-icon-database'><use xlink:href='#icon-database'></use></svg></label><div class='xr-index-data'><pre>PandasIndex(Index([ 50.02666666666667,  50.01750000000001, 50.008333333333354,\n",
       "       49.999166666666696,  49.99000000000004,  49.98083333333338,\n",
       "        49.97166666666672,  49.96250000000006, 49.953333333333404,\n",
       "       49.944166666666746,\n",
       "       ...\n",
       "       43.802500000005665,  43.79333333333901,  43.78416666667235,\n",
       "        43.77500000000569,  43.76583333333903,  43.75666666667237,\n",
       "       43.747500000005715,  43.73833333333906,   43.7291666666724,\n",
       "        43.72000000000574],\n",
       "      dtype=&#x27;float64&#x27;, name=&#x27;lat&#x27;, length=689))</pre></div></li><li class='xr-var-item'><div class='xr-index-name'><div>time</div></div><div class='xr-index-preview'>PandasIndex</div><div></div><input id='index-53b381e9-b159-407c-ae84-22681e857820' class='xr-index-data-in' type='checkbox'/><label for='index-53b381e9-b159-407c-ae84-22681e857820' title='Show/Hide index repr'><svg class='icon xr-icon-database'><use xlink:href='#icon-database'></use></svg></label><div class='xr-index-data'><pre>PandasIndex(DatetimeIndex([&#x27;2015-01-02&#x27;, &#x27;2015-01-03&#x27;, &#x27;2015-01-04&#x27;, &#x27;2015-01-05&#x27;,\n",
       "               &#x27;2015-01-06&#x27;, &#x27;2015-01-07&#x27;, &#x27;2015-01-08&#x27;, &#x27;2015-01-09&#x27;,\n",
       "               &#x27;2015-01-10&#x27;, &#x27;2015-01-11&#x27;,\n",
       "               ...\n",
       "               &#x27;2019-12-22&#x27;, &#x27;2019-12-23&#x27;, &#x27;2019-12-24&#x27;, &#x27;2019-12-25&#x27;,\n",
       "               &#x27;2019-12-26&#x27;, &#x27;2019-12-27&#x27;, &#x27;2019-12-28&#x27;, &#x27;2019-12-29&#x27;,\n",
       "               &#x27;2019-12-30&#x27;, &#x27;2019-12-31&#x27;],\n",
       "              dtype=&#x27;datetime64[ns]&#x27;, name=&#x27;time&#x27;, length=1825, freq=None))</pre></div></li></ul></div></li><li class='xr-section-item'><input id='section-56ee6d97-79ca-4dd2-acb4-b526445d06b2' class='xr-section-summary-in' type='checkbox' disabled ><label for='section-56ee6d97-79ca-4dd2-acb4-b526445d06b2' class='xr-section-summary'  title='Expand/collapse section'>Attributes: <span>(0)</span></label><div class='xr-section-inline-details'></div><div class='xr-section-details'><dl class='xr-attrs'></dl></div></li></ul></div></div>"
      ],
      "text/plain": [
       "<xarray.Dataset>\n",
       "Dimensions:  (lon: 1177, lat: 689, time: 1825)\n",
       "Coordinates:\n",
       "  * lon      (lon) float64 5.079 5.088 5.098 5.107 ... 15.83 15.84 15.85 15.86\n",
       "  * lat      (lat) float64 50.03 50.02 50.01 50.0 ... 43.75 43.74 43.73 43.72\n",
       "    layer    float64 1.0\n",
       "  * time     (time) datetime64[ns] 2015-01-02 2015-01-03 ... 2019-12-31\n",
       "Data variables:\n",
       "    actevap  (time, lat, lon) float32 dask.array<chunksize=(100, 689, 1177), meta=np.ndarray>\n",
       "    q_river  (time, lat, lon) float32 dask.array<chunksize=(100, 689, 1177), meta=np.ndarray>\n",
       "    vwc      (time, lat, lon) float32 dask.array<chunksize=(100, 344, 589), meta=np.ndarray>"
      ]
     },
     "execution_count": 10,
     "metadata": {},
     "output_type": "execute_result"
    }
   ],
   "source": [
    "target_ds"
   ]
  },
  {
   "cell_type": "markdown",
   "id": "34632ae5-0d6b-430d-afea-c7319b9a18b4",
   "metadata": {},
   "source": [
    "## Preparation"
   ]
  },
  {
   "cell_type": "code",
   "execution_count": 11,
   "id": "4aa64fee-7e75-4f2a-b9ef-8be4daab21fc",
   "metadata": {
    "tags": []
   },
   "outputs": [],
   "source": [
    "if timeslice:\n",
    "\n",
    "    dyn_vars_ds = dyn_vars_ds.sel(time=timeslice)\n",
    "    target_ds = target_ds.sel(time=timeslice)\n",
    "    target_ds.dims,dyn_vars_ds.dims"
   ]
  },
  {
   "cell_type": "code",
   "execution_count": 12,
   "id": "434201ab",
   "metadata": {
    "tags": []
   },
   "outputs": [],
   "source": [
    "mask_lakes = (target_ds.mean(dim = \"time\")[\"actevap\"] == 0).astype(np.bool_)"
   ]
  },
  {
   "cell_type": "code",
   "execution_count": 13,
   "id": "1f95e56e",
   "metadata": {
    "tags": []
   },
   "outputs": [
    {
     "data": {
      "text/plain": [
       "([1177, 689], 1461)"
      ]
     },
     "execution_count": 13,
     "metadata": {},
     "output_type": "execute_result"
    }
   ],
   "source": [
    "dim_space = list(dyn_vars_ds.dims.values())[1:] # lon, lat\n",
    "dim_time = list(dyn_vars_ds.dims.values())[0] # tim\n",
    "dim_space, dim_time"
   ]
  },
  {
   "cell_type": "code",
   "execution_count": 14,
   "id": "b2626488-5874-4b93-bba3-c92394d5a261",
   "metadata": {
    "tags": []
   },
   "outputs": [
    {
     "name": "stdout",
     "output_type": "stream",
     "text": [
      "grid_0_0_0.npz\t grid_10_0_5.npz   grid_30_0_15.npz\n",
      "grid_10_0_3.npz  grid_20_0_10.npz  grid_30_0_3.npz\n"
     ]
    }
   ],
   "source": [
    "!ls /mnt/CEPH_PROJECTS/InterTwin/Surrogate_Model/temp/"
   ]
  },
  {
   "cell_type": "code",
   "execution_count": 15,
   "id": "d759a25b-99c1-4e96-9653-51ebab43cf06",
   "metadata": {
    "tags": []
   },
   "outputs": [],
   "source": [
    "intervals = (10, 10)\n",
    "train_origin = (0, 0)\n",
    "valid_origin =  (3, 3)\n",
    "test_origin =  (9, 9)\n",
    "\n",
    "compute = False\n",
    "save = False"
   ]
  },
  {
   "cell_type": "markdown",
   "id": "6909b2f6-5e1d-474c-a0ed-f7287e5fc408",
   "metadata": {},
   "source": [
    "### Preprocess"
   ]
  },
  {
   "cell_type": "code",
   "execution_count": 16,
   "id": "a200889a-0650-4ca8-b2b6-b19a4c6bd090",
   "metadata": {
    "tags": []
   },
   "outputs": [],
   "source": [
    "# mask lakes\n",
    "remove_lakes = True\n",
    "if remove_lakes:\n",
    "    target_ds = target_ds.where(~mask_lakes, np.nan)\n",
    "    dyn_vars_ds = dyn_vars_ds.where(~mask_lakes, np.nan)\n",
    "    static_params_ds = static_params_ds.where(~mask_lakes, np.nan)\n",
    "\n",
    "#"
   ]
  },
  {
   "cell_type": "code",
   "execution_count": 17,
   "id": "d15c92af",
   "metadata": {
    "tags": []
   },
   "outputs": [
    {
     "name": "stdout",
     "output_type": "stream",
     "text": [
      "Xd\n",
      "Xs\n",
      "Y\n",
      "dims\n",
      "Xd_valid\n",
      "Xs_valid\n",
      "Y_valid\n",
      "dims_valid\n",
      "meta\n",
      "meta_valid\n"
     ]
    }
   ],
   "source": [
    "if compute: \n",
    "    Xd, Xs, Y, dims, meta = preprocess(dyn_vars_ds, \n",
    "                       static_params_ds, \n",
    "                       target_ds, \n",
    "                       dynamic_name = dynamic_names,\n",
    "                       static_name = static_names, \n",
    "                       target_name = target_names, \n",
    "                       sampler = Sampler(intervals = intervals,\n",
    "                                         origin = train_origin),\n",
    "                        return_sampler_meta = True\n",
    "                       )\n",
    "    Xd_valid, Xs_valid, Y_valid, dims_valid, meta_valid = preprocess(dyn_vars_ds, \n",
    "                       static_params_ds, \n",
    "                       target_ds, \n",
    "                       dynamic_name = dynamic_names,\n",
    "                       static_name = static_names, \n",
    "                       target_name = target_names, \n",
    "                       sampler = Sampler(intervals = intervals,\n",
    "                                         origin = valid_origin),\n",
    "                      return_sampler_meta = True\n",
    "                       )\n",
    "else:\n",
    "    loaded = np.load(f'/mnt/CEPH_PROJECTS/InterTwin/Surrogate_Model/temp/grid_{intervals[0]}_{train_origin[0]}_{valid_origin[0]}.npz',\n",
    "                    allow_pickle=True)\n",
    "    for ff in loaded.files:\n",
    "        print(ff)\n",
    "        if \"dims\" in ff:\n",
    "            exec(f\"{ff}=loaded['{ff}'].tolist()\")\n",
    "        else:\n",
    "            exec(f\"{ff}=loaded['{ff}']\")"
   ]
  },
  {
   "cell_type": "code",
   "execution_count": 18,
   "id": "37a15a97-12ec-4128-b863-4f0f2d7960e0",
   "metadata": {
    "tags": []
   },
   "outputs": [],
   "source": [
    "if save:\n",
    "    np.savez_compressed(f'/mnt/CEPH_PROJECTS/InterTwin/Surrogate_Model/temp/grid_{intervals[0]}_{train_origin[0]}_{valid_origin[0]}'\n",
    "                    , Xd=Xd, Xs=Xs, Y=Y, dims=dims, Xd_valid=Xd_valid, Xs_valid=Xs_valid,\n",
    "                       Y_valid=Y_valid, dims_valid=dims_valid, meta=meta, meta_valid=meta_valid)"
   ]
  },
  {
   "cell_type": "code",
   "execution_count": 19,
   "id": "15264f62-f26b-4e87-8806-065978e5f7c8",
   "metadata": {
    "tags": []
   },
   "outputs": [],
   "source": [
    "# Xd_test, Xs_test, Y_test, dims_test = preprocess(dyn_vars_ds, \n",
    "#                        static_params_ds, \n",
    "#                        target_ds, \n",
    "#                        dynamic_name = dynamic_names,\n",
    "#                        static_name = static_names, \n",
    "#                        target_name = target_names, \n",
    "#                        sampler = Sampler(intervals = intervals,\n",
    "#                                          origin = test_origin)\n",
    "#                        )"
   ]
  },
  {
   "cell_type": "code",
   "execution_count": 20,
   "id": "f2a8a9f9-bb9b-4847-897e-a8e3b57b3111",
   "metadata": {
    "tags": []
   },
   "outputs": [],
   "source": [
    "#plot_sampler(static_params_ds.wflow_dem, meta, meta_valid)"
   ]
  },
  {
   "cell_type": "markdown",
   "id": "9e7578a0",
   "metadata": {},
   "source": [
    "### Correct negative values in actevap "
   ]
  },
  {
   "cell_type": "code",
   "execution_count": 21,
   "id": "27c41b35-fbae-49b7-ac7b-071fe0c538a8",
   "metadata": {
    "tags": []
   },
   "outputs": [],
   "source": [
    "if (Y < 0).any():\n",
    "    print(\"found negative values\")\n",
    "    Y = np.where(Y < 0, 0, Y)"
   ]
  },
  {
   "cell_type": "code",
   "execution_count": 22,
   "id": "f6fd6260-4ac6-406c-a799-17ad1a7fa71a",
   "metadata": {
    "tags": []
   },
   "outputs": [],
   "source": [
    "# Y = Y[:,:,[0]]"
   ]
  },
  {
   "cell_type": "code",
   "execution_count": 23,
   "id": "465c92b0-3ba7-4e4e-b15f-8d9358d7f6ed",
   "metadata": {
    "tags": []
   },
   "outputs": [],
   "source": [
    "# Y_valid = Y_valid[:,:,[0]]"
   ]
  },
  {
   "cell_type": "markdown",
   "id": "38b105c0-f154-42ac-938c-0d62bdcc92b6",
   "metadata": {},
   "source": [
    "### Remove missing"
   ]
  },
  {
   "cell_type": "code",
   "execution_count": 24,
   "id": "22bf123b-7920-40d1-b775-50f93f143d9f",
   "metadata": {
    "tags": []
   },
   "outputs": [
    {
     "data": {
      "text/plain": [
       "(8142, 1461, 2)"
      ]
     },
     "execution_count": 24,
     "metadata": {},
     "output_type": "execute_result"
    }
   ],
   "source": [
    "Y.shape"
   ]
  },
  {
   "cell_type": "code",
   "execution_count": 25,
   "id": "b5dd2316",
   "metadata": {
    "tags": []
   },
   "outputs": [],
   "source": [
    "# find indices of missing values\n",
    "idx = missing_location_idx(Xs)"
   ]
  },
  {
   "cell_type": "code",
   "execution_count": 26,
   "id": "c99ddc16",
   "metadata": {
    "tags": []
   },
   "outputs": [],
   "source": [
    "# find indices of missing values\n",
    "idx_valid = missing_location_idx(Xs_valid)"
   ]
  },
  {
   "cell_type": "code",
   "execution_count": 27,
   "id": "4cacaa81",
   "metadata": {
    "tags": []
   },
   "outputs": [],
   "source": [
    "Xd_clean = Xd[~idx]\n",
    "Xs_clean = Xs[~idx]\n",
    "Y_clean = Y[~idx]\n",
    "\n",
    "Xd_valid_clean = Xd_valid[~idx_valid]\n",
    "Xs_valid_clean = Xs_valid[~idx_valid]\n",
    "Y_valid_clean = Y_valid[~idx_valid]"
   ]
  },
  {
   "cell_type": "code",
   "execution_count": 28,
   "id": "a1c95fee-32c2-4f69-8d1b-e86ae799e13a",
   "metadata": {
    "tags": []
   },
   "outputs": [
    {
     "data": {
      "text/plain": [
       "((8142, 1461, 3), (3723, 1461, 3), (3723, 8), (3723, 1461, 2))"
      ]
     },
     "execution_count": 28,
     "metadata": {},
     "output_type": "execute_result"
    }
   ],
   "source": [
    "Xd.shape, Xd_clean.shape, Xs_clean.shape, Y_clean.shape"
   ]
  },
  {
   "cell_type": "code",
   "execution_count": 29,
   "id": "4f4c7f6e",
   "metadata": {
    "tags": []
   },
   "outputs": [
    {
     "data": {
      "text/plain": [
       "(False, False, False, False, False, False)"
      ]
     },
     "execution_count": 29,
     "metadata": {},
     "output_type": "execute_result"
    }
   ],
   "source": [
    "np.isnan(Xd_clean).any(), np.isnan(Xs_clean).any(), np.isnan(Y_clean).any(),np.isnan(Xd_valid_clean).any(), np.isnan(Xs_valid_clean).any(), np.isnan(Y_valid_clean).any()"
   ]
  },
  {
   "cell_type": "markdown",
   "id": "9725c520-dd56-42f4-9295-609fc442707b",
   "metadata": {},
   "source": [
    "### Normalization"
   ]
  },
  {
   "cell_type": "code",
   "execution_count": 30,
   "id": "f3bc4a8e-8927-4dec-994c-6f341556b926",
   "metadata": {
    "tags": []
   },
   "outputs": [],
   "source": [
    "Xd_clean, d_m, d_std = apply_normalization(Xd_clean, type = \"spacetime\", how ='standard')\n",
    "Xs_clean, s_m, s_std = apply_normalization(Xs_clean, type = \"space\", how ='standard')"
   ]
  },
  {
   "cell_type": "code",
   "execution_count": 31,
   "id": "8abddbb2-a9c8-46c5-a52e-64392f37b8fc",
   "metadata": {
    "tags": []
   },
   "outputs": [],
   "source": [
    "Y_clean, y_m1, y_m2 = apply_normalization(Y_clean, type = \"spacetime\", how ='minmax')"
   ]
  },
  {
   "cell_type": "code",
   "execution_count": 32,
   "id": "6dcddb8a",
   "metadata": {
    "tags": []
   },
   "outputs": [
    {
     "data": {
      "text/plain": [
       "((8,), (3,), (2,))"
      ]
     },
     "execution_count": 32,
     "metadata": {},
     "output_type": "execute_result"
    }
   ],
   "source": [
    "s_std.shape,d_std.shape,y_m1.shape"
   ]
  },
  {
   "cell_type": "code",
   "execution_count": 33,
   "id": "d72f5e46-2ed2-47c3-a24b-6804de4d6364",
   "metadata": {
    "tags": []
   },
   "outputs": [],
   "source": [
    "Xd_valid_clean = apply_normalization(Xd_valid_clean, type = \"spacetime\", how ='standard', m1 = d_m, m2 = d_std)\n",
    "Xs_valid_clean = apply_normalization(Xs_valid_clean, type = \"space\", how ='standard', m1 = s_m, m2 = s_std)"
   ]
  },
  {
   "cell_type": "code",
   "execution_count": 34,
   "id": "24c8eb91-d13b-4e1c-8642-de59f9e1d63c",
   "metadata": {
    "tags": []
   },
   "outputs": [],
   "source": [
    "Y_valid_clean = apply_normalization(Y_valid_clean, type = \"spacetime\", how ='minmax', m1 = y_m1, m2 = y_m2)"
   ]
  },
  {
   "cell_type": "code",
   "execution_count": 35,
   "id": "f41203da",
   "metadata": {
    "tags": []
   },
   "outputs": [
    {
     "data": {
      "text/plain": [
       "(False, False, False, False, False, False)"
      ]
     },
     "execution_count": 35,
     "metadata": {},
     "output_type": "execute_result"
    }
   ],
   "source": [
    "np.isnan(Xd_clean).any(), np.isnan(Xs_clean).any(), np.isnan(Y_clean).any(),np.isnan(Xd_valid_clean).any(), np.isnan(Xs_valid_clean).any(), np.isnan(Y_valid_clean).any()"
   ]
  },
  {
   "cell_type": "code",
   "execution_count": 36,
   "id": "d17fde5b",
   "metadata": {
    "tags": []
   },
   "outputs": [
    {
     "data": {
      "text/plain": [
       "<matplotlib.colorbar.Colorbar at 0x7efc16271690>"
      ]
     },
     "execution_count": 36,
     "metadata": {},
     "output_type": "execute_result"
    },
    {
     "data": {
      "image/png": "[encoded data removed]",
      "text/plain": [
       "<Figure size 640x480 with 2 Axes>"
      ]
     },
     "metadata": {},
     "output_type": "display_data"
    }
   ],
   "source": [
    "plt.imshow(reconstruct_from_missing(Xs_clean, Xs.shape, idx)[:,2].reshape(*dims[\"sampled_dims\"][:2]))\n",
    "plt.colorbar()"
   ]
  },
  {
   "cell_type": "code",
   "execution_count": 37,
   "id": "cb16b041-c4a7-4298-b588-2c3d8cdbd7aa",
   "metadata": {
    "tags": []
   },
   "outputs": [],
   "source": [
    "Xs_clean = torch.Tensor(Xs_clean)\n",
    "Xs_valid_clean = torch.Tensor(Xs_valid_clean)\n",
    "\n",
    "Xd_clean = torch.Tensor(Xd_clean)\n",
    "Xd_valid_clean = torch.Tensor(Xd_valid_clean)\n",
    "\n",
    "Y_clean = torch.Tensor(Y_clean)\n",
    "Y_valid_clean = torch.Tensor(Y_valid_clean)"
   ]
  },
  {
   "cell_type": "markdown",
   "id": "baa13d1c-1c1f-455a-8b26-22073f9ccda8",
   "metadata": {},
   "source": [
    "### Preparing data loader"
   ]
  },
  {
   "cell_type": "code",
   "execution_count": 38,
   "id": "b983afe2-889a-4ff0-b646-c98c0b504e58",
   "metadata": {
    "tags": []
   },
   "outputs": [
    {
     "data": {
      "text/plain": [
       "(11, 2)"
      ]
     },
     "execution_count": 38,
     "metadata": {},
     "output_type": "execute_result"
    }
   ],
   "source": [
    "nx = Xd.shape[-1] + Xs.shape[-1]\n",
    "ny = Y.shape[-1]\n",
    "nx, ny"
   ]
  },
  {
   "cell_type": "code",
   "execution_count": 39,
   "id": "559d3cd1",
   "metadata": {
    "tags": []
   },
   "outputs": [],
   "source": [
    "\n",
    "spatial_batch_size =  256 # int(512 / 4)\n",
    "temporal_sampling_size = 130\n",
    "seq_length = 360\n"
   ]
  },
  {
   "cell_type": "code",
   "execution_count": 40,
   "id": "60259465",
   "metadata": {
    "tags": []
   },
   "outputs": [],
   "source": [
    "train_dataset = LSTMDataset(Xd_clean, Y_clean, Xs_clean, create_seq=False)"
   ]
  },
  {
   "cell_type": "code",
   "execution_count": 41,
   "id": "3e3b27e7-d9d9-41e2-9ea2-350fd700962b",
   "metadata": {
    "tags": []
   },
   "outputs": [],
   "source": [
    "val_dataset = LSTMDataset(Xd_valid_clean, Y_valid_clean, Xs_valid_clean, create_seq=False)"
   ]
  },
  {
   "cell_type": "code",
   "execution_count": 42,
   "id": "cd7e30c7-12ac-47b0-8972-588af45a9c90",
   "metadata": {
    "tags": []
   },
   "outputs": [],
   "source": [
    "# PyTorch DataLoader\n",
    "#data_loader = DataLoader(dataset, batch_size=spatial_batch_size, shuffle=False)\n",
    "train_loader = DataLoader(train_dataset, batch_size=spatial_batch_size, shuffle=True)\n",
    "val_loader = DataLoader(val_dataset, batch_size=spatial_batch_size, shuffle=False)"
   ]
  },
  {
   "cell_type": "code",
   "execution_count": 43,
   "id": "930a85ea",
   "metadata": {
    "tags": []
   },
   "outputs": [
    {
     "name": "stdout",
     "output_type": "stream",
     "text": [
      "torch.Size([256, 1461, 3]) torch.float32\n",
      "torch.Size([256, 8]) torch.float32\n",
      "torch.Size([256, 1461, 2]) torch.float32\n"
     ]
    }
   ],
   "source": [
    "# Invistigate the dataset \n",
    "for x1, x2, y in train_loader:\n",
    "    print(x1.shape, x1.dtype)\n",
    "    print(x2.shape, x2.dtype)\n",
    "    print(y.shape, y.dtype)\n",
    "    break"
   ]
  },
  {
   "cell_type": "code",
   "execution_count": 44,
   "id": "68c9b575-7629-4eef-8113-b8a5c73e8f28",
   "metadata": {
    "tags": []
   },
   "outputs": [
    {
     "data": {
      "text/plain": [
       "[<matplotlib.lines.Line2D at 0x7efc16104c10>]"
      ]
     },
     "execution_count": 44,
     "metadata": {},
     "output_type": "execute_result"
    },
    {
     "data": {
      "image/png": "[encoded data removed]",
      "text/plain": [
       "<Figure size 1000x200 with 1 Axes>"
      ]
     },
     "metadata": {},
     "output_type": "display_data"
    },
    {
     "data": {
      "image/png": "[encoded data removed]",
      "text/plain": [
       "<Figure size 1000x200 with 1 Axes>"
      ]
     },
     "metadata": {},
     "output_type": "display_data"
    }
   ],
   "source": [
    "plt.figure(figsize= (10, 2))\n",
    "plt.plot(y[12, :, 0])\n",
    "plt.figure(figsize= (10, 2))\n",
    "plt.plot(y[12, :, 1])"
   ]
  },
  {
   "cell_type": "markdown",
   "id": "1ee7952e-9447-41a0-a5b2-e1cf3291d022",
   "metadata": {
    "tags": []
   },
   "source": [
    "### Setting up model"
   ]
  },
  {
   "cell_type": "code",
   "execution_count": 45,
   "id": "43679253-45e8-4f9d-bbc9-c2bc035c434a",
   "metadata": {
    "tags": []
   },
   "outputs": [
    {
     "data": {
      "text/plain": [
       "{'input_size': 3,\n",
       " 'hidden_size': 256,\n",
       " 'output_size': 2,\n",
       " 'number_static_predictors': 8}"
      ]
     },
     "execution_count": 45,
     "metadata": {},
     "output_type": "execute_result"
    }
   ],
   "source": [
    "experiment_name = \"multi1\"\n",
    "\n",
    "hidden_size = 256\n",
    "\n",
    "model_params={\n",
    "    \"input_size\": 3, #number of dynamic predictors - user_input\n",
    "    \"hidden_size\": hidden_size, # user_input\n",
    "    \"output_size\": Y.shape[-1], # number_target - user_input\n",
    "    \"number_static_predictors\": len(static_names), #number of static parameters - user_input \n",
    "\n",
    "}\n",
    "\n",
    "## The used device for training\n",
    "device = torch.device(\"cuda:0\" if torch.cuda.is_available() else \"cpu\")\n",
    "\n",
    "model_params"
   ]
  },
  {
   "cell_type": "code",
   "execution_count": 46,
   "id": "d3295ee3-8e53-4846-8872-88e356e3da19",
   "metadata": {
    "tags": []
   },
   "outputs": [
    {
     "data": {
      "text/plain": [
       "CustomLSTM(\n",
       "  (fc0): Linear(in_features=11, out_features=256, bias=True)\n",
       "  (lstm): LSTM(256, 256, batch_first=True)\n",
       "  (fc1): Linear(in_features=256, out_features=64, bias=True)\n",
       "  (fc2): Linear(in_features=64, out_features=2, bias=True)\n",
       ")"
      ]
     },
     "execution_count": 46,
     "metadata": {},
     "output_type": "execute_result"
    }
   ],
   "source": [
    "model = CustomLSTM(model_params)\n",
    "#model = CudnnLstmModel(nx = nx, ny =  ny, hiddenSize =  hidden_size)\n",
    "model = model.to(device)\n",
    "model"
   ]
  },
  {
   "cell_type": "markdown",
   "id": "887d179c-5848-4601-a30d-f192ded09832",
   "metadata": {},
   "source": [
    "#### Metrics"
   ]
  },
  {
   "cell_type": "code",
   "execution_count": 181,
   "id": "e8ca6929",
   "metadata": {
    "tags": []
   },
   "outputs": [],
   "source": [
    "set_seed(2023)\n",
    "\n",
    "target_names = ['sm', 'evp']\n",
    "\n",
    "# Training and validation \n",
    "path2models= \"./checkpoints\" \n",
    "if not os.path.exists(path2models):\n",
    "    os.mkdir(path2models)\n",
    "    \n",
    "## Where to save the trained models weights \n",
    "## Set the optimization algorithms and learning rate\n",
    "opt = optim.Adam(model.parameters(), lr=1e-2)\n",
    "\n",
    "## Set the loss function\n",
    "loss_fn = RMSELoss(target_weight={'sm':0.5, 'actevap':0.5}) \n",
    "\n",
    "## Set the metric function - here using MSE\n",
    "metric_fn = mse_metric \n",
    "\n",
    "## Set the learning rate scheduler\n",
    "lr_scheduler = ReduceLROnPlateau(opt, mode='min',factor=0.5, patience=10)"
   ]
  },
  {
   "cell_type": "code",
   "execution_count": 192,
   "id": "9ef33ecf",
   "metadata": {
    "tags": []
   },
   "outputs": [
    {
     "data": {
      "text/plain": [
       "hython.models.lstm.CustomLSTM"
      ]
     },
     "execution_count": 192,
     "metadata": {},
     "output_type": "execute_result"
    }
   ],
   "source": [
    "\n",
    "epochs = 100\n",
    "\n",
    "## Set the training parameters\n",
    "params_train={\n",
    "    \"num_epochs\": epochs,\n",
    "    \"temporal_sampling_size\": temporal_sampling_size,\n",
    "    \"seq_length\": seq_length,\n",
    "    \"ts_range\": Y.shape[1],\n",
    "    \"optimizer\": opt,\n",
    "    \"loss_func\": loss_fn,\n",
    "    \"metric_func\": metric_fn,\n",
    "    \"target_names\": target_names,\n",
    "    \"train_dl\": train_loader, \n",
    "    \"val_dl\": val_loader,\n",
    "    \"lr_scheduler\": lr_scheduler,\n",
    "    \"path2weights\": f\"{path2models}/{experiment_name}-weights.pt\",\n",
    "    \"device\":device\n",
    "\n",
    "}\n",
    "\n",
    "\n",
    "type(model)"
   ]
  },
  {
   "cell_type": "code",
   "execution_count": 193,
   "id": "552bfc81",
   "metadata": {
    "tags": []
   },
   "outputs": [
    {
     "data": {
      "text/plain": [
       "CustomLSTM(\n",
       "  (fc0): Linear(in_features=11, out_features=256, bias=True)\n",
       "  (lstm): LSTM(256, 256, batch_first=True)\n",
       "  (fc1): Linear(in_features=256, out_features=64, bias=True)\n",
       "  (fc2): Linear(in_features=64, out_features=2, bias=True)\n",
       ")"
      ]
     },
     "execution_count": 193,
     "metadata": {},
     "output_type": "execute_result"
    }
   ],
   "source": [
    "model"
   ]
  },
  {
   "cell_type": "markdown",
   "id": "0c0fe116-e157-4dee-aebd-708e39c8e216",
   "metadata": {
    "tags": []
   },
   "source": [
    "## Running"
   ]
  },
  {
   "cell_type": "code",
   "execution_count": null,
   "id": "7d9f1387",
   "metadata": {
    "scrolled": true,
    "tags": []
   },
   "outputs": [
    {
     "name": "stdout",
     "output_type": "stream",
     "text": [
      "Epoch 0/99, current lr=0.01\n",
      "Copied best model weights!\n",
      "train loss: 0.05214013531804085, train metric: {'sm': 0.0038412586, 'evp': 0.0027002336}\n",
      "val loss: 0.1676795333623886, val metric: {'sm': 0.035429772, 'evp': 0.027194526}\n",
      "----------\n",
      "Epoch 1/99, current lr=0.01\n",
      "train loss: 0.05298939347267151, train metric: {'sm': 0.0039600357, 'evp': 0.0027582117}\n",
      "val loss: 0.18703573942184448, val metric: {'sm': 0.043796014, 'evp': 0.03522408}\n",
      "----------\n",
      "Epoch 2/99, current lr=0.01\n",
      "train loss: 0.05458671599626541, train metric: {'sm': 0.0043851472, 'evp': 0.0028453195}\n",
      "val loss: 0.2635686695575714, val metric: {'sm': 0.0888811, 'evp': 0.06578263}\n",
      "----------\n",
      "Epoch 3/99, current lr=0.01\n",
      "train loss: 0.0527535155415535, train metric: {'sm': 0.0041092355, 'evp': 0.0027988607}\n",
      "val loss: 0.190193772315979, val metric: {'sm': 0.025885684, 'evp': 0.058075167}\n",
      "----------\n",
      "Epoch 4/99, current lr=0.01\n",
      "train loss: 0.050383687019348145, train metric: {'sm': 0.0040164436, 'evp': 0.0021763267}\n",
      "val loss: 0.16978870332241058, val metric: {'sm': 0.037626307, 'evp': 0.02733103}\n",
      "----------\n",
      "Epoch 5/99, current lr=0.01\n",
      "train loss: 0.05638870224356651, train metric: {'sm': 0.004397846, 'evp': 0.0032897922}\n",
      "val loss: 0.26249292492866516, val metric: {'sm': 0.12198913, 'evp': 0.03994969}\n",
      "----------\n",
      "Epoch 6/99, current lr=0.01\n",
      "train loss: 0.05380072444677353, train metric: {'sm': 0.0041817073, 'evp': 0.0028616914}\n",
      "val loss: 0.19921718537807465, val metric: {'sm': 0.04462368, 'evp': 0.044869605}\n",
      "----------\n",
      "Epoch 7/99, current lr=0.01\n",
      "train loss: 0.05163387209177017, train metric: {'sm': 0.003796136, 'evp': 0.0024147534}\n",
      "val loss: 0.21333442628383636, val metric: {'sm': 0.05407719, 'evp': 0.048402876}\n",
      "----------\n",
      "Epoch 8/99, current lr=0.01\n",
      "train loss: 0.04984235391020775, train metric: {'sm': 0.003474778, 'evp': 0.002445192}\n",
      "val loss: 0.20599645376205444, val metric: {'sm': 0.07705306, 'evp': 0.023770994}\n",
      "----------\n",
      "Epoch 9/99, current lr=0.01\n",
      "Copied best model weights!\n",
      "train loss: 0.09524042159318924, train metric: {'sm': 0.014017881, 'evp': 0.008616536}\n",
      "val loss: 0.15838780999183655, val metric: {'sm': 0.02976126, 'evp': 0.02705517}\n",
      "----------\n",
      "Epoch 10/99, current lr=0.01\n",
      "train loss: 0.10637868940830231, train metric: {'sm': 0.015437077, 'evp': 0.010202669}\n",
      "val loss: 0.17086638510227203, val metric: {'sm': 0.04084902, 'evp': 0.029851649}\n",
      "----------\n",
      "Epoch 11/99, current lr=0.01\n",
      "train loss: 0.10338187962770462, train metric: {'sm': 0.014272684, 'evp': 0.009999964}\n",
      "val loss: 0.16013452410697937, val metric: {'sm': 0.029627517, 'evp': 0.035495907}\n",
      "----------\n",
      "Epoch 12/99, current lr=0.01\n",
      "Copied best model weights!\n",
      "train loss: 0.10360916703939438, train metric: {'sm': 0.016083675, 'evp': 0.009093641}\n",
      "val loss: 0.1572818160057068, val metric: {'sm': 0.024968205, 'evp': 0.030085368}\n",
      "----------\n",
      "Epoch 13/99, current lr=0.01\n",
      "Copied best model weights!\n",
      "train loss: 0.1030130609869957, train metric: {'sm': 0.014806871, 'evp': 0.009203836}\n",
      "val loss: 0.1483425796031952, val metric: {'sm': 0.02498785, 'evp': 0.025803648}\n",
      "----------\n",
      "Epoch 14/99, current lr=0.01\n",
      "train loss: 0.09953532367944717, train metric: {'sm': 0.015468114, 'evp': 0.007832211}\n",
      "val loss: 0.1515905112028122, val metric: {'sm': 0.030721055, 'evp': 0.027072532}\n",
      "----------\n",
      "Epoch 15/99, current lr=0.01\n",
      "train loss: 0.10402165353298187, train metric: {'sm': 0.015521575, 'evp': 0.009499715}\n",
      "val loss: 0.15393254160881042, val metric: {'sm': 0.027945973, 'evp': 0.026448093}\n",
      "----------\n",
      "Epoch 16/99, current lr=0.01\n",
      "train loss: 0.10036435723304749, train metric: {'sm': 0.01482286, 'evp': 0.008566782}\n",
      "val loss: 0.16634882986545563, val metric: {'sm': 0.04240467, 'evp': 0.028197767}\n",
      "----------\n",
      "Epoch 17/99, current lr=0.01\n",
      "Copied best model weights!\n",
      "train loss: 0.10063856840133667, train metric: {'sm': 0.01530913, 'evp': 0.00823313}\n",
      "val loss: 0.14444106817245483, val metric: {'sm': 0.02880644, 'evp': 0.02405055}\n",
      "----------\n",
      "Epoch 18/99, current lr=0.01\n",
      "train loss: 0.10460745543241501, train metric: {'sm': 0.014893672, 'evp': 0.010070928}\n",
      "val loss: 0.1829325407743454, val metric: {'sm': 0.04519787, 'evp': 0.04168899}\n",
      "----------\n",
      "Epoch 19/99, current lr=0.01\n",
      "train loss: 0.10021033883094788, train metric: {'sm': 0.014237523, 'evp': 0.008821484}\n",
      "val loss: 0.14755713939666748, val metric: {'sm': 0.024341807, 'evp': 0.033302642}\n",
      "----------\n",
      "Epoch 29/99, current lr=0.005\n",
      "train loss: 0.10017123818397522, train metric: {'sm': 0.013494182, 'evp': 0.009779689}\n",
      "val loss: 0.15268699824810028, val metric: {'sm': 0.026781194, 'evp': 0.03391833}\n",
      "----------\n",
      "Epoch 30/99, current lr=0.005\n",
      "train loss: 0.0971304327249527, train metric: {'sm': 0.013869691, 'evp': 0.008191861}\n",
      "val loss: 0.1505669206380844, val metric: {'sm': 0.027498487, 'evp': 0.034301862}\n",
      "----------\n",
      "Epoch 31/99, current lr=0.005\n",
      "train loss: 0.10180311650037766, train metric: {'sm': 0.013840464, 'evp': 0.010138871}\n",
      "val loss: 0.15543866157531738, val metric: {'sm': 0.026196167, 'evp': 0.03712127}\n",
      "----------\n",
      "Epoch 32/99, current lr=0.005\n",
      "train loss: 0.10190160572528839, train metric: {'sm': 0.014202821, 'evp': 0.010227497}\n",
      "val loss: 0.15306012332439423, val metric: {'sm': 0.02783162, 'evp': 0.03525952}\n",
      "----------\n",
      "Epoch 33/99, current lr=0.005\n",
      "train loss: 0.0994948148727417, train metric: {'sm': 0.014016731, 'evp': 0.009074087}\n",
      "val loss: 0.15615598857402802, val metric: {'sm': 0.02680368, 'evp': 0.040674508}\n",
      "----------\n",
      "Epoch 34/99, current lr=0.005\n",
      "train loss: 0.09699508547782898, train metric: {'sm': 0.013571653, 'evp': 0.008350065}\n",
      "val loss: 0.15464019775390625, val metric: {'sm': 0.02877995, 'evp': 0.03398986}\n",
      "----------\n",
      "Epoch 35/99, current lr=0.005\n",
      "train loss: 0.09912337362766266, train metric: {'sm': 0.014134374, 'evp': 0.008723791}\n",
      "val loss: 0.15584306418895721, val metric: {'sm': 0.0268683, 'evp': 0.037478603}\n",
      "----------\n",
      "Epoch 36/99, current lr=0.005\n",
      "train loss: 0.1038682758808136, train metric: {'sm': 0.014236266, 'evp': 0.010372766}\n",
      "val loss: 0.15701450407505035, val metric: {'sm': 0.026610559, 'evp': 0.03843196}\n",
      "----------\n",
      "Epoch 37/99, current lr=0.005\n",
      "train loss: 0.09900018572807312, train metric: {'sm': 0.01421504, 'evp': 0.008435282}\n",
      "val loss: 0.14813324809074402, val metric: {'sm': 0.024172317, 'evp': 0.033740055}\n",
      "----------\n",
      "Epoch 38/99, current lr=0.005\n",
      "train loss: 0.09871365129947662, train metric: {'sm': 0.014518545, 'evp': 0.00800594}\n",
      "val loss: 0.14814527332782745, val metric: {'sm': 0.02782675, 'evp': 0.02891947}\n",
      "----------\n",
      "Epoch 39/99, current lr=0.005\n",
      "train loss: 0.09837297350168228, train metric: {'sm': 0.013788702, 'evp': 0.008680808}\n",
      "val loss: 0.15881305932998657, val metric: {'sm': 0.032328337, 'evp': 0.03507029}\n",
      "----------\n",
      "Epoch 40/99, current lr=0.0025\n",
      "train loss: 0.09868815541267395, train metric: {'sm': 0.014031488, 'evp': 0.008621169}\n",
      "val loss: 0.15944066643714905, val metric: {'sm': 0.032014884, 'evp': 0.035516024}\n",
      "----------\n",
      "Epoch 41/99, current lr=0.0025\n",
      "train loss: 0.09885961562395096, train metric: {'sm': 0.014101688, 'evp': 0.008266255}\n",
      "val loss: 0.15333014726638794, val metric: {'sm': 0.030580083, 'evp': 0.031561762}\n",
      "----------\n",
      "Epoch 42/99, current lr=0.0025\n",
      "train loss: 0.09668348729610443, train metric: {'sm': 0.013944868, 'evp': 0.0077791484}\n",
      "val loss: 0.15244661271572113, val metric: {'sm': 0.03272938, 'evp': 0.028336061}\n",
      "----------\n",
      "Epoch 43/99, current lr=0.0025\n",
      "train loss: 0.09995068609714508, train metric: {'sm': 0.012884663, 'evp': 0.010102587}\n",
      "val loss: 0.16678571701049805, val metric: {'sm': 0.033383526, 'evp': 0.04064717}\n",
      "----------\n",
      "Epoch 44/99, current lr=0.0025\n",
      "train loss: 0.09590049833059311, train metric: {'sm': 0.014034492, 'evp': 0.007875149}\n",
      "val loss: 0.14561018347740173, val metric: {'sm': 0.03384125, 'evp': 0.023044124}\n",
      "----------\n",
      "Epoch 45/99, current lr=0.0025\n",
      "train loss: 0.09706400334835052, train metric: {'sm': 0.014323495, 'evp': 0.007940582}\n",
      "val loss: 0.15625572204589844, val metric: {'sm': 0.038618993, 'evp': 0.025363404}\n",
      "----------\n",
      "Epoch 46/99, current lr=0.0025\n",
      "Copied best model weights!\n",
      "train loss: 0.09695092588663101, train metric: {'sm': 0.014542997, 'evp': 0.007472678}\n",
      "val loss: 0.14239609241485596, val metric: {'sm': 0.033914022, 'evp': 0.017798264}\n",
      "----------\n",
      "Epoch 47/99, current lr=0.0025\n",
      "train loss: 0.09600423276424408, train metric: {'sm': 0.013445699, 'evp': 0.008182541}\n",
      "val loss: 0.1519881784915924, val metric: {'sm': 0.037238047, 'evp': 0.022539964}\n",
      "----------\n",
      "Epoch 48/99, current lr=0.0025\n",
      "train loss: 0.09835540503263474, train metric: {'sm': 0.013629323, 'evp': 0.009000336}\n",
      "val loss: 0.15838539600372314, val metric: {'sm': 0.041143652, 'evp': 0.022727774}\n",
      "----------\n",
      "Epoch 49/99, current lr=0.0025\n",
      "train loss: 0.10004669427871704, train metric: {'sm': 0.013944479, 'evp': 0.009107265}\n",
      "val loss: 0.1559496968984604, val metric: {'sm': 0.03804787, 'evp': 0.021546941}\n",
      "----------\n",
      "Epoch 50/99, current lr=0.0025\n",
      "train loss: 0.09803858399391174, train metric: {'sm': 0.014402889, 'evp': 0.008279882}\n",
      "val loss: 0.15012367069721222, val metric: {'sm': 0.036410507, 'evp': 0.02023003}\n",
      "----------\n",
      "Epoch 51/99, current lr=0.0025\n",
      "train loss: 0.0996033102273941, train metric: {'sm': 0.0142944865, 'evp': 0.008836818}\n",
      "val loss: 0.15615881979465485, val metric: {'sm': 0.037104677, 'evp': 0.021985212}\n",
      "----------\n",
      "Epoch 52/99, current lr=0.0025\n",
      "train loss: 0.09862986207008362, train metric: {'sm': 0.013541159, 'evp': 0.009086548}\n",
      "val loss: 0.1549721658229828, val metric: {'sm': 0.037372246, 'evp': 0.020800646}\n",
      "----------\n",
      "Epoch 53/99, current lr=0.0025\n",
      "train loss: 0.09634310752153397, train metric: {'sm': 0.014730725, 'evp': 0.0071615125}\n",
      "val loss: 0.14565156400203705, val metric: {'sm': 0.034616593, 'evp': 0.017890105}\n",
      "----------\n",
      "Epoch 54/99, current lr=0.0025\n",
      "train loss: 0.09588917344808578, train metric: {'sm': 0.014217515, 'evp': 0.007268653}\n",
      "val loss: 0.15027759969234467, val metric: {'sm': 0.03756533, 'evp': 0.01847584}\n",
      "----------\n",
      "Epoch 55/99, current lr=0.0025\n",
      "train loss: 0.09618788212537766, train metric: {'sm': 0.014509573, 'evp': 0.0072888248}\n",
      "val loss: 0.14954102039337158, val metric: {'sm': 0.036669604, 'evp': 0.019478908}\n",
      "----------\n",
      "Epoch 56/99, current lr=0.0025\n",
      "train loss: 0.09470018744468689, train metric: {'sm': 0.014215274, 'evp': 0.006862199}\n",
      "val loss: 0.1484624743461609, val metric: {'sm': 0.036624055, 'evp': 0.017583895}\n",
      "----------\n",
      "Epoch 57/99, current lr=0.0025\n",
      "train loss: 0.096877820789814, train metric: {'sm': 0.014700547, 'evp': 0.007318205}\n",
      "val loss: 0.14977526664733887, val metric: {'sm': 0.036944505, 'evp': 0.018852806}\n",
      "----------\n",
      "Epoch 58/99, current lr=0.00125\n",
      "train loss: 0.09670180082321167, train metric: {'sm': 0.014230854, 'evp': 0.007398689}\n",
      "val loss: 0.15036030113697052, val metric: {'sm': 0.037251476, 'evp': 0.017710473}\n",
      "----------\n",
      "Epoch 59/99, current lr=0.00125\n",
      "train loss: 0.094246044754982, train metric: {'sm': 0.013839048, 'evp': 0.0072988807}\n",
      "val loss: 0.15176711976528168, val metric: {'sm': 0.03743865, 'evp': 0.020865558}\n",
      "----------\n",
      "Epoch 60/99, current lr=0.00125\n",
      "train loss: 0.099545419216156, train metric: {'sm': 0.014396407, 'evp': 0.008705171}\n",
      "val loss: 0.16098706424236298, val metric: {'sm': 0.03969673, 'evp': 0.024016593}\n",
      "----------\n",
      "Epoch 61/99, current lr=0.00125\n",
      "train loss: 0.09967480599880219, train metric: {'sm': 0.014306257, 'evp': 0.00844898}\n",
      "val loss: 0.16009442508220673, val metric: {'sm': 0.042788796, 'evp': 0.020559888}\n",
      "----------\n",
      "Epoch 62/99, current lr=0.00125\n",
      "train loss: 0.09737929701805115, train metric: {'sm': 0.012845605, 'evp': 0.009026885}\n",
      "val loss: 0.1606302261352539, val metric: {'sm': 0.04096475, 'evp': 0.023124205}\n",
      "----------\n",
      "Epoch 63/99, current lr=0.00125\n",
      "train loss: 0.09377945959568024, train metric: {'sm': 0.013786102, 'evp': 0.0069352747}\n",
      "val loss: 0.153719961643219, val metric: {'sm': 0.039557364, 'evp': 0.019901924}\n",
      "----------\n",
      "Epoch 64/99, current lr=0.00125\n",
      "train loss: 0.0976809486746788, train metric: {'sm': 0.0136350375, 'evp': 0.008463427}\n",
      "val loss: 0.16152946650981903, val metric: {'sm': 0.040974356, 'evp': 0.023255102}\n",
      "----------\n",
      "Epoch 65/99, current lr=0.00125\n",
      "train loss: 0.09632772207260132, train metric: {'sm': 0.013842639, 'evp': 0.008389441}\n",
      "val loss: 0.16305138170719147, val metric: {'sm': 0.04406334, 'evp': 0.022012034}\n",
      "----------\n",
      "Epoch 66/99, current lr=0.00125\n",
      "train loss: 0.09637551009654999, train metric: {'sm': 0.013805216, 'evp': 0.007924347}\n",
      "val loss: 0.16088661551475525, val metric: {'sm': 0.04183017, 'evp': 0.022374345}\n",
      "----------\n",
      "Epoch 67/99, current lr=0.00125\n",
      "train loss: 0.0957135558128357, train metric: {'sm': 0.013185995, 'evp': 0.0081029385}\n",
      "val loss: 0.15883782505989075, val metric: {'sm': 0.037533626, 'evp': 0.02533412}\n",
      "----------\n",
      "Epoch 68/99, current lr=0.00125\n",
      "train loss: 0.0963786318898201, train metric: {'sm': 0.013460727, 'evp': 0.007985506}\n",
      "val loss: 0.1534218192100525, val metric: {'sm': 0.037517328, 'evp': 0.021723332}\n",
      "----------\n",
      "Epoch 69/99, current lr=0.000625\n",
      "train loss: 0.0947955846786499, train metric: {'sm': 0.014548303, 'evp': 0.006400798}\n",
      "val loss: 0.14929284155368805, val metric: {'sm': 0.03836738, 'evp': 0.017633917}\n",
      "----------\n",
      "Epoch 70/99, current lr=0.000625\n",
      "train loss: 0.09563856571912766, train metric: {'sm': 0.013329654, 'evp': 0.008233057}\n",
      "val loss: 0.16000951826572418, val metric: {'sm': 0.041499298, 'evp': 0.022008466}\n",
      "----------\n",
      "Epoch 71/99, current lr=0.000625\n",
      "train loss: 0.09576819837093353, train metric: {'sm': 0.013671054, 'evp': 0.0075504226}\n",
      "val loss: 0.1555485725402832, val metric: {'sm': 0.039109126, 'evp': 0.020675184}\n",
      "----------\n",
      "Epoch 72/99, current lr=0.000625\n",
      "train loss: 0.09688112884759903, train metric: {'sm': 0.013041027, 'evp': 0.008730154}\n",
      "val loss: 0.15886728465557098, val metric: {'sm': 0.039997313, 'evp': 0.02298496}\n",
      "----------\n",
      "Epoch 73/99, current lr=0.000625\n",
      "train loss: 0.0970681682229042, train metric: {'sm': 0.013625394, 'evp': 0.008091168}\n",
      "val loss: 0.15617169439792633, val metric: {'sm': 0.037203904, 'evp': 0.022612995}\n",
      "----------\n",
      "Epoch 74/99, current lr=0.000625\n",
      "train loss: 0.09624181687831879, train metric: {'sm': 0.013327439, 'evp': 0.008056178}\n",
      "val loss: 0.1556343138217926, val metric: {'sm': 0.040904164, 'evp': 0.019850185}\n",
      "----------\n",
      "Epoch 75/99, current lr=0.000625\n",
      "train loss: 0.09548164904117584, train metric: {'sm': 0.013542206, 'evp': 0.007778349}\n",
      "val loss: 0.15903329849243164, val metric: {'sm': 0.0397105, 'evp': 0.022351496}\n",
      "----------\n",
      "Epoch 76/99, current lr=0.000625\n",
      "train loss: 0.0942065566778183, train metric: {'sm': 0.01408159, 'evp': 0.0065580094}\n",
      "val loss: 0.15333013236522675, val metric: {'sm': 0.040649604, 'evp': 0.01831163}\n",
      "----------\n",
      "Epoch 77/99, current lr=0.000625\n",
      "train loss: 0.09746107459068298, train metric: {'sm': 0.013293491, 'evp': 0.008601228}\n",
      "val loss: 0.1614459604024887, val metric: {'sm': 0.04184821, 'evp': 0.023026066}\n",
      "----------\n",
      "Epoch 78/99, current lr=0.000625\n",
      "train loss: 0.09523854404687881, train metric: {'sm': 0.013630592, 'evp': 0.0073442897}\n",
      "val loss: 0.15406323969364166, val metric: {'sm': 0.039366815, 'evp': 0.01973592}\n",
      "----------\n",
      "Epoch 79/99, current lr=0.000625\n",
      "train loss: 0.09535074979066849, train metric: {'sm': 0.013234837, 'evp': 0.008267005}\n",
      "val loss: 0.1638193130493164, val metric: {'sm': 0.04109931, 'evp': 0.025695631}\n",
      "----------\n",
      "Epoch 80/99, current lr=0.0003125\n"
     ]
    }
   ],
   "source": [
    "model, loss_history , metric_history = train_val(model, params_train)"
   ]
  },
  {
   "cell_type": "code",
   "execution_count": 189,
   "id": "f59f79ba-50bc-406c-bd05-e30a32aa5f41",
   "metadata": {
    "tags": []
   },
   "outputs": [
    {
     "data": {
      "text/plain": [
       "{'train_sm': [0.0038074162, 0.004052971],\n",
       " 'train_evp': [0.0028472876, 0.001913318],\n",
       " 'val_sm': [0.05380281, 0.062042482],\n",
       " 'val_evp': [0.024367232, 0.03940458]}"
      ]
     },
     "execution_count": 189,
     "metadata": {},
     "output_type": "execute_result"
    }
   ],
   "source": [
    "metric_history"
   ]
  },
  {
   "cell_type": "markdown",
   "id": "75f0991f-6578-4b3b-9044-d8818a9b4946",
   "metadata": {
    "tags": []
   },
   "source": [
    "### SM plotting"
   ]
  },
  {
   "cell_type": "code",
   "execution_count": 190,
   "id": "4b72a16d-7698-4c05-9055-d2c91ce93cee",
   "metadata": {
    "tags": []
   },
   "outputs": [
    {
     "data": {
      "image/png": "[encoded data removed]",
      "text/plain": [
       "<Figure size 1000x600 with 1 Axes>"
      ]
     },
     "metadata": {},
     "output_type": "display_data"
    }
   ],
   "source": [
    "# import matplotlib.pyplot as plt\n",
    "# Extract the loss values\n",
    "train_loss = metric_history['train_sm']\n",
    "val_loss = metric_history['val_sm']\n",
    "\n",
    "# Create a list of epochs for the x-axis (e.g., [1, 2, 3, ..., 100])\n",
    "lepochs = list(range(1,params_train[\"num_epochs\"] + 1))\n",
    "\n",
    "# Create the train and validation loss plots\n",
    "plt.figure(figsize=(10, 6))\n",
    "plt.plot(lepochs, train_loss, marker='o', linestyle='-', color='b', label='Training Loss')\n",
    "plt.plot(lepochs, val_loss, marker='o', linestyle='-', color='r', label='Validation Loss')\n",
    "plt.title('Validation Loss - SM')\n",
    "plt.xlabel('Epochs')\n",
    "plt.ylabel('Loss')\n",
    "plt.grid(True)\n",
    "plt.legend()\n",
    "plt.show()"
   ]
  },
  {
   "cell_type": "markdown",
   "id": "ae961e39-ef2c-465c-923f-f7aab89172fa",
   "metadata": {},
   "source": [
    "### EVP plotting"
   ]
  },
  {
   "cell_type": "code",
   "execution_count": 191,
   "id": "7a84183a-2abe-4f89-8e82-c6d89d2680c1",
   "metadata": {
    "tags": []
   },
   "outputs": [
    {
     "data": {
      "image/png": "[encoded data removed]",
      "text/plain": [
       "<Figure size 1000x600 with 1 Axes>"
      ]
     },
     "metadata": {},
     "output_type": "display_data"
    }
   ],
   "source": [
    "# import matplotlib.pyplot as plt\n",
    "# Extract the loss values\n",
    "train_loss = metric_history['train_evp']\n",
    "val_loss = metric_history['val_evp']\n",
    "\n",
    "# Create a list of epochs for the x-axis (e.g., [1, 2, 3, ..., 100])\n",
    "lepochs = list(range(1,params_train[\"num_epochs\"] + 1))\n",
    "\n",
    "# Create the train and validation loss plots\n",
    "plt.figure(figsize=(10, 6))\n",
    "plt.plot(lepochs, train_loss, marker='o', linestyle='-', color='b', label='Training Loss')\n",
    "plt.plot(lepochs, val_loss, marker='o', linestyle='-', color='r', label='Validation Loss')\n",
    "plt.title('Validation Loss - SM')\n",
    "plt.xlabel('Epochs')\n",
    "plt.ylabel('Loss')\n",
    "plt.grid(True)\n",
    "plt.legend()\n",
    "plt.show()"
   ]
  }
 ],
 "metadata": {
  "kernelspec": {
   "display_name": "gpu_env",
   "language": "python",
   "name": "gpu_env"
  },
  "language_info": {
   "codemirror_mode": {
    "name": "ipython",
    "version": 3
   },
   "file_extension": ".py",
   "mimetype": "text/x-python",
   "name": "python",
   "nbconvert_exporter": "python",
   "pygments_lexer": "ipython3",
   "version": "3.11.5"
  }
 },
 "nbformat": 4,
 "nbformat_minor": 5
}
