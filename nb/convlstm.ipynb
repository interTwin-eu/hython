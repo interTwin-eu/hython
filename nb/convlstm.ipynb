{
 "cells": [
  {
   "cell_type": "code",
   "execution_count": 1,
   "id": "49640666-0cfe-4973-b629-8ef88626bf23",
   "metadata": {},
   "outputs": [],
   "source": [
    "%load_ext autoreload\n",
    "%autoreload 2"
   ]
  },
  {
   "cell_type": "code",
   "execution_count": 2,
   "id": "f646582a-3f9c-4e27-bd5b-f24cd80c6b3e",
   "metadata": {},
   "outputs": [],
   "source": [
    "import xarray as xr\n",
    "import torch\n",
    "from pathlib import Path\n",
    "from hython.utils import write_to_zarr, build_mask_dataarray\n",
    "import matplotlib.pyplot as plt\n",
    "from pathlib import Path\n",
    "from hython.datasets.datasets import get_dataset\n",
    "from numcodecs import Blosc\n",
    "\n",
    "from torch.utils.data import Dataset, DataLoader"
   ]
  },
  {
   "cell_type": "code",
   "execution_count": 3,
   "id": "fa7990a6-4e87-4465-a9bd-c10b11258c03",
   "metadata": {},
   "outputs": [
    {
     "name": "stderr",
     "output_type": "stream",
     "text": [
      "/home/iferrario/.local/miniforge/envs/emulator/lib/python3.11/site-packages/tqdm/auto.py:21: TqdmWarning: IProgress not found. Please update jupyter and ipywidgets. See https://ipywidgets.readthedocs.io/en/stable/user_install.html\n",
      "  from .autonotebook import tqdm as notebook_tqdm\n"
     ]
    }
   ],
   "source": [
    "from hython.trainer import XBatcherTrainer\n",
    "from hython.trainer import train_val\n",
    "from hython.sampler import SamplerBuilder\n",
    "from hython.metrics import MSEMetric\n",
    "from hython.losses import RMSELoss\n",
    "from hython.utils import read_from_zarr, set_seed\n",
    "from hython.models.cudnnLSTM import CuDNNLSTM\n",
    "from hython.trainer import RNNTrainer, RNNTrainParams\n",
    "from hython.normalizer import Normalizer\n",
    "\n",
    "import numpy as np\n",
    "import torch.optim as optim\n",
    "from torch.optim.lr_scheduler import ReduceLROnPlateau\n",
    "from torch.utils.data import DataLoader, Dataset"
   ]
  },
  {
   "cell_type": "code",
   "execution_count": 4,
   "id": "892d7e02-8ab4-497e-9277-460a5d10183e",
   "metadata": {},
   "outputs": [],
   "source": [
    "#from torchvision.datasets import MovingMNIST"
   ]
  },
  {
   "cell_type": "code",
   "execution_count": 66,
   "id": "ecb0b9f0-ce33-4d60-ac54-41d4143e2a1f",
   "metadata": {},
   "outputs": [],
   "source": [
    "dir_surr_input = Path(\"/mnt/CEPH_PROJECTS/InterTwin/Wflow/models/adg1km_eobs\")\n",
    "\n",
    "\n",
    "static = xr.open_dataset(dir_surr_input / \"staticmaps.nc\")#.chunk(\"auto\")\n",
    "dynamic = xr.open_dataset(dir_surr_input/ \"forcings.nc\")#.chunk(\"auto\") # C T W H => N T C H W\n",
    "target = xr.open_dataset(dir_surr_input / \"run_default/output.nc\").sel(layer=1).isel(lat=slice(None, None, -1))#.chunk(\"auto\") # C T W H => N T C H W\n",
    "\n",
    "\n",
    "surr_model_output = \"convlstm.pt\"\n",
    "experiment = \"exp1\" # experiment name\n",
    "\n",
    "dir_surr_output = \"/mnt/CEPH_PROJECTS/InterTwin/hydrologic_data/surrogate_model\"\n",
    "\n",
    "SEED = 1696\n",
    "\n",
    "dynamic_names = [\"precip\", \"pet\", \"temp\"] \n",
    "static_names = [ 'thetaS', 'thetaR', 'RootingDepth', 'Swood','KsatVer', \"Sl\"] \n",
    "target_names = [ \"vwc\",\"actevap\"] \n",
    "\n",
    "mask_from_static = [\"wflow_lakeareas\"]\n",
    "rename_mask = [\"mask_lake\"]\n",
    "\n",
    "\n",
    "dataset = \"XBatchDataset\"\n",
    "\n",
    "\n",
    "# DL model hyper parameters\n",
    "HIDDEN_SIZE = 24\n",
    "DYNAMIC_INPUT_SIZE = len(dynamic_names)\n",
    "STATIC_INPUT_SIZE = len(static_names)\n",
    "KERNEL_SIZE = (3, 3)\n",
    "NUM_LSTM_LAYER = 2\n",
    "OUTPUT_SIZE = len(target_names)\n",
    "\n",
    "\n",
    "TARGET_WEIGHTS = {t:0.5 for t in target_names}\n",
    "\n",
    "\n",
    "\n",
    "# train/test parameters\n",
    "train_temporal_range = slice(\"2016-01-01\",\"2018-12-31\")\n",
    "test_temporal_range = slice(\"2019-01-01\", \"2020-12-31\")\n",
    "\n",
    "EPOCHS = 90\n",
    "BATCH = 64\n",
    "TEMPORAL_SUBSAMPLING = True\n",
    "TEMPORAL_SUBSET = [150, 150] \n",
    "SEQ_LENGTH = 360\n",
    "\n",
    "\n",
    "assert sum(v for v in TARGET_WEIGHTS.values()) == 1, \"check target weights\"\n",
    "TARGET_INITIALS = \"\".join([i[0].capitalize() for i in target_names])\n"
   ]
  },
  {
   "cell_type": "code",
   "execution_count": 67,
   "id": "710c62cf-d370-4867-8388-50b06d107040",
   "metadata": {},
   "outputs": [],
   "source": [
    "wd = Path(\"/mnt/CEPH_PROJECTS/InterTwin/Wflow/models/adg1km_eobs\")"
   ]
  },
  {
   "cell_type": "code",
   "execution_count": 68,
   "id": "33ad3f08-c6b0-48b9-a062-bd5e6923f692",
   "metadata": {},
   "outputs": [],
   "source": [
    "try:\n",
    "    dynamic = dynamic.rename({\"latitude\":\"lat\", \"longitude\":\"lon\"})\n",
    "    static = static.rename({\"latitude\":\"lat\", \"longitude\":\"lon\"})\n",
    "except:\n",
    "    pass"
   ]
  },
  {
   "cell_type": "code",
   "execution_count": 69,
   "id": "d468a748-9c53-4653-a4bc-05919e3e50a7",
   "metadata": {},
   "outputs": [],
   "source": [
    "# masking \n",
    "\n",
    "mask_missing = np.isnan(static[static_names[0]]).rename(\"mask_missing\")\n",
    "\n",
    "masks = []\n",
    "masks.append(mask_missing)\n",
    "\n",
    "for i, mask in enumerate(mask_from_static):\n",
    "    masks.append((static[mask] > 0).astype(np.bool_).rename(rename_mask[i]))\n",
    "\n",
    "masks = build_mask_dataarray(masks, names = [\"mask_missing\"]+ rename_mask).any(dim=\"mask_layer\")"
   ]
  },
  {
   "cell_type": "code",
   "execution_count": 70,
   "id": "9ce4cfe2-6156-4aa9-8884-a3999e956640",
   "metadata": {},
   "outputs": [],
   "source": [
    "# filter \n",
    "dynamic = dynamic[dynamic_names]\n",
    "target = target[target_names]\n",
    "static = static.drop_dims(\"time\").sel(layer=1)[ static_names ] "
   ]
  },
  {
   "cell_type": "code",
   "execution_count": null,
   "id": "4175e021-04b9-4ec8-ade3-6f956b8f4e5f",
   "metadata": {},
   "outputs": [],
   "source": []
  },
  {
   "cell_type": "code",
   "execution_count": 72,
   "id": "28eb95d0-719a-4ca7-be61-166021195b46",
   "metadata": {},
   "outputs": [],
   "source": [
    "# expand static to dynamic \n",
    "time_da = xr.DataArray(dynamic.time.values, [('time', dynamic.time.values)])\n",
    "static = static.expand_dims({\"time\":time_da})"
   ]
  },
  {
   "cell_type": "code",
   "execution_count": 11,
   "id": "e615dd56-1e2e-4e84-9d1d-45bc965746fc",
   "metadata": {},
   "outputs": [],
   "source": [
    "dynamic = dynamic.to_array() # C T H W\n",
    "static = static.to_array() # C T H W\n",
    "target = target.to_array() # C T H W"
   ]
  },
  {
   "cell_type": "code",
   "execution_count": 73,
   "id": "6643e80e-0ff8-4b95-acea-f91a1d6b6092",
   "metadata": {},
   "outputs": [],
   "source": [
    "dynamic_train = dynamic.sel(time=train_temporal_range)\n",
    "static_train = static.sel(time=train_temporal_range)\n",
    "target_train = target.sel(time=train_temporal_range)\n",
    "\n",
    "dynamic_test = dynamic.sel(time=test_temporal_range)\n",
    "static_test = static.sel(time=test_temporal_range)\n",
    "target_test = target.sel(time=test_temporal_range)"
   ]
  },
  {
   "cell_type": "code",
   "execution_count": 13,
   "id": "664195f7-3bfd-4418-9998-fc9ab9e0fbeb",
   "metadata": {},
   "outputs": [
    {
     "data": {
      "text/plain": [
       "((2, 1096, 180, 223), (6, 1096, 180, 223), (3, 1096, 180, 223), (180, 223))"
      ]
     },
     "execution_count": 13,
     "metadata": {},
     "output_type": "execute_result"
    }
   ],
   "source": [
    "target_train.shape, static_train.shape, dynamic_train.shape, masks.shape"
   ]
  },
  {
   "cell_type": "code",
   "execution_count": 133,
   "id": "d31e42b0-5209-4c5c-8a03-e7e0267aae6e",
   "metadata": {},
   "outputs": [
    {
     "name": "stdout",
     "output_type": "stream",
     "text": [
      "compute stats\n",
      "compute stats\n",
      "compute stats\n"
     ]
    }
   ],
   "source": [
    "# normalize\n",
    "\n",
    "normalizer_dynamic = Normalizer(method=\"standardize\", type=\"spacetime\", shape=\"2D\")\n",
    "\n",
    "normalizer_static = Normalizer(method=\"standardize\", type=\"space\", shape=\"2D\")\n",
    "\n",
    "normalizer_target = Normalizer(method=\"standardize\", type=\"spacetime\", shape=\"2D\")\n",
    "\n",
    "normalizer_dynamic.compute_stats(dynamic_train)\n",
    "normalizer_static.compute_stats(static_train)\n",
    "normalizer_target.compute_stats(target_train)\n",
    "\n",
    "# TODO: save stats, implement caching of stats to save computation\n",
    "\n",
    "dynamic = normalizer_dynamic.normalize(dynamic_train)\n",
    "static = normalizer_static.normalize(static_train)\n",
    "target = normalizer_target.normalize(target_train)\n",
    "\n",
    "dynamic_test = normalizer_dynamic.normalize(dynamic_test)\n",
    "static_test = normalizer_static.normalize(static_test)\n",
    "target_test = normalizer_target.normalize(target_test)"
   ]
  },
  {
   "cell_type": "code",
   "execution_count": 134,
   "id": "ccb556bd-0c95-495d-9602-96b8f011ddc1",
   "metadata": {},
   "outputs": [],
   "source": [
    "# masking \n",
    "dynamic_train = dynamic_train.where(~masks, 0)\n",
    "\n",
    "static_train = static_train.where(~masks, 0)\n",
    "\n",
    "target_train = target_train.where(~masks, 0)\n",
    "\n",
    "\n",
    "dynamic_test = dynamic_test.where(~masks, 0)\n",
    "\n",
    "static_test = static_test.where(~masks, 0)\n",
    "\n",
    "target_test = target_test.where(~masks, 0)"
   ]
  },
  {
   "cell_type": "code",
   "execution_count": 166,
   "id": "efbe79b9-57a1-417c-a048-a5ec49437385",
   "metadata": {},
   "outputs": [],
   "source": [
    "# compressor = Blosc(cname='zl4', clevel=9, shuffle=Blosc.BITSHUFFLE)\n",
    "\n",
    "# ss = params.drop_dims(\"time\")[[ 'thetaS', 'thetaR', 'RootingDepth', 'Swood','KsatVer', \"Sl\"]].expand_dims({\"time\": ds.time}).chunk({\"time\":500, \"latitude\":50, \"longitude\":50})\n",
    "\n",
    "# ss.to_zarr(wd / \"test.zarr\",storage_options={\"compressor\":compressor})\n",
    "\n",
    "# ss = xr.open_dataset( wd / \"test.zarr\", engine = \"zarr\")\n",
    "\n",
    "# time, lat, lon = 365, 16, 16 "
   ]
  },
  {
   "cell_type": "code",
   "execution_count": 14,
   "id": "07b85746-63b6-4233-9927-0fd6e928ef8d",
   "metadata": {},
   "outputs": [],
   "source": [
    "import xbatcher"
   ]
  },
  {
   "cell_type": "code",
   "execution_count": 122,
   "id": "6fe50f9f-90e9-44a7-9f2a-3dcdaab6d3e7",
   "metadata": {},
   "outputs": [
    {
     "data": {
      "text/plain": [
       "\u001b[0;31mInit signature:\u001b[0m\n",
       "\u001b[0mxbatcher\u001b[0m\u001b[0;34m.\u001b[0m\u001b[0mBatchGenerator\u001b[0m\u001b[0;34m(\u001b[0m\u001b[0;34m\u001b[0m\n",
       "\u001b[0;34m\u001b[0m    \u001b[0mds\u001b[0m\u001b[0;34m:\u001b[0m \u001b[0mUnion\u001b[0m\u001b[0;34m[\u001b[0m\u001b[0mxarray\u001b[0m\u001b[0;34m.\u001b[0m\u001b[0mcore\u001b[0m\u001b[0;34m.\u001b[0m\u001b[0mdataset\u001b[0m\u001b[0;34m.\u001b[0m\u001b[0mDataset\u001b[0m\u001b[0;34m,\u001b[0m \u001b[0mxarray\u001b[0m\u001b[0;34m.\u001b[0m\u001b[0mcore\u001b[0m\u001b[0;34m.\u001b[0m\u001b[0mdataarray\u001b[0m\u001b[0;34m.\u001b[0m\u001b[0mDataArray\u001b[0m\u001b[0;34m]\u001b[0m\u001b[0;34m,\u001b[0m\u001b[0;34m\u001b[0m\n",
       "\u001b[0;34m\u001b[0m    \u001b[0minput_dims\u001b[0m\u001b[0;34m:\u001b[0m \u001b[0mDict\u001b[0m\u001b[0;34m[\u001b[0m\u001b[0mHashable\u001b[0m\u001b[0;34m,\u001b[0m \u001b[0mint\u001b[0m\u001b[0;34m]\u001b[0m\u001b[0;34m,\u001b[0m\u001b[0;34m\u001b[0m\n",
       "\u001b[0;34m\u001b[0m    \u001b[0minput_overlap\u001b[0m\u001b[0;34m:\u001b[0m \u001b[0mDict\u001b[0m\u001b[0;34m[\u001b[0m\u001b[0mHashable\u001b[0m\u001b[0;34m,\u001b[0m \u001b[0mint\u001b[0m\u001b[0;34m]\u001b[0m \u001b[0;34m=\u001b[0m \u001b[0;34m{\u001b[0m\u001b[0;34m}\u001b[0m\u001b[0;34m,\u001b[0m\u001b[0;34m\u001b[0m\n",
       "\u001b[0;34m\u001b[0m    \u001b[0mbatch_dims\u001b[0m\u001b[0;34m:\u001b[0m \u001b[0mDict\u001b[0m\u001b[0;34m[\u001b[0m\u001b[0mHashable\u001b[0m\u001b[0;34m,\u001b[0m \u001b[0mint\u001b[0m\u001b[0;34m]\u001b[0m \u001b[0;34m=\u001b[0m \u001b[0;34m{\u001b[0m\u001b[0;34m}\u001b[0m\u001b[0;34m,\u001b[0m\u001b[0;34m\u001b[0m\n",
       "\u001b[0;34m\u001b[0m    \u001b[0mconcat_input_dims\u001b[0m\u001b[0;34m:\u001b[0m \u001b[0mbool\u001b[0m \u001b[0;34m=\u001b[0m \u001b[0;32mFalse\u001b[0m\u001b[0;34m,\u001b[0m\u001b[0;34m\u001b[0m\n",
       "\u001b[0;34m\u001b[0m    \u001b[0mpreload_batch\u001b[0m\u001b[0;34m:\u001b[0m \u001b[0mbool\u001b[0m \u001b[0;34m=\u001b[0m \u001b[0;32mTrue\u001b[0m\u001b[0;34m,\u001b[0m\u001b[0;34m\u001b[0m\n",
       "\u001b[0;34m\u001b[0m\u001b[0;34m)\u001b[0m\u001b[0;34m\u001b[0m\u001b[0;34m\u001b[0m\u001b[0m\n",
       "\u001b[0;31mDocstring:\u001b[0m     \n",
       "Create generator for iterating through Xarray DataArrays / Datasets in\n",
       "batches.\n",
       "\n",
       "Parameters\n",
       "----------\n",
       "ds : ``xarray.Dataset`` or ``xarray.DataArray``\n",
       "    The data to iterate over\n",
       "input_dims : dict\n",
       "    A dictionary specifying the size of the inputs in each dimension,\n",
       "    e.g. ``{'lat': 30, 'lon': 30}``\n",
       "    These are the dimensions the ML library will see. All other dimensions\n",
       "    will be stacked into one dimension called ``sample``.\n",
       "input_overlap : dict, optional\n",
       "    A dictionary specifying the overlap along each dimension\n",
       "    e.g. ``{'lat': 3, 'lon': 3}``\n",
       "batch_dims : dict, optional\n",
       "    A dictionary specifying the size of the batch along each dimension\n",
       "    e.g. ``{'time': 10}``. These will always be iterated over.\n",
       "concat_input_dims : bool, optional\n",
       "    If ``True``, the dimension chunks specified in ``input_dims`` will be\n",
       "    concatenated and stacked into the ``sample`` dimension. The batch index\n",
       "    will be included as a new level ``input_batch`` in the ``sample``\n",
       "    coordinate.\n",
       "    If ``False``, the dimension chunks specified in ``input_dims`` will be\n",
       "    iterated over.\n",
       "preload_batch : bool, optional\n",
       "    If ``True``, each batch will be loaded into memory before reshaping /\n",
       "    processing, triggering any dask arrays to be computed.\n",
       "\n",
       "Yields\n",
       "------\n",
       "ds_slice : ``xarray.Dataset`` or ``xarray.DataArray``\n",
       "    Slices of the array matching the given batch size specification.\n",
       "\u001b[0;31mFile:\u001b[0m           ~/.local/miniforge/envs/emulator/lib/python3.11/site-packages/xbatcher/generators.py\n",
       "\u001b[0;31mType:\u001b[0m           type\n",
       "\u001b[0;31mSubclasses:\u001b[0m     "
      ]
     },
     "metadata": {},
     "output_type": "display_data"
    }
   ],
   "source": [
    "xbatcher.BatchGenerator?"
   ]
  },
  {
   "cell_type": "code",
   "execution_count": null,
   "id": "f73e8a00-733e-4c1c-b1ab-9b7e43cebd3e",
   "metadata": {},
   "outputs": [],
   "source": []
  },
  {
   "cell_type": "markdown",
   "id": "83f82d0a-ed80-4ba9-a948-ed84edf1a9f8",
   "metadata": {},
   "source": [
    "## Test xbatcher"
   ]
  },
  {
   "cell_type": "markdown",
   "id": "be8d5d48-3c11-4cb8-ac78-b584cbce799a",
   "metadata": {},
   "source": [
    "Check whether I can get and index of the chunks so that I can do:\n",
    "\n",
    "$$ \\mathbf{f}: \\mathbb{R}^1 \\rightarrow \\mathbb{R}^2$$\n",
    "\n",
    "f(0) => (0,0) </br>\n",
    "f(1) => (0,1) </br>\n",
    "f(2) => (1,0) </br>\n",
    "f(3) => (1,1) </br>"
   ]
  },
  {
   "cell_type": "code",
   "execution_count": null,
   "id": "f7571fc6-e96e-435f-86f2-a5a54fed2322",
   "metadata": {},
   "outputs": [],
   "source": [
    "xgen = xbatcher.BatchGenerator(\n",
    "    dynamic_train,\n",
    "    input_dims={\"lat\":80, \"lon\":80, \"time\":360}, # dimension size of the sample cube\n",
    "    preload_batch=True,\n",
    "    #batch_dims={\"time\":60, \"lat\":80, \"lon\":80},\n",
    "    #concat_input_dims= True,\n",
    "    #input_overlap={\"time\":10, \"lat\":10, \"lon\":10} # overlaps between dimensions of each cube\n",
    ")"
   ]
  },
  {
   "cell_type": "code",
   "execution_count": 245,
   "id": "f1e3682c-6c62-4810-94b1-3084c1e7b072",
   "metadata": {},
   "outputs": [
    {
     "data": {
      "text/plain": [
       "12"
      ]
     },
     "execution_count": 245,
     "metadata": {},
     "output_type": "execute_result"
    }
   ],
   "source": [
    "len(xgen)"
   ]
  },
  {
   "cell_type": "code",
   "execution_count": 246,
   "id": "203fc629-3f28-4eb7-b2f2-e2018d1ed260",
   "metadata": {},
   "outputs": [],
   "source": [
    "sample = xgen[11]"
   ]
  },
  {
   "cell_type": "code",
   "execution_count": 248,
   "id": "e5bea281-de30-4551-9489-4590d05f3038",
   "metadata": {},
   "outputs": [],
   "source": [
    "ds = xr.merge(xgen)"
   ]
  },
  {
   "cell_type": "code",
   "execution_count": 250,
   "id": "2f37d573-1eb1-424c-84f1-23a15dc8ab2e",
   "metadata": {},
   "outputs": [
    {
     "data": {
      "text/plain": [
       "<matplotlib.collections.QuadMesh at 0x709c2899a110>"
      ]
     },
     "execution_count": 250,
     "metadata": {},
     "output_type": "execute_result"
    },
    {
     "data": {
      "image/png": "[encoded data removed]",
      "text/plain": [
       "<Figure size 640x480 with 2 Axes>"
      ]
     },
     "metadata": {},
     "output_type": "display_data"
    }
   ],
   "source": [
    "ds.isel(time=199).precip.plot()"
   ]
  },
  {
   "cell_type": "code",
   "execution_count": 221,
   "id": "d2b2db81-8e39-4a7c-85a0-e85682a16cab",
   "metadata": {},
   "outputs": [],
   "source": [
    "# this should work for the convLSTM \n",
    "sample_convlstm = sample.to_stacked_array(new_dim=\"feat\", sample_dims=(\"lat\",\"lon\", \"time\"))"
   ]
  },
  {
   "cell_type": "code",
   "execution_count": null,
   "id": "9565f11f-ddf2-446f-a356-7f3f0c81170b",
   "metadata": {},
   "outputs": [],
   "source": [
    "sample_convlstm.shape"
   ]
  },
  {
   "cell_type": "code",
   "execution_count": 230,
   "id": "d98dbd57-bc4b-448d-b3cc-2a283a31cd84",
   "metadata": {},
   "outputs": [
    {
     "data": {
      "text/plain": [
       "True"
      ]
     },
     "execution_count": 230,
     "metadata": {},
     "output_type": "execute_result"
    }
   ],
   "source": [
    "# how to handle null cubes\n",
    "sample_convlstm.isnull().all().item(0)"
   ]
  },
  {
   "cell_type": "code",
   "execution_count": 223,
   "id": "3affaf6f-be34-4101-8557-d5a1d5ecd3b8",
   "metadata": {},
   "outputs": [
    {
     "data": {
      "text/plain": [
       "<matplotlib.collections.QuadMesh at 0x709c388a0390>"
      ]
     },
     "execution_count": 223,
     "metadata": {},
     "output_type": "execute_result"
    },
    {
     "data": {
      "image/png": "[encoded data removed]",
      "text/plain": [
       "<Figure size 640x480 with 2 Axes>"
      ]
     },
     "metadata": {},
     "output_type": "display_data"
    }
   ],
   "source": [
    "#sample_convlstm.sel(feat=\"precip\").isel(time=10).plot()"
   ]
  },
  {
   "cell_type": "code",
   "execution_count": 210,
   "id": "1e883dc3-599a-4a13-9511-aa70bce17076",
   "metadata": {},
   "outputs": [],
   "source": [
    "# this should work for the 1D lstm\n",
    "sample_lstm = sample_convlstm.stack(gridcell=[\"lat\",\"lon\"])"
   ]
  },
  {
   "cell_type": "code",
   "execution_count": null,
   "id": "03cebd7c-e534-42af-808f-1c68f549f974",
   "metadata": {},
   "outputs": [],
   "source": [
    "#ds.sel(variable=\"precip\").to_dataset(name=\"ds\").to_stacked_array(new_dim=\"batch\", sample_dims=(\"lon\",\"lat\"))"
   ]
  },
  {
   "cell_type": "markdown",
   "id": "cc979c13-d9a5-4f6b-9926-bd3238605d10",
   "metadata": {},
   "source": [
    "## Example xbatcher from https://github.com/earth-mover/dataloader-demo/blob/main/main.py"
   ]
  },
  {
   "cell_type": "code",
   "execution_count": 56,
   "id": "46d15c09-beec-4331-b9fa-b3a568e3eabe",
   "metadata": {},
   "outputs": [],
   "source": [
    "def print_json(obj):\n",
    "    print(json.dumps(obj))\n",
    "from torch.utils.data import Dataset as TorchDataset\n",
    "import multiprocessing\n",
    "class XBatcherPyTorchDataset(TorchDataset):\n",
    "    def __init__(self, batch_generator: xbatcher.BatchGenerator):\n",
    "        self.bgen = batch_generator\n",
    "\n",
    "    def __len__(self):\n",
    "        return len(self.bgen)\n",
    "\n",
    "    def __getitem__(self, idx):\n",
    "        t0 = time.time()\n",
    "        print_json(\n",
    "            {\n",
    "                \"event\": \"get-batch start\",\n",
    "                \"time\": t0,\n",
    "                \"idx\": idx,\n",
    "                \"pid\": multiprocessing.current_process().pid,\n",
    "            }\n",
    "        )\n",
    "        # load before stacking\n",
    "        batch = self.bgen[idx].load()\n",
    "\n",
    "        print(batch)\n",
    "\n",
    "        # Use to_stacked_array to stack without broadcasting,\n",
    "        stacked = batch.to_stacked_array(\n",
    "            new_dim=\"batch\", sample_dims=(\"time\", \"longitude\", \"latitude\")\n",
    "        ).transpose(\"time\", \"batch\", ...)\n",
    "        print(stacked)\n",
    "        x = torch.tensor(stacked.data)\n",
    "        t1 = time.time()\n",
    "        print_json(\n",
    "            {\n",
    "                \"event\": \"get-batch end\",\n",
    "                \"time\": t1,\n",
    "                \"idx\": idx,\n",
    "                \"pid\": multiprocessing.current_process().pid,\n",
    "                \"duration\": t1 - t0,\n",
    "            }\n",
    "        )\n",
    "        return x"
   ]
  },
  {
   "cell_type": "code",
   "execution_count": 57,
   "id": "90560ee3-6cdb-4dc4-aaaa-47149a906cdd",
   "metadata": {},
   "outputs": [],
   "source": [
    "import time, json\n",
    "def setup(source=\"gcs\", patch_size: int = 48, input_steps: int = 3):\n",
    "    if source == \"gcs\":\n",
    "        ds = xr.open_dataset(\n",
    "            \"gs://weatherbench2/datasets/era5/1959-2022-6h-128x64_equiangular_with_poles_conservative.zarr\",\n",
    "            engine=\"zarr\",\n",
    "            chunks={},\n",
    "        )\n",
    "    elif source == \"arraylake\":\n",
    "        config.set({\"s3.endpoint_url\": \"https://storage.googleapis.com\", \"s3.anon\": True})\n",
    "        ds = (\n",
    "            Client()\n",
    "            .get_repo(\"earthmover-public/weatherbench2\")\n",
    "            .to_xarray(\n",
    "                group=\"datasets/era5/1959-2022-6h-128x64_equiangular_with_poles_conservative\",\n",
    "                chunks={},\n",
    "            )\n",
    "        )\n",
    "    else:\n",
    "        raise ValueError(f\"Unknown source {source}\")\n",
    "\n",
    "    DEFAULT_VARS = [\n",
    "        \"10m_wind_speed\",\n",
    "        \"2m_temperature\",\n",
    "        \"specific_humidity\",\n",
    "    ]\n",
    "\n",
    "    ds = ds[DEFAULT_VARS]\n",
    "    patch = dict(\n",
    "        latitude=patch_size,\n",
    "        longitude=patch_size,\n",
    "        time=input_steps,\n",
    "    )\n",
    "    overlap = dict(latitude=32, longitude=32, time=input_steps // 3 * 2)\n",
    "\n",
    "    bgen = xbatcher.BatchGenerator(\n",
    "        ds,\n",
    "        input_dims=patch,\n",
    "        input_overlap=overlap,\n",
    "        preload_batch=False,\n",
    "    )\n",
    "\n",
    "    dataset = XBatcherPyTorchDataset(bgen)\n",
    "\n",
    "    return dataset"
   ]
  },
  {
   "cell_type": "code",
   "execution_count": 58,
   "id": "1e10aa5c-1a68-489c-9ad3-c85639196ea4",
   "metadata": {},
   "outputs": [],
   "source": [
    "xgen = setup()"
   ]
  },
  {
   "cell_type": "code",
   "execution_count": 59,
   "id": "1924aaef-4357-49a3-ab13-a304fbd468b8",
   "metadata": {},
   "outputs": [
    {
     "data": {
      "text/plain": [
       "1104456"
      ]
     },
     "execution_count": 59,
     "metadata": {},
     "output_type": "execute_result"
    }
   ],
   "source": [
    "len(xgen)"
   ]
  },
  {
   "cell_type": "code",
   "execution_count": null,
   "id": "3cea21f4-8df8-4b1b-9a72-0d0b9233e5af",
   "metadata": {},
   "outputs": [],
   "source": [
    "ds = xgen[1]"
   ]
  },
  {
   "cell_type": "code",
   "execution_count": 113,
   "id": "2abba2d3-caba-4326-9008-292c49d6cd9d",
   "metadata": {},
   "outputs": [
    {
     "data": {
      "text/plain": [
       "((1096, 20, 20),\n",
       " ('time', 'lat', 'lon'),\n",
       " Coordinates:\n",
       "   * time         (time) datetime64[ns] 2016-01-01 2016-01-02 ... 2018-12-31\n",
       "   * lon          (lon) float64 10.29 10.3 10.31 10.32 ... 10.45 10.46 10.47\n",
       "   * lat          (lat) float64 47.08 47.07 47.06 47.05 ... 46.93 46.92 46.91\n",
       "     spatial_ref  int64 0\n",
       "     variable     <U3 'pet',\n",
       " 99)"
      ]
     },
     "execution_count": 113,
     "metadata": {},
     "output_type": "execute_result"
    }
   ],
   "source": [
    "res = res[1]\n",
    "res.shape, res.dims, res.coords, len(xgen)"
   ]
  },
  {
   "cell_type": "code",
   "execution_count": 219,
   "id": "fb573312-a85b-4ce6-9e92-4ba5deed46b1",
   "metadata": {},
   "outputs": [],
   "source": [
    "# for i, b in enumerate(xgen):\n",
    "#     print(i)\n",
    "#     print(b.shape)\n",
    "#     plt.figure()\n",
    "#     try:\n",
    "#         b.isel(variable_input=1, sample=0).plot()\n",
    "#         b.isel(variable_input=1, lat_input=100, lon_input=100).plot(x=\"time\")\n",
    "#     except Exception as e:\n",
    "#         print(e)\n",
    "#         b.isel(variable=1, time=1).plot()\n",
    "#         b.isel(variable=1, lat=10, lon=10).plot()\n",
    "#     if i > 20:\n",
    "#         break"
   ]
  },
  {
   "cell_type": "markdown",
   "id": "fff9a05c-1662-4b26-a1d7-69bfa62d4498",
   "metadata": {},
   "source": [
    "## Test custom \"xbatcher\"\n",
    "\n",
    "The current implementation of xbatcher looks cool but it lacks:\n",
    "- way to index tiles and sequence, it only indexes cubes, therefore how I can subsample only in one of the two dimensions?\n",
    "- as I don't know the ordering of the cube samples, how can I subsample?\n",
    "- how to handle NULL cubes\n",
    "- It drops the \"edges\" of the dimension (i.e. it does not provide a collate function and cut short returning sample of the same dimension size)"
   ]
  },
  {
   "cell_type": "code",
   "execution_count": null,
   "id": "7b856664-7ffc-4510-992c-6f611ec4777a",
   "metadata": {},
   "outputs": [],
   "source": []
  },
  {
   "cell_type": "code",
   "execution_count": null,
   "id": "b633765b-b3eb-41c5-90f5-234fa9e5e44a",
   "metadata": {},
   "outputs": [],
   "source": [
    "time, lat ,lon = 360, 32,32"
   ]
  },
  {
   "cell_type": "code",
   "execution_count": 153,
   "id": "75739384-149c-40ba-aa3c-900f20af8b24",
   "metadata": {},
   "outputs": [
    {
     "name": "stdout",
     "output_type": "stream",
     "text": [
      "dynamic:  90\n",
      "static:  90\n",
      "dynamic:  60\n",
      "static:  60\n"
     ]
    },
    {
     "name": "stderr",
     "output_type": "stream",
     "text": [
      "/home/iferrario/.local/miniforge/envs/emulator/lib/python3.11/site-packages/xbatcher/generators.py:114: UserWarning: The following dimensions were included in both ``input_dims`` and ``batch_dims``. Since ``concat_input_dims`` is ``False``, these dimensions will not impact batch generation: {'lat': 32, 'lon': 32}\n",
      "  warnings.warn(\n"
     ]
    }
   ],
   "source": [
    "train_dataset = get_dataset(\"XBatchDataset\")(\n",
    "                      dynamic_train, \n",
    "                      target_train, \n",
    "                      static_train, \n",
    "                      lstm=False, \n",
    "                      xbatcher_kwargs={ \"input_dims\": {\"time\": time, \"lat\":lat, \"lon\":lon},\n",
    "                                       \"batch_dims\": {\"lat\":lat, \"lon\":lon}, \n",
    "                                       #\"input_overlap\":{\"time\":1},\n",
    "                                       \"concat_input_dims\":False,\n",
    "                                       \"preload_batch\":True})\n",
    "test_dataset = get_dataset(\"XBatchDataset\")(\n",
    "                      dynamic_test, \n",
    "                      target_test, \n",
    "                      static_test, \n",
    "                      lstm=False, \n",
    "                      xbatcher_kwargs={ \"input_dims\": {\"time\": time, \"lat\":lat, \"lon\":lon},\n",
    "                                       \"batch_dims\": {\"lat\":lat, \"lon\":lon}, \n",
    "                                       #\"input_overlap\":{\"time\":1},\n",
    "                                       \"concat_input_dims\":False,\n",
    "                                       \"preload_batch\":True})"
   ]
  },
  {
   "cell_type": "code",
   "execution_count": 154,
   "id": "df522c2d-f593-47fd-b65e-69fa23c33001",
   "metadata": {},
   "outputs": [],
   "source": [
    "train_dataloader = DataLoader(dataset=train_dataset, batch_size=16)\n",
    "test_dataloader = DataLoader(dataset=test_dataset, batch_size=16)"
   ]
  },
  {
   "cell_type": "code",
   "execution_count": 155,
   "id": "40c0e02f-285e-495a-9a86-621a3dcdd2f1",
   "metadata": {},
   "outputs": [
    {
     "data": {
      "text/plain": [
       "(6, 4)"
      ]
     },
     "execution_count": 155,
     "metadata": {},
     "output_type": "execute_result"
    }
   ],
   "source": [
    "len(train_dataloader), len(test_dataloader)"
   ]
  },
  {
   "cell_type": "code",
   "execution_count": 156,
   "id": "b1d94b94-a598-4b04-8422-9967d488067e",
   "metadata": {},
   "outputs": [
    {
     "data": {
      "text/plain": [
       "(torch.Size([16, 360, 3, 32, 32]),\n",
       " torch.Size([16, 360, 6, 32, 32]),\n",
       " torch.Size([16, 360, 2, 32, 32]))"
      ]
     },
     "execution_count": 156,
     "metadata": {},
     "output_type": "execute_result"
    }
   ],
   "source": [
    "next(iter(train_dataloader))[0].shape, next(iter(train_dataloader))[1].shape, next(iter(train_dataloader))[2].shape"
   ]
  },
  {
   "cell_type": "code",
   "execution_count": 157,
   "id": "74cf95da-2356-47cd-9078-2bbc8aea1b68",
   "metadata": {},
   "outputs": [],
   "source": [
    "from hython.models.convLSTM import ConvLSTM"
   ]
  },
  {
   "cell_type": "code",
   "execution_count": 158,
   "id": "97be28ab-52c0-4ec4-ac77-c44b45c8af58",
   "metadata": {},
   "outputs": [],
   "source": [
    "device = torch.device(\"cuda:0\" if torch.cuda.is_available() else \"cpu\")"
   ]
  },
  {
   "cell_type": "code",
   "execution_count": 159,
   "id": "9a069b10-3bcd-431e-b926-57d132ba66b2",
   "metadata": {},
   "outputs": [],
   "source": [
    "model = ConvLSTM(\n",
    "    input_dim =  DYNAMIC_INPUT_SIZE + STATIC_INPUT_SIZE,\n",
    "    output_dim= OUTPUT_SIZE,\n",
    "    hidden_dim = (HIDDEN_SIZE),\n",
    "    kernel_size = KERNEL_SIZE,\n",
    "    num_layers = NUM_LSTM_LAYER,\n",
    "    batch_first = True,\n",
    "    bias = True,\n",
    "    return_all_layers = False\n",
    ").to(device)"
   ]
  },
  {
   "cell_type": "code",
   "execution_count": 160,
   "id": "e20a06ba-95ef-4a3e-a744-3423a49179ae",
   "metadata": {},
   "outputs": [],
   "source": [
    "opt = optim.Adam(model.parameters(), lr=1e-3)\n",
    "lr_scheduler = ReduceLROnPlateau(opt, mode=\"min\", factor=0.5, patience=10)\n",
    "\n",
    "loss_fn = RMSELoss(target_weight={\"vwc\":0.5, \"actevap\":0.5})\n",
    "metric_fn = MSEMetric(target_names=[\"vwc\", \"actevap\"])"
   ]
  },
  {
   "cell_type": "code",
   "execution_count": 161,
   "id": "b51771b9-cced-4662-a9b4-70263b9b591b",
   "metadata": {
    "scrolled": true
   },
   "outputs": [
    {
     "name": "stdout",
     "output_type": "stream",
     "text": [
      "<hython.trainer.RNNTrainParams object at 0x7d162a234f50>\n"
     ]
    }
   ],
   "source": [
    "trainer = XBatcherTrainer(\n",
    "    RNNTrainParams(\n",
    "               experiment=experiment, \n",
    "               temporal_subsampling=False, \n",
    "               temporal_subset=1, \n",
    "               seq_length=SEQ_LENGTH, \n",
    "               target_names=target_names,\n",
    "               metric_func=metric_fn,\n",
    "               loss_func=loss_fn)\n",
    ")"
   ]
  },
  {
   "cell_type": "code",
   "execution_count": 162,
   "id": "fde287bf-8c64-4433-809c-20fac92c9ecb",
   "metadata": {},
   "outputs": [],
   "source": [
    "file_surr_output = f\"{dir_surr_output}/{experiment}_{surr_model_output}\""
   ]
  },
  {
   "cell_type": "code",
   "execution_count": null,
   "id": "167093f2-d61a-415a-96b7-6cf37c533f90",
   "metadata": {},
   "outputs": [
    {
     "name": "stderr",
     "output_type": "stream",
     "text": [
      "  0%|                                                                                                         | 0/10 [00:00<?, ?it/s]"
     ]
    }
   ],
   "source": [
    "# train\n",
    "model, loss_history, metric_history = train_val(\n",
    "    trainer,\n",
    "    model,\n",
    "    train_dataloader,\n",
    "    test_dataloader,\n",
    "    10,\n",
    "    opt,\n",
    "    lr_scheduler,\n",
    "    file_surr_output,\n",
    "    device,\n",
    ")"
   ]
  },
  {
   "cell_type": "code",
   "execution_count": null,
   "id": "872a9652-e1a3-4f1c-a57e-3aaeae093dab",
   "metadata": {},
   "outputs": [],
   "source": [
    "model.load_state_dict(torch.load(\"/mnt/CEPH_PROJECTS/InterTwin/hydrologic_data/surrogate_model/exp1_convlstm.pt\"))"
   ]
  },
  {
   "cell_type": "code",
   "execution_count": 49,
   "id": "071788eb-05e4-498f-ac4e-284934d3f9c2",
   "metadata": {},
   "outputs": [
    {
     "data": {
      "text/plain": [
       "ConvLSTM(\n",
       "  (cell_list): ModuleList(\n",
       "    (0): ConvLSTMCell(\n",
       "      (conv): Conv2d(33, 96, kernel_size=(3, 3), stride=(1, 1), padding=(1, 1))\n",
       "    )\n",
       "    (1): ConvLSTMCell(\n",
       "      (conv): Conv2d(48, 96, kernel_size=(3, 3), stride=(1, 1), padding=(1, 1))\n",
       "    )\n",
       "  )\n",
       "  (fc1): Linear(in_features=24, out_features=2, bias=True)\n",
       ")"
      ]
     },
     "execution_count": 49,
     "metadata": {},
     "output_type": "execute_result"
    }
   ],
   "source": [
    "model"
   ]
  },
  {
   "cell_type": "code",
   "execution_count": null,
   "id": "993177be-554f-4a47-bddb-e900f4fd0bf0",
   "metadata": {},
   "outputs": [],
   "source": [
    "lepochs = list(range(1, EPOCHS + 1))\n",
    "\n",
    "fig, axs = plt.subplots(3, 1, figsize= (12,6), sharex=True)\n",
    "\n",
    "axs[0].plot(lepochs, metric_history['train_vwc'], marker='.', linestyle='-', color='b', label='Training')\n",
    "axs[0].plot(lepochs, metric_history['val_vwc'], marker='.', linestyle='-', color='r', label='Validation')\n",
    "axs[0].set_title('SM')\n",
    "axs[0].set_ylabel(metric_fn.__class__.__name__)\n",
    "axs[0].grid(True)\n",
    "axs[0].legend(bbox_to_anchor=(1,1))\n",
    "\n",
    "axs[1].plot(lepochs, metric_history['train_actevap'], marker='.', linestyle='-', color='b', label='Training')\n",
    "axs[1].plot(lepochs, metric_history['val_actevap'], marker='.', linestyle='-', color='r', label='Validation')\n",
    "axs[1].set_title('ET')\n",
    "axs[1].set_ylabel(metric_fn.__class__.__name__)\n",
    "axs[1].grid(True)\n",
    "\n",
    "axs[2].plot(lepochs, [i.detach().cpu().numpy() for i in loss_history['train']], marker='.', linestyle='-', color='b', label='Training')\n",
    "axs[2].plot(lepochs, [i.detach().cpu().numpy() for i in loss_history['val']], marker='.', linestyle='-', color='r', label='Validation')\n",
    "axs[2].set_title('Loss')\n",
    "axs[2].set_xlabel('Epochs')\n",
    "axs[2].set_ylabel(loss_fn.__name__)\n",
    "axs[2].grid(True)"
   ]
  },
  {
   "cell_type": "code",
   "execution_count": 50,
   "id": "6943e9d8-587e-4d0f-9179-7ab72f9f5cc9",
   "metadata": {},
   "outputs": [],
   "source": [
    "def predict(Xd, Xs, model, batch_size, device):\n",
    "    model = model.to(device)\n",
    "    X = torch.concat([Xd, Xs], 2).to(device)\n",
    "    arr = []\n",
    "    for i in range(0, Xd.shape[0], batch_size):\n",
    "        out = model(X)[0]\n",
    "        #import pdb;pdb.set_trace()\n",
    "        arr.append(out[i : (i + batch_size)].detach().cpu().numpy())\n",
    "    return np.vstack(arr)"
   ]
  },
  {
   "cell_type": "code",
   "execution_count": 51,
   "id": "7c025b28-16fb-4328-b057-62f398898c36",
   "metadata": {},
   "outputs": [],
   "source": [
    "output = predict(res[0], res[1], model, batch_size=8,device=device)"
   ]
  },
  {
   "cell_type": "code",
   "execution_count": 52,
   "id": "2f031f74-3bdb-4b04-b8b4-6a95fefeb776",
   "metadata": {},
   "outputs": [],
   "source": [
    "import matplotlib.pyplot as plt"
   ]
  },
  {
   "cell_type": "code",
   "execution_count": 53,
   "id": "ebe92b9a-dd27-4aa4-83f6-4f98ebf42592",
   "metadata": {},
   "outputs": [
    {
     "data": {
      "text/plain": [
       "(16, 360, 32, 32, 2)"
      ]
     },
     "execution_count": 53,
     "metadata": {},
     "output_type": "execute_result"
    }
   ],
   "source": [
    "output.shape"
   ]
  },
  {
   "cell_type": "code",
   "execution_count": 61,
   "id": "e5087d1f-c3ca-48bd-9d6b-e31b93e4e633",
   "metadata": {},
   "outputs": [
    {
     "data": {
      "text/plain": [
       "<matplotlib.colorbar.Colorbar at 0x7d1649fbedd0>"
      ]
     },
     "execution_count": 61,
     "metadata": {},
     "output_type": "execute_result"
    },
    {
     "data": {
      "image/png": "[encoded data removed]",
      "text/plain": [
       "<Figure size 640x480 with 2 Axes>"
      ]
     },
     "metadata": {},
     "output_type": "display_data"
    }
   ],
   "source": [
    "plt.imshow(output[10,-1,:,:,0])\n",
    "plt.colorbar()"
   ]
  },
  {
   "cell_type": "code",
   "execution_count": 55,
   "id": "5a445e09-4a85-4116-8bb6-eb0d17103559",
   "metadata": {},
   "outputs": [
    {
     "data": {
      "text/plain": [
       "<matplotlib.colorbar.Colorbar at 0x7d164a511e90>"
      ]
     },
     "execution_count": 55,
     "metadata": {},
     "output_type": "execute_result"
    },
    {
     "data": {
      "image/png": "[encoded data removed]",
      "text/plain": [
       "<Figure size 640x480 with 2 Axes>"
      ]
     },
     "metadata": {},
     "output_type": "display_data"
    }
   ],
   "source": [
    "plt.imshow(res[2][0,-1,0,:,:])\n",
    "plt.colorbar()"
   ]
  },
  {
   "cell_type": "code",
   "execution_count": 56,
   "id": "c2c2b3d3-24fa-4771-bc46-a3a1d777e1c4",
   "metadata": {},
   "outputs": [
    {
     "data": {
      "text/plain": [
       "<matplotlib.colorbar.Colorbar at 0x7d164a431e90>"
      ]
     },
     "execution_count": 56,
     "metadata": {},
     "output_type": "execute_result"
    },
    {
     "data": {
      "image/png": "[encoded data removed]",
      "text/plain": [
       "<Figure size 640x480 with 2 Axes>"
      ]
     },
     "metadata": {},
     "output_type": "display_data"
    }
   ],
   "source": [
    "plt.imshow((output[0,-1,:,:,0] - np.array(res[2][0,-1,0,:,:])), cmap=\"RdBu\")\n",
    "plt.colorbar()"
   ]
  },
  {
   "cell_type": "code",
   "execution_count": null,
   "id": "a993f8e8-34cc-48f2-8921-9aac62bdafea",
   "metadata": {},
   "outputs": [],
   "source": [
    "torch"
   ]
  },
  {
   "cell_type": "code",
   "execution_count": null,
   "id": "82f7b83b-da1a-49b0-b8b3-5765471174d4",
   "metadata": {},
   "outputs": [],
   "source": [
    "torch.split?"
   ]
  },
  {
   "cell_type": "code",
   "execution_count": null,
   "id": "882840e0-1f47-41c3-a76c-5b157fdec87f",
   "metadata": {},
   "outputs": [],
   "source": []
  }
 ],
 "metadata": {
  "kernelspec": {
   "display_name": "emulator",
   "language": "python",
   "name": "emulator"
  },
  "language_info": {
   "codemirror_mode": {
    "name": "ipython",
    "version": 3
   },
   "file_extension": ".py",
   "mimetype": "text/x-python",
   "name": "python",
   "nbconvert_exporter": "python",
   "pygments_lexer": "ipython3",
   "version": "3.11.6"
  }
 },
 "nbformat": 4,
 "nbformat_minor": 5
}
