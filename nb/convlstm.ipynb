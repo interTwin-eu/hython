{
 "cells": [
  {
   "cell_type": "code",
   "execution_count": 1,
   "id": "49640666-0cfe-4973-b629-8ef88626bf23",
   "metadata": {},
   "outputs": [],
   "source": [
    "%load_ext autoreload\n",
    "%autoreload 2"
   ]
  },
  {
   "cell_type": "code",
   "execution_count": 2,
   "id": "f646582a-3f9c-4e27-bd5b-f24cd80c6b3e",
   "metadata": {},
   "outputs": [],
   "source": [
    "import xarray as xr\n",
    "import torch\n",
    "from pathlib import Path\n",
    "from hython.utils import write_to_zarr, build_mask_dataarray\n",
    "import matplotlib.pyplot as plt\n",
    "from pathlib import Path\n",
    "from hython.datasets.datasets import get_dataset\n",
    "from numcodecs import Blosc\n",
    "\n",
    "from torch.utils.data import Dataset, DataLoader"
   ]
  },
  {
   "cell_type": "code",
   "execution_count": 9,
   "id": "fa7990a6-4e87-4465-a9bd-c10b11258c03",
   "metadata": {},
   "outputs": [],
   "source": [
    "from hython.trainer import XBatcherTrainer\n",
    "from hython.trainer import train_val\n",
    "from hython.sampler import SamplerBuilder\n",
    "from hython.metrics import MSEMetric\n",
    "from hython.losses import RMSELoss\n",
    "from hython.utils import read_from_zarr, set_seed\n",
    "from hython.models.cudnnLSTM import CuDNNLSTM\n",
    "from hython.trainer import RNNTrainer, RNNTrainParams\n",
    "from hython.normalizer import Normalizer\n",
    "\n",
    "import numpy as np\n",
    "import torch.optim as optim\n",
    "from torch.optim.lr_scheduler import ReduceLROnPlateau\n",
    "from torch.utils.data import DataLoader, Dataset"
   ]
  },
  {
   "cell_type": "code",
   "execution_count": 10,
   "id": "892d7e02-8ab4-497e-9277-460a5d10183e",
   "metadata": {},
   "outputs": [],
   "source": [
    "#from torchvision.datasets import MovingMNIST"
   ]
  },
  {
   "cell_type": "code",
   "execution_count": 11,
   "id": "ecb0b9f0-ce33-4d60-ac54-41d4143e2a1f",
   "metadata": {},
   "outputs": [],
   "source": [
    "dir_surr_input = Path(\"/mnt/CEPH_PROJECTS/InterTwin/Wflow/models/adg1km_eobs\")\n",
    "\n",
    "\n",
    "static = xr.open_dataset(dir_surr_input / \"staticmaps.nc\")#.chunk(\"auto\")\n",
    "dynamic = xr.open_dataset(dir_surr_input/ \"forcings.nc\")#.chunk(\"auto\") # C T W H => N T C H W\n",
    "target = xr.open_dataset(dir_surr_input / \"run_default/output.nc\").sel(layer=1).isel(lat=slice(None, None, -1))#.chunk(\"auto\") # C T W H => N T C H W\n",
    "\n",
    "\n",
    "surr_model_output = \"convlstm.pt\"\n",
    "experiment = \"exp1\" # experiment name\n",
    "\n",
    "dir_surr_output = \"/mnt/CEPH_PROJECTS/InterTwin/hydrologic_data/surrogate_model\"\n",
    "\n",
    "SEED = 1696\n",
    "\n",
    "dynamic_names = [\"precip\", \"pet\", \"temp\"] \n",
    "static_names = [ 'thetaS', 'thetaR', 'RootingDepth', 'Swood','KsatVer', \"Sl\"] \n",
    "target_names = [ \"vwc\",\"actevap\"] \n",
    "\n",
    "mask_from_static = [\"wflow_lakeareas\"]\n",
    "rename_mask = [\"mask_lake\"]\n",
    "\n",
    "\n",
    "dataset = \"XBatchDataset\"\n",
    "\n",
    "\n",
    "# DL model hyper parameters\n",
    "HIDDEN_SIZE = 24\n",
    "DYNAMIC_INPUT_SIZE = len(dynamic_names)\n",
    "STATIC_INPUT_SIZE = len(static_names)\n",
    "KERNEL_SIZE = (3, 3)\n",
    "NUM_LSTM_LAYER = 2\n",
    "OUTPUT_SIZE = len(target_names)\n",
    "\n",
    "\n",
    "TARGET_WEIGHTS = {t:0.5 for t in target_names}\n",
    "\n",
    "\n",
    "\n",
    "# train/test parameters\n",
    "train_temporal_range = slice(\"2016-01-01\",\"2018-12-31\")\n",
    "test_temporal_range = slice(\"2016-01-01\", \"2018-12-31\")\n",
    "\n",
    "EPOCHS = 90\n",
    "BATCH = 64\n",
    "TEMPORAL_SUBSAMPLING = True\n",
    "TEMPORAL_SUBSET = [150, 150] \n",
    "SEQ_LENGTH = 360\n",
    "\n",
    "\n",
    "assert sum(v for v in TARGET_WEIGHTS.values()) == 1, \"check target weights\"\n",
    "TARGET_INITIALS = \"\".join([i[0].capitalize() for i in target_names])\n"
   ]
  },
  {
   "cell_type": "code",
   "execution_count": 12,
   "id": "710c62cf-d370-4867-8388-50b06d107040",
   "metadata": {},
   "outputs": [],
   "source": [
    "wd = Path(\"/mnt/CEPH_PROJECTS/InterTwin/Wflow/models/adg1km_eobs\")"
   ]
  },
  {
   "cell_type": "code",
   "execution_count": 13,
   "id": "33ad3f08-c6b0-48b9-a062-bd5e6923f692",
   "metadata": {},
   "outputs": [],
   "source": [
    "try:\n",
    "    dynamic = dynamic.rename({\"latitude\":\"lat\", \"longitude\":\"lon\"})\n",
    "    static = static.rename({\"latitude\":\"lat\", \"longitude\":\"lon\"})\n",
    "except:\n",
    "    pass"
   ]
  },
  {
   "cell_type": "code",
   "execution_count": 14,
   "id": "d468a748-9c53-4653-a4bc-05919e3e50a7",
   "metadata": {},
   "outputs": [],
   "source": [
    "# masking \n",
    "\n",
    "mask_missing = np.isnan(static[static_names[0]]).rename(\"mask_missing\")\n",
    "\n",
    "masks = []\n",
    "masks.append(mask_missing)\n",
    "\n",
    "for i, mask in enumerate(mask_from_static):\n",
    "    masks.append((static[mask] > 0).astype(np.bool_).rename(rename_mask[i]))\n",
    "\n",
    "masks = build_mask_dataarray(masks, names = [\"mask_missing\"]+ rename_mask).any(dim=\"mask_layer\")"
   ]
  },
  {
   "cell_type": "code",
   "execution_count": 15,
   "id": "e2f12526-5fd8-4a10-84a7-05e58d63f9a9",
   "metadata": {},
   "outputs": [],
   "source": [
    "# filter \n",
    "dynamic = dynamic[dynamic_names]\n",
    "target = target[target_names]\n",
    "static = static.drop_dims(\"time\").sel(layer=1)[ static_names ] "
   ]
  },
  {
   "cell_type": "code",
   "execution_count": 16,
   "id": "45d24c37-a84f-4471-9eaf-7d89c4e6864a",
   "metadata": {},
   "outputs": [],
   "source": [
    "dynamic = dynamic.to_array() # C T H W\n",
    "static = static.to_array() # C T H W\n",
    "target = target.to_array()"
   ]
  },
  {
   "cell_type": "code",
   "execution_count": 17,
   "id": "664195f7-3bfd-4418-9998-fc9ab9e0fbeb",
   "metadata": {},
   "outputs": [
    {
     "data": {
      "text/plain": [
       "((2, 2191, 180, 223), (6, 180, 223), (3, 2192, 180, 223), (180, 223))"
      ]
     },
     "execution_count": 17,
     "metadata": {},
     "output_type": "execute_result"
    }
   ],
   "source": [
    "target.shape, static.shape, dynamic.shape, masks.shape"
   ]
  },
  {
   "cell_type": "code",
   "execution_count": 18,
   "id": "e6ab7fdd-4d68-43b1-b6ad-2d62441d0e51",
   "metadata": {},
   "outputs": [],
   "source": [
    "dynamic = dynamic.where(~masks, 0)"
   ]
  },
  {
   "cell_type": "code",
   "execution_count": 19,
   "id": "c0487b02-5d2e-42f8-a478-15265307985b",
   "metadata": {},
   "outputs": [],
   "source": [
    "static = static.where(~masks, 0)"
   ]
  },
  {
   "cell_type": "code",
   "execution_count": 20,
   "id": "fa6b4c3b-a05a-45d9-8978-fd9666777ee9",
   "metadata": {},
   "outputs": [],
   "source": [
    "target = target.where(~masks, 0)"
   ]
  },
  {
   "cell_type": "code",
   "execution_count": null,
   "id": "090a4f9b-79ef-4141-a527-353c25953bcc",
   "metadata": {},
   "outputs": [],
   "source": []
  },
  {
   "cell_type": "code",
   "execution_count": 22,
   "id": "44a2db19-e981-47ca-bfa1-a05dd026e2bc",
   "metadata": {},
   "outputs": [],
   "source": [
    "# axis=(1,2,3)\n",
    "# stats = np.nanmean(target,axis=(1,2,3)), np.nanstd(target, axis=(1,2,3)) \n",
    "# stats\n",
    "\n",
    "# (target - np.expand_dims(stats[0], axis=axis)) / (np.expand_dims(stats[1], axis=axis)  - np.expand_dims(stats[0], axis=axis))"
   ]
  },
  {
   "cell_type": "code",
   "execution_count": 23,
   "id": "10ada5fd-e1d7-411b-af2b-0893f640ac31",
   "metadata": {},
   "outputs": [
    {
     "name": "stdout",
     "output_type": "stream",
     "text": [
      "compute stats\n",
      "compute stats\n",
      "compute stats\n"
     ]
    }
   ],
   "source": [
    "# normalize\n",
    "\n",
    "normalizer_dynamic = Normalizer(method=\"standardize\", type=\"spacetime\", shape=\"2D\")\n",
    "\n",
    "normalizer_static = Normalizer(method=\"standardize\", type=\"space\", shape=\"2D\")\n",
    "\n",
    "normalizer_target = Normalizer(method=\"standardize\", type=\"spacetime\", shape=\"2D\")\n",
    "\n",
    "normalizer_dynamic.compute_stats(dynamic)\n",
    "normalizer_static.compute_stats(static)\n",
    "normalizer_target.compute_stats(target)\n",
    "\n",
    "# TODO: save stats, implement caching of stats to save computation\n",
    "\n",
    "dynamic = normalizer_dynamic.normalize(dynamic)\n",
    "static = normalizer_static.normalize(static)\n",
    "target = normalizer_target.normalize(target)\n",
    "\n",
    "#Xd_test = normalizer_dynamic.normalize(Xd_test)\n",
    "#Y_test = normalizer_target.normalize(Y_test)"
   ]
  },
  {
   "cell_type": "code",
   "execution_count": 24,
   "id": "5a6b2cc0-d7c9-4e04-b569-ee8cd59e9454",
   "metadata": {},
   "outputs": [],
   "source": [
    "# expand static to dynamic \n",
    "\n",
    "time_da = xr.DataArray(dynamic.time.values, [('time', dynamic.time.values)])\n",
    "static = static.expand_dims({\"time\":time_da})"
   ]
  },
  {
   "cell_type": "code",
   "execution_count": 25,
   "id": "cb7b382c-62a4-4144-8d6f-3d71fabf8d28",
   "metadata": {},
   "outputs": [],
   "source": [
    "# compressor = Blosc(cname='zl4', clevel=9, shuffle=Blosc.BITSHUFFLE)\n",
    "\n",
    "# ss = params.drop_dims(\"time\")[[ 'thetaS', 'thetaR', 'RootingDepth', 'Swood','KsatVer', \"Sl\"]].expand_dims({\"time\": ds.time}).chunk({\"time\":500, \"latitude\":50, \"longitude\":50})\n",
    "\n",
    "# ss.to_zarr(wd / \"test.zarr\",storage_options={\"compressor\":compressor})\n",
    "\n",
    "# ss = xr.open_dataset( wd / \"test.zarr\", engine = \"zarr\")\n",
    "\n",
    "# time, lat, lon = 365, 16, 16 "
   ]
  },
  {
   "cell_type": "code",
   "execution_count": 26,
   "id": "95b73d5a-ded5-47ff-bb46-3072a0cf98b9",
   "metadata": {},
   "outputs": [
    {
     "data": {
      "text/plain": [
       "((2192, 6, 180, 223), ('time', 'variable', 'lat', 'lon'))"
      ]
     },
     "execution_count": 26,
     "metadata": {},
     "output_type": "execute_result"
    }
   ],
   "source": [
    "static.shape, static.dims"
   ]
  },
  {
   "cell_type": "code",
   "execution_count": 27,
   "id": "e8d2351c-2e65-4fcf-9c3e-064b9996d7a5",
   "metadata": {},
   "outputs": [
    {
     "data": {
      "text/plain": [
       "((2, 2191, 180, 223), ('variable', 'time', 'lat', 'lon'))"
      ]
     },
     "execution_count": 27,
     "metadata": {},
     "output_type": "execute_result"
    }
   ],
   "source": [
    "target.shape, target.dims"
   ]
  },
  {
   "cell_type": "code",
   "execution_count": 28,
   "id": "e43e6b0a-c8db-4847-bf1a-dc9542118d88",
   "metadata": {},
   "outputs": [
    {
     "data": {
      "text/plain": [
       "((3, 2192, 180, 223), ('variable', 'time', 'lat', 'lon'))"
      ]
     },
     "execution_count": 28,
     "metadata": {},
     "output_type": "execute_result"
    }
   ],
   "source": [
    "dynamic.shape, dynamic.dims"
   ]
  },
  {
   "cell_type": "code",
   "execution_count": 29,
   "id": "186395cf-e112-4e84-b2c3-64f63f45f065",
   "metadata": {},
   "outputs": [],
   "source": [
    "time, lat ,lon = 360, 32,32"
   ]
  },
  {
   "cell_type": "code",
   "execution_count": 30,
   "id": "75739384-149c-40ba-aa3c-900f20af8b24",
   "metadata": {},
   "outputs": [
    {
     "name": "stdout",
     "output_type": "stream",
     "text": [
      "dynamic:  180\n",
      "static:  180\n",
      "dynamic:  180\n",
      "static:  180\n"
     ]
    },
    {
     "name": "stderr",
     "output_type": "stream",
     "text": [
      "/home/iferrario/.local/miniforge/envs/emulator/lib/python3.11/site-packages/xbatcher/generators.py:114: UserWarning: The following dimensions were included in both ``input_dims`` and ``batch_dims``. Since ``concat_input_dims`` is ``False``, these dimensions will not impact batch generation: {'lat': 32, 'lon': 32}\n",
      "  warnings.warn(\n"
     ]
    }
   ],
   "source": [
    "train_dataset = get_dataset(\"XBatchDataset\")(\n",
    "                      dynamic, \n",
    "                      target, \n",
    "                      static, \n",
    "                      lstm=False, \n",
    "                      xbatcher_kwargs={ \"input_dims\": {\"time\": time, \"lat\":lat, \"lon\":lon},\n",
    "                                       \"batch_dims\": {\"lat\":lat, \"lon\":lon}, \n",
    "                                       #\"input_overlap\":{\"time\":1},\n",
    "                                       \"concat_input_dims\":False,\n",
    "                                       \"preload_batch\":True})\n",
    "test_dataset = get_dataset(\"XBatchDataset\")(\n",
    "                      dynamic, \n",
    "                      target, \n",
    "                      static, \n",
    "                      lstm=False, \n",
    "                      xbatcher_kwargs={ \"input_dims\": {\"time\": time, \"lat\":lat, \"lon\":lon},\n",
    "                                       \"batch_dims\": {\"lat\":lat, \"lon\":lon}, \n",
    "                                       #\"input_overlap\":{\"time\":1},\n",
    "                                       \"concat_input_dims\":False,\n",
    "                                       \"preload_batch\":True})"
   ]
  },
  {
   "cell_type": "code",
   "execution_count": 31,
   "id": "df522c2d-f593-47fd-b65e-69fa23c33001",
   "metadata": {},
   "outputs": [],
   "source": [
    "dataloader = DataLoader(dataset=train_dataset, batch_size=16)"
   ]
  },
  {
   "cell_type": "code",
   "execution_count": 32,
   "id": "40c0e02f-285e-495a-9a86-621a3dcdd2f1",
   "metadata": {},
   "outputs": [
    {
     "data": {
      "text/plain": [
       "12"
      ]
     },
     "execution_count": 32,
     "metadata": {},
     "output_type": "execute_result"
    }
   ],
   "source": [
    "len(dataloader)"
   ]
  },
  {
   "cell_type": "code",
   "execution_count": 33,
   "id": "690bbcfb-7d60-42f8-bf60-0f5952e203ea",
   "metadata": {},
   "outputs": [],
   "source": [
    "res = next(iter(dataloader))"
   ]
  },
  {
   "cell_type": "code",
   "execution_count": 34,
   "id": "b1d94b94-a598-4b04-8422-9967d488067e",
   "metadata": {},
   "outputs": [
    {
     "data": {
      "text/plain": [
       "torch.Size([16, 360, 3, 32, 32])"
      ]
     },
     "execution_count": 34,
     "metadata": {},
     "output_type": "execute_result"
    }
   ],
   "source": [
    "res[0].shape"
   ]
  },
  {
   "cell_type": "code",
   "execution_count": 35,
   "id": "74cf95da-2356-47cd-9078-2bbc8aea1b68",
   "metadata": {},
   "outputs": [],
   "source": [
    "from hython.models.convLSTM import ConvLSTM"
   ]
  },
  {
   "cell_type": "code",
   "execution_count": 36,
   "id": "97be28ab-52c0-4ec4-ac77-c44b45c8af58",
   "metadata": {},
   "outputs": [],
   "source": [
    "device = torch.device(\"cuda:0\" if torch.cuda.is_available() else \"cpu\")"
   ]
  },
  {
   "cell_type": "code",
   "execution_count": 37,
   "id": "9a069b10-3bcd-431e-b926-57d132ba66b2",
   "metadata": {},
   "outputs": [],
   "source": [
    "model = ConvLSTM(\n",
    "    input_dim =  DYNAMIC_INPUT_SIZE + STATIC_INPUT_SIZE,\n",
    "    output_dim= OUTPUT_SIZE,\n",
    "    hidden_dim = (HIDDEN_SIZE),\n",
    "    kernel_size = KERNEL_SIZE,\n",
    "    num_layers = NUM_LSTM_LAYER,\n",
    "    batch_first = True,\n",
    "    bias = True,\n",
    "    return_all_layers = False\n",
    ").to(device)"
   ]
  },
  {
   "cell_type": "code",
   "execution_count": 38,
   "id": "e20a06ba-95ef-4a3e-a744-3423a49179ae",
   "metadata": {},
   "outputs": [],
   "source": [
    "opt = optim.Adam(model.parameters(), lr=1e-3)\n",
    "lr_scheduler = ReduceLROnPlateau(opt, mode=\"min\", factor=0.5, patience=10)\n",
    "\n",
    "loss_fn = RMSELoss(target_weight={\"vwc\":0.5, \"actevap\":0.5})\n",
    "metric_fn = MSEMetric(target_names=[\"vwc\", \"actevap\"])"
   ]
  },
  {
   "cell_type": "code",
   "execution_count": 39,
   "id": "b51771b9-cced-4662-a9b4-70263b9b591b",
   "metadata": {
    "scrolled": true
   },
   "outputs": [
    {
     "name": "stdout",
     "output_type": "stream",
     "text": [
      "<hython.trainer.RNNTrainParams object at 0x7d1689543250>\n"
     ]
    }
   ],
   "source": [
    "trainer = XBatcherTrainer(\n",
    "    RNNTrainParams(\n",
    "               experiment=experiment, \n",
    "               temporal_subsampling=False, \n",
    "               temporal_subset=1, \n",
    "               seq_length=SEQ_LENGTH, \n",
    "               target_names=target_names,\n",
    "               metric_func=metric_fn,\n",
    "               loss_func=loss_fn)\n",
    ")"
   ]
  },
  {
   "cell_type": "code",
   "execution_count": 40,
   "id": "fde287bf-8c64-4433-809c-20fac92c9ecb",
   "metadata": {},
   "outputs": [],
   "source": [
    "file_surr_output = f\"{dir_surr_output}/{experiment}_{surr_model_output}\""
   ]
  },
  {
   "cell_type": "code",
   "execution_count": null,
   "id": "8f606f40-1dc9-41e2-a802-554f00c5a5b8",
   "metadata": {},
   "outputs": [
    {
     "name": "stderr",
     "output_type": "stream",
     "text": [
      "  1%|█                                                                                                | 1/90 [00:33<49:38, 33.46s/it]"
     ]
    },
    {
     "name": "stdout",
     "output_type": "stream",
     "text": [
      "save weights to: /mnt/CEPH_PROJECTS/InterTwin/hydrologic_data/surrogate_model/exp1_convlstm.pt\n",
      "Copied best model weights!\n",
      "train loss: 0.5765542984008789\n",
      "val loss: 0.5323127508163452\n"
     ]
    },
    {
     "name": "stderr",
     "output_type": "stream",
     "text": [
      "  2%|██▏                                                                                              | 2/90 [01:05<47:45, 32.57s/it]"
     ]
    },
    {
     "name": "stdout",
     "output_type": "stream",
     "text": [
      "save weights to: /mnt/CEPH_PROJECTS/InterTwin/hydrologic_data/surrogate_model/exp1_convlstm.pt\n",
      "Copied best model weights!\n",
      "train loss: 0.5521553158760071\n",
      "val loss: 0.5298378467559814\n"
     ]
    },
    {
     "name": "stderr",
     "output_type": "stream",
     "text": [
      "  3%|███▏                                                                                             | 3/90 [01:37<46:47, 32.28s/it]"
     ]
    },
    {
     "name": "stdout",
     "output_type": "stream",
     "text": [
      "train loss: 0.5271358489990234\n",
      "val loss: 0.5299137830734253\n"
     ]
    },
    {
     "name": "stderr",
     "output_type": "stream",
     "text": [
      "  4%|████▎                                                                                            | 4/90 [02:09<45:58, 32.07s/it]"
     ]
    },
    {
     "name": "stdout",
     "output_type": "stream",
     "text": [
      "save weights to: /mnt/CEPH_PROJECTS/InterTwin/hydrologic_data/surrogate_model/exp1_convlstm.pt\n",
      "Copied best model weights!\n",
      "train loss: 0.5312707424163818\n",
      "val loss: 0.5261126160621643\n"
     ]
    },
    {
     "name": "stderr",
     "output_type": "stream",
     "text": [
      "  6%|█████▍                                                                                           | 5/90 [02:41<45:31, 32.13s/it]"
     ]
    },
    {
     "name": "stdout",
     "output_type": "stream",
     "text": [
      "save weights to: /mnt/CEPH_PROJECTS/InterTwin/hydrologic_data/surrogate_model/exp1_convlstm.pt\n",
      "Copied best model weights!\n",
      "train loss: 0.5284962058067322\n",
      "val loss: 0.5255627632141113\n"
     ]
    },
    {
     "name": "stderr",
     "output_type": "stream",
     "text": [
      "  7%|██████▍                                                                                          | 6/90 [03:13<45:08, 32.24s/it]"
     ]
    },
    {
     "name": "stdout",
     "output_type": "stream",
     "text": [
      "save weights to: /mnt/CEPH_PROJECTS/InterTwin/hydrologic_data/surrogate_model/exp1_convlstm.pt\n",
      "Copied best model weights!\n",
      "train loss: 0.5271654725074768\n",
      "val loss: 0.5250462293624878\n"
     ]
    },
    {
     "name": "stderr",
     "output_type": "stream",
     "text": [
      "  8%|███████▌                                                                                         | 7/90 [03:43<43:23, 31.37s/it]"
     ]
    },
    {
     "name": "stdout",
     "output_type": "stream",
     "text": [
      "save weights to: /mnt/CEPH_PROJECTS/InterTwin/hydrologic_data/surrogate_model/exp1_convlstm.pt\n",
      "Copied best model weights!\n",
      "train loss: 0.5268950462341309\n",
      "val loss: 0.5240625143051147\n"
     ]
    },
    {
     "name": "stderr",
     "output_type": "stream",
     "text": [
      "  9%|████████▌                                                                                        | 8/90 [04:14<42:47, 31.31s/it]"
     ]
    },
    {
     "name": "stdout",
     "output_type": "stream",
     "text": [
      "save weights to: /mnt/CEPH_PROJECTS/InterTwin/hydrologic_data/surrogate_model/exp1_convlstm.pt\n",
      "Copied best model weights!\n",
      "train loss: 0.5260944366455078\n",
      "val loss: 0.5232425928115845\n"
     ]
    },
    {
     "name": "stderr",
     "output_type": "stream",
     "text": [
      " 10%|█████████▋                                                                                       | 9/90 [04:46<42:29, 31.47s/it]"
     ]
    },
    {
     "name": "stdout",
     "output_type": "stream",
     "text": [
      "save weights to: /mnt/CEPH_PROJECTS/InterTwin/hydrologic_data/surrogate_model/exp1_convlstm.pt\n",
      "Copied best model weights!\n",
      "train loss: 0.5251492261886597\n",
      "val loss: 0.5221048593521118\n"
     ]
    },
    {
     "name": "stderr",
     "output_type": "stream",
     "text": [
      " 11%|██████████▋                                                                                     | 10/90 [05:18<42:03, 31.55s/it]"
     ]
    },
    {
     "name": "stdout",
     "output_type": "stream",
     "text": [
      "save weights to: /mnt/CEPH_PROJECTS/InterTwin/hydrologic_data/surrogate_model/exp1_convlstm.pt\n",
      "Copied best model weights!\n",
      "train loss: 0.5240989923477173\n",
      "val loss: 0.5210644006729126\n"
     ]
    },
    {
     "name": "stderr",
     "output_type": "stream",
     "text": [
      " 12%|███████████▋                                                                                    | 11/90 [05:49<41:39, 31.64s/it]"
     ]
    },
    {
     "name": "stdout",
     "output_type": "stream",
     "text": [
      "save weights to: /mnt/CEPH_PROJECTS/InterTwin/hydrologic_data/surrogate_model/exp1_convlstm.pt\n",
      "Copied best model weights!\n",
      "train loss: 0.5233604907989502\n",
      "val loss: 0.5197805166244507\n"
     ]
    }
   ],
   "source": [
    "# train\n",
    "model, loss_history, metric_history = train_val(\n",
    "    trainer,\n",
    "    model,\n",
    "    dataloader,\n",
    "    dataloader,\n",
    "    EPOCHS,\n",
    "    opt,\n",
    "    lr_scheduler,\n",
    "    file_surr_output,\n",
    "    device,\n",
    ")"
   ]
  },
  {
   "cell_type": "code",
   "execution_count": null,
   "id": "3405829b-7d1a-4b88-b647-c7da5b41e391",
   "metadata": {},
   "outputs": [],
   "source": [
    "lepochs = list(range(1, EPOCHS + 1))\n",
    "\n",
    "fig, axs = plt.subplots(3, 1, figsize= (12,6), sharex=True)\n",
    "\n",
    "axs[0].plot(lepochs, metric_history['train_vwc'], marker='.', linestyle='-', color='b', label='Training')\n",
    "axs[0].plot(lepochs, metric_history['val_vwc'], marker='.', linestyle='-', color='r', label='Validation')\n",
    "axs[0].set_title('SM')\n",
    "axs[0].set_ylabel(metric_fn.__class__.__name__)\n",
    "axs[0].grid(True)\n",
    "axs[0].legend(bbox_to_anchor=(1,1))\n",
    "\n",
    "axs[1].plot(lepochs, metric_history['train_actevap'], marker='.', linestyle='-', color='b', label='Training')\n",
    "axs[1].plot(lepochs, metric_history['val_actevap'], marker='.', linestyle='-', color='r', label='Validation')\n",
    "axs[1].set_title('ET')\n",
    "axs[1].set_ylabel(metric_fn.__class__.__name__)\n",
    "axs[1].grid(True)\n",
    "\n",
    "axs[2].plot(lepochs, [i.detach().cpu().numpy() for i in loss_history['train']], marker='.', linestyle='-', color='b', label='Training')\n",
    "axs[2].plot(lepochs, [i.detach().cpu().numpy() for i in loss_history['val']], marker='.', linestyle='-', color='r', label='Validation')\n",
    "axs[2].set_title('Loss')\n",
    "axs[2].set_xlabel('Epochs')\n",
    "axs[2].set_ylabel(loss_fn.__name__)\n",
    "axs[2].grid(True)"
   ]
  },
  {
   "cell_type": "code",
   "execution_count": null,
   "id": "6943e9d8-587e-4d0f-9179-7ab72f9f5cc9",
   "metadata": {},
   "outputs": [],
   "source": [
    "def predict(Xd, Xs, model, batch_size, device):\n",
    "    model = model.to(device)\n",
    "    X = torch.concat([Xd, Xs], 2).to(device)\n",
    "    arr = []\n",
    "    for i in range(0, Xd.shape[0], batch_size):\n",
    "        out = model(X)[0]\n",
    "        #import pdb;pdb.set_trace()\n",
    "        arr.append(out[i : (i + batch_size)].detach().cpu().numpy())\n",
    "    return np.vstack(arr)"
   ]
  },
  {
   "cell_type": "code",
   "execution_count": 301,
   "id": "7c025b28-16fb-4328-b057-62f398898c36",
   "metadata": {},
   "outputs": [],
   "source": [
    "output = predict(res[0], res[1], model, batch_size=8,device=device)"
   ]
  },
  {
   "cell_type": "code",
   "execution_count": 302,
   "id": "2f031f74-3bdb-4b04-b8b4-6a95fefeb776",
   "metadata": {},
   "outputs": [],
   "source": [
    "import matplotlib.pyplot as plt"
   ]
  },
  {
   "cell_type": "code",
   "execution_count": 303,
   "id": "ebe92b9a-dd27-4aa4-83f6-4f98ebf42592",
   "metadata": {},
   "outputs": [
    {
     "data": {
      "text/plain": [
       "(1, 360, 64, 64, 2)"
      ]
     },
     "execution_count": 303,
     "metadata": {},
     "output_type": "execute_result"
    }
   ],
   "source": [
    "output.shape"
   ]
  },
  {
   "cell_type": "code",
   "execution_count": 305,
   "id": "e5087d1f-c3ca-48bd-9d6b-e31b93e4e633",
   "metadata": {},
   "outputs": [
    {
     "data": {
      "text/plain": [
       "<matplotlib.colorbar.Colorbar at 0x725f2d6cf090>"
      ]
     },
     "execution_count": 305,
     "metadata": {},
     "output_type": "execute_result"
    },
    {
     "data": {
      "image/png": "[encoded data removed]",
      "text/plain": [
       "<Figure size 640x480 with 2 Axes>"
      ]
     },
     "metadata": {},
     "output_type": "display_data"
    }
   ],
   "source": [
    "plt.imshow(output[0,-1,:,:,0])\n",
    "plt.colorbar()"
   ]
  },
  {
   "cell_type": "code",
   "execution_count": 307,
   "id": "5a445e09-4a85-4116-8bb6-eb0d17103559",
   "metadata": {},
   "outputs": [
    {
     "data": {
      "text/plain": [
       "<matplotlib.colorbar.Colorbar at 0x725f26771b90>"
      ]
     },
     "execution_count": 307,
     "metadata": {},
     "output_type": "execute_result"
    },
    {
     "data": {
      "image/png": "[encoded data removed]",
      "text/plain": [
       "<Figure size 640x480 with 2 Axes>"
      ]
     },
     "metadata": {},
     "output_type": "display_data"
    }
   ],
   "source": [
    "plt.imshow(res[2][0,-1,0,:,:])\n",
    "plt.colorbar()"
   ]
  },
  {
   "cell_type": "code",
   "execution_count": 313,
   "id": "c2c2b3d3-24fa-4771-bc46-a3a1d777e1c4",
   "metadata": {},
   "outputs": [
    {
     "data": {
      "text/plain": [
       "<matplotlib.colorbar.Colorbar at 0x725f264be6d0>"
      ]
     },
     "execution_count": 313,
     "metadata": {},
     "output_type": "execute_result"
    },
    {
     "data": {
      "image/png": "[encoded data removed]",
      "text/plain": [
       "<Figure size 640x480 with 2 Axes>"
      ]
     },
     "metadata": {},
     "output_type": "display_data"
    }
   ],
   "source": [
    "plt.imshow((output[0,-1,:,:,0] - np.array(res[2][0,-1,0,:,:])), cmap=\"RdBu\")\n",
    "plt.colorbar()"
   ]
  },
  {
   "cell_type": "code",
   "execution_count": null,
   "id": "a993f8e8-34cc-48f2-8921-9aac62bdafea",
   "metadata": {},
   "outputs": [],
   "source": [
    "torch"
   ]
  },
  {
   "cell_type": "code",
   "execution_count": null,
   "id": "82f7b83b-da1a-49b0-b8b3-5765471174d4",
   "metadata": {},
   "outputs": [],
   "source": [
    "torch.split?"
   ]
  },
  {
   "cell_type": "code",
   "execution_count": null,
   "id": "882840e0-1f47-41c3-a76c-5b157fdec87f",
   "metadata": {},
   "outputs": [],
   "source": []
  }
 ],
 "metadata": {
  "kernelspec": {
   "display_name": "emulator",
   "language": "python",
   "name": "emulator"
  },
  "language_info": {
   "codemirror_mode": {
    "name": "ipython",
    "version": 3
   },
   "file_extension": ".py",
   "mimetype": "text/x-python",
   "name": "python",
   "nbconvert_exporter": "python",
   "pygments_lexer": "ipython3",
   "version": "3.11.6"
  }
 },
 "nbformat": 4,
 "nbformat_minor": 5
}
