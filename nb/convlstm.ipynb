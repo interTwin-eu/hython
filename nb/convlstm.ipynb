{
 "cells": [
  {
   "cell_type": "code",
   "execution_count": 1,
   "id": "67651301-5eb2-4acd-a8bc-1dacd8af683e",
   "metadata": {},
   "outputs": [],
   "source": [
    "import xarray as xr\n",
    "import torch\n",
    "from hython.utils import write_to_zarr\n",
    "import matplotlib.pyplot as plt\n",
    "from pathlib import Path\n",
    "import xbatcher\n",
    "from xbatcher.loaders.torch import MapDataset\n",
    "from numcodecs import Blosc"
   ]
  },
  {
   "cell_type": "code",
   "execution_count": 2,
   "id": "98c2d5e4-f084-462c-a6fc-864dda65e03b",
   "metadata": {},
   "outputs": [],
   "source": [
    "from torchvision.datasets import MovingMNIST"
   ]
  },
  {
   "cell_type": "code",
   "execution_count": 3,
   "id": "cf416f96-a81c-4f6a-9c61-405cfa6b03a7",
   "metadata": {},
   "outputs": [],
   "source": [
    "from torch.utils.data import Dataset, DataLoader"
   ]
  },
  {
   "cell_type": "code",
   "execution_count": 4,
   "id": "16d25f7c-5c26-4302-bf02-5a28c4718a10",
   "metadata": {},
   "outputs": [],
   "source": [
    "from torchvision.transforms import Normalize, ToTensor"
   ]
  },
  {
   "cell_type": "code",
   "execution_count": 5,
   "id": "0ccfdb4c-e0c4-4444-bcd4-6b92bb602b00",
   "metadata": {},
   "outputs": [],
   "source": [
    "wd = Path(\"/mnt/CEPH_PROJECTS/InterTwin/Wflow/models/adg1km_eobs\")"
   ]
  },
  {
   "cell_type": "code",
   "execution_count": 6,
   "id": "79419610-f8b1-456c-b9c1-5dbe7f17c76e",
   "metadata": {},
   "outputs": [],
   "source": [
    "params = xr.open_dataset(wd / \"staticmaps.nc\")#.chunk(\"auto\")\n",
    "ds = xr.open_dataset(wd / \"forcings.nc\")#.chunk(\"auto\") # C T W H => N T C H W\n",
    "out = xr.open_dataset(wd / \"run_default/output.nc\").sel(layer=1).isel(lat=slice(None, None, -1))#.chunk(\"auto\") # C T W H => N T C H W"
   ]
  },
  {
   "cell_type": "code",
   "execution_count": 85,
   "id": "32d07eeb-959c-4bd2-8b42-f1fbfdb34e3f",
   "metadata": {},
   "outputs": [],
   "source": [
    "out = out[[\"vwc\", \"actevap\"]]"
   ]
  },
  {
   "cell_type": "code",
   "execution_count": null,
   "id": "fc82d0e1-5a3a-4bb4-84a9-ff9f56438661",
   "metadata": {},
   "outputs": [],
   "source": [
    "params = params.drop_dims(\"time\").sel(layer=1)[[ 'thetaS', 'thetaR', 'RootingDepth', 'Swood','KsatVer', \"Sl\"] ]"
   ]
  },
  {
   "cell_type": "code",
   "execution_count": 8,
   "id": "163d2871-b6ab-43ea-a6db-6dd6dba69484",
   "metadata": {},
   "outputs": [],
   "source": [
    "import numpy as np\n",
    "params = params.where(~np.isnan(params), 0)\n",
    "ds = ds.where(~np.isnan(ds), 0)\n",
    "out = out.where(~np.isnan(out), 0)"
   ]
  },
  {
   "cell_type": "code",
   "execution_count": 9,
   "id": "f66ae4e3-0678-4404-a554-95a2de59ff7f",
   "metadata": {},
   "outputs": [],
   "source": [
    "try:\n",
    "    ds = ds.rename({\"latitude\":\"lat\", \"longitude\":\"lon\"})\n",
    "    params = params.rename({\"latitude\":\"lat\", \"longitude\":\"lon\"})\n",
    "except:\n",
    "    pass"
   ]
  },
  {
   "cell_type": "code",
   "execution_count": 10,
   "id": "cb7b382c-62a4-4144-8d6f-3d71fabf8d28",
   "metadata": {},
   "outputs": [],
   "source": [
    "# compressor = Blosc(cname='zl4', clevel=9, shuffle=Blosc.BITSHUFFLE)\n",
    "\n",
    "# ss = params.drop_dims(\"time\")[[ 'thetaS', 'thetaR', 'RootingDepth', 'Swood','KsatVer', \"Sl\"]].expand_dims({\"time\": ds.time}).chunk({\"time\":500, \"latitude\":50, \"longitude\":50})\n",
    "\n",
    "# ss.to_zarr(wd / \"test.zarr\",storage_options={\"compressor\":compressor})\n",
    "\n",
    "# ss = xr.open_dataset( wd / \"test.zarr\", engine = \"zarr\")\n",
    "\n",
    "# time, lat, lon = 365, 16, 16 "
   ]
  },
  {
   "cell_type": "markdown",
   "id": "c9a48312-350e-419b-bd10-bad51f74ec83",
   "metadata": {},
   "source": [
    "## Xbatcher"
   ]
  },
  {
   "cell_type": "code",
   "execution_count": 11,
   "id": "963ae200-6050-4ed2-abe1-f9181ce262bc",
   "metadata": {},
   "outputs": [],
   "source": [
    "# bgen_x = xbatcher.BatchGenerator(\n",
    "#     ds = ds, \n",
    "#     input_dims = {\n",
    "#         \"time\": time,  # time points in each sample (sequence length) \n",
    "#         \"latitude\": lat,\n",
    "#         \"longitude\": lon ,\n",
    "#     },\n",
    "#     batch_dims = {\n",
    "#         #\"time\": 500, # time points in each batch\n",
    "#         \"latitude\":16,\n",
    "#         \"longitude\":16 \n",
    "#     },\n",
    "#     concat_input_dims=True, #True, # \n",
    "#     input_overlap={\"time\":350}\n",
    "# )\n",
    "\n",
    "# len(bgen_x), bgen_x[0].to_array().shape\n",
    "\n",
    "# bgen_x[20].temp[0].isel(latitude_input=8, longitude_input=5).plot()\n",
    "\n",
    "# bgen_x[20].temp[1].isel(latitude_input=8, longitude_input=5).plot()\n",
    "\n",
    "# bgen_x[20].temp[0].isel(time_input=1).plot(x=\"longitude\", y=\"latitude\")\n",
    "\n",
    "# bgen_x[21].temp[0].isel(time_input=1).plot(x=\"longitude\", y=\"latitude\")\n",
    "\n",
    "# bgen_x = xbatcher.BatchGenerator(\n",
    "#     ds = ds, \n",
    "#     input_dims = {\n",
    "#         \"time\": 60,  # time points in each sample (sequence length) \n",
    "#         \"lat\": 16,\n",
    "#         \"lon\": 16 ,\n",
    "#     },\n",
    "#     batch_dims = {\n",
    "#         #\"time\": 60, # time points in each batch\n",
    "#         \"lat\":16,\n",
    "#         \"lon\":16 \n",
    "#     },\n",
    "#     concat_input_dims=False, #True, # \n",
    "#     #input_overlap={\"time\":350}\n",
    "# )\n",
    "# print(len(bgen_x),bgen_x[0].to_array().shape)\n",
    "\n",
    "\n",
    "\n",
    "# time_da\n",
    "\n",
    "\n",
    "\n",
    "# print(len(params.data_vars))\n",
    "# bgen_xs = xbatcher.BatchGenerator(\n",
    "#     ds = params, \n",
    "#     input_dims = { \n",
    "#         \"lat\": 16,\n",
    "#         \"lon\": 16,\n",
    "#     },\n",
    "#     batch_dims = {\n",
    "#         \"lat\":16,\n",
    "#         \"lon\":16 \n",
    "#     },\n",
    "#     concat_input_dims=False, #True, # \n",
    "# )\n",
    "# print(len(bgen_xs),bgen_xs[0].to_array().shape)\n",
    "\n",
    "# bgen_y = xbatcher.BatchGenerator(\n",
    "#     ds = out, \n",
    "#     input_dims = {\n",
    "#         \"time\": time,  # time points in each sample (sequence length) \n",
    "#         \"lat\": lat,\n",
    "#         \"lon\": lon,\n",
    "#     },\n",
    "#     batch_dims = {\n",
    "#         #\"time\": 500, # time points in each batch\n",
    "#         \"lat\":16,\n",
    "#         \"lon\":16 \n",
    "#     },\n",
    "#     concat_input_dims=True, #True, # \n",
    "#     input_overlap={\"time\":350}\n",
    "# )\n",
    "# print(len(bgen_y),bgen_y[0].to_array().shape)\n",
    "\n",
    "# ## Class Xbatcher"
   ]
  },
  {
   "cell_type": "code",
   "execution_count": 12,
   "id": "78af2661-8ab9-44c2-a34c-426996984600",
   "metadata": {},
   "outputs": [],
   "source": [
    "time_da = xr.DataArray(ds.time.values, [('time', ds.time.values)])\n",
    "params = params.expand_dims({\"time\":time_da})"
   ]
  },
  {
   "cell_type": "code",
   "execution_count": 86,
   "id": "842f5349-4827-49e2-a3ef-099ec198e55d",
   "metadata": {},
   "outputs": [],
   "source": [
    "class XBatchDataset(Dataset):\n",
    "    \"\"\"\n",
    "    Shape is NTCHW\n",
    "    \n",
    "    Pytorch 2DConv expects NCHW\n",
    "    \n",
    "    \"\"\"\n",
    "    def __init__(self, \n",
    "                 xd,\n",
    "                 y, \n",
    "                 xs = None,\n",
    "                 lstm = False, \n",
    "                 join = False,\n",
    "                 xbatcher_kwargs = {},\n",
    "                 transform = None):\n",
    "\n",
    "        self.join = join\n",
    "        \n",
    "        self.xd_gen = self._get_xbatcher_generator(xd, **xbatcher_kwargs)\n",
    "\n",
    "\n",
    "        print( \"dynamic: \", len(self.xd_gen))\n",
    "        \n",
    "        self.y_gen = self._get_xbatcher_generator(y, **xbatcher_kwargs)\n",
    "\n",
    "        #xbatcher_kwargs[\"input_dims\"].pop(\"time\")\n",
    "        \n",
    "        self.xs_gen = self._get_xbatcher_generator(xs, **xbatcher_kwargs)\n",
    "        self.transform = transform\n",
    "        self.lstm = lstm\n",
    "\n",
    "        print(\"static: \", len(self.xs_gen))\n",
    "    def __len__(self):\n",
    "        return len(self.xd_gen)\n",
    "    \n",
    "    def __getitem__(self, index):\n",
    "        \n",
    "        \n",
    "        \n",
    "        \n",
    "        if self.lstm:\n",
    "            \n",
    "            # Now using this: Ntile[index] C Nseq T H W => Npixel T C\n",
    "            \n",
    "            print(self.xd_gen[index].to_array().torch.to_tensor().shape)\n",
    "            xd = torch.flatten(\n",
    "                    self.xd_gen[index].to_array().torch.to_tensor(), start_dim=3) # C Nseq T Npixel\n",
    "            print(xd.shape)\n",
    "            xd = torch.transpose(xd, 1, 2) # C T Nseq Npixel \n",
    "            print(xd.shape)\n",
    "            y = torch.flatten(\n",
    "                    self.y_gen[index].to_array().torch.to_tensor(), \n",
    "                    start_dim=3) # C T N\n",
    "            y = torch.transpose(y, 1, 2) # C T Nseq Npixel \n",
    "            \n",
    "            if self.xs_gen is not None:\n",
    "                # Ntile[index] C H W => Npixel C\n",
    "                xs = torch.flatten(\n",
    "                    self.xs_gen[index].to_array().torch.to_tensor(), start_dim=1) # C Npixel\n",
    "                #import pdb;pdb.set_trace()\n",
    "                xs = xs.unsqueeze(1).repeat(1, xd.size(1), 1) # C T Npixel\n",
    "                xs = xs.unsqueeze(2).repeat(1, 1, xd.size(2), 1) # C T Nseq Npixel\n",
    "\n",
    "        else:\n",
    "            # Ntile,seq[index] C T H W => Npixel T C\n",
    "            \n",
    "            xd = self.xd_gen[index].to_array().transpose(\"time\", \"variable\",...).torch.to_tensor() # C T H W => T C H W\n",
    "            y = self.y_gen[index].to_array().transpose(\"time\", \"variable\",...).torch.to_tensor() # C T H W => T C H W\n",
    "\n",
    "            if self.xs_gen is not None:\n",
    "                xs = self.xs_gen[index].to_array().torch.to_tensor()\n",
    "                xs = torch.transpose(xs, 0,1).to(torch.float32)\n",
    "                #import pdb;pdb.set_trace()\n",
    "                #xs = xs.unsqueeze(0).repeat(xd.size(0), 1, 1, 1) # T C H W\n",
    "\n",
    "                \n",
    "                \n",
    "        if self.transform:\n",
    "            xd = self.transform(xd)  \n",
    "            \n",
    "        if self.xs_gen is not None:\n",
    "            if self.join:\n",
    "                return xd, y\n",
    "            else:\n",
    "                return xd, xs, y\n",
    "        else:\n",
    "            return xd, y\n",
    "\n",
    "    def _get_xbatcher_generator(self, ds, input_dims, concat_input_dims=True, batch_dims= {}, input_overlap={}, preload_batch=False):\n",
    "\n",
    "        time = input_dims.get(\"time\", None)\n",
    "\n",
    "        print(time)\n",
    "        \n",
    "        if ds is None:\n",
    "            return None\n",
    "        \n",
    "        if time is None:\n",
    "\n",
    "            gen = xbatcher.BatchGenerator(\n",
    "                ds = ds, \n",
    "                input_dims = input_dims,\n",
    "                concat_input_dims = False,\n",
    "                batch_dims = batch_dims,\n",
    "                input_overlap = input_overlap,\n",
    "                preload_batch = preload_batch\n",
    "            )\n",
    "        else:\n",
    "            \n",
    "            gen = xbatcher.BatchGenerator(\n",
    "                ds = ds, \n",
    "                input_dims = input_dims,\n",
    "                concat_input_dims = concat_input_dims,\n",
    "                batch_dims = batch_dims,\n",
    "                input_overlap = input_overlap,\n",
    "                preload_batch = preload_batch\n",
    "            )\n",
    "            \n",
    "        return gen"
   ]
  },
  {
   "cell_type": "code",
   "execution_count": 87,
   "id": "d0ba8447-5679-491f-a0a9-7e1e0a2a0bed",
   "metadata": {},
   "outputs": [
    {
     "name": "stdout",
     "output_type": "stream",
     "text": [
      "360\n",
      "dynamic:  42\n",
      "360\n",
      "360\n",
      "static:  42\n"
     ]
    },
    {
     "name": "stderr",
     "output_type": "stream",
     "text": [
      "/home/iferrario/.local/miniforge/envs/emulator/lib/python3.11/site-packages/xbatcher/generators.py:114: UserWarning: The following dimensions were included in both ``input_dims`` and ``batch_dims``. Since ``concat_input_dims`` is ``False``, these dimensions will not impact batch generation: {'lat': 64, 'lon': 64}\n",
      "  warnings.warn(\n"
     ]
    }
   ],
   "source": [
    "time, lat ,lon = 360, 64, 64\n",
    "dataset = XBatchDataset(ds, \n",
    "                      out, \n",
    "                      params, \n",
    "                      lstm=False, \n",
    "                      xbatcher_kwargs={ \"input_dims\": {\"time\": 360, \"lat\":lat, \"lon\":lon},\n",
    "                                       \"batch_dims\": {\"lat\":lat, \"lon\":lon}, \n",
    "                                       \"input_overlap\":{\"time\":60},\n",
    "                                       \"concat_input_dims\":False,\n",
    "                                       \"preload_batch\":True})"
   ]
  },
  {
   "cell_type": "code",
   "execution_count": 88,
   "id": "c85e4124-033e-4022-926c-c25164d9ceba",
   "metadata": {},
   "outputs": [
    {
     "data": {
      "text/plain": [
       "42"
      ]
     },
     "execution_count": 88,
     "metadata": {},
     "output_type": "execute_result"
    }
   ],
   "source": [
    "len(dataset)"
   ]
  },
  {
   "cell_type": "code",
   "execution_count": 89,
   "id": "24331efe-ab29-40a1-82c4-5d185110b83e",
   "metadata": {},
   "outputs": [],
   "source": [
    "dataloader = DataLoader(dataset=dataset, batch_size=8)"
   ]
  },
  {
   "cell_type": "code",
   "execution_count": 90,
   "id": "e1f7409a-702a-4633-ab79-00f35ec00512",
   "metadata": {},
   "outputs": [],
   "source": [
    "res = next(iter(dataloader))"
   ]
  },
  {
   "cell_type": "code",
   "execution_count": 91,
   "id": "f779cf17-704e-4050-98a0-99f441f7aeb5",
   "metadata": {},
   "outputs": [
    {
     "data": {
      "text/plain": [
       "6"
      ]
     },
     "execution_count": 91,
     "metadata": {},
     "output_type": "execute_result"
    }
   ],
   "source": [
    "len(dataloader)"
   ]
  },
  {
   "cell_type": "code",
   "execution_count": 92,
   "id": "8da248c2-b906-4c25-a51e-e2eea2803514",
   "metadata": {},
   "outputs": [],
   "source": [
    "from hython.trainer import XBatcherTrainer"
   ]
  },
  {
   "cell_type": "code",
   "execution_count": 93,
   "id": "c4732aad-c4b4-477a-9442-7fb816544c96",
   "metadata": {},
   "outputs": [],
   "source": [
    "from hython.datasets.datasets import LSTMDataset, get_dataset\n",
    "from hython.trainer import train_val\n",
    "from hython.sampler import SamplerBuilder\n",
    "from hython.metrics import MSEMetric\n",
    "from hython.losses import RMSELoss\n",
    "from hython.utils import read_from_zarr, set_seed\n",
    "from hython.models.cudnnLSTM import CuDNNLSTM\n",
    "from hython.trainer import RNNTrainer, RNNTrainParams\n",
    "from hython.normalizer import Normalizer\n",
    "\n",
    "\n",
    "import torch.optim as optim\n",
    "from torch.optim.lr_scheduler import ReduceLROnPlateau\n",
    "from torch.utils.data import DataLoader, Dataset"
   ]
  },
  {
   "cell_type": "code",
   "execution_count": 94,
   "id": "74cf95da-2356-47cd-9078-2bbc8aea1b68",
   "metadata": {},
   "outputs": [],
   "source": [
    "from hython.models.convLSTM import ConvLSTM"
   ]
  },
  {
   "cell_type": "code",
   "execution_count": 95,
   "id": "97be28ab-52c0-4ec4-ac77-c44b45c8af58",
   "metadata": {},
   "outputs": [],
   "source": [
    "device = torch.device(\"cuda:0\" if torch.cuda.is_available() else \"cpu\")"
   ]
  },
  {
   "cell_type": "code",
   "execution_count": 171,
   "id": "9a069b10-3bcd-431e-b926-57d132ba66b2",
   "metadata": {},
   "outputs": [],
   "source": [
    "model = ConvLSTM(\n",
    "    input_dim = 9,\n",
    "    hidden_dim = (24),\n",
    "    kernel_size = (3,3),\n",
    "    num_layers = 1,\n",
    "    batch_first = True,\n",
    "    bias = True,\n",
    "    return_all_layers = False\n",
    ").to(device)"
   ]
  },
  {
   "cell_type": "code",
   "execution_count": 172,
   "id": "e20a06ba-95ef-4a3e-a744-3423a49179ae",
   "metadata": {},
   "outputs": [],
   "source": [
    "opt = optim.Adam(model.parameters(), lr=1e-3)\n",
    "lr_scheduler = ReduceLROnPlateau(opt, mode=\"min\", factor=0.5, patience=10)\n",
    "\n",
    "loss_fn = RMSELoss(target_weight={\"vwc\":0.5, \"actevap\":0.5})\n",
    "metric_fn = MSEMetric(target_names=[\"vwc\", \"actevap\"])"
   ]
  },
  {
   "cell_type": "code",
   "execution_count": 173,
   "id": "b51771b9-cced-4662-a9b4-70263b9b591b",
   "metadata": {},
   "outputs": [
    {
     "name": "stdout",
     "output_type": "stream",
     "text": [
      "<hython.trainer.RNNTrainParams object at 0x70a138d01f90>\n"
     ]
    }
   ],
   "source": [
    "trainer = XBatcherTrainer(\n",
    "    RNNTrainParams(\n",
    "               experiment=\"exp1\", \n",
    "               temporal_subsampling=False, \n",
    "               temporal_subset=1, \n",
    "               seq_length=60, \n",
    "               target_names=[\"vwc\", \"actevap\"],\n",
    "               metric_func=metric_fn,\n",
    "               loss_func=loss_fn)\n",
    ")"
   ]
  },
  {
   "cell_type": "code",
   "execution_count": 174,
   "id": "8b0d962a-bb21-4ee8-9fce-67941c7bd594",
   "metadata": {},
   "outputs": [],
   "source": [
    "file_surr_output = f\"./exp1_bla.pt\""
   ]
  },
  {
   "cell_type": "code",
   "execution_count": 175,
   "id": "8f606f40-1dc9-41e2-a802-554f00c5a5b8",
   "metadata": {},
   "outputs": [
    {
     "name": "stderr",
     "output_type": "stream",
     "text": [
      "  0%|                                                                                                         | 0/10 [00:00<?, ?it/s]"
     ]
    },
    {
     "name": "stdout",
     "output_type": "stream",
     "text": [
      "batch\n",
      "batch\n",
      "batch\n",
      "batch\n",
      "batch\n",
      "batch\n",
      "batch\n",
      "batch\n",
      "batch\n",
      "batch\n",
      "batch\n"
     ]
    },
    {
     "name": "stderr",
     "output_type": "stream",
     "text": [
      " 10%|█████████▋                                                                                       | 1/10 [00:07<01:06,  7.41s/it]"
     ]
    },
    {
     "name": "stdout",
     "output_type": "stream",
     "text": [
      "batch\n",
      "save weights to: ./exp1_bla.pt\n",
      "Copied best model weights!\n",
      "train loss: 0.8320039510726929\n",
      "val loss: 0.8315035104751587\n",
      "batch\n",
      "batch\n",
      "batch\n",
      "batch\n",
      "batch\n",
      "batch\n",
      "batch\n",
      "batch\n",
      "batch\n",
      "batch\n",
      "batch\n"
     ]
    },
    {
     "name": "stderr",
     "output_type": "stream",
     "text": [
      " 20%|███████████████████▍                                                                             | 2/10 [00:14<00:58,  7.28s/it]"
     ]
    },
    {
     "name": "stdout",
     "output_type": "stream",
     "text": [
      "batch\n",
      "save weights to: ./exp1_bla.pt\n",
      "Copied best model weights!\n",
      "train loss: 0.8315111398696899\n",
      "val loss: 0.8313726186752319\n",
      "batch\n",
      "batch\n",
      "batch\n",
      "batch\n",
      "batch\n",
      "batch\n",
      "batch\n",
      "batch\n",
      "batch\n",
      "batch\n",
      "batch\n"
     ]
    },
    {
     "name": "stderr",
     "output_type": "stream",
     "text": [
      " 30%|█████████████████████████████                                                                    | 3/10 [00:21<00:51,  7.30s/it]"
     ]
    },
    {
     "name": "stdout",
     "output_type": "stream",
     "text": [
      "batch\n",
      "save weights to: ./exp1_bla.pt\n",
      "Copied best model weights!\n",
      "train loss: 0.8313407897949219\n",
      "val loss: 0.8313307762145996\n",
      "batch\n",
      "batch\n",
      "batch\n",
      "batch\n",
      "batch\n",
      "batch\n",
      "batch\n",
      "batch\n",
      "batch\n",
      "batch\n",
      "batch\n"
     ]
    },
    {
     "name": "stderr",
     "output_type": "stream",
     "text": [
      " 40%|██████████████████████████████████████▊                                                          | 4/10 [00:28<00:43,  7.21s/it]"
     ]
    },
    {
     "name": "stdout",
     "output_type": "stream",
     "text": [
      "batch\n",
      "train loss: 0.8313395977020264\n",
      "val loss: 0.8313435316085815\n",
      "batch\n",
      "batch\n",
      "batch\n",
      "batch\n",
      "batch\n",
      "batch\n",
      "batch\n",
      "batch\n",
      "batch\n",
      "batch\n",
      "batch\n"
     ]
    },
    {
     "name": "stderr",
     "output_type": "stream",
     "text": [
      " 50%|████████████████████████████████████████████████▌                                                | 5/10 [00:36<00:35,  7.18s/it]"
     ]
    },
    {
     "name": "stdout",
     "output_type": "stream",
     "text": [
      "batch\n",
      "save weights to: ./exp1_bla.pt\n",
      "Copied best model weights!\n",
      "train loss: 0.8313339948654175\n",
      "val loss: 0.8313150405883789\n",
      "batch\n",
      "batch\n",
      "batch\n",
      "batch\n",
      "batch\n",
      "batch\n",
      "batch\n",
      "batch\n",
      "batch\n",
      "batch\n",
      "batch\n"
     ]
    },
    {
     "name": "stderr",
     "output_type": "stream",
     "text": [
      " 60%|██████████████████████████████████████████████████████████▏                                      | 6/10 [00:43<00:28,  7.15s/it]"
     ]
    },
    {
     "name": "stdout",
     "output_type": "stream",
     "text": [
      "batch\n",
      "train loss: 0.8313148021697998\n",
      "val loss: 0.8313193321228027\n",
      "batch\n",
      "batch\n",
      "batch\n",
      "batch\n",
      "batch\n",
      "batch\n",
      "batch\n",
      "batch\n",
      "batch\n",
      "batch\n",
      "batch\n"
     ]
    },
    {
     "name": "stderr",
     "output_type": "stream",
     "text": [
      " 70%|███████████████████████████████████████████████████████████████████▉                             | 7/10 [00:50<00:21,  7.18s/it]"
     ]
    },
    {
     "name": "stdout",
     "output_type": "stream",
     "text": [
      "batch\n",
      "train loss: 0.8313196897506714\n",
      "val loss: 0.8313170671463013\n",
      "batch\n",
      "batch\n",
      "batch\n",
      "batch\n",
      "batch\n",
      "batch\n",
      "batch\n",
      "batch\n",
      "batch\n",
      "batch\n",
      "batch\n"
     ]
    },
    {
     "name": "stderr",
     "output_type": "stream",
     "text": [
      " 80%|█████████████████████████████████████████████████████████████████████████████▌                   | 8/10 [00:57<00:14,  7.19s/it]"
     ]
    },
    {
     "name": "stdout",
     "output_type": "stream",
     "text": [
      "batch\n",
      "save weights to: ./exp1_bla.pt\n",
      "Copied best model weights!\n",
      "train loss: 0.8313153982162476\n",
      "val loss: 0.831313967704773\n",
      "batch\n",
      "batch\n",
      "batch\n",
      "batch\n",
      "batch\n",
      "batch\n",
      "batch\n",
      "batch\n",
      "batch\n",
      "batch\n",
      "batch\n"
     ]
    },
    {
     "name": "stderr",
     "output_type": "stream",
     "text": [
      " 90%|███████████████████████████████████████████████████████████████████████████████████████▎         | 9/10 [01:04<00:07,  7.19s/it]"
     ]
    },
    {
     "name": "stdout",
     "output_type": "stream",
     "text": [
      "batch\n",
      "train loss: 0.8313144445419312\n",
      "val loss: 0.8313151597976685\n",
      "batch\n",
      "batch\n",
      "batch\n",
      "batch\n",
      "batch\n",
      "batch\n",
      "batch\n",
      "batch\n",
      "batch\n",
      "batch\n",
      "batch\n"
     ]
    },
    {
     "name": "stderr",
     "output_type": "stream",
     "text": [
      "100%|████████████████████████████████████████████████████████████████████████████████████████████████| 10/10 [01:12<00:00,  7.20s/it]"
     ]
    },
    {
     "name": "stdout",
     "output_type": "stream",
     "text": [
      "batch\n",
      "save weights to: ./exp1_bla.pt\n",
      "Copied best model weights!\n",
      "train loss: 0.8313146829605103\n",
      "val loss: 0.8313137292861938\n"
     ]
    },
    {
     "name": "stderr",
     "output_type": "stream",
     "text": [
      "\n"
     ]
    }
   ],
   "source": [
    "# train\n",
    "model, loss_history, metric_history = train_val(\n",
    "    trainer,\n",
    "    model,\n",
    "    dataloader,\n",
    "    dataloader,\n",
    "    10,\n",
    "    opt,\n",
    "    lr_scheduler,\n",
    "    file_surr_output,\n",
    "    device,\n",
    ")"
   ]
  },
  {
   "cell_type": "code",
   "execution_count": 176,
   "id": "1e9c99d1-9799-42a9-841a-51fec35a08d7",
   "metadata": {},
   "outputs": [],
   "source": [
    "from hython.evaluator import predict"
   ]
  },
  {
   "cell_type": "code",
   "execution_count": 177,
   "id": "6dae0604-9efb-403a-9e42-70dcbb341726",
   "metadata": {},
   "outputs": [],
   "source": [
    "def predict(Xd, Xs, model, batch_size, device):\n",
    "    model = model.to(device)\n",
    "    X = torch.concat([Xd, Xs], 2).to(device)\n",
    "    arr = []\n",
    "    for i in range(0, Xd.shape[0], batch_size):\n",
    "        arr.append(model(X)[-1][0][0].detach().cpu().numpy())\n",
    "    return np.vstack(arr)"
   ]
  },
  {
   "cell_type": "code",
   "execution_count": 178,
   "id": "7c025b28-16fb-4328-b057-62f398898c36",
   "metadata": {},
   "outputs": [],
   "source": [
    "output = predict(res[0], res[1], model, batch_size=8,device=device)"
   ]
  },
  {
   "cell_type": "code",
   "execution_count": 179,
   "id": "2f031f74-3bdb-4b04-b8b4-6a95fefeb776",
   "metadata": {},
   "outputs": [],
   "source": [
    "import matplotlib.pyplot as plt"
   ]
  },
  {
   "cell_type": "code",
   "execution_count": 180,
   "id": "ebe92b9a-dd27-4aa4-83f6-4f98ebf42592",
   "metadata": {},
   "outputs": [
    {
     "data": {
      "text/plain": [
       "(8, 24, 64, 64)"
      ]
     },
     "execution_count": 180,
     "metadata": {},
     "output_type": "execute_result"
    }
   ],
   "source": [
    "output.shape"
   ]
  },
  {
   "cell_type": "code",
   "execution_count": 219,
   "id": "78755e64-d44a-4d10-ab0e-87205af86063",
   "metadata": {},
   "outputs": [
    {
     "data": {
      "text/plain": [
       "<matplotlib.colorbar.Colorbar at 0x70a103091f50>"
      ]
     },
     "execution_count": 219,
     "metadata": {},
     "output_type": "execute_result"
    },
    {
     "data": {
      "image/png": "[encoded data removed]",
      "text/plain": [
       "<Figure size 640x480 with 2 Axes>"
      ]
     },
     "metadata": {},
     "output_type": "display_data"
    }
   ],
   "source": [
    "plt.imshow(output[7][17])\n",
    "plt.colorbar()"
   ]
  },
  {
   "cell_type": "code",
   "execution_count": 220,
   "id": "b4855f4c-3643-460c-9ef7-6b73bd9de8cf",
   "metadata": {},
   "outputs": [
    {
     "data": {
      "text/plain": [
       "torch.Size([8, 360, 2, 64, 64])"
      ]
     },
     "execution_count": 220,
     "metadata": {},
     "output_type": "execute_result"
    }
   ],
   "source": [
    "res[2].shape"
   ]
  },
  {
   "cell_type": "code",
   "execution_count": 221,
   "id": "5a445e09-4a85-4116-8bb6-eb0d17103559",
   "metadata": {},
   "outputs": [
    {
     "data": {
      "text/plain": [
       "<matplotlib.colorbar.Colorbar at 0x70a102f9e750>"
      ]
     },
     "execution_count": 221,
     "metadata": {},
     "output_type": "execute_result"
    },
    {
     "data": {
      "image/png": "[encoded data removed]",
      "text/plain": [
       "<Figure size 640x480 with 2 Axes>"
      ]
     },
     "metadata": {},
     "output_type": "display_data"
    }
   ],
   "source": [
    "plt.imshow(res[2][7][-1][1])\n",
    "plt.colorbar()"
   ]
  },
  {
   "cell_type": "code",
   "execution_count": null,
   "id": "c2c2b3d3-24fa-4771-bc46-a3a1d777e1c4",
   "metadata": {},
   "outputs": [],
   "source": []
  }
 ],
 "metadata": {
  "kernelspec": {
   "display_name": "emulator",
   "language": "python",
   "name": "emulator"
  },
  "language_info": {
   "codemirror_mode": {
    "name": "ipython",
    "version": 3
   },
   "file_extension": ".py",
   "mimetype": "text/x-python",
   "name": "python",
   "nbconvert_exporter": "python",
   "pygments_lexer": "ipython3",
   "version": "3.11.6"
  }
 },
 "nbformat": 4,
 "nbformat_minor": 5
}
